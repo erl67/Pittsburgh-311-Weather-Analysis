{
 "cells": [
  {
   "cell_type": "markdown",
   "metadata": {},
   "source": [
    "This was our initial visualization and attempt at feature selection prior to using the classifier."
   ]
  },
  {
   "cell_type": "code",
   "execution_count": 7,
   "metadata": {},
   "outputs": [],
   "source": [
    "import pandas as pd\n",
    "import numpy as np\n",
    "import datetime as datetime\n",
    "import time\n",
    "import math\n",
    "%matplotlib inline\n",
    "\n",
    "from sklearn import preprocessing as prep\n",
    "from sklearn.model_selection import train_test_split\n",
    "from sklearn.linear_model import LinearRegression\n",
    "from sklearn.naive_bayes import GaussianNB\n",
    "from sklearn.neighbors import KNeighborsRegressor\n",
    "from sklearn import svm\n",
    "from sklearn.metrics import accuracy_score, mean_squared_error, confusion_matrix"
   ]
  },
  {
   "cell_type": "code",
   "execution_count": 8,
   "metadata": {},
   "outputs": [],
   "source": [
    "# df311 = pd.read_csv('311cleaned.csv')\n",
    "# dfwx = pd.read_csv('311weather.csv')\n",
    "# df = pd.merge(df311, dfwx,  left_on='REQUEST_ID', right_on='REQUEST_ID', how='left')  \n",
    "# saved merged data to 311Master.csv to save time loading\n",
    "df = pd.read_csv('311Trimmed.csv')"
   ]
  },
  {
   "cell_type": "code",
   "execution_count": 9,
   "metadata": {},
   "outputs": [
    {
     "data": {
      "text/html": [
       "<div>\n",
       "<style scoped>\n",
       "    .dataframe tbody tr th:only-of-type {\n",
       "        vertical-align: middle;\n",
       "    }\n",
       "\n",
       "    .dataframe tbody tr th {\n",
       "        vertical-align: top;\n",
       "    }\n",
       "\n",
       "    .dataframe thead th {\n",
       "        text-align: right;\n",
       "    }\n",
       "</style>\n",
       "<table border=\"1\" class=\"dataframe\">\n",
       "  <thead>\n",
       "    <tr style=\"text-align: right;\">\n",
       "      <th></th>\n",
       "      <th>REQUEST_ID</th>\n",
       "      <th>STATUS</th>\n",
       "      <th>COUNCIL_DISTRICT</th>\n",
       "      <th>WARD</th>\n",
       "      <th>TRACT</th>\n",
       "      <th>PUBLIC_WORKS_DIVISION</th>\n",
       "      <th>PLI_DIVISION</th>\n",
       "      <th>POLICE_ZONE</th>\n",
       "      <th>X</th>\n",
       "      <th>Y</th>\n",
       "      <th>...</th>\n",
       "      <th>daily.temperatureMin</th>\n",
       "      <th>daily.temperatureMinTime</th>\n",
       "      <th>daily.time</th>\n",
       "      <th>daily.uvIndex</th>\n",
       "      <th>daily.uvIndexTime</th>\n",
       "      <th>daily.visibility</th>\n",
       "      <th>daily.windBearing</th>\n",
       "      <th>daily.windGust</th>\n",
       "      <th>daily.windGustTime</th>\n",
       "      <th>daily.windSpeed</th>\n",
       "    </tr>\n",
       "  </thead>\n",
       "  <tbody>\n",
       "    <tr>\n",
       "      <th>count</th>\n",
       "      <td>49053.000000</td>\n",
       "      <td>49053.000000</td>\n",
       "      <td>49011.000000</td>\n",
       "      <td>48968.000000</td>\n",
       "      <td>4.905300e+04</td>\n",
       "      <td>48972.000000</td>\n",
       "      <td>48968.000000</td>\n",
       "      <td>48944.000000</td>\n",
       "      <td>49053.000000</td>\n",
       "      <td>49053.000000</td>\n",
       "      <td>...</td>\n",
       "      <td>49053.000000</td>\n",
       "      <td>4.905300e+04</td>\n",
       "      <td>4.905300e+04</td>\n",
       "      <td>49053.000000</td>\n",
       "      <td>4.905300e+04</td>\n",
       "      <td>49053.000000</td>\n",
       "      <td>49053.000000</td>\n",
       "      <td>49053.000000</td>\n",
       "      <td>4.905300e+04</td>\n",
       "      <td>49053.000000</td>\n",
       "    </tr>\n",
       "    <tr>\n",
       "      <th>mean</th>\n",
       "      <td>163513.001611</td>\n",
       "      <td>1.212709</td>\n",
       "      <td>4.899512</td>\n",
       "      <td>16.630514</td>\n",
       "      <td>4.200323e+10</td>\n",
       "      <td>3.017541</td>\n",
       "      <td>16.630514</td>\n",
       "      <td>3.594639</td>\n",
       "      <td>-79.972375</td>\n",
       "      <td>40.440576</td>\n",
       "      <td>...</td>\n",
       "      <td>48.206467</td>\n",
       "      <td>1.497976e+09</td>\n",
       "      <td>1.497940e+09</td>\n",
       "      <td>5.261880</td>\n",
       "      <td>1.497984e+09</td>\n",
       "      <td>9.372215</td>\n",
       "      <td>216.037857</td>\n",
       "      <td>9.282331</td>\n",
       "      <td>1.497988e+09</td>\n",
       "      <td>1.536793</td>\n",
       "    </tr>\n",
       "    <tr>\n",
       "      <th>std</th>\n",
       "      <td>23524.044702</td>\n",
       "      <td>0.714372</td>\n",
       "      <td>2.588338</td>\n",
       "      <td>7.928799</td>\n",
       "      <td>1.811924e+05</td>\n",
       "      <td>1.432719</td>\n",
       "      <td>7.928799</td>\n",
       "      <td>1.605899</td>\n",
       "      <td>0.045680</td>\n",
       "      <td>0.027736</td>\n",
       "      <td>...</td>\n",
       "      <td>15.380468</td>\n",
       "      <td>8.201116e+06</td>\n",
       "      <td>8.201604e+06</td>\n",
       "      <td>2.416298</td>\n",
       "      <td>8.201347e+06</td>\n",
       "      <td>0.871293</td>\n",
       "      <td>73.597253</td>\n",
       "      <td>4.524251</td>\n",
       "      <td>8.202974e+06</td>\n",
       "      <td>1.162985</td>\n",
       "    </tr>\n",
       "    <tr>\n",
       "      <th>min</th>\n",
       "      <td>123272.000000</td>\n",
       "      <td>0.000000</td>\n",
       "      <td>1.000000</td>\n",
       "      <td>0.000000</td>\n",
       "      <td>4.200301e+10</td>\n",
       "      <td>0.000000</td>\n",
       "      <td>0.000000</td>\n",
       "      <td>1.000000</td>\n",
       "      <td>-80.088105</td>\n",
       "      <td>40.362785</td>\n",
       "      <td>...</td>\n",
       "      <td>1.200000</td>\n",
       "      <td>1.483276e+09</td>\n",
       "      <td>1.483247e+09</td>\n",
       "      <td>1.000000</td>\n",
       "      <td>1.483290e+09</td>\n",
       "      <td>3.780000</td>\n",
       "      <td>0.000000</td>\n",
       "      <td>1.460000</td>\n",
       "      <td>1.483247e+09</td>\n",
       "      <td>0.020000</td>\n",
       "    </tr>\n",
       "    <tr>\n",
       "      <th>25%</th>\n",
       "      <td>143251.000000</td>\n",
       "      <td>1.000000</td>\n",
       "      <td>3.000000</td>\n",
       "      <td>11.000000</td>\n",
       "      <td>4.200311e+10</td>\n",
       "      <td>2.000000</td>\n",
       "      <td>11.000000</td>\n",
       "      <td>2.000000</td>\n",
       "      <td>-80.007706</td>\n",
       "      <td>40.420807</td>\n",
       "      <td>...</td>\n",
       "      <td>37.170000</td>\n",
       "      <td>1.491361e+09</td>\n",
       "      <td>1.491278e+09</td>\n",
       "      <td>3.000000</td>\n",
       "      <td>1.491322e+09</td>\n",
       "      <td>9.050000</td>\n",
       "      <td>188.000000</td>\n",
       "      <td>5.730000</td>\n",
       "      <td>1.491332e+09</td>\n",
       "      <td>0.710000</td>\n",
       "    </tr>\n",
       "    <tr>\n",
       "      <th>50%</th>\n",
       "      <td>163280.000000</td>\n",
       "      <td>1.000000</td>\n",
       "      <td>5.000000</td>\n",
       "      <td>16.000000</td>\n",
       "      <td>4.200318e+10</td>\n",
       "      <td>3.000000</td>\n",
       "      <td>16.000000</td>\n",
       "      <td>4.000000</td>\n",
       "      <td>-79.977534</td>\n",
       "      <td>40.445740</td>\n",
       "      <td>...</td>\n",
       "      <td>51.120000</td>\n",
       "      <td>1.497928e+09</td>\n",
       "      <td>1.497845e+09</td>\n",
       "      <td>5.000000</td>\n",
       "      <td>1.497895e+09</td>\n",
       "      <td>9.750000</td>\n",
       "      <td>224.000000</td>\n",
       "      <td>8.810000</td>\n",
       "      <td>1.497902e+09</td>\n",
       "      <td>1.310000</td>\n",
       "    </tr>\n",
       "    <tr>\n",
       "      <th>75%</th>\n",
       "      <td>183505.000000</td>\n",
       "      <td>1.000000</td>\n",
       "      <td>7.000000</td>\n",
       "      <td>22.000000</td>\n",
       "      <td>4.200329e+10</td>\n",
       "      <td>5.000000</td>\n",
       "      <td>22.000000</td>\n",
       "      <td>5.000000</td>\n",
       "      <td>-79.934882</td>\n",
       "      <td>40.462316</td>\n",
       "      <td>...</td>\n",
       "      <td>60.880000</td>\n",
       "      <td>1.504091e+09</td>\n",
       "      <td>1.504066e+09</td>\n",
       "      <td>7.000000</td>\n",
       "      <td>1.504109e+09</td>\n",
       "      <td>10.000000</td>\n",
       "      <td>267.000000</td>\n",
       "      <td>11.620000</td>\n",
       "      <td>1.504112e+09</td>\n",
       "      <td>2.110000</td>\n",
       "    </tr>\n",
       "    <tr>\n",
       "      <th>max</th>\n",
       "      <td>205290.000000</td>\n",
       "      <td>3.000000</td>\n",
       "      <td>9.000000</td>\n",
       "      <td>32.000000</td>\n",
       "      <td>4.200398e+10</td>\n",
       "      <td>6.000000</td>\n",
       "      <td>32.000000</td>\n",
       "      <td>6.000000</td>\n",
       "      <td>-79.866608</td>\n",
       "      <td>40.520177</td>\n",
       "      <td>...</td>\n",
       "      <td>73.950000</td>\n",
       "      <td>1.514722e+09</td>\n",
       "      <td>1.514696e+09</td>\n",
       "      <td>10.000000</td>\n",
       "      <td>1.514732e+09</td>\n",
       "      <td>10.000000</td>\n",
       "      <td>359.000000</td>\n",
       "      <td>26.100000</td>\n",
       "      <td>1.514696e+09</td>\n",
       "      <td>6.150000</td>\n",
       "    </tr>\n",
       "  </tbody>\n",
       "</table>\n",
       "<p>8 rows × 60 columns</p>\n",
       "</div>"
      ],
      "text/plain": [
       "          REQUEST_ID        STATUS  COUNCIL_DISTRICT          WARD  \\\n",
       "count   49053.000000  49053.000000      49011.000000  48968.000000   \n",
       "mean   163513.001611      1.212709          4.899512     16.630514   \n",
       "std     23524.044702      0.714372          2.588338      7.928799   \n",
       "min    123272.000000      0.000000          1.000000      0.000000   \n",
       "25%    143251.000000      1.000000          3.000000     11.000000   \n",
       "50%    163280.000000      1.000000          5.000000     16.000000   \n",
       "75%    183505.000000      1.000000          7.000000     22.000000   \n",
       "max    205290.000000      3.000000          9.000000     32.000000   \n",
       "\n",
       "              TRACT  PUBLIC_WORKS_DIVISION  PLI_DIVISION   POLICE_ZONE  \\\n",
       "count  4.905300e+04           48972.000000  48968.000000  48944.000000   \n",
       "mean   4.200323e+10               3.017541     16.630514      3.594639   \n",
       "std    1.811924e+05               1.432719      7.928799      1.605899   \n",
       "min    4.200301e+10               0.000000      0.000000      1.000000   \n",
       "25%    4.200311e+10               2.000000     11.000000      2.000000   \n",
       "50%    4.200318e+10               3.000000     16.000000      4.000000   \n",
       "75%    4.200329e+10               5.000000     22.000000      5.000000   \n",
       "max    4.200398e+10               6.000000     32.000000      6.000000   \n",
       "\n",
       "                  X             Y       ...         daily.temperatureMin  \\\n",
       "count  49053.000000  49053.000000       ...                 49053.000000   \n",
       "mean     -79.972375     40.440576       ...                    48.206467   \n",
       "std        0.045680      0.027736       ...                    15.380468   \n",
       "min      -80.088105     40.362785       ...                     1.200000   \n",
       "25%      -80.007706     40.420807       ...                    37.170000   \n",
       "50%      -79.977534     40.445740       ...                    51.120000   \n",
       "75%      -79.934882     40.462316       ...                    60.880000   \n",
       "max      -79.866608     40.520177       ...                    73.950000   \n",
       "\n",
       "       daily.temperatureMinTime    daily.time  daily.uvIndex  \\\n",
       "count              4.905300e+04  4.905300e+04   49053.000000   \n",
       "mean               1.497976e+09  1.497940e+09       5.261880   \n",
       "std                8.201116e+06  8.201604e+06       2.416298   \n",
       "min                1.483276e+09  1.483247e+09       1.000000   \n",
       "25%                1.491361e+09  1.491278e+09       3.000000   \n",
       "50%                1.497928e+09  1.497845e+09       5.000000   \n",
       "75%                1.504091e+09  1.504066e+09       7.000000   \n",
       "max                1.514722e+09  1.514696e+09      10.000000   \n",
       "\n",
       "       daily.uvIndexTime  daily.visibility  daily.windBearing  daily.windGust  \\\n",
       "count       4.905300e+04      49053.000000       49053.000000    49053.000000   \n",
       "mean        1.497984e+09          9.372215         216.037857        9.282331   \n",
       "std         8.201347e+06          0.871293          73.597253        4.524251   \n",
       "min         1.483290e+09          3.780000           0.000000        1.460000   \n",
       "25%         1.491322e+09          9.050000         188.000000        5.730000   \n",
       "50%         1.497895e+09          9.750000         224.000000        8.810000   \n",
       "75%         1.504109e+09         10.000000         267.000000       11.620000   \n",
       "max         1.514732e+09         10.000000         359.000000       26.100000   \n",
       "\n",
       "       daily.windGustTime  daily.windSpeed  \n",
       "count        4.905300e+04     49053.000000  \n",
       "mean         1.497988e+09         1.536793  \n",
       "std          8.202974e+06         1.162985  \n",
       "min          1.483247e+09         0.020000  \n",
       "25%          1.491332e+09         0.710000  \n",
       "50%          1.497902e+09         1.310000  \n",
       "75%          1.504112e+09         2.110000  \n",
       "max          1.514696e+09         6.150000  \n",
       "\n",
       "[8 rows x 60 columns]"
      ]
     },
     "execution_count": 9,
     "metadata": {},
     "output_type": "execute_result"
    }
   ],
   "source": [
    "df.describe()"
   ]
  },
  {
   "cell_type": "code",
   "execution_count": 10,
   "metadata": {},
   "outputs": [],
   "source": [
    "df.fillna(0, inplace=True) #fill zero instances of weather\n",
    "df = df.reset_index()"
   ]
  },
  {
   "cell_type": "code",
   "execution_count": 11,
   "metadata": {},
   "outputs": [
    {
     "data": {
      "text/html": [
       "<div>\n",
       "<style scoped>\n",
       "    .dataframe tbody tr th:only-of-type {\n",
       "        vertical-align: middle;\n",
       "    }\n",
       "\n",
       "    .dataframe tbody tr th {\n",
       "        vertical-align: top;\n",
       "    }\n",
       "\n",
       "    .dataframe thead th {\n",
       "        text-align: right;\n",
       "    }\n",
       "</style>\n",
       "<table border=\"1\" class=\"dataframe\">\n",
       "  <thead>\n",
       "    <tr style=\"text-align: right;\">\n",
       "      <th></th>\n",
       "      <th>index</th>\n",
       "      <th>REQUEST_ID</th>\n",
       "      <th>CREATED_ON</th>\n",
       "      <th>REQUEST_TYPE</th>\n",
       "      <th>REQUEST_ORIGIN</th>\n",
       "      <th>STATUS</th>\n",
       "      <th>DEPARTMENT</th>\n",
       "      <th>NEIGHBORHOOD</th>\n",
       "      <th>COUNCIL_DISTRICT</th>\n",
       "      <th>WARD</th>\n",
       "      <th>...</th>\n",
       "      <th>daily.temperatureMin</th>\n",
       "      <th>daily.temperatureMinTime</th>\n",
       "      <th>daily.time</th>\n",
       "      <th>daily.uvIndex</th>\n",
       "      <th>daily.uvIndexTime</th>\n",
       "      <th>daily.visibility</th>\n",
       "      <th>daily.windBearing</th>\n",
       "      <th>daily.windGust</th>\n",
       "      <th>daily.windGustTime</th>\n",
       "      <th>daily.windSpeed</th>\n",
       "    </tr>\n",
       "  </thead>\n",
       "  <tbody>\n",
       "    <tr>\n",
       "      <th>0</th>\n",
       "      <td>0</td>\n",
       "      <td>205290</td>\n",
       "      <td>2017-12-31T23:17:00</td>\n",
       "      <td>Snow/Ice removal</td>\n",
       "      <td>Website</td>\n",
       "      <td>1</td>\n",
       "      <td>DPW - Street Maintenance</td>\n",
       "      <td>Marshall-Shadeland</td>\n",
       "      <td>1.0</td>\n",
       "      <td>27.0</td>\n",
       "      <td>...</td>\n",
       "      <td>1.99</td>\n",
       "      <td>1514721600</td>\n",
       "      <td>1514696400</td>\n",
       "      <td>1</td>\n",
       "      <td>1514732400</td>\n",
       "      <td>9.09</td>\n",
       "      <td>264</td>\n",
       "      <td>5.32</td>\n",
       "      <td>1514696400</td>\n",
       "      <td>0.57</td>\n",
       "    </tr>\n",
       "    <tr>\n",
       "      <th>1</th>\n",
       "      <td>1</td>\n",
       "      <td>205289</td>\n",
       "      <td>2017-12-31T22:01:00</td>\n",
       "      <td>Snow/Ice removal</td>\n",
       "      <td>Report2Gov iOS</td>\n",
       "      <td>1</td>\n",
       "      <td>DPW - Street Maintenance</td>\n",
       "      <td>Stanton Heights</td>\n",
       "      <td>9.0</td>\n",
       "      <td>10.0</td>\n",
       "      <td>...</td>\n",
       "      <td>1.57</td>\n",
       "      <td>1514721600</td>\n",
       "      <td>1514696400</td>\n",
       "      <td>1</td>\n",
       "      <td>1514732400</td>\n",
       "      <td>9.06</td>\n",
       "      <td>265</td>\n",
       "      <td>5.27</td>\n",
       "      <td>1514696400</td>\n",
       "      <td>0.51</td>\n",
       "    </tr>\n",
       "    <tr>\n",
       "      <th>2</th>\n",
       "      <td>2</td>\n",
       "      <td>205288</td>\n",
       "      <td>2017-12-31T21:55:00</td>\n",
       "      <td>Snow/Ice removal</td>\n",
       "      <td>Website</td>\n",
       "      <td>1</td>\n",
       "      <td>DPW - Street Maintenance</td>\n",
       "      <td>New Homestead</td>\n",
       "      <td>5.0</td>\n",
       "      <td>31.0</td>\n",
       "      <td>...</td>\n",
       "      <td>1.76</td>\n",
       "      <td>1514721600</td>\n",
       "      <td>1514696400</td>\n",
       "      <td>1</td>\n",
       "      <td>1514732400</td>\n",
       "      <td>9.06</td>\n",
       "      <td>257</td>\n",
       "      <td>5.38</td>\n",
       "      <td>1514696400</td>\n",
       "      <td>0.63</td>\n",
       "    </tr>\n",
       "    <tr>\n",
       "      <th>3</th>\n",
       "      <td>3</td>\n",
       "      <td>205287</td>\n",
       "      <td>2017-12-31T18:23:00</td>\n",
       "      <td>Missed Pick Up</td>\n",
       "      <td>Website</td>\n",
       "      <td>1</td>\n",
       "      <td>DPW - Refuse</td>\n",
       "      <td>Mount Washington</td>\n",
       "      <td>2.0</td>\n",
       "      <td>19.0</td>\n",
       "      <td>...</td>\n",
       "      <td>1.50</td>\n",
       "      <td>1514721600</td>\n",
       "      <td>1514696400</td>\n",
       "      <td>1</td>\n",
       "      <td>1514732400</td>\n",
       "      <td>9.09</td>\n",
       "      <td>262</td>\n",
       "      <td>5.35</td>\n",
       "      <td>1514696400</td>\n",
       "      <td>0.55</td>\n",
       "    </tr>\n",
       "    <tr>\n",
       "      <th>4</th>\n",
       "      <td>4</td>\n",
       "      <td>205286</td>\n",
       "      <td>2017-12-31T17:56:00</td>\n",
       "      <td>Snow/Ice removal</td>\n",
       "      <td>Report2Gov iOS</td>\n",
       "      <td>1</td>\n",
       "      <td>DPW - Street Maintenance</td>\n",
       "      <td>Stanton Heights</td>\n",
       "      <td>9.0</td>\n",
       "      <td>10.0</td>\n",
       "      <td>...</td>\n",
       "      <td>1.57</td>\n",
       "      <td>1514721600</td>\n",
       "      <td>1514696400</td>\n",
       "      <td>1</td>\n",
       "      <td>1514732400</td>\n",
       "      <td>9.06</td>\n",
       "      <td>265</td>\n",
       "      <td>5.27</td>\n",
       "      <td>1514696400</td>\n",
       "      <td>0.52</td>\n",
       "    </tr>\n",
       "  </tbody>\n",
       "</table>\n",
       "<p>5 rows × 74 columns</p>\n",
       "</div>"
      ],
      "text/plain": [
       "   index  REQUEST_ID           CREATED_ON      REQUEST_TYPE  REQUEST_ORIGIN  \\\n",
       "0      0      205290  2017-12-31T23:17:00  Snow/Ice removal         Website   \n",
       "1      1      205289  2017-12-31T22:01:00  Snow/Ice removal  Report2Gov iOS   \n",
       "2      2      205288  2017-12-31T21:55:00  Snow/Ice removal         Website   \n",
       "3      3      205287  2017-12-31T18:23:00    Missed Pick Up         Website   \n",
       "4      4      205286  2017-12-31T17:56:00  Snow/Ice removal  Report2Gov iOS   \n",
       "\n",
       "   STATUS                DEPARTMENT        NEIGHBORHOOD  COUNCIL_DISTRICT  \\\n",
       "0       1  DPW - Street Maintenance  Marshall-Shadeland               1.0   \n",
       "1       1  DPW - Street Maintenance     Stanton Heights               9.0   \n",
       "2       1  DPW - Street Maintenance       New Homestead               5.0   \n",
       "3       1              DPW - Refuse    Mount Washington               2.0   \n",
       "4       1  DPW - Street Maintenance     Stanton Heights               9.0   \n",
       "\n",
       "   WARD       ...         daily.temperatureMin  daily.temperatureMinTime  \\\n",
       "0  27.0       ...                         1.99                1514721600   \n",
       "1  10.0       ...                         1.57                1514721600   \n",
       "2  31.0       ...                         1.76                1514721600   \n",
       "3  19.0       ...                         1.50                1514721600   \n",
       "4  10.0       ...                         1.57                1514721600   \n",
       "\n",
       "   daily.time  daily.uvIndex daily.uvIndexTime  daily.visibility  \\\n",
       "0  1514696400              1        1514732400              9.09   \n",
       "1  1514696400              1        1514732400              9.06   \n",
       "2  1514696400              1        1514732400              9.06   \n",
       "3  1514696400              1        1514732400              9.09   \n",
       "4  1514696400              1        1514732400              9.06   \n",
       "\n",
       "   daily.windBearing daily.windGust  daily.windGustTime  daily.windSpeed  \n",
       "0                264           5.32          1514696400             0.57  \n",
       "1                265           5.27          1514696400             0.51  \n",
       "2                257           5.38          1514696400             0.63  \n",
       "3                262           5.35          1514696400             0.55  \n",
       "4                265           5.27          1514696400             0.52  \n",
       "\n",
       "[5 rows x 74 columns]"
      ]
     },
     "execution_count": 11,
     "metadata": {},
     "output_type": "execute_result"
    }
   ],
   "source": [
    "df.head()"
   ]
  },
  {
   "cell_type": "code",
   "execution_count": 12,
   "metadata": {},
   "outputs": [
    {
     "data": {
      "text/plain": [
       "Index(['index', 'REQUEST_ID', 'CREATED_ON', 'REQUEST_TYPE', 'REQUEST_ORIGIN',\n",
       "       'STATUS', 'DEPARTMENT', 'NEIGHBORHOOD', 'COUNCIL_DISTRICT', 'WARD',\n",
       "       'TRACT', 'PUBLIC_WORKS_DIVISION', 'PLI_DIVISION', 'POLICE_ZONE',\n",
       "       'FIRE_ZONE', 'X', 'Y', 'GEO_ACCURACY', 'current.apparentTemperature',\n",
       "       'current.cloudCover', 'current.dewPoint', 'current.humidity',\n",
       "       'current.icon', 'current.precipIntensity', 'current.precipProbability',\n",
       "       'current.precipType', 'current.pressure', 'current.summary',\n",
       "       'current.temperature', 'current.time', 'current.uvIndex',\n",
       "       'current.visibility', 'current.windBearing', 'current.windGust',\n",
       "       'current.windSpeed', 'daily.apparentTemperatureHigh',\n",
       "       'daily.apparentTemperatureHighTime', 'daily.apparentTemperatureLow',\n",
       "       'daily.apparentTemperatureLowTime', 'daily.apparentTemperatureMax',\n",
       "       'daily.apparentTemperatureMaxTime', 'daily.apparentTemperatureMin',\n",
       "       'daily.apparentTemperatureMinTime', 'daily.cloudCover',\n",
       "       'daily.dewPoint', 'daily.humidity', 'daily.icon', 'daily.moonPhase',\n",
       "       'daily.precipAccumulation', 'daily.precipIntensity',\n",
       "       'daily.precipIntensityMax', 'daily.precipIntensityMaxTime',\n",
       "       'daily.precipProbability', 'daily.precipType', 'daily.pressure',\n",
       "       'daily.summary', 'daily.sunriseTime', 'daily.sunsetTime',\n",
       "       'daily.temperatureHigh', 'daily.temperatureHighTime',\n",
       "       'daily.temperatureLow', 'daily.temperatureLowTime',\n",
       "       'daily.temperatureMax', 'daily.temperatureMaxTime',\n",
       "       'daily.temperatureMin', 'daily.temperatureMinTime', 'daily.time',\n",
       "       'daily.uvIndex', 'daily.uvIndexTime', 'daily.visibility',\n",
       "       'daily.windBearing', 'daily.windGust', 'daily.windGustTime',\n",
       "       'daily.windSpeed'],\n",
       "      dtype='object')"
      ]
     },
     "execution_count": 12,
     "metadata": {},
     "output_type": "execute_result"
    }
   ],
   "source": [
    "df.columns"
   ]
  },
  {
   "cell_type": "code",
   "execution_count": 13,
   "metadata": {},
   "outputs": [
    {
     "data": {
      "text/plain": [
       "Potholes                                8689\n",
       "Weeds/Debris                            7873\n",
       "Building Maintenance                    4037\n",
       "Abandoned Vehicle (parked on street)    2572\n",
       "Litter                                  1886\n",
       "Refuse Violations                       1802\n",
       "Illegal Parking                         1770\n",
       "Missed Pick Up                          1717\n",
       "Replace/Repair a Sign                   1539\n",
       "City Source (CDBG)                      1499\n",
       "Street Light - Repair                   1422\n",
       "Building Without a Permit               1348\n",
       "Vacant Building                         1256\n",
       "Paving Request                          1236\n",
       "Overgrowth                              1209\n",
       "Snow/Ice removal                        1033\n",
       "Pruning (city tree)                     1020\n",
       "Rodent control                           965\n",
       "Need Potable Water                       845\n",
       "Fire Safety System Not Working           818\n",
       "Dead Animal                              787\n",
       "Request New Sign                         781\n",
       "Illegal Dumping                          756\n",
       "Leak                                     736\n",
       "Catch Basin, Clogged                     731\n",
       "Traffic                                  726\n",
       "Name: REQUEST_TYPE, dtype: int64"
      ]
     },
     "execution_count": 13,
     "metadata": {},
     "output_type": "execute_result"
    }
   ],
   "source": [
    "df['REQUEST_TYPE'].value_counts(sort=True, ascending=False, dropna=False) "
   ]
  },
  {
   "cell_type": "code",
   "execution_count": 14,
   "metadata": {},
   "outputs": [
    {
     "data": {
      "text/plain": [
       "<matplotlib.axes._subplots.AxesSubplot at 0x24d2a3be278>"
      ]
     },
     "execution_count": 14,
     "metadata": {},
     "output_type": "execute_result"
    },
    {
     "data": {
      "image/png": "[encoded data removed]",
      "text/plain": [
       "<Figure size 432x288 with 1 Axes>"
      ]
     },
     "metadata": {
      "needs_background": "light"
     },
     "output_type": "display_data"
    }
   ],
   "source": [
    "df['REQUEST_TYPE'].value_counts(sort=True, ascending=False, dropna=False).plot.barh()"
   ]
  },
  {
   "cell_type": "code",
   "execution_count": 15,
   "metadata": {},
   "outputs": [
    {
     "data": {
      "text/plain": [
       "Call Center           31426\n",
       "Website                7770\n",
       "Control Panel          6488\n",
       "Report2Gov iOS         1448\n",
       "Twitter                1072\n",
       "Report2Gov Android      444\n",
       "Text Message            392\n",
       "Report2Gov Website        6\n",
       "QAlert Mobile iOS         5\n",
       "Email                     2\n",
       "Name: REQUEST_ORIGIN, dtype: int64"
      ]
     },
     "execution_count": 15,
     "metadata": {},
     "output_type": "execute_result"
    }
   ],
   "source": [
    "df['REQUEST_ORIGIN'].value_counts(sort=True, ascending=False, dropna=False)"
   ]
  },
  {
   "cell_type": "code",
   "execution_count": 16,
   "metadata": {},
   "outputs": [
    {
     "data": {
      "text/plain": [
       "<matplotlib.axes._subplots.AxesSubplot at 0x24d2abfea58>"
      ]
     },
     "execution_count": 16,
     "metadata": {},
     "output_type": "execute_result"
    },
    {
     "data": {
      "image/png": "[encoded data removed]",
      "text/plain": [
       "<Figure size 432x288 with 1 Axes>"
      ]
     },
     "metadata": {
      "needs_background": "light"
     },
     "output_type": "display_data"
    }
   ],
   "source": [
    "# visualizatins of various fields and weather events\n",
    "# time is based off the unix timestamp, this graph covers the entire year\n",
    "df['daily.time'].hist(bins=50)"
   ]
  },
  {
   "cell_type": "code",
   "execution_count": 17,
   "metadata": {},
   "outputs": [
    {
     "data": {
      "text/plain": [
       "<matplotlib.axes._subplots.AxesSubplot at 0x24d2abc58d0>"
      ]
     },
     "execution_count": 17,
     "metadata": {},
     "output_type": "execute_result"
    },
    {
     "data": {
      "image/png": "[encoded data removed]",
      "text/plain": [
       "<Figure size 432x288 with 1 Axes>"
      ]
     },
     "metadata": {
      "needs_background": "light"
     },
     "output_type": "display_data"
    }
   ],
   "source": [
    "df['current.precipIntensity'].hist()"
   ]
  },
  {
   "cell_type": "code",
   "execution_count": 18,
   "metadata": {},
   "outputs": [
    {
     "data": {
      "text/plain": [
       "<matplotlib.axes._subplots.AxesSubplot at 0x24d2acb5e10>"
      ]
     },
     "execution_count": 18,
     "metadata": {},
     "output_type": "execute_result"
    },
    {
     "data": {
      "image/png": "[encoded data removed]",
      "text/plain": [
       "<Figure size 432x288 with 1 Axes>"
      ]
     },
     "metadata": {
      "needs_background": "light"
     },
     "output_type": "display_data"
    }
   ],
   "source": [
    "df['daily.precipType'].value_counts(sort=True, ascending=False, dropna=False).plot.bar()"
   ]
  },
  {
   "cell_type": "code",
   "execution_count": 19,
   "metadata": {},
   "outputs": [
    {
     "data": {
      "text/plain": [
       "<matplotlib.axes._subplots.AxesSubplot at 0x24d2bcd5e80>"
      ]
     },
     "execution_count": 19,
     "metadata": {},
     "output_type": "execute_result"
    },
    {
     "data": {
      "image/png": "[encoded data removed]",
      "text/plain": [
       "<Figure size 432x288 with 1 Axes>"
      ]
     },
     "metadata": {
      "needs_background": "light"
     },
     "output_type": "display_data"
    }
   ],
   "source": [
    "df['current.visibility'].hist(bins=10)"
   ]
  },
  {
   "cell_type": "code",
   "execution_count": 20,
   "metadata": {},
   "outputs": [
    {
     "data": {
      "text/plain": [
       "<matplotlib.axes._subplots.AxesSubplot at 0x24d2bd22828>"
      ]
     },
     "execution_count": 20,
     "metadata": {},
     "output_type": "execute_result"
    },
    {
     "data": {
      "image/png": "[encoded data removed]",
      "text/plain": [
       "<Figure size 432x288 with 1 Axes>"
      ]
     },
     "metadata": {
      "needs_background": "light"
     },
     "output_type": "display_data"
    }
   ],
   "source": [
    "df['current.pressure'].hist(bins=100)"
   ]
  },
  {
   "cell_type": "code",
   "execution_count": 21,
   "metadata": {},
   "outputs": [
    {
     "data": {
      "text/plain": [
       "<matplotlib.axes._subplots.AxesSubplot at 0x24d2a084c18>"
      ]
     },
     "execution_count": 21,
     "metadata": {},
     "output_type": "execute_result"
    },
    {
     "data": {
      "image/png": "[encoded data removed]",
      "text/plain": [
       "<Figure size 432x288 with 1 Axes>"
      ]
     },
     "metadata": {
      "needs_background": "light"
     },
     "output_type": "display_data"
    }
   ],
   "source": [
    "df['daily.pressure'].hist(bins=100)"
   ]
  },
  {
   "cell_type": "code",
   "execution_count": 22,
   "metadata": {},
   "outputs": [
    {
     "data": {
      "text/plain": [
       "<matplotlib.axes._subplots.AxesSubplot at 0x24d2bd5e208>"
      ]
     },
     "execution_count": 22,
     "metadata": {},
     "output_type": "execute_result"
    },
    {
     "data": {
      "image/png": "[encoded data removed]",
      "text/plain": [
       "<Figure size 432x288 with 1 Axes>"
      ]
     },
     "metadata": {
      "needs_background": "light"
     },
     "output_type": "display_data"
    }
   ],
   "source": [
    "df['daily.windSpeed'].hist(bins=1000)"
   ]
  },
  {
   "cell_type": "code",
   "execution_count": 23,
   "metadata": {},
   "outputs": [
    {
     "data": {
      "text/plain": [
       "<matplotlib.axes._subplots.AxesSubplot at 0x24d2c6da630>"
      ]
     },
     "execution_count": 23,
     "metadata": {},
     "output_type": "execute_result"
    },
    {
     "data": {
      "image/png": "[encoded data removed]",
      "text/plain": [
       "<Figure size 432x288 with 1 Axes>"
      ]
     },
     "metadata": {
      "needs_background": "light"
     },
     "output_type": "display_data"
    }
   ],
   "source": [
    "df['daily.windGust'].hist(bins=1000)"
   ]
  },
  {
   "cell_type": "code",
   "execution_count": 24,
   "metadata": {},
   "outputs": [
    {
     "data": {
      "text/plain": [
       "<matplotlib.axes._subplots.AxesSubplot at 0x24d2f030320>"
      ]
     },
     "execution_count": 24,
     "metadata": {},
     "output_type": "execute_result"
    },
    {
     "data": {
      "image/png": "[encoded data removed]",
      "text/plain": [
       "<Figure size 432x288 with 1 Axes>"
      ]
     },
     "metadata": {
      "needs_background": "light"
     },
     "output_type": "display_data"
    }
   ],
   "source": [
    "df['daily.precipProbability'].hist(bins=100)"
   ]
  },
  {
   "cell_type": "code",
   "execution_count": 25,
   "metadata": {},
   "outputs": [
    {
     "data": {
      "text/plain": [
       "Clear                      16082\n",
       "Overcast                   10435\n",
       "Mostly Cloudy               8859\n",
       "Partly Cloudy               6938\n",
       "Light Rain                  2428\n",
       "Drizzle                     2266\n",
       "Rain                         635\n",
       "Flurries                     546\n",
       "Foggy                        487\n",
       "Light Snow                   129\n",
       "Humid and Mostly Cloudy       87\n",
       "Humid and Partly Cloudy       62\n",
       "Humid and Overcast            52\n",
       "Light Sleet                   30\n",
       "Humid                         11\n",
       "Snow                           5\n",
       "Heavy Rain                     1\n",
       "Name: current.summary, dtype: int64"
      ]
     },
     "execution_count": 25,
     "metadata": {},
     "output_type": "execute_result"
    }
   ],
   "source": [
    "df['current.summary'].value_counts(sort=True, ascending=False, dropna=False)"
   ]
  },
  {
   "cell_type": "code",
   "execution_count": 26,
   "metadata": {},
   "outputs": [
    {
     "data": {
      "text/plain": [
       "<matplotlib.axes._subplots.AxesSubplot at 0x24d2f32d908>"
      ]
     },
     "execution_count": 26,
     "metadata": {},
     "output_type": "execute_result"
    },
    {
     "data": {
      "image/png": "[encoded data removed]",
      "text/plain": [
       "<Figure size 432x288 with 1 Axes>"
      ]
     },
     "metadata": {
      "needs_background": "light"
     },
     "output_type": "display_data"
    }
   ],
   "source": [
    "df['current.summary'].value_counts(sort=True, ascending=False, dropna=False).plot.bar()"
   ]
  },
  {
   "cell_type": "code",
   "execution_count": 27,
   "metadata": {},
   "outputs": [
    {
     "data": {
      "text/plain": [
       "<matplotlib.axes._subplots.AxesSubplot at 0x24d25f8dcc0>"
      ]
     },
     "execution_count": 27,
     "metadata": {},
     "output_type": "execute_result"
    },
    {
     "data": {
      "image/png": "[encoded data removed]",
      "text/plain": [
       "<Figure size 432x288 with 1 Axes>"
      ]
     },
     "metadata": {
      "needs_background": "light"
     },
     "output_type": "display_data"
    }
   ],
   "source": [
    "df['daily.temperatureHigh'].hist(bins=100)"
   ]
  },
  {
   "cell_type": "code",
   "execution_count": 28,
   "metadata": {},
   "outputs": [
    {
     "data": {
      "text/plain": [
       "<matplotlib.axes._subplots.AxesSubplot at 0x24d304e76a0>"
      ]
     },
     "execution_count": 28,
     "metadata": {},
     "output_type": "execute_result"
    },
    {
     "data": {
      "image/png": "[encoded data removed]",
      "text/plain": [
       "<Figure size 432x288 with 1 Axes>"
      ]
     },
     "metadata": {
      "needs_background": "light"
     },
     "output_type": "display_data"
    }
   ],
   "source": [
    "df['daily.temperatureLow'].hist(bins=100)"
   ]
  },
  {
   "cell_type": "code",
   "execution_count": 29,
   "metadata": {},
   "outputs": [
    {
     "data": {
      "text/plain": [
       "<matplotlib.axes._subplots.AxesSubplot at 0x24d3063e160>"
      ]
     },
     "execution_count": 29,
     "metadata": {},
     "output_type": "execute_result"
    },
    {
     "data": {
      "image/png": "[encoded data removed]",
      "text/plain": [
       "<Figure size 432x288 with 1 Axes>"
      ]
     },
     "metadata": {
      "needs_background": "light"
     },
     "output_type": "display_data"
    }
   ],
   "source": [
    "df['daily.precipProbability'].hist(bins=100)"
   ]
  },
  {
   "cell_type": "code",
   "execution_count": 30,
   "metadata": {},
   "outputs": [
    {
     "data": {
      "text/plain": [
       "<matplotlib.axes._subplots.AxesSubplot at 0x24d3077a898>"
      ]
     },
     "execution_count": 30,
     "metadata": {},
     "output_type": "execute_result"
    },
    {
     "data": {
      "image/png": "[encoded data removed]",
      "text/plain": [
       "<Figure size 432x288 with 1 Axes>"
      ]
     },
     "metadata": {
      "needs_background": "light"
     },
     "output_type": "display_data"
    }
   ],
   "source": [
    "df['daily.precipAccumulation'].hist(bins=50)"
   ]
  },
  {
   "cell_type": "code",
   "execution_count": 31,
   "metadata": {
    "scrolled": true
   },
   "outputs": [
    {
     "data": {
      "text/plain": [
       "<matplotlib.axes._subplots.AxesSubplot at 0x24d3082e0b8>"
      ]
     },
     "execution_count": 31,
     "metadata": {},
     "output_type": "execute_result"
    },
    {
     "data": {
      "image/png": "[encoded data removed]",
      "text/plain": [
       "<Figure size 432x288 with 1 Axes>"
      ]
     },
     "metadata": {
      "needs_background": "light"
     },
     "output_type": "display_data"
    }
   ],
   "source": [
    "df['daily.humidity'].hist(bins=100)"
   ]
  },
  {
   "cell_type": "code",
   "execution_count": 32,
   "metadata": {
    "scrolled": true
   },
   "outputs": [
    {
     "data": {
      "text/plain": [
       "<matplotlib.axes._subplots.AxesSubplot at 0x24d308c6208>"
      ]
     },
     "execution_count": 32,
     "metadata": {},
     "output_type": "execute_result"
    },
    {
     "data": {
      "image/png": "[encoded data removed]",
      "text/plain": [
       "<Figure size 432x288 with 1 Axes>"
      ]
     },
     "metadata": {
      "needs_background": "light"
     },
     "output_type": "display_data"
    }
   ],
   "source": [
    "df['daily.pressure'].hist(bins=100)"
   ]
  },
  {
   "cell_type": "code",
   "execution_count": 33,
   "metadata": {},
   "outputs": [
    {
     "data": {
      "text/plain": [
       "Potholes                                8689\n",
       "Weeds/Debris                            7873\n",
       "Building Maintenance                    4037\n",
       "Abandoned Vehicle (parked on street)    2572\n",
       "Litter                                  1886\n",
       "Refuse Violations                       1802\n",
       "Illegal Parking                         1770\n",
       "Missed Pick Up                          1717\n",
       "Replace/Repair a Sign                   1539\n",
       "City Source (CDBG)                      1499\n",
       "Street Light - Repair                   1422\n",
       "Building Without a Permit               1348\n",
       "Vacant Building                         1256\n",
       "Paving Request                          1236\n",
       "Overgrowth                              1209\n",
       "Snow/Ice removal                        1033\n",
       "Pruning (city tree)                     1020\n",
       "Rodent control                           965\n",
       "Need Potable Water                       845\n",
       "Fire Safety System Not Working           818\n",
       "Dead Animal                              787\n",
       "Request New Sign                         781\n",
       "Illegal Dumping                          756\n",
       "Leak                                     736\n",
       "Catch Basin, Clogged                     731\n",
       "Traffic                                  726\n",
       "Name: REQUEST_TYPE, dtype: int64"
      ]
     },
     "execution_count": 33,
     "metadata": {},
     "output_type": "execute_result"
    }
   ],
   "source": [
    "df['REQUEST_TYPE'].value_counts(sort=True, ascending=False, dropna=False) "
   ]
  },
  {
   "cell_type": "code",
   "execution_count": 27,
   "metadata": {},
   "outputs": [
    {
     "data": {
      "text/plain": [
       "Permits, Licenses and Inspections       15332\n",
       "DPW - Street Maintenance                12596\n",
       "DPW - Refuse                             3519\n",
       "Police - AVU                             2572\n",
       "Pittsburgh Water and Sewer Authority     2266\n",
       "Police - Zones 1-6                       2089\n",
       "Animal Care & Control                    1752\n",
       "DOMI - TrafficShop                       1539\n",
       "City Source Associates, Inc.             1499\n",
       "Allegheny City Electric                  1422\n",
       "DOMI - Asphalt                           1236\n",
       "DOMI - Traffic                           1187\n",
       "DPW - Forestry Division                  1020\n",
       "DOMI - Permits                            756\n",
       "DOMI - Streets                            146\n",
       "DPW - Park Maintenance                     75\n",
       "311                                        46\n",
       "DPW - Transportation & Engineering          1\n",
       "Name: DEPARTMENT, dtype: int64"
      ]
     },
     "execution_count": 27,
     "metadata": {},
     "output_type": "execute_result"
    }
   ],
   "source": [
    "df['DEPARTMENT'].value_counts(sort=True, ascending=False, dropna=False) "
   ]
  },
  {
   "cell_type": "code",
   "execution_count": 28,
   "metadata": {},
   "outputs": [
    {
     "data": {
      "text/plain": [
       "Brookline                    2211\n",
       "Carrick                      2145\n",
       "South Side Slopes            1799\n",
       "Squirrel Hill South          1410\n",
       "South Side Flats             1397\n",
       "Mount Washington             1329\n",
       "Beechview                    1236\n",
       "Hazelwood                    1218\n",
       "Bloomfield                   1178\n",
       "Lincoln-Lemington-Belmar     1165\n",
       "Knoxville                    1056\n",
       "Central Lawrenceville        1049\n",
       "Homewood North                998\n",
       "Greenfield                    998\n",
       "Garfield                      968\n",
       "East Liberty                  959\n",
       "Shadyside                     871\n",
       "Marshall-Shadeland            866\n",
       "Homewood South                841\n",
       "Sheraden                      830\n",
       "Elliott                       816\n",
       "Brighton Heights              811\n",
       "Stanton Heights               764\n",
       "Perry South                   722\n",
       "Middle Hill                   721\n",
       "Perry North                   709\n",
       "Central Business District     695\n",
       "Overbrook                     689\n",
       "Highland Park                 665\n",
       "Allentown                     653\n",
       "                             ... \n",
       "Spring Garden                 231\n",
       "Mt. Oliver                    195\n",
       "Swisshelm Park                187\n",
       "Friendship                    186\n",
       "Windgap                       176\n",
       "Bedford Dwellings             174\n",
       "Summer Hill                   164\n",
       "Terrace Village               163\n",
       "Bon Air                       160\n",
       "Allegheny Center              143\n",
       "West End                      133\n",
       "Esplen                        128\n",
       "Regent Square                 113\n",
       "North Shore                   100\n",
       "Hays                           96\n",
       "0                              94\n",
       "Fairywood                      93\n",
       "New Homestead                  92\n",
       "Chateau                        82\n",
       "Chartiers City                 80\n",
       "Allegheny West                 79\n",
       "Oakwood                        79\n",
       "South Shore                    76\n",
       "Ridgemont                      73\n",
       "St. Clair                      67\n",
       "Northview Heights              56\n",
       "East Carnegie                  45\n",
       "Glen Hazel                     32\n",
       "Arlington Heights              14\n",
       "Mount Oliver Borough            4\n",
       "Name: NEIGHBORHOOD, Length: 92, dtype: int64"
      ]
     },
     "execution_count": 28,
     "metadata": {},
     "output_type": "execute_result"
    }
   ],
   "source": [
    "df['NEIGHBORHOOD'].value_counts(sort=True, ascending=False, dropna=False) "
   ]
  },
  {
   "cell_type": "code",
   "execution_count": 29,
   "metadata": {},
   "outputs": [],
   "source": [
    "request_list = ['Potholes', 'Weeds/Debris', 'Litter', 'Paving Request']"
   ]
  },
  {
   "cell_type": "code",
   "execution_count": 18,
   "metadata": {},
   "outputs": [],
   "source": [
    "df_holes = df[df['REQUEST_TYPE'] == 'Potholes']\n",
    "df_weeds = df[df['REQUEST_TYPE'] == 'Weeds/Debris']\n",
    "df_abandoned = df[df['REQUEST_TYPE'] == 'Abandoned Vehicle (parked on street)']\n",
    "df_litter = df[df['REQUEST_TYPE'] == 'Litter']\n",
    "df_paving = df[df['REQUEST_TYPE'] == 'Paving Request']"
   ]
  },
  {
   "cell_type": "code",
   "execution_count": 30,
   "metadata": {},
   "outputs": [
    {
     "data": {
      "text/html": [
       "<div>\n",
       "<style scoped>\n",
       "    .dataframe tbody tr th:only-of-type {\n",
       "        vertical-align: middle;\n",
       "    }\n",
       "\n",
       "    .dataframe tbody tr th {\n",
       "        vertical-align: top;\n",
       "    }\n",
       "\n",
       "    .dataframe thead th {\n",
       "        text-align: right;\n",
       "    }\n",
       "</style>\n",
       "<table border=\"1\" class=\"dataframe\">\n",
       "  <thead>\n",
       "    <tr style=\"text-align: right;\">\n",
       "      <th></th>\n",
       "      <th>REQUEST_ID</th>\n",
       "      <th>STATUS</th>\n",
       "      <th>COUNCIL_DISTRICT</th>\n",
       "      <th>WARD</th>\n",
       "      <th>TRACT</th>\n",
       "      <th>PUBLIC_WORKS_DIVISION</th>\n",
       "      <th>PLI_DIVISION</th>\n",
       "      <th>POLICE_ZONE</th>\n",
       "      <th>X</th>\n",
       "      <th>Y</th>\n",
       "      <th>...</th>\n",
       "      <th>daily.temperatureMin</th>\n",
       "      <th>daily.temperatureMinTime</th>\n",
       "      <th>daily.time</th>\n",
       "      <th>daily.uvIndex</th>\n",
       "      <th>daily.uvIndexTime</th>\n",
       "      <th>daily.visibility</th>\n",
       "      <th>daily.windBearing</th>\n",
       "      <th>daily.windGust</th>\n",
       "      <th>daily.windGustTime</th>\n",
       "      <th>daily.windSpeed</th>\n",
       "    </tr>\n",
       "  </thead>\n",
       "  <tbody>\n",
       "    <tr>\n",
       "      <th>count</th>\n",
       "      <td>8689.000000</td>\n",
       "      <td>8689.000000</td>\n",
       "      <td>8673.000000</td>\n",
       "      <td>8666.000000</td>\n",
       "      <td>8.689000e+03</td>\n",
       "      <td>8666.000000</td>\n",
       "      <td>8666.000000</td>\n",
       "      <td>8651.000000</td>\n",
       "      <td>8689.000000</td>\n",
       "      <td>8689.000000</td>\n",
       "      <td>...</td>\n",
       "      <td>8689.000000</td>\n",
       "      <td>8.689000e+03</td>\n",
       "      <td>8.689000e+03</td>\n",
       "      <td>8689.000000</td>\n",
       "      <td>8.689000e+03</td>\n",
       "      <td>8689.000000</td>\n",
       "      <td>8689.000000</td>\n",
       "      <td>8689.000000</td>\n",
       "      <td>8.689000e+03</td>\n",
       "      <td>8689.000000</td>\n",
       "    </tr>\n",
       "    <tr>\n",
       "      <th>mean</th>\n",
       "      <td>153932.308896</td>\n",
       "      <td>1.006215</td>\n",
       "      <td>5.327453</td>\n",
       "      <td>16.264713</td>\n",
       "      <td>4.200323e+10</td>\n",
       "      <td>3.093123</td>\n",
       "      <td>16.264713</td>\n",
       "      <td>3.849266</td>\n",
       "      <td>-79.965961</td>\n",
       "      <td>40.439207</td>\n",
       "      <td>...</td>\n",
       "      <td>47.220006</td>\n",
       "      <td>1.494673e+09</td>\n",
       "      <td>1.494636e+09</td>\n",
       "      <td>5.342962</td>\n",
       "      <td>1.494680e+09</td>\n",
       "      <td>9.436150</td>\n",
       "      <td>217.105306</td>\n",
       "      <td>10.522265</td>\n",
       "      <td>1.494685e+09</td>\n",
       "      <td>1.868643</td>\n",
       "    </tr>\n",
       "    <tr>\n",
       "      <th>std</th>\n",
       "      <td>20687.809021</td>\n",
       "      <td>0.120267</td>\n",
       "      <td>2.503918</td>\n",
       "      <td>8.225085</td>\n",
       "      <td>1.928904e+05</td>\n",
       "      <td>1.396635</td>\n",
       "      <td>8.225085</td>\n",
       "      <td>1.507110</td>\n",
       "      <td>0.046394</td>\n",
       "      <td>0.030330</td>\n",
       "      <td>...</td>\n",
       "      <td>13.730592</td>\n",
       "      <td>7.124810e+06</td>\n",
       "      <td>7.127717e+06</td>\n",
       "      <td>2.349032</td>\n",
       "      <td>7.128216e+06</td>\n",
       "      <td>0.798489</td>\n",
       "      <td>69.721749</td>\n",
       "      <td>5.269455</td>\n",
       "      <td>7.129964e+06</td>\n",
       "      <td>1.367030</td>\n",
       "    </tr>\n",
       "    <tr>\n",
       "      <th>min</th>\n",
       "      <td>123276.000000</td>\n",
       "      <td>0.000000</td>\n",
       "      <td>1.000000</td>\n",
       "      <td>0.000000</td>\n",
       "      <td>4.200301e+10</td>\n",
       "      <td>0.000000</td>\n",
       "      <td>0.000000</td>\n",
       "      <td>1.000000</td>\n",
       "      <td>-80.088105</td>\n",
       "      <td>40.363075</td>\n",
       "      <td>...</td>\n",
       "      <td>1.270000</td>\n",
       "      <td>1.483276e+09</td>\n",
       "      <td>1.483247e+09</td>\n",
       "      <td>1.000000</td>\n",
       "      <td>1.483290e+09</td>\n",
       "      <td>4.890000</td>\n",
       "      <td>0.000000</td>\n",
       "      <td>1.470000</td>\n",
       "      <td>1.483250e+09</td>\n",
       "      <td>0.020000</td>\n",
       "    </tr>\n",
       "    <tr>\n",
       "      <th>25%</th>\n",
       "      <td>137567.000000</td>\n",
       "      <td>1.000000</td>\n",
       "      <td>3.000000</td>\n",
       "      <td>10.000000</td>\n",
       "      <td>4.200310e+10</td>\n",
       "      <td>2.000000</td>\n",
       "      <td>10.000000</td>\n",
       "      <td>3.000000</td>\n",
       "      <td>-80.002321</td>\n",
       "      <td>40.417890</td>\n",
       "      <td>...</td>\n",
       "      <td>37.640000</td>\n",
       "      <td>1.488946e+09</td>\n",
       "      <td>1.488863e+09</td>\n",
       "      <td>3.000000</td>\n",
       "      <td>1.488902e+09</td>\n",
       "      <td>9.080000</td>\n",
       "      <td>192.000000</td>\n",
       "      <td>6.630000</td>\n",
       "      <td>1.488946e+09</td>\n",
       "      <td>0.850000</td>\n",
       "    </tr>\n",
       "    <tr>\n",
       "      <th>50%</th>\n",
       "      <td>148964.000000</td>\n",
       "      <td>1.000000</td>\n",
       "      <td>5.000000</td>\n",
       "      <td>14.000000</td>\n",
       "      <td>4.200317e+10</td>\n",
       "      <td>3.000000</td>\n",
       "      <td>14.000000</td>\n",
       "      <td>4.000000</td>\n",
       "      <td>-79.963775</td>\n",
       "      <td>40.445577</td>\n",
       "      <td>...</td>\n",
       "      <td>46.380000</td>\n",
       "      <td>1.493377e+09</td>\n",
       "      <td>1.493352e+09</td>\n",
       "      <td>5.000000</td>\n",
       "      <td>1.493399e+09</td>\n",
       "      <td>9.820000</td>\n",
       "      <td>223.000000</td>\n",
       "      <td>9.860000</td>\n",
       "      <td>1.493395e+09</td>\n",
       "      <td>1.460000</td>\n",
       "    </tr>\n",
       "    <tr>\n",
       "      <th>75%</th>\n",
       "      <td>168486.000000</td>\n",
       "      <td>1.000000</td>\n",
       "      <td>7.000000</td>\n",
       "      <td>20.000000</td>\n",
       "      <td>4.200329e+10</td>\n",
       "      <td>5.000000</td>\n",
       "      <td>20.000000</td>\n",
       "      <td>5.000000</td>\n",
       "      <td>-79.927675</td>\n",
       "      <td>40.463045</td>\n",
       "      <td>...</td>\n",
       "      <td>58.590000</td>\n",
       "      <td>1.499681e+09</td>\n",
       "      <td>1.499659e+09</td>\n",
       "      <td>7.000000</td>\n",
       "      <td>1.499699e+09</td>\n",
       "      <td>10.000000</td>\n",
       "      <td>267.000000</td>\n",
       "      <td>13.040000</td>\n",
       "      <td>1.499717e+09</td>\n",
       "      <td>2.590000</td>\n",
       "    </tr>\n",
       "    <tr>\n",
       "      <th>max</th>\n",
       "      <td>205276.000000</td>\n",
       "      <td>3.000000</td>\n",
       "      <td>9.000000</td>\n",
       "      <td>32.000000</td>\n",
       "      <td>4.200398e+10</td>\n",
       "      <td>6.000000</td>\n",
       "      <td>32.000000</td>\n",
       "      <td>6.000000</td>\n",
       "      <td>-79.869143</td>\n",
       "      <td>40.500025</td>\n",
       "      <td>...</td>\n",
       "      <td>73.720000</td>\n",
       "      <td>1.514722e+09</td>\n",
       "      <td>1.514696e+09</td>\n",
       "      <td>10.000000</td>\n",
       "      <td>1.514732e+09</td>\n",
       "      <td>10.000000</td>\n",
       "      <td>359.000000</td>\n",
       "      <td>25.630000</td>\n",
       "      <td>1.514696e+09</td>\n",
       "      <td>5.790000</td>\n",
       "    </tr>\n",
       "  </tbody>\n",
       "</table>\n",
       "<p>8 rows × 60 columns</p>\n",
       "</div>"
      ],
      "text/plain": [
       "          REQUEST_ID       STATUS  COUNCIL_DISTRICT         WARD  \\\n",
       "count    8689.000000  8689.000000       8673.000000  8666.000000   \n",
       "mean   153932.308896     1.006215          5.327453    16.264713   \n",
       "std     20687.809021     0.120267          2.503918     8.225085   \n",
       "min    123276.000000     0.000000          1.000000     0.000000   \n",
       "25%    137567.000000     1.000000          3.000000    10.000000   \n",
       "50%    148964.000000     1.000000          5.000000    14.000000   \n",
       "75%    168486.000000     1.000000          7.000000    20.000000   \n",
       "max    205276.000000     3.000000          9.000000    32.000000   \n",
       "\n",
       "              TRACT  PUBLIC_WORKS_DIVISION  PLI_DIVISION  POLICE_ZONE  \\\n",
       "count  8.689000e+03            8666.000000   8666.000000  8651.000000   \n",
       "mean   4.200323e+10               3.093123     16.264713     3.849266   \n",
       "std    1.928904e+05               1.396635      8.225085     1.507110   \n",
       "min    4.200301e+10               0.000000      0.000000     1.000000   \n",
       "25%    4.200310e+10               2.000000     10.000000     3.000000   \n",
       "50%    4.200317e+10               3.000000     14.000000     4.000000   \n",
       "75%    4.200329e+10               5.000000     20.000000     5.000000   \n",
       "max    4.200398e+10               6.000000     32.000000     6.000000   \n",
       "\n",
       "                 X            Y       ...         daily.temperatureMin  \\\n",
       "count  8689.000000  8689.000000       ...                  8689.000000   \n",
       "mean    -79.965961    40.439207       ...                    47.220006   \n",
       "std       0.046394     0.030330       ...                    13.730592   \n",
       "min     -80.088105    40.363075       ...                     1.270000   \n",
       "25%     -80.002321    40.417890       ...                    37.640000   \n",
       "50%     -79.963775    40.445577       ...                    46.380000   \n",
       "75%     -79.927675    40.463045       ...                    58.590000   \n",
       "max     -79.869143    40.500025       ...                    73.720000   \n",
       "\n",
       "       daily.temperatureMinTime    daily.time  daily.uvIndex  \\\n",
       "count              8.689000e+03  8.689000e+03    8689.000000   \n",
       "mean               1.494673e+09  1.494636e+09       5.342962   \n",
       "std                7.124810e+06  7.127717e+06       2.349032   \n",
       "min                1.483276e+09  1.483247e+09       1.000000   \n",
       "25%                1.488946e+09  1.488863e+09       3.000000   \n",
       "50%                1.493377e+09  1.493352e+09       5.000000   \n",
       "75%                1.499681e+09  1.499659e+09       7.000000   \n",
       "max                1.514722e+09  1.514696e+09      10.000000   \n",
       "\n",
       "       daily.uvIndexTime  daily.visibility  daily.windBearing  daily.windGust  \\\n",
       "count       8.689000e+03       8689.000000        8689.000000     8689.000000   \n",
       "mean        1.494680e+09          9.436150         217.105306       10.522265   \n",
       "std         7.128216e+06          0.798489          69.721749        5.269455   \n",
       "min         1.483290e+09          4.890000           0.000000        1.470000   \n",
       "25%         1.488902e+09          9.080000         192.000000        6.630000   \n",
       "50%         1.493399e+09          9.820000         223.000000        9.860000   \n",
       "75%         1.499699e+09         10.000000         267.000000       13.040000   \n",
       "max         1.514732e+09         10.000000         359.000000       25.630000   \n",
       "\n",
       "       daily.windGustTime  daily.windSpeed  \n",
       "count        8.689000e+03      8689.000000  \n",
       "mean         1.494685e+09         1.868643  \n",
       "std          7.129964e+06         1.367030  \n",
       "min          1.483250e+09         0.020000  \n",
       "25%          1.488946e+09         0.850000  \n",
       "50%          1.493395e+09         1.460000  \n",
       "75%          1.499717e+09         2.590000  \n",
       "max          1.514696e+09         5.790000  \n",
       "\n",
       "[8 rows x 60 columns]"
      ]
     },
     "execution_count": 30,
     "metadata": {},
     "output_type": "execute_result"
    }
   ],
   "source": [
    "df_holes.describe()"
   ]
  },
  {
   "cell_type": "code",
   "execution_count": 20,
   "metadata": {},
   "outputs": [
    {
     "data": {
      "text/html": [
       "<div>\n",
       "<style scoped>\n",
       "    .dataframe tbody tr th:only-of-type {\n",
       "        vertical-align: middle;\n",
       "    }\n",
       "\n",
       "    .dataframe tbody tr th {\n",
       "        vertical-align: top;\n",
       "    }\n",
       "\n",
       "    .dataframe thead th {\n",
       "        text-align: right;\n",
       "    }\n",
       "</style>\n",
       "<table border=\"1\" class=\"dataframe\">\n",
       "  <thead>\n",
       "    <tr style=\"text-align: right;\">\n",
       "      <th></th>\n",
       "      <th>REQUEST_ID</th>\n",
       "      <th>STATUS</th>\n",
       "      <th>COUNCIL_DISTRICT</th>\n",
       "      <th>WARD</th>\n",
       "      <th>TRACT</th>\n",
       "      <th>PUBLIC_WORKS_DIVISION</th>\n",
       "      <th>PLI_DIVISION</th>\n",
       "      <th>POLICE_ZONE</th>\n",
       "      <th>X</th>\n",
       "      <th>Y</th>\n",
       "      <th>...</th>\n",
       "      <th>daily.temperatureMin</th>\n",
       "      <th>daily.temperatureMinTime</th>\n",
       "      <th>daily.time</th>\n",
       "      <th>daily.uvIndex</th>\n",
       "      <th>daily.uvIndexTime</th>\n",
       "      <th>daily.visibility</th>\n",
       "      <th>daily.windBearing</th>\n",
       "      <th>daily.windGust</th>\n",
       "      <th>daily.windGustTime</th>\n",
       "      <th>daily.windSpeed</th>\n",
       "    </tr>\n",
       "  </thead>\n",
       "  <tbody>\n",
       "    <tr>\n",
       "      <th>count</th>\n",
       "      <td>7873.000000</td>\n",
       "      <td>7873.000000</td>\n",
       "      <td>7863.000000</td>\n",
       "      <td>7865.000000</td>\n",
       "      <td>7.873000e+03</td>\n",
       "      <td>7865.000000</td>\n",
       "      <td>7865.000000</td>\n",
       "      <td>7863.000000</td>\n",
       "      <td>7873.000000</td>\n",
       "      <td>7873.000000</td>\n",
       "      <td>...</td>\n",
       "      <td>7873.000000</td>\n",
       "      <td>7.873000e+03</td>\n",
       "      <td>7.873000e+03</td>\n",
       "      <td>7873.000000</td>\n",
       "      <td>7.873000e+03</td>\n",
       "      <td>7873.000000</td>\n",
       "      <td>7873.000000</td>\n",
       "      <td>7873.000000</td>\n",
       "      <td>7.873000e+03</td>\n",
       "      <td>7873.000000</td>\n",
       "    </tr>\n",
       "    <tr>\n",
       "      <th>mean</th>\n",
       "      <td>168907.578941</td>\n",
       "      <td>1.538931</td>\n",
       "      <td>4.456187</td>\n",
       "      <td>17.934139</td>\n",
       "      <td>4.200325e+10</td>\n",
       "      <td>3.177368</td>\n",
       "      <td>17.934139</td>\n",
       "      <td>3.674425</td>\n",
       "      <td>-79.979668</td>\n",
       "      <td>40.436945</td>\n",
       "      <td>...</td>\n",
       "      <td>54.602416</td>\n",
       "      <td>1.499727e+09</td>\n",
       "      <td>1.499692e+09</td>\n",
       "      <td>6.142004</td>\n",
       "      <td>1.499737e+09</td>\n",
       "      <td>9.422660</td>\n",
       "      <td>214.841484</td>\n",
       "      <td>8.210879</td>\n",
       "      <td>1.499743e+09</td>\n",
       "      <td>1.172688</td>\n",
       "    </tr>\n",
       "    <tr>\n",
       "      <th>std</th>\n",
       "      <td>18140.530299</td>\n",
       "      <td>0.891918</td>\n",
       "      <td>2.490446</td>\n",
       "      <td>7.774985</td>\n",
       "      <td>1.682691e+05</td>\n",
       "      <td>1.421727</td>\n",
       "      <td>7.774985</td>\n",
       "      <td>1.637706</td>\n",
       "      <td>0.045828</td>\n",
       "      <td>0.026859</td>\n",
       "      <td>...</td>\n",
       "      <td>12.346300</td>\n",
       "      <td>6.179228e+06</td>\n",
       "      <td>6.178942e+06</td>\n",
       "      <td>2.178028</td>\n",
       "      <td>6.178338e+06</td>\n",
       "      <td>0.796446</td>\n",
       "      <td>75.836305</td>\n",
       "      <td>3.912323</td>\n",
       "      <td>6.179492e+06</td>\n",
       "      <td>0.899118</td>\n",
       "    </tr>\n",
       "    <tr>\n",
       "      <th>min</th>\n",
       "      <td>123313.000000</td>\n",
       "      <td>0.000000</td>\n",
       "      <td>1.000000</td>\n",
       "      <td>0.000000</td>\n",
       "      <td>4.200301e+10</td>\n",
       "      <td>0.000000</td>\n",
       "      <td>0.000000</td>\n",
       "      <td>1.000000</td>\n",
       "      <td>-80.084271</td>\n",
       "      <td>40.364130</td>\n",
       "      <td>...</td>\n",
       "      <td>2.370000</td>\n",
       "      <td>1.483427e+09</td>\n",
       "      <td>1.483420e+09</td>\n",
       "      <td>1.000000</td>\n",
       "      <td>1.483456e+09</td>\n",
       "      <td>5.710000</td>\n",
       "      <td>0.000000</td>\n",
       "      <td>1.530000</td>\n",
       "      <td>1.483502e+09</td>\n",
       "      <td>0.020000</td>\n",
       "    </tr>\n",
       "    <tr>\n",
       "      <th>25%</th>\n",
       "      <td>156163.000000</td>\n",
       "      <td>1.000000</td>\n",
       "      <td>3.000000</td>\n",
       "      <td>13.000000</td>\n",
       "      <td>4.200313e+10</td>\n",
       "      <td>2.000000</td>\n",
       "      <td>13.000000</td>\n",
       "      <td>3.000000</td>\n",
       "      <td>-80.013519</td>\n",
       "      <td>40.416680</td>\n",
       "      <td>...</td>\n",
       "      <td>48.440000</td>\n",
       "      <td>1.495616e+09</td>\n",
       "      <td>1.495598e+09</td>\n",
       "      <td>5.000000</td>\n",
       "      <td>1.495642e+09</td>\n",
       "      <td>9.160000</td>\n",
       "      <td>187.000000</td>\n",
       "      <td>5.120000</td>\n",
       "      <td>1.495660e+09</td>\n",
       "      <td>0.480000</td>\n",
       "    </tr>\n",
       "    <tr>\n",
       "      <th>50%</th>\n",
       "      <td>169900.000000</td>\n",
       "      <td>1.000000</td>\n",
       "      <td>4.000000</td>\n",
       "      <td>18.000000</td>\n",
       "      <td>4.200319e+10</td>\n",
       "      <td>3.000000</td>\n",
       "      <td>18.000000</td>\n",
       "      <td>3.000000</td>\n",
       "      <td>-79.983621</td>\n",
       "      <td>40.439190</td>\n",
       "      <td>...</td>\n",
       "      <td>57.960000</td>\n",
       "      <td>1.500008e+09</td>\n",
       "      <td>1.500005e+09</td>\n",
       "      <td>6.000000</td>\n",
       "      <td>1.500052e+09</td>\n",
       "      <td>9.790000</td>\n",
       "      <td>223.000000</td>\n",
       "      <td>7.620000</td>\n",
       "      <td>1.500059e+09</td>\n",
       "      <td>0.990000</td>\n",
       "    </tr>\n",
       "    <tr>\n",
       "      <th>75%</th>\n",
       "      <td>182380.000000</td>\n",
       "      <td>3.000000</td>\n",
       "      <td>6.000000</td>\n",
       "      <td>25.000000</td>\n",
       "      <td>4.200330e+10</td>\n",
       "      <td>5.000000</td>\n",
       "      <td>25.000000</td>\n",
       "      <td>5.000000</td>\n",
       "      <td>-79.946651</td>\n",
       "      <td>40.459190</td>\n",
       "      <td>...</td>\n",
       "      <td>63.730000</td>\n",
       "      <td>1.503659e+09</td>\n",
       "      <td>1.503634e+09</td>\n",
       "      <td>8.000000</td>\n",
       "      <td>1.503673e+09</td>\n",
       "      <td>9.990000</td>\n",
       "      <td>259.000000</td>\n",
       "      <td>10.480000</td>\n",
       "      <td>1.503695e+09</td>\n",
       "      <td>1.500000</td>\n",
       "    </tr>\n",
       "    <tr>\n",
       "      <th>max</th>\n",
       "      <td>205176.000000</td>\n",
       "      <td>3.000000</td>\n",
       "      <td>9.000000</td>\n",
       "      <td>32.000000</td>\n",
       "      <td>4.200398e+10</td>\n",
       "      <td>6.000000</td>\n",
       "      <td>32.000000</td>\n",
       "      <td>6.000000</td>\n",
       "      <td>-79.867549</td>\n",
       "      <td>40.520177</td>\n",
       "      <td>...</td>\n",
       "      <td>73.950000</td>\n",
       "      <td>1.514542e+09</td>\n",
       "      <td>1.514524e+09</td>\n",
       "      <td>10.000000</td>\n",
       "      <td>1.514560e+09</td>\n",
       "      <td>10.000000</td>\n",
       "      <td>359.000000</td>\n",
       "      <td>25.680000</td>\n",
       "      <td>1.514578e+09</td>\n",
       "      <td>5.650000</td>\n",
       "    </tr>\n",
       "  </tbody>\n",
       "</table>\n",
       "<p>8 rows × 60 columns</p>\n",
       "</div>"
      ],
      "text/plain": [
       "          REQUEST_ID       STATUS  COUNCIL_DISTRICT         WARD  \\\n",
       "count    7873.000000  7873.000000       7863.000000  7865.000000   \n",
       "mean   168907.578941     1.538931          4.456187    17.934139   \n",
       "std     18140.530299     0.891918          2.490446     7.774985   \n",
       "min    123313.000000     0.000000          1.000000     0.000000   \n",
       "25%    156163.000000     1.000000          3.000000    13.000000   \n",
       "50%    169900.000000     1.000000          4.000000    18.000000   \n",
       "75%    182380.000000     3.000000          6.000000    25.000000   \n",
       "max    205176.000000     3.000000          9.000000    32.000000   \n",
       "\n",
       "              TRACT  PUBLIC_WORKS_DIVISION  PLI_DIVISION  POLICE_ZONE  \\\n",
       "count  7.873000e+03            7865.000000   7865.000000  7863.000000   \n",
       "mean   4.200325e+10               3.177368     17.934139     3.674425   \n",
       "std    1.682691e+05               1.421727      7.774985     1.637706   \n",
       "min    4.200301e+10               0.000000      0.000000     1.000000   \n",
       "25%    4.200313e+10               2.000000     13.000000     3.000000   \n",
       "50%    4.200319e+10               3.000000     18.000000     3.000000   \n",
       "75%    4.200330e+10               5.000000     25.000000     5.000000   \n",
       "max    4.200398e+10               6.000000     32.000000     6.000000   \n",
       "\n",
       "                 X            Y       ...         daily.temperatureMin  \\\n",
       "count  7873.000000  7873.000000       ...                  7873.000000   \n",
       "mean    -79.979668    40.436945       ...                    54.602416   \n",
       "std       0.045828     0.026859       ...                    12.346300   \n",
       "min     -80.084271    40.364130       ...                     2.370000   \n",
       "25%     -80.013519    40.416680       ...                    48.440000   \n",
       "50%     -79.983621    40.439190       ...                    57.960000   \n",
       "75%     -79.946651    40.459190       ...                    63.730000   \n",
       "max     -79.867549    40.520177       ...                    73.950000   \n",
       "\n",
       "       daily.temperatureMinTime    daily.time  daily.uvIndex  \\\n",
       "count              7.873000e+03  7.873000e+03    7873.000000   \n",
       "mean               1.499727e+09  1.499692e+09       6.142004   \n",
       "std                6.179228e+06  6.178942e+06       2.178028   \n",
       "min                1.483427e+09  1.483420e+09       1.000000   \n",
       "25%                1.495616e+09  1.495598e+09       5.000000   \n",
       "50%                1.500008e+09  1.500005e+09       6.000000   \n",
       "75%                1.503659e+09  1.503634e+09       8.000000   \n",
       "max                1.514542e+09  1.514524e+09      10.000000   \n",
       "\n",
       "       daily.uvIndexTime  daily.visibility  daily.windBearing  daily.windGust  \\\n",
       "count       7.873000e+03       7873.000000        7873.000000     7873.000000   \n",
       "mean        1.499737e+09          9.422660         214.841484        8.210879   \n",
       "std         6.178338e+06          0.796446          75.836305        3.912323   \n",
       "min         1.483456e+09          5.710000           0.000000        1.530000   \n",
       "25%         1.495642e+09          9.160000         187.000000        5.120000   \n",
       "50%         1.500052e+09          9.790000         223.000000        7.620000   \n",
       "75%         1.503673e+09          9.990000         259.000000       10.480000   \n",
       "max         1.514560e+09         10.000000         359.000000       25.680000   \n",
       "\n",
       "       daily.windGustTime  daily.windSpeed  \n",
       "count        7.873000e+03      7873.000000  \n",
       "mean         1.499743e+09         1.172688  \n",
       "std          6.179492e+06         0.899118  \n",
       "min          1.483502e+09         0.020000  \n",
       "25%          1.495660e+09         0.480000  \n",
       "50%          1.500059e+09         0.990000  \n",
       "75%          1.503695e+09         1.500000  \n",
       "max          1.514578e+09         5.650000  \n",
       "\n",
       "[8 rows x 60 columns]"
      ]
     },
     "execution_count": 20,
     "metadata": {},
     "output_type": "execute_result"
    }
   ],
   "source": [
    "df_weeds.describe()"
   ]
  },
  {
   "cell_type": "markdown",
   "metadata": {},
   "source": [
    "# Feature Selection"
   ]
  },
  {
   "cell_type": "code",
   "execution_count": 31,
   "metadata": {},
   "outputs": [],
   "source": [
    "def label_encode(df, columns):\n",
    "    for col in columns:\n",
    "        le = prep.LabelEncoder()\n",
    "        col_values_unique = list(df[col].unique())\n",
    "        le_fitted = le.fit(col_values_unique)\n",
    " \n",
    "        col_values = list(df[col].values)\n",
    "        #le.classes_\n",
    "        col_values_transformed = le.transform(col_values)\n",
    "        df[col] = col_values_transformed"
   ]
  },
  {
   "cell_type": "code",
   "execution_count": 32,
   "metadata": {},
   "outputs": [],
   "source": [
    "X = df[['daily.apparentTemperatureHigh', 'daily.apparentTemperatureLow',\n",
    "       'daily.apparentTemperatureMax',\n",
    "       'daily.apparentTemperatureMin',\n",
    "       'daily.cloudCover',\n",
    "       'daily.dewPoint', 'daily.humidity',\n",
    "       'daily.precipAccumulation', 'daily.precipIntensity',\n",
    "       'daily.precipIntensityMax', \n",
    "       'daily.precipProbability', 'daily.pressure',\n",
    "       'daily.temperatureHigh', \n",
    "       'daily.temperatureLow', \n",
    "       'daily.temperatureMax', \n",
    "       'daily.temperatureMin', \n",
    "       'daily.uvIndex', 'daily.visibility',\n",
    "       'daily.windBearing', 'daily.windGust', \n",
    "       'daily.windSpeed']]\n",
    "y = df[['REQUEST_TYPE']]"
   ]
  },
  {
   "cell_type": "code",
   "execution_count": 33,
   "metadata": {},
   "outputs": [
    {
     "name": "stderr",
     "output_type": "stream",
     "text": [
      "C:\\dev\\Anaconda3\\lib\\site-packages\\ipykernel_launcher.py:10: SettingWithCopyWarning: \n",
      "A value is trying to be set on a copy of a slice from a DataFrame.\n",
      "Try using .loc[row_indexer,col_indexer] = value instead\n",
      "\n",
      "See the caveats in the documentation: http://pandas.pydata.org/pandas-docs/stable/indexing.html#indexing-view-versus-copy\n",
      "  # Remove the CWD from sys.path while we load stuff.\n"
     ]
    }
   ],
   "source": [
    "# as features/target\n",
    "#all features excluding times\n",
    "features_all = df[['current.apparentTemperature', 'current.cloudCover', 'current.dewPoint', 'current.humidity',\n",
    "       'current.icon', 'current.precipIntensity', 'current.precipProbability',\n",
    "       'current.precipType', 'current.pressure', 'current.summary',\n",
    "       'current.temperature', 'current.uvIndex',\n",
    "       'current.visibility', 'current.windBearing', 'current.windGust',\n",
    "       'current.windSpeed', 'daily.apparentTemperatureHigh',\n",
    "       'daily.apparentTemperatureLow', 'daily.apparentTemperatureMax',\n",
    "       'daily.apparentTemperatureMin', 'daily.cloudCover',\n",
    "       'daily.dewPoint', 'daily.humidity', 'daily.icon', 'daily.moonPhase',\n",
    "       'daily.precipAccumulation', 'daily.precipIntensity', 'daily.precipIntensityMax', \n",
    "       'daily.precipProbability', 'daily.precipType', 'daily.pressure',\n",
    "       'daily.summary', 'daily.temperatureHigh', 'daily.temperatureLow', \n",
    "       'daily.temperatureMax', 'daily.temperatureMin', 'daily.uvIndex', 'daily.visibility',\n",
    "       'daily.windBearing', 'daily.windGust', 'daily.windSpeed']]\n",
    "\n",
    "#most highly correlated features\n",
    "features = df[['current.cloudCover', 'current.humidity',\n",
    "       'current.icon', 'current.precipProbability',\n",
    "       'current.precipType', 'current.summary',\n",
    "       'current.temperature', 'current.uvIndex',\n",
    "       'daily.apparentTemperatureMin',\n",
    "       'daily.cloudCover', 'daily.dewPoint', 'daily.humidity',\n",
    "       'daily.precipAccumulation', 'daily.precipIntensity',\n",
    "       'daily.precipProbability', 'daily.precipType',  \n",
    "       'daily.temperatureMin', 'daily.uvIndex', 'daily.windSpeed']]\n",
    "\n",
    "target = df[['REQUEST_TYPE']]       \n",
    "label_encode(features_all, features_all.columns.values)\n",
    "label_encode(features, features.columns.values)\n",
    "label_encode(target, target.columns.values)"
   ]
  },
  {
   "cell_type": "markdown",
   "metadata": {},
   "source": [
    "### Correlations"
   ]
  },
  {
   "cell_type": "code",
   "execution_count": 34,
   "metadata": {},
   "outputs": [
    {
     "name": "stdout",
     "output_type": "stream",
     "text": [
      "The coefficient for current.apparentTemperature is 0.0004270877075908872\n",
      "The coefficient for current.cloudCover is -0.003694375678669202\n",
      "The coefficient for current.dewPoint is -0.0005207389492416601\n",
      "The coefficient for current.humidity is 0.02532543387552259\n",
      "The coefficient for current.icon is 0.03709762686538905\n",
      "The coefficient for current.precipIntensity is 0.0014532689697739371\n",
      "The coefficient for current.precipProbability is -0.012600075931511216\n",
      "The coefficient for current.precipType is 0.009363301770172569\n",
      "The coefficient for current.pressure is 1.97973515768025e-05\n",
      "The coefficient for current.summary is -0.018560998114642707\n",
      "The coefficient for current.temperature is -9.484823987234928e-05\n",
      "The coefficient for current.uvIndex is 0.008543484876407742\n",
      "The coefficient for current.visibility is 0.000511051756568971\n",
      "The coefficient for current.windBearing is -2.11935377054259e-05\n",
      "The coefficient for current.windGust is -1.9952986279869432e-05\n",
      "The coefficient for current.windSpeed is 0.0011866835602070787\n",
      "The coefficient for daily.apparentTemperatureHigh is 0.001037434525300354\n",
      "The coefficient for daily.apparentTemperatureLow is 0.0017097118046821246\n",
      "The coefficient for daily.apparentTemperatureMax is -0.0005336361137676147\n",
      "The coefficient for daily.apparentTemperatureMin is -0.003916381334435384\n",
      "The coefficient for daily.cloudCover is -0.0007028804906680647\n",
      "The coefficient for daily.dewPoint is 0.002756916587063215\n",
      "The coefficient for daily.humidity is -0.05209474823988581\n",
      "The coefficient for daily.icon is -0.0316182133968844\n",
      "The coefficient for daily.moonPhase is -0.00023089759098570255\n",
      "The coefficient for daily.precipAccumulation is -0.0049919073039914955\n",
      "The coefficient for daily.precipIntensity is -0.002697575783182908\n",
      "The coefficient for daily.precipIntensityMax is -0.00016643920823849887\n",
      "The coefficient for daily.precipProbability is 0.0021275105798106405\n",
      "The coefficient for daily.precipType is 0.05391142065598607\n",
      "The coefficient for daily.pressure is 0.00021234337265024037\n",
      "The coefficient for daily.summary is 0.0001845551662400172\n",
      "The coefficient for daily.temperatureHigh is -0.0014147800190639828\n",
      "The coefficient for daily.temperatureLow is -0.0017672647989472145\n",
      "The coefficient for daily.temperatureMax is -0.00023687013005846283\n",
      "The coefficient for daily.temperatureMin is 0.003591661172341909\n",
      "The coefficient for daily.uvIndex is 0.09094269166603293\n",
      "The coefficient for daily.visibility is 0.0002764905274683419\n",
      "The coefficient for daily.windBearing is 0.0005324272044163177\n",
      "The coefficient for daily.windGust is 0.0006092897273039379\n",
      "The coefficient for daily.windSpeed is -0.004792908453687203\n"
     ]
    }
   ],
   "source": [
    "X_train, X_test, y_train, y_test = train_test_split(features_all, target, test_size = 0.2, random_state = 1)\n",
    "regression_model = LinearRegression()\n",
    "regression_model.fit(X_train, y_train)\n",
    "\n",
    "for idx, col_name in enumerate(X_train.columns):\n",
    "    print(\"The coefficient for {} is {}\".format(col_name, regression_model.coef_[0][idx]))"
   ]
  },
  {
   "cell_type": "code",
   "execution_count": 35,
   "metadata": {},
   "outputs": [
    {
     "name": "stdout",
     "output_type": "stream",
     "text": [
      "The coefficient for current.cloudCover is -0.003694375678669202\n",
      "The coefficient for current.humidity is 0.02532543387552259\n",
      "The coefficient for current.icon is 0.03709762686538905\n",
      "The coefficient for current.precipProbability is -0.012600075931511216\n",
      "The coefficient for current.precipType is 0.009363301770172569\n",
      "The coefficient for current.summary is -0.018560998114642707\n",
      "The coefficient for current.uvIndex is 0.008543484876407742\n",
      "The coefficient for daily.apparentTemperatureMin is -0.003916381334435384\n",
      "The coefficient for daily.dewPoint is 0.002756916587063215\n",
      "The coefficient for daily.humidity is -0.05209474823988581\n",
      "The coefficient for daily.icon is -0.0316182133968844\n",
      "The coefficient for daily.precipAccumulation is -0.0049919073039914955\n",
      "The coefficient for daily.precipIntensity is -0.002697575783182908\n",
      "The coefficient for daily.precipProbability is 0.0021275105798106405\n",
      "The coefficient for daily.precipType is 0.05391142065598607\n",
      "The coefficient for daily.temperatureMin is 0.003591661172341909\n",
      "The coefficient for daily.uvIndex is 0.09094269166603293\n",
      "The coefficient for daily.windSpeed is -0.004792908453687203\n"
     ]
    }
   ],
   "source": [
    "#top features\n",
    "for idx, col_name in enumerate(X_train.columns):\n",
    "    if abs(regression_model.coef_[0][idx]) > 0.002:\n",
    "        print(\"The coefficient for {} is {}\".format(col_name, regression_model.coef_[0][idx]))"
   ]
  },
  {
   "cell_type": "markdown",
   "metadata": {},
   "source": [
    "# Linear Regression"
   ]
  },
  {
   "cell_type": "code",
   "execution_count": 36,
   "metadata": {},
   "outputs": [
    {
     "data": {
      "text/plain": [
       "LinearRegression(copy_X=True, fit_intercept=True, n_jobs=None,\n",
       "         normalize=False)"
      ]
     },
     "execution_count": 36,
     "metadata": {},
     "output_type": "execute_result"
    }
   ],
   "source": [
    "X_train, X_test, y_train, y_test = train_test_split(features, target, test_size = 0.2, random_state = 1)\n",
    "regression_model = LinearRegression()\n",
    "regression_model.fit(X_train, y_train)"
   ]
  },
  {
   "cell_type": "code",
   "execution_count": 37,
   "metadata": {},
   "outputs": [
    {
     "data": {
      "text/plain": [
       "(0.006501944836665663, 66.86610226515867, 8.177169575419033)"
      ]
     },
     "execution_count": 37,
     "metadata": {},
     "output_type": "execute_result"
    }
   ],
   "source": [
    "y_pred = regression_model.predict(X_test)\n",
    "rmse = mean_squared_error(y_pred, y_test)\n",
    "regression_model.score(X_test, y_test),  rmse, math.sqrt(rmse)"
   ]
  },
  {
   "cell_type": "code",
   "execution_count": 40,
   "metadata": {},
   "outputs": [
    {
     "name": "stdout",
     "output_type": "stream",
     "text": [
      "sensitivity: nan\n",
      "specificity: nan\n",
      "false positive rate: nan\n",
      "precision: nan\n"
     ]
    },
    {
     "name": "stderr",
     "output_type": "stream",
     "text": [
      "C:\\dev\\Anaconda3\\lib\\site-packages\\ipykernel_launcher.py:7: RuntimeWarning: invalid value encountered in true_divide\n",
      "  import sys\n",
      "C:\\dev\\Anaconda3\\lib\\site-packages\\ipykernel_launcher.py:8: RuntimeWarning: invalid value encountered in longlong_scalars\n",
      "  \n",
      "C:\\dev\\Anaconda3\\lib\\site-packages\\ipykernel_launcher.py:9: RuntimeWarning: invalid value encountered in true_divide\n",
      "  if __name__ == '__main__':\n",
      "C:\\dev\\Anaconda3\\lib\\site-packages\\ipykernel_launcher.py:10: RuntimeWarning: invalid value encountered in true_divide\n",
      "  # Remove the CWD from sys.path while we load stuff.\n"
     ]
    }
   ],
   "source": [
    "confusion = confusion_matrix(y_test, y_pred.round())\n",
    "TP = confusion[1, 1]\n",
    "TN = confusion[0, 0]\n",
    "FP = confusion[0, 1]\n",
    "FN = confusion[1, 0]\n",
    "\n",
    "sensitivity = TP / float(FN + TP)\n",
    "specificity = TN / (TN + FP)\n",
    "false_positive_rate = FP / float(TN + FP)\n",
    "precision = TP / float(TP + FP)\n",
    "\n",
    "print (\"sensitivity: \" + str(sensitivity) + \n",
    "       \"\\nspecificity: \" + str(specificity) + \n",
    "       \"\\nfalse positive rate: \" + str(false_positive_rate) + \n",
    "       \"\\nprecision: \" + str(precision))"
   ]
  },
  {
   "cell_type": "markdown",
   "metadata": {},
   "source": [
    "# NB"
   ]
  },
  {
   "cell_type": "code",
   "execution_count": 41,
   "metadata": {},
   "outputs": [
    {
     "name": "stderr",
     "output_type": "stream",
     "text": [
      "C:\\dev\\Anaconda3\\lib\\site-packages\\sklearn\\utils\\validation.py:752: DataConversionWarning: A column-vector y was passed when a 1d array was expected. Please change the shape of y to (n_samples, ), for example using ravel().\n",
      "  y = column_or_1d(y, warn=True)\n"
     ]
    },
    {
     "data": {
      "text/plain": [
       "GaussianNB(priors=None, var_smoothing=1e-09)"
      ]
     },
     "execution_count": 41,
     "metadata": {},
     "output_type": "execute_result"
    }
   ],
   "source": [
    "X_train, X_test, y_train, y_test = train_test_split(features, target, test_size = 0.2, random_state = 1)\n",
    "nb = GaussianNB()\n",
    "nb.fit(X_train, y_train)"
   ]
  },
  {
   "cell_type": "code",
   "execution_count": 42,
   "metadata": {},
   "outputs": [
    {
     "data": {
      "text/plain": [
       "array([15, 21, 13, ...,  4,  4, 24], dtype=int64)"
      ]
     },
     "execution_count": 42,
     "metadata": {},
     "output_type": "execute_result"
    }
   ],
   "source": [
    "y_pred = nb.predict(X_test)\n",
    "y_pred"
   ]
  },
  {
   "cell_type": "code",
   "execution_count": 43,
   "metadata": {},
   "outputs": [
    {
     "data": {
      "text/plain": [
       "0.12465599836917746"
      ]
     },
     "execution_count": 43,
     "metadata": {},
     "output_type": "execute_result"
    }
   ],
   "source": [
    "accuracy_score(y_test, y_pred, normalize=True)"
   ]
  },
  {
   "cell_type": "code",
   "execution_count": 44,
   "metadata": {},
   "outputs": [
    {
     "name": "stdout",
     "output_type": "stream",
     "text": [
      "sensitivity: nan\n",
      "specificity: nan\n",
      "false positive rate: nan\n",
      "precision: nan\n"
     ]
    },
    {
     "name": "stderr",
     "output_type": "stream",
     "text": [
      "C:\\dev\\Anaconda3\\lib\\site-packages\\ipykernel_launcher.py:7: RuntimeWarning: invalid value encountered in true_divide\n",
      "  import sys\n",
      "C:\\dev\\Anaconda3\\lib\\site-packages\\ipykernel_launcher.py:8: RuntimeWarning: invalid value encountered in longlong_scalars\n",
      "  \n",
      "C:\\dev\\Anaconda3\\lib\\site-packages\\ipykernel_launcher.py:9: RuntimeWarning: invalid value encountered in true_divide\n",
      "  if __name__ == '__main__':\n",
      "C:\\dev\\Anaconda3\\lib\\site-packages\\ipykernel_launcher.py:10: RuntimeWarning: invalid value encountered in true_divide\n",
      "  # Remove the CWD from sys.path while we load stuff.\n"
     ]
    }
   ],
   "source": [
    "confusion = confusion_matrix(y_test, y_pred)\n",
    "TP = confusion[1, 1]\n",
    "TN = confusion[0, 0]\n",
    "FP = confusion[0, 1]\n",
    "FN = confusion[1, 0]\n",
    "\n",
    "sensitivity = TP / float(FN + TP)\n",
    "specificity = TN / (TN + FP)\n",
    "false_positive_rate = FP / float(TN + FP)\n",
    "precision = TP / float(TP + FP)\n",
    "\n",
    "print (\"sensitivity: \" + str(sensitivity) + \n",
    "       \"\\nspecificity: \" + str(specificity) + \n",
    "       \"\\nfalse positive rate: \" + str(false_positive_rate) + \n",
    "       \"\\nprecision: \" + str(precision))"
   ]
  },
  {
   "cell_type": "markdown",
   "metadata": {},
   "source": [
    "# KNN"
   ]
  },
  {
   "cell_type": "code",
   "execution_count": 45,
   "metadata": {},
   "outputs": [
    {
     "data": {
      "text/plain": [
       "KNeighborsRegressor(algorithm='auto', leaf_size=30, metric='minkowski',\n",
       "          metric_params=None, n_jobs=None, n_neighbors=4, p=2,\n",
       "          weights='uniform')"
      ]
     },
     "execution_count": 45,
     "metadata": {},
     "output_type": "execute_result"
    }
   ],
   "source": [
    "X_train, X_test, y_train, y_test = train_test_split(features, target, test_size = 0.2, random_state = 1)\n",
    "model = KNeighborsRegressor(n_neighbors=4)\n",
    "model.fit(X_train, y_train)"
   ]
  },
  {
   "cell_type": "code",
   "execution_count": 46,
   "metadata": {},
   "outputs": [
    {
     "data": {
      "text/plain": [
       "0.07889104066863724"
      ]
     },
     "execution_count": 46,
     "metadata": {},
     "output_type": "execute_result"
    }
   ],
   "source": [
    "y_pred = model.predict(X_test)\n",
    "accuracy_score(y_test, y_pred.round(), normalize=False) / len(y_test.index)"
   ]
  },
  {
   "cell_type": "code",
   "execution_count": 47,
   "metadata": {},
   "outputs": [
    {
     "name": "stdout",
     "output_type": "stream",
     "text": [
      "sensitivity: 0.975609756097561\n",
      "specificity: 1.0\n",
      "false positive rate: 0.0\n",
      "precision: 1.0\n"
     ]
    }
   ],
   "source": [
    "confusion = confusion_matrix(y_test, y_pred.round())\n",
    "TP = confusion[1, 1]\n",
    "TN = confusion[0, 0]\n",
    "FP = confusion[0, 1]\n",
    "FN = confusion[1, 0]\n",
    "\n",
    "sensitivity = TP / float(FN + TP)\n",
    "specificity = TN / (TN + FP)\n",
    "false_positive_rate = FP / float(TN + FP)\n",
    "precision = TP / float(TP + FP)\n",
    "\n",
    "print (\"sensitivity: \" + str(sensitivity) + \n",
    "       \"\\nspecificity: \" + str(specificity) + \n",
    "       \"\\nfalse positive rate: \" + str(false_positive_rate) + \n",
    "       \"\\nprecision: \" + str(precision))"
   ]
  },
  {
   "cell_type": "markdown",
   "metadata": {},
   "source": [
    "# SVM (Runs forever)"
   ]
  },
  {
   "cell_type": "code",
   "execution_count": null,
   "metadata": {},
   "outputs": [
    {
     "name": "stderr",
     "output_type": "stream",
     "text": [
      "C:\\dev\\Anaconda3\\lib\\site-packages\\sklearn\\utils\\validation.py:752: DataConversionWarning: A column-vector y was passed when a 1d array was expected. Please change the shape of y to (n_samples, ), for example using ravel().\n",
      "  y = column_or_1d(y, warn=True)\n",
      "C:\\dev\\Anaconda3\\lib\\site-packages\\sklearn\\svm\\base.py:196: FutureWarning: The default value of gamma will change from 'auto' to 'scale' in version 0.22 to account better for unscaled features. Set gamma explicitly to 'auto' or 'scale' to avoid this warning.\n",
      "  \"avoid this warning.\", FutureWarning)\n"
     ]
    }
   ],
   "source": [
    "X_train, X_test, y_train, y_test = train_test_split(features, target, test_size = 0.2, random_state = 1)\n",
    "model = svm.SVC() \n",
    "model.fit(X_train, y_train)"
   ]
  },
  {
   "cell_type": "code",
   "execution_count": null,
   "metadata": {},
   "outputs": [],
   "source": [
    "y_pred = model.predict(X_test)\n",
    "accuracy_score(y_test, y_pred)"
   ]
  },
  {
   "cell_type": "code",
   "execution_count": null,
   "metadata": {},
   "outputs": [],
   "source": [
    "confusion = metrics.confusion_matrix(y_test, y_pred)\n",
    "TP = confusion[1, 1]\n",
    "TN = confusion[0, 0]\n",
    "FP = confusion[0, 1]\n",
    "FN = confusion[1, 0]\n",
    "\n",
    "sensitivity = TP / float(FN + TP)\n",
    "specificity = TN / (TN + FP)\n",
    "false_positive_rate = FP / float(TN + FP)\n",
    "precision = TP / float(TP + FP)\n",
    "\n",
    "print (\"sensitivity: \" + str(sensitivity) + \n",
    "       \"\\nspecificity: \" + str(specificity) + \n",
    "       \"\\nfalse positive rate: \" + str(false_positive_rate) + \n",
    "       \"\\nprecision: \" + str(precision))"
   ]
  }
 ],
 "metadata": {
  "kernelspec": {
   "display_name": "Python 3",
   "language": "python",
   "name": "python3"
  },
  "language_info": {
   "codemirror_mode": {
    "name": "ipython",
    "version": 3
   },
   "file_extension": ".py",
   "mimetype": "text/x-python",
   "name": "python",
   "nbconvert_exporter": "python",
   "pygments_lexer": "ipython3",
   "version": "3.7.1"
  }
 },
 "nbformat": 4,
 "nbformat_minor": 2
}
