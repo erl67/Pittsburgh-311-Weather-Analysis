{
 "cells": [
  {
   "cell_type": "markdown",
   "metadata": {},
   "source": [
    "https://github.com/dbabichenko/python_for_data_and_analytics/tree/master/12%20-%20Classification"
   ]
  },
  {
   "cell_type": "code",
   "execution_count": 7,
   "metadata": {},
   "outputs": [],
   "source": [
    "# Required Python Machine learning Packages\n",
    "import pandas as pd\n",
    "import numpy as np\n",
    "import operator\n",
    "\n",
    "# To split the dataset into train and test datasets\n",
    "from sklearn.model_selection import train_test_split\n",
    "\n",
    "# Classifiers\n",
    "from sklearn.naive_bayes import GaussianNB\n",
    "from sklearn import svm\n",
    "from sklearn.neighbors import KNeighborsRegressor\n",
    "from sklearn.ensemble import RandomForestRegressor\n",
    "from sklearn.linear_model import LogisticRegression\n",
    "from sklearn.tree import DecisionTreeClassifier, export_graphviz\n",
    "\n",
    "from sklearn.model_selection import cross_val_score, cross_val_predict\n",
    "from sklearn.feature_selection import RFE\n",
    "from sklearn.feature_selection import SelectKBest\n",
    "from sklearn.feature_selection import chi2\n",
    "from sklearn.decomposition import PCA\n",
    "from sklearn.ensemble import ExtraTreesClassifier\n",
    "\n",
    "# To calculate the accuracy score of the model\n",
    "from sklearn.preprocessing import LabelEncoder\n",
    "from sklearn import metrics\n",
    "\n",
    "import matplotlib.pyplot as plt\n",
    "%matplotlib inline"
   ]
  },
  {
   "cell_type": "code",
   "execution_count": 8,
   "metadata": {},
   "outputs": [],
   "source": [
    "def label_encode(df, columns):\n",
    "    for col in columns:\n",
    "        le = LabelEncoder()\n",
    "        col_values_unique = list(df[col].unique())\n",
    "        le_fitted = le.fit(col_values_unique)\n",
    " \n",
    "        col_values = list(df[col].values)\n",
    "        #le.classes_\n",
    "        col_values_transformed = le.transform(col_values)\n",
    "        df[col] = col_values_transformed"
   ]
  },
  {
   "cell_type": "code",
   "execution_count": 9,
   "metadata": {},
   "outputs": [],
   "source": [
    "def classify(predictors, response, classifier = 'svm', kern='rbf', neighbors=3, kfolds=0, report=False, features_select=0):        \n",
    "    # split X and y into training and testing sets\n",
    "    X_train, X_test, y_train, y_test = train_test_split(predictors, response, test_size=0.20, random_state=1)\n",
    "\n",
    "    \n",
    "    if classifier == 'nb':\n",
    "        cl = GaussianNB() # instantiate model\n",
    "        msg = 'Naive Bayes'\n",
    "    elif classifier == 'svm':\n",
    "        cl = svm.SVC(kernel=kern) # instantiate model\n",
    "        msg = 'SVM with ' + kern + ' kernel'\n",
    "    elif classifier == 'knn':\n",
    "        cl = KNeighborsRegressor(n_neighbors=neighbors)\n",
    "        msg = 'KNN with k=' + str(neighbors)\n",
    "    elif classifier == 'rf':\n",
    "        # Instantiate model with  decision trees\n",
    "        # Note that the number of decision trees is denoted\n",
    "        # using the neighbors parameter, which is set to 3 by default\n",
    "        cl = RandomForestRegressor(n_estimators = 1000, random_state = 42)\n",
    "        msg = 'Random Forest with ' + str(neighbors) + ' decision trees'\n",
    "    elif classifier == 'dtree':\n",
    "        cl = DecisionTreeClassifier(min_samples_split=20, random_state=99)\n",
    "        msg = 'Decision tree'\n",
    "    elif classifier == 'logisticregression':\n",
    "        cl = LogisticRegression()\n",
    "        msg = 'Logistic Regression'\n",
    "        \n",
    "    model = cl.fit(X_train, y_train)\n",
    "    y_pred_class = model.predict(X_test)\n",
    "    print(msg + ' model accuracy score: ', metrics.accuracy_score(y_test, y_pred_class.round()))\n",
    "    \n",
    "    if kfolds > 0:\n",
    "        # Perform k-fold cross validation\n",
    "        scores = cross_val_score(model, predictors, response, cv=kfolds)\n",
    "        print('Cross-validated score:', scores.mean())\n",
    "    \n",
    "    if report == True:\n",
    "        print('Confusion matrix')\n",
    "        print(metrics.confusion_matrix(y_test, y_pred_class)) # confusion matrix\n",
    "        print('Classification report')\n",
    "        target_names=['low','med','high']\n",
    "        print(metrics.classification_report(y_test, y_pred_class, target_names=target_names))\n",
    "        \n",
    "        print('______________________________')\n",
    "    \n",
    "    if features_select > 0:\n",
    "        test = SelectKBest(score_func=chi2, k=features_select)\n",
    "        fit = test.fit(predictors, response)\n",
    "        \n",
    "        # summarize scores\n",
    "        np.set_printoptions(precision=3)\n",
    "        # print(fit.scores_)\n",
    "        features_scores = {}\n",
    "        for i in range(0, len(predictors.columns)):\n",
    "            features_scores[predictors.columns[i]] = fit.scores_[i]\n",
    "            \n",
    "        # print(features_scores)\n",
    "        sorted_features_scores = sorted(features_scores.items(), key=operator.itemgetter(1))\n",
    "        print(sorted_features_scores[-5:])        "
   ]
  },
  {
   "cell_type": "code",
   "execution_count": 10,
   "metadata": {},
   "outputs": [],
   "source": [
    "def decompose(predictors):\n",
    "    # feature extraction\n",
    "    pca = PCA(n_components=3)\n",
    "    fit = pca.fit(predictors)\n",
    "    \n",
    "    # summarize components\n",
    "    # print(fit.explained_variance_ratio_)\n",
    "    # print(fit.components_)\n",
    "    return pd.DataFrame(fit.components_)"
   ]
  },
  {
   "cell_type": "code",
   "execution_count": 11,
   "metadata": {
    "scrolled": true
   },
   "outputs": [
    {
     "data": {
      "text/html": [
       "<div>\n",
       "<style scoped>\n",
       "    .dataframe tbody tr th:only-of-type {\n",
       "        vertical-align: middle;\n",
       "    }\n",
       "\n",
       "    .dataframe tbody tr th {\n",
       "        vertical-align: top;\n",
       "    }\n",
       "\n",
       "    .dataframe thead th {\n",
       "        text-align: right;\n",
       "    }\n",
       "</style>\n",
       "<table border=\"1\" class=\"dataframe\">\n",
       "  <thead>\n",
       "    <tr style=\"text-align: right;\">\n",
       "      <th></th>\n",
       "      <th>REQUEST_ID</th>\n",
       "      <th>CREATED_ON</th>\n",
       "      <th>REQUEST_TYPE</th>\n",
       "      <th>REQUEST_ORIGIN</th>\n",
       "      <th>STATUS</th>\n",
       "      <th>DEPARTMENT</th>\n",
       "      <th>NEIGHBORHOOD</th>\n",
       "      <th>COUNCIL_DISTRICT</th>\n",
       "      <th>WARD</th>\n",
       "      <th>TRACT</th>\n",
       "      <th>...</th>\n",
       "      <th>daily.temperatureMin</th>\n",
       "      <th>daily.temperatureMinTime</th>\n",
       "      <th>daily.time</th>\n",
       "      <th>daily.uvIndex</th>\n",
       "      <th>daily.uvIndexTime</th>\n",
       "      <th>daily.visibility</th>\n",
       "      <th>daily.windBearing</th>\n",
       "      <th>daily.windGust</th>\n",
       "      <th>daily.windGustTime</th>\n",
       "      <th>daily.windSpeed</th>\n",
       "    </tr>\n",
       "  </thead>\n",
       "  <tbody>\n",
       "    <tr>\n",
       "      <th>0</th>\n",
       "      <td>205290</td>\n",
       "      <td>2017-12-31T23:17:00</td>\n",
       "      <td>Snow/Ice removal</td>\n",
       "      <td>Website</td>\n",
       "      <td>1</td>\n",
       "      <td>DPW - Street Maintenance</td>\n",
       "      <td>Marshall-Shadeland</td>\n",
       "      <td>1.0</td>\n",
       "      <td>27.0</td>\n",
       "      <td>42003271500</td>\n",
       "      <td>...</td>\n",
       "      <td>1.99</td>\n",
       "      <td>1514721600</td>\n",
       "      <td>1514696400</td>\n",
       "      <td>1</td>\n",
       "      <td>1514732400</td>\n",
       "      <td>9.09</td>\n",
       "      <td>264</td>\n",
       "      <td>5.32</td>\n",
       "      <td>1514696400</td>\n",
       "      <td>0.57</td>\n",
       "    </tr>\n",
       "    <tr>\n",
       "      <th>1</th>\n",
       "      <td>205289</td>\n",
       "      <td>2017-12-31T22:01:00</td>\n",
       "      <td>Snow/Ice removal</td>\n",
       "      <td>Report2Gov iOS</td>\n",
       "      <td>1</td>\n",
       "      <td>DPW - Street Maintenance</td>\n",
       "      <td>Stanton Heights</td>\n",
       "      <td>9.0</td>\n",
       "      <td>10.0</td>\n",
       "      <td>42003100500</td>\n",
       "      <td>...</td>\n",
       "      <td>1.57</td>\n",
       "      <td>1514721600</td>\n",
       "      <td>1514696400</td>\n",
       "      <td>1</td>\n",
       "      <td>1514732400</td>\n",
       "      <td>9.06</td>\n",
       "      <td>265</td>\n",
       "      <td>5.27</td>\n",
       "      <td>1514696400</td>\n",
       "      <td>0.51</td>\n",
       "    </tr>\n",
       "    <tr>\n",
       "      <th>2</th>\n",
       "      <td>205288</td>\n",
       "      <td>2017-12-31T21:55:00</td>\n",
       "      <td>Snow/Ice removal</td>\n",
       "      <td>Website</td>\n",
       "      <td>1</td>\n",
       "      <td>DPW - Street Maintenance</td>\n",
       "      <td>New Homestead</td>\n",
       "      <td>5.0</td>\n",
       "      <td>31.0</td>\n",
       "      <td>42003310300</td>\n",
       "      <td>...</td>\n",
       "      <td>1.76</td>\n",
       "      <td>1514721600</td>\n",
       "      <td>1514696400</td>\n",
       "      <td>1</td>\n",
       "      <td>1514732400</td>\n",
       "      <td>9.06</td>\n",
       "      <td>257</td>\n",
       "      <td>5.38</td>\n",
       "      <td>1514696400</td>\n",
       "      <td>0.63</td>\n",
       "    </tr>\n",
       "    <tr>\n",
       "      <th>3</th>\n",
       "      <td>205287</td>\n",
       "      <td>2017-12-31T18:23:00</td>\n",
       "      <td>Missed Pick Up</td>\n",
       "      <td>Website</td>\n",
       "      <td>1</td>\n",
       "      <td>DPW - Refuse</td>\n",
       "      <td>Mount Washington</td>\n",
       "      <td>2.0</td>\n",
       "      <td>19.0</td>\n",
       "      <td>42003191400</td>\n",
       "      <td>...</td>\n",
       "      <td>1.50</td>\n",
       "      <td>1514721600</td>\n",
       "      <td>1514696400</td>\n",
       "      <td>1</td>\n",
       "      <td>1514732400</td>\n",
       "      <td>9.09</td>\n",
       "      <td>262</td>\n",
       "      <td>5.35</td>\n",
       "      <td>1514696400</td>\n",
       "      <td>0.55</td>\n",
       "    </tr>\n",
       "    <tr>\n",
       "      <th>4</th>\n",
       "      <td>205286</td>\n",
       "      <td>2017-12-31T17:56:00</td>\n",
       "      <td>Snow/Ice removal</td>\n",
       "      <td>Report2Gov iOS</td>\n",
       "      <td>1</td>\n",
       "      <td>DPW - Street Maintenance</td>\n",
       "      <td>Stanton Heights</td>\n",
       "      <td>9.0</td>\n",
       "      <td>10.0</td>\n",
       "      <td>42003100500</td>\n",
       "      <td>...</td>\n",
       "      <td>1.57</td>\n",
       "      <td>1514721600</td>\n",
       "      <td>1514696400</td>\n",
       "      <td>1</td>\n",
       "      <td>1514732400</td>\n",
       "      <td>9.06</td>\n",
       "      <td>265</td>\n",
       "      <td>5.27</td>\n",
       "      <td>1514696400</td>\n",
       "      <td>0.52</td>\n",
       "    </tr>\n",
       "  </tbody>\n",
       "</table>\n",
       "<p>5 rows × 73 columns</p>\n",
       "</div>"
      ],
      "text/plain": [
       "   REQUEST_ID           CREATED_ON      REQUEST_TYPE  REQUEST_ORIGIN  STATUS  \\\n",
       "0      205290  2017-12-31T23:17:00  Snow/Ice removal         Website       1   \n",
       "1      205289  2017-12-31T22:01:00  Snow/Ice removal  Report2Gov iOS       1   \n",
       "2      205288  2017-12-31T21:55:00  Snow/Ice removal         Website       1   \n",
       "3      205287  2017-12-31T18:23:00    Missed Pick Up         Website       1   \n",
       "4      205286  2017-12-31T17:56:00  Snow/Ice removal  Report2Gov iOS       1   \n",
       "\n",
       "                 DEPARTMENT        NEIGHBORHOOD  COUNCIL_DISTRICT  WARD  \\\n",
       "0  DPW - Street Maintenance  Marshall-Shadeland               1.0  27.0   \n",
       "1  DPW - Street Maintenance     Stanton Heights               9.0  10.0   \n",
       "2  DPW - Street Maintenance       New Homestead               5.0  31.0   \n",
       "3              DPW - Refuse    Mount Washington               2.0  19.0   \n",
       "4  DPW - Street Maintenance     Stanton Heights               9.0  10.0   \n",
       "\n",
       "         TRACT       ...         daily.temperatureMin  \\\n",
       "0  42003271500       ...                         1.99   \n",
       "1  42003100500       ...                         1.57   \n",
       "2  42003310300       ...                         1.76   \n",
       "3  42003191400       ...                         1.50   \n",
       "4  42003100500       ...                         1.57   \n",
       "\n",
       "   daily.temperatureMinTime  daily.time daily.uvIndex  daily.uvIndexTime  \\\n",
       "0                1514721600  1514696400             1         1514732400   \n",
       "1                1514721600  1514696400             1         1514732400   \n",
       "2                1514721600  1514696400             1         1514732400   \n",
       "3                1514721600  1514696400             1         1514732400   \n",
       "4                1514721600  1514696400             1         1514732400   \n",
       "\n",
       "   daily.visibility daily.windBearing  daily.windGust  daily.windGustTime  \\\n",
       "0              9.09               264            5.32          1514696400   \n",
       "1              9.06               265            5.27          1514696400   \n",
       "2              9.06               257            5.38          1514696400   \n",
       "3              9.09               262            5.35          1514696400   \n",
       "4              9.06               265            5.27          1514696400   \n",
       "\n",
       "   daily.windSpeed  \n",
       "0             0.57  \n",
       "1             0.51  \n",
       "2             0.63  \n",
       "3             0.55  \n",
       "4             0.52  \n",
       "\n",
       "[5 rows x 73 columns]"
      ]
     },
     "execution_count": 11,
     "metadata": {},
     "output_type": "execute_result"
    }
   ],
   "source": [
    "df = pd.read_csv(\"311Trimmed.csv\")\n",
    "df.head()"
   ]
  },
  {
   "cell_type": "code",
   "execution_count": 14,
   "metadata": {},
   "outputs": [],
   "source": [
    "df.fillna(0, inplace=True) #fill zero instances of weather\n",
    "df = df.reset_index()"
   ]
  },
  {
   "cell_type": "code",
   "execution_count": 12,
   "metadata": {},
   "outputs": [
    {
     "data": {
      "text/plain": [
       "Index(['REQUEST_ID', 'CREATED_ON', 'REQUEST_TYPE', 'REQUEST_ORIGIN', 'STATUS',\n",
       "       'DEPARTMENT', 'NEIGHBORHOOD', 'COUNCIL_DISTRICT', 'WARD', 'TRACT',\n",
       "       'PUBLIC_WORKS_DIVISION', 'PLI_DIVISION', 'POLICE_ZONE', 'FIRE_ZONE',\n",
       "       'X', 'Y', 'GEO_ACCURACY', 'current.apparentTemperature',\n",
       "       'current.cloudCover', 'current.dewPoint', 'current.humidity',\n",
       "       'current.icon', 'current.precipIntensity', 'current.precipProbability',\n",
       "       'current.precipType', 'current.pressure', 'current.summary',\n",
       "       'current.temperature', 'current.time', 'current.uvIndex',\n",
       "       'current.visibility', 'current.windBearing', 'current.windGust',\n",
       "       'current.windSpeed', 'daily.apparentTemperatureHigh',\n",
       "       'daily.apparentTemperatureHighTime', 'daily.apparentTemperatureLow',\n",
       "       'daily.apparentTemperatureLowTime', 'daily.apparentTemperatureMax',\n",
       "       'daily.apparentTemperatureMaxTime', 'daily.apparentTemperatureMin',\n",
       "       'daily.apparentTemperatureMinTime', 'daily.cloudCover',\n",
       "       'daily.dewPoint', 'daily.humidity', 'daily.icon', 'daily.moonPhase',\n",
       "       'daily.precipAccumulation', 'daily.precipIntensity',\n",
       "       'daily.precipIntensityMax', 'daily.precipIntensityMaxTime',\n",
       "       'daily.precipProbability', 'daily.precipType', 'daily.pressure',\n",
       "       'daily.summary', 'daily.sunriseTime', 'daily.sunsetTime',\n",
       "       'daily.temperatureHigh', 'daily.temperatureHighTime',\n",
       "       'daily.temperatureLow', 'daily.temperatureLowTime',\n",
       "       'daily.temperatureMax', 'daily.temperatureMaxTime',\n",
       "       'daily.temperatureMin', 'daily.temperatureMinTime', 'daily.time',\n",
       "       'daily.uvIndex', 'daily.uvIndexTime', 'daily.visibility',\n",
       "       'daily.windBearing', 'daily.windGust', 'daily.windGustTime',\n",
       "       'daily.windSpeed'],\n",
       "      dtype='object')"
      ]
     },
     "execution_count": 12,
     "metadata": {},
     "output_type": "execute_result"
    }
   ],
   "source": [
    "df.columns"
   ]
  },
  {
   "cell_type": "code",
   "execution_count": 15,
   "metadata": {},
   "outputs": [
    {
     "name": "stderr",
     "output_type": "stream",
     "text": [
      "C:\\dev\\Anaconda3\\lib\\site-packages\\ipykernel_launcher.py:10: SettingWithCopyWarning: \n",
      "A value is trying to be set on a copy of a slice from a DataFrame.\n",
      "Try using .loc[row_indexer,col_indexer] = value instead\n",
      "\n",
      "See the caveats in the documentation: http://pandas.pydata.org/pandas-docs/stable/indexing.html#indexing-view-versus-copy\n",
      "  # Remove the CWD from sys.path while we load stuff.\n"
     ]
    }
   ],
   "source": [
    "# define X and y\n",
    "X = df[['current.apparentTemperature', 'current.cloudCover', 'current.dewPoint', 'current.humidity',\n",
    "       'current.icon', 'current.precipIntensity', 'current.precipProbability',\n",
    "       'current.precipType', 'current.pressure', 'current.summary',\n",
    "       'current.temperature', 'current.uvIndex',\n",
    "       'current.visibility', 'current.windBearing', 'current.windGust',\n",
    "       'current.windSpeed', 'daily.apparentTemperatureHigh',\n",
    "       'daily.apparentTemperatureLow', 'daily.apparentTemperatureMax',\n",
    "       'daily.apparentTemperatureMin', 'daily.cloudCover',\n",
    "       'daily.dewPoint', 'daily.humidity', 'daily.icon', 'daily.moonPhase',\n",
    "       'daily.precipAccumulation', 'daily.precipIntensity', 'daily.precipIntensityMax', \n",
    "       'daily.precipProbability', 'daily.precipType', 'daily.pressure',\n",
    "       'daily.summary', 'daily.temperatureHigh', 'daily.temperatureLow', \n",
    "       'daily.temperatureMax', 'daily.temperatureMin', 'daily.uvIndex', 'daily.visibility',\n",
    "       'daily.windBearing', 'daily.windGust', 'daily.windSpeed']]\n",
    "label_encode(X, X.columns.values)\n",
    "\n",
    "# y = df[['NEIGHBORHOOD']]\n",
    "# y = df['DEPARTMENT']\n",
    "y = df[['REQUEST_TYPE']]  \n",
    "\n",
    "label_encode(y, y.columns.values)\n",
    "# y = y['REQUEST_TYPE']"
   ]
  },
  {
   "cell_type": "code",
   "execution_count": null,
   "metadata": {},
   "outputs": [
    {
     "name": "stderr",
     "output_type": "stream",
     "text": [
      "C:\\dev\\Anaconda3\\lib\\site-packages\\sklearn\\linear_model\\logistic.py:432: FutureWarning: Default solver will be changed to 'lbfgs' in 0.22. Specify a solver to silence this warning.\n",
      "  \"Specify a solver to silence this warning.\",\n",
      "C:\\dev\\Anaconda3\\lib\\site-packages\\sklearn\\utils\\validation.py:752: DataConversionWarning: A column-vector y was passed when a 1d array was expected. Please change the shape of y to (n_samples, ), for example using ravel().\n",
      "  ensure_2d=ensure_2d, allow_nd=allow_nd,\n",
      "C:\\dev\\Anaconda3\\lib\\site-packages\\sklearn\\linear_model\\logistic.py:459: FutureWarning: Default multi_class will be changed to 'auto' in 0.22. Specify the multi_class option to silence this warning.\n",
      "  \" 0.22. Specify the multi_class option to silence \"\n"
     ]
    },
    {
     "name": "stdout",
     "output_type": "stream",
     "text": [
      "Logistic Regression model accuracy score:  0.25063704005707876\n"
     ]
    },
    {
     "name": "stderr",
     "output_type": "stream",
     "text": [
      "C:\\dev\\Anaconda3\\lib\\site-packages\\sklearn\\linear_model\\logistic.py:432: FutureWarning: Default solver will be changed to 'lbfgs' in 0.22. Specify a solver to silence this warning.\n",
      "  \"Specify a solver to silence this warning.\",\n",
      "C:\\dev\\Anaconda3\\lib\\site-packages\\sklearn\\utils\\validation.py:752: DataConversionWarning: A column-vector y was passed when a 1d array was expected. Please change the shape of y to (n_samples, ), for example using ravel().\n",
      "  ensure_2d=ensure_2d, allow_nd=allow_nd,\n",
      "C:\\dev\\Anaconda3\\lib\\site-packages\\sklearn\\linear_model\\logistic.py:459: FutureWarning: Default multi_class will be changed to 'auto' in 0.22. Specify the multi_class option to silence this warning.\n",
      "  \" 0.22. Specify the multi_class option to silence \"\n",
      "C:\\dev\\Anaconda3\\lib\\site-packages\\sklearn\\linear_model\\logistic.py:432: FutureWarning: Default solver will be changed to 'lbfgs' in 0.22. Specify a solver to silence this warning.\n",
      "  \"Specify a solver to silence this warning.\",\n",
      "C:\\dev\\Anaconda3\\lib\\site-packages\\sklearn\\utils\\validation.py:752: DataConversionWarning: A column-vector y was passed when a 1d array was expected. Please change the shape of y to (n_samples, ), for example using ravel().\n",
      "  ensure_2d=ensure_2d, allow_nd=allow_nd,\n",
      "C:\\dev\\Anaconda3\\lib\\site-packages\\sklearn\\linear_model\\logistic.py:459: FutureWarning: Default multi_class will be changed to 'auto' in 0.22. Specify the multi_class option to silence this warning.\n",
      "  \" 0.22. Specify the multi_class option to silence \"\n",
      "C:\\dev\\Anaconda3\\lib\\site-packages\\sklearn\\linear_model\\logistic.py:432: FutureWarning: Default solver will be changed to 'lbfgs' in 0.22. Specify a solver to silence this warning.\n",
      "  \"Specify a solver to silence this warning.\",\n",
      "C:\\dev\\Anaconda3\\lib\\site-packages\\sklearn\\utils\\validation.py:752: DataConversionWarning: A column-vector y was passed when a 1d array was expected. Please change the shape of y to (n_samples, ), for example using ravel().\n",
      "  ensure_2d=ensure_2d, allow_nd=allow_nd,\n",
      "C:\\dev\\Anaconda3\\lib\\site-packages\\sklearn\\linear_model\\logistic.py:459: FutureWarning: Default multi_class will be changed to 'auto' in 0.22. Specify the multi_class option to silence this warning.\n",
      "  \" 0.22. Specify the multi_class option to silence \"\n"
     ]
    }
   ],
   "source": [
    "#classify(X, y, classifier='nb', kfolds=10, report=False, features_select=3)\n",
    "# classify(X, y, classifier='svm', kern='rbf', kfolds=10, report=False, features_select=3)\n",
    "#X_pca = decompose(X)\n",
    "#classify(X_pca, y, classifier='svm', kern='rbf', kfolds=10, report=False, features_select=3)\n",
    "#print(X_pca.shape)\n",
    "# classify(X, y, classifier='svm', kern='linear', kfolds=10, report=True)\n",
    "# classify(X, y, classifier='svm', kern='poly', kfolds=10, report=True)\n",
    "# classify(X, y, classifier='knn', neighbors=3, kfolds=10)\n",
    "# classify(X, y, classifier='knn', neighbors=5, kfolds=10)\n",
    "# classify(X, y, classifier='knn', neighbors=7)\n",
    "# classify(X, y, classifier='rf', neighbors=1000, kfolds=10)\n",
    "# classify(X, y, classifier='rf', neighbors=2000)\n",
    "# classify(X, y, classifier='dtree', kfolds=10)\n",
    "classify(X, y, classifier='logisticregression', kfolds=10)"
   ]
  },
  {
   "cell_type": "code",
   "execution_count": null,
   "metadata": {},
   "outputs": [],
   "source": [
    "classify(X, y, classifier='nb', kfolds=10, report=False, features_select=3)"
   ]
  },
  {
   "cell_type": "code",
   "execution_count": null,
   "metadata": {},
   "outputs": [],
   "source": [
    "classify(X, y, classifier='dtree', kfolds=10)"
   ]
  },
  {
   "cell_type": "code",
   "execution_count": null,
   "metadata": {},
   "outputs": [],
   "source": [
    "classify(X, y, classifier='rf', neighbors=2000)"
   ]
  },
  {
   "cell_type": "code",
   "execution_count": null,
   "metadata": {},
   "outputs": [],
   "source": [
    "classify(X, y, classifier='rf', neighbors=1000, kfolds=10)"
   ]
  },
  {
   "cell_type": "code",
   "execution_count": null,
   "metadata": {},
   "outputs": [],
   "source": [
    "classify(X, y, classifier='knn', neighbors=7)"
   ]
  },
  {
   "cell_type": "code",
   "execution_count": null,
   "metadata": {},
   "outputs": [],
   "source": [
    "classify(X, y, classifier='knn', neighbors=5, kfolds=10)"
   ]
  },
  {
   "cell_type": "code",
   "execution_count": null,
   "metadata": {},
   "outputs": [],
   "source": [
    "classify(X, y, classifier='knn', neighbors=3, kfolds=10)"
   ]
  },
  {
   "cell_type": "code",
   "execution_count": null,
   "metadata": {},
   "outputs": [],
   "source": [
    "# classify(X, y, classifier='svm', kern='poly', kfolds=10, report=True)\n",
    "# classify(X, y, classifier='svm', kern='linear', kfolds=10, report=True)"
   ]
  },
  {
   "cell_type": "code",
   "execution_count": null,
   "metadata": {},
   "outputs": [],
   "source": [
    "classify(X, y, classifier='svm', kern='rbf', kfolds=10, report=False, features_select=3)"
   ]
  },
  {
   "cell_type": "code",
   "execution_count": null,
   "metadata": {},
   "outputs": [],
   "source": [
    "X_pca = decompose(X)\n",
    "classify(X_pca, y, classifier='svm', kern='rbf', kfolds=10, report=False, features_select=3)\n",
    "print(X_pca.shape)"
   ]
  }
 ],
 "metadata": {
  "kernelspec": {
   "display_name": "Python 3",
   "language": "python",
   "name": "python3"
  },
  "language_info": {
   "codemirror_mode": {
    "name": "ipython",
    "version": 3
   },
   "file_extension": ".py",
   "mimetype": "text/x-python",
   "name": "python",
   "nbconvert_exporter": "python",
   "pygments_lexer": "ipython3",
   "version": "3.7.1"
  }
 },
 "nbformat": 4,
 "nbformat_minor": 2
}
