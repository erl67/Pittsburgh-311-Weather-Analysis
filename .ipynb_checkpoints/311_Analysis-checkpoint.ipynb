{
 "cells": [
  {
   "cell_type": "markdown",
   "metadata": {},
   "source": [
    "This program will read a csv file of 311 data to a dataframe.\n",
    "The dataframe will be cleaned as such: Remove all data other than the year 2017\n",
    "\n",
    "The results will be stored to a new csv file."
   ]
  },
  {
   "cell_type": "code",
   "execution_count": 1,
   "metadata": {},
   "outputs": [],
   "source": [
    "import pandas as pd\n",
    "import numpy as np\n",
    "import datetime as datetime\n",
    "import time\n",
    "%matplotlib inline"
   ]
  },
  {
   "cell_type": "code",
   "execution_count": 2,
   "metadata": {},
   "outputs": [],
   "source": [
    "# df311 = pd.read_csv('311cleaned.csv')\n",
    "# dfwx = pd.read_csv('311weather.csv')\n",
    "# df = pd.merge(df311, dfwx,  left_on='REQUEST_ID', right_on='REQUEST_ID', how='left')  \n",
    "# saved merged data to 311Master.csv to save time loading\n",
    "df = pd.read_csv('311Trimmed.csv')"
   ]
  },
  {
   "cell_type": "code",
   "execution_count": 3,
   "metadata": {},
   "outputs": [
    {
     "data": {
      "text/html": [
       "<div>\n",
       "<style scoped>\n",
       "    .dataframe tbody tr th:only-of-type {\n",
       "        vertical-align: middle;\n",
       "    }\n",
       "\n",
       "    .dataframe tbody tr th {\n",
       "        vertical-align: top;\n",
       "    }\n",
       "\n",
       "    .dataframe thead th {\n",
       "        text-align: right;\n",
       "    }\n",
       "</style>\n",
       "<table border=\"1\" class=\"dataframe\">\n",
       "  <thead>\n",
       "    <tr style=\"text-align: right;\">\n",
       "      <th></th>\n",
       "      <th>REQUEST_ID</th>\n",
       "      <th>STATUS</th>\n",
       "      <th>COUNCIL_DISTRICT</th>\n",
       "      <th>WARD</th>\n",
       "      <th>TRACT</th>\n",
       "      <th>PUBLIC_WORKS_DIVISION</th>\n",
       "      <th>PLI_DIVISION</th>\n",
       "      <th>POLICE_ZONE</th>\n",
       "      <th>X</th>\n",
       "      <th>Y</th>\n",
       "      <th>...</th>\n",
       "      <th>daily.temperatureMin</th>\n",
       "      <th>daily.temperatureMinTime</th>\n",
       "      <th>daily.time</th>\n",
       "      <th>daily.uvIndex</th>\n",
       "      <th>daily.uvIndexTime</th>\n",
       "      <th>daily.visibility</th>\n",
       "      <th>daily.windBearing</th>\n",
       "      <th>daily.windGust</th>\n",
       "      <th>daily.windGustTime</th>\n",
       "      <th>daily.windSpeed</th>\n",
       "    </tr>\n",
       "  </thead>\n",
       "  <tbody>\n",
       "    <tr>\n",
       "      <th>count</th>\n",
       "      <td>52194.000000</td>\n",
       "      <td>52194.000000</td>\n",
       "      <td>49446.000000</td>\n",
       "      <td>49401.000000</td>\n",
       "      <td>4.948800e+04</td>\n",
       "      <td>49405.000000</td>\n",
       "      <td>49401.000000</td>\n",
       "      <td>49377.000000</td>\n",
       "      <td>49824.000000</td>\n",
       "      <td>49824.000000</td>\n",
       "      <td>...</td>\n",
       "      <td>49488.000000</td>\n",
       "      <td>4.948800e+04</td>\n",
       "      <td>4.948800e+04</td>\n",
       "      <td>49488.000000</td>\n",
       "      <td>4.948800e+04</td>\n",
       "      <td>49488.000000</td>\n",
       "      <td>49488.000000</td>\n",
       "      <td>49488.000000</td>\n",
       "      <td>4.948800e+04</td>\n",
       "      <td>49488.000000</td>\n",
       "    </tr>\n",
       "    <tr>\n",
       "      <th>mean</th>\n",
       "      <td>163496.286891</td>\n",
       "      <td>1.199487</td>\n",
       "      <td>4.900821</td>\n",
       "      <td>16.605878</td>\n",
       "      <td>4.200323e+10</td>\n",
       "      <td>3.023722</td>\n",
       "      <td>16.605878</td>\n",
       "      <td>3.592482</td>\n",
       "      <td>-79.433124</td>\n",
       "      <td>40.167845</td>\n",
       "      <td>...</td>\n",
       "      <td>48.252171</td>\n",
       "      <td>1.498006e+09</td>\n",
       "      <td>1.497969e+09</td>\n",
       "      <td>5.264205</td>\n",
       "      <td>1.498013e+09</td>\n",
       "      <td>9.371101</td>\n",
       "      <td>216.096832</td>\n",
       "      <td>9.270438</td>\n",
       "      <td>1.498018e+09</td>\n",
       "      <td>1.533801</td>\n",
       "    </tr>\n",
       "    <tr>\n",
       "      <th>std</th>\n",
       "      <td>23598.968639</td>\n",
       "      <td>0.695392</td>\n",
       "      <td>2.585818</td>\n",
       "      <td>7.946364</td>\n",
       "      <td>1.812058e+05</td>\n",
       "      <td>1.437327</td>\n",
       "      <td>7.946364</td>\n",
       "      <td>1.606123</td>\n",
       "      <td>6.545400</td>\n",
       "      <td>3.309922</td>\n",
       "      <td>...</td>\n",
       "      <td>15.393227</td>\n",
       "      <td>8.196202e+06</td>\n",
       "      <td>8.196692e+06</td>\n",
       "      <td>2.415348</td>\n",
       "      <td>8.196433e+06</td>\n",
       "      <td>0.871377</td>\n",
       "      <td>73.609941</td>\n",
       "      <td>4.521697</td>\n",
       "      <td>8.198075e+06</td>\n",
       "      <td>1.162261</td>\n",
       "    </tr>\n",
       "    <tr>\n",
       "      <th>min</th>\n",
       "      <td>123272.000000</td>\n",
       "      <td>0.000000</td>\n",
       "      <td>1.000000</td>\n",
       "      <td>0.000000</td>\n",
       "      <td>4.200301e+10</td>\n",
       "      <td>0.000000</td>\n",
       "      <td>0.000000</td>\n",
       "      <td>1.000000</td>\n",
       "      <td>-80.088105</td>\n",
       "      <td>0.000000</td>\n",
       "      <td>...</td>\n",
       "      <td>1.200000</td>\n",
       "      <td>1.483276e+09</td>\n",
       "      <td>1.483247e+09</td>\n",
       "      <td>1.000000</td>\n",
       "      <td>1.483290e+09</td>\n",
       "      <td>3.780000</td>\n",
       "      <td>0.000000</td>\n",
       "      <td>1.460000</td>\n",
       "      <td>1.483247e+09</td>\n",
       "      <td>0.020000</td>\n",
       "    </tr>\n",
       "    <tr>\n",
       "      <th>25%</th>\n",
       "      <td>143064.750000</td>\n",
       "      <td>1.000000</td>\n",
       "      <td>3.000000</td>\n",
       "      <td>11.000000</td>\n",
       "      <td>4.200311e+10</td>\n",
       "      <td>2.000000</td>\n",
       "      <td>11.000000</td>\n",
       "      <td>2.000000</td>\n",
       "      <td>-80.007463</td>\n",
       "      <td>40.420463</td>\n",
       "      <td>...</td>\n",
       "      <td>37.190000</td>\n",
       "      <td>1.491390e+09</td>\n",
       "      <td>1.491365e+09</td>\n",
       "      <td>3.000000</td>\n",
       "      <td>1.491412e+09</td>\n",
       "      <td>9.040000</td>\n",
       "      <td>188.000000</td>\n",
       "      <td>5.720000</td>\n",
       "      <td>1.491437e+09</td>\n",
       "      <td>0.710000</td>\n",
       "    </tr>\n",
       "    <tr>\n",
       "      <th>50%</th>\n",
       "      <td>163452.000000</td>\n",
       "      <td>1.000000</td>\n",
       "      <td>5.000000</td>\n",
       "      <td>16.000000</td>\n",
       "      <td>4.200318e+10</td>\n",
       "      <td>3.000000</td>\n",
       "      <td>16.000000</td>\n",
       "      <td>4.000000</td>\n",
       "      <td>-79.977171</td>\n",
       "      <td>40.445256</td>\n",
       "      <td>...</td>\n",
       "      <td>51.230000</td>\n",
       "      <td>1.497953e+09</td>\n",
       "      <td>1.497931e+09</td>\n",
       "      <td>5.000000</td>\n",
       "      <td>1.497974e+09</td>\n",
       "      <td>9.750000</td>\n",
       "      <td>224.000000</td>\n",
       "      <td>8.790000</td>\n",
       "      <td>1.497989e+09</td>\n",
       "      <td>1.310000</td>\n",
       "    </tr>\n",
       "    <tr>\n",
       "      <th>75%</th>\n",
       "      <td>183528.750000</td>\n",
       "      <td>1.000000</td>\n",
       "      <td>7.000000</td>\n",
       "      <td>22.000000</td>\n",
       "      <td>4.200329e+10</td>\n",
       "      <td>5.000000</td>\n",
       "      <td>22.000000</td>\n",
       "      <td>5.000000</td>\n",
       "      <td>-79.934268</td>\n",
       "      <td>40.462229</td>\n",
       "      <td>...</td>\n",
       "      <td>60.910000</td>\n",
       "      <td>1.504091e+09</td>\n",
       "      <td>1.504066e+09</td>\n",
       "      <td>7.000000</td>\n",
       "      <td>1.504109e+09</td>\n",
       "      <td>10.000000</td>\n",
       "      <td>267.000000</td>\n",
       "      <td>11.620000</td>\n",
       "      <td>1.504112e+09</td>\n",
       "      <td>2.110000</td>\n",
       "    </tr>\n",
       "    <tr>\n",
       "      <th>max</th>\n",
       "      <td>205290.000000</td>\n",
       "      <td>3.000000</td>\n",
       "      <td>9.000000</td>\n",
       "      <td>32.000000</td>\n",
       "      <td>4.200398e+10</td>\n",
       "      <td>6.000000</td>\n",
       "      <td>32.000000</td>\n",
       "      <td>6.000000</td>\n",
       "      <td>0.000000</td>\n",
       "      <td>40.520177</td>\n",
       "      <td>...</td>\n",
       "      <td>73.950000</td>\n",
       "      <td>1.514722e+09</td>\n",
       "      <td>1.514696e+09</td>\n",
       "      <td>10.000000</td>\n",
       "      <td>1.514732e+09</td>\n",
       "      <td>10.000000</td>\n",
       "      <td>359.000000</td>\n",
       "      <td>26.100000</td>\n",
       "      <td>1.514696e+09</td>\n",
       "      <td>6.150000</td>\n",
       "    </tr>\n",
       "  </tbody>\n",
       "</table>\n",
       "<p>8 rows × 60 columns</p>\n",
       "</div>"
      ],
      "text/plain": [
       "          REQUEST_ID        STATUS  COUNCIL_DISTRICT          WARD  \\\n",
       "count   52194.000000  52194.000000      49446.000000  49401.000000   \n",
       "mean   163496.286891      1.199487          4.900821     16.605878   \n",
       "std     23598.968639      0.695392          2.585818      7.946364   \n",
       "min    123272.000000      0.000000          1.000000      0.000000   \n",
       "25%    143064.750000      1.000000          3.000000     11.000000   \n",
       "50%    163452.000000      1.000000          5.000000     16.000000   \n",
       "75%    183528.750000      1.000000          7.000000     22.000000   \n",
       "max    205290.000000      3.000000          9.000000     32.000000   \n",
       "\n",
       "              TRACT  PUBLIC_WORKS_DIVISION  PLI_DIVISION   POLICE_ZONE  \\\n",
       "count  4.948800e+04           49405.000000  49401.000000  49377.000000   \n",
       "mean   4.200323e+10               3.023722     16.605878      3.592482   \n",
       "std    1.812058e+05               1.437327      7.946364      1.606123   \n",
       "min    4.200301e+10               0.000000      0.000000      1.000000   \n",
       "25%    4.200311e+10               2.000000     11.000000      2.000000   \n",
       "50%    4.200318e+10               3.000000     16.000000      4.000000   \n",
       "75%    4.200329e+10               5.000000     22.000000      5.000000   \n",
       "max    4.200398e+10               6.000000     32.000000      6.000000   \n",
       "\n",
       "                  X             Y       ...         daily.temperatureMin  \\\n",
       "count  49824.000000  49824.000000       ...                 49488.000000   \n",
       "mean     -79.433124     40.167845       ...                    48.252171   \n",
       "std        6.545400      3.309922       ...                    15.393227   \n",
       "min      -80.088105      0.000000       ...                     1.200000   \n",
       "25%      -80.007463     40.420463       ...                    37.190000   \n",
       "50%      -79.977171     40.445256       ...                    51.230000   \n",
       "75%      -79.934268     40.462229       ...                    60.910000   \n",
       "max        0.000000     40.520177       ...                    73.950000   \n",
       "\n",
       "       daily.temperatureMinTime    daily.time  daily.uvIndex  \\\n",
       "count              4.948800e+04  4.948800e+04   49488.000000   \n",
       "mean               1.498006e+09  1.497969e+09       5.264205   \n",
       "std                8.196202e+06  8.196692e+06       2.415348   \n",
       "min                1.483276e+09  1.483247e+09       1.000000   \n",
       "25%                1.491390e+09  1.491365e+09       3.000000   \n",
       "50%                1.497953e+09  1.497931e+09       5.000000   \n",
       "75%                1.504091e+09  1.504066e+09       7.000000   \n",
       "max                1.514722e+09  1.514696e+09      10.000000   \n",
       "\n",
       "       daily.uvIndexTime  daily.visibility  daily.windBearing  daily.windGust  \\\n",
       "count       4.948800e+04      49488.000000       49488.000000    49488.000000   \n",
       "mean        1.498013e+09          9.371101         216.096832        9.270438   \n",
       "std         8.196433e+06          0.871377          73.609941        4.521697   \n",
       "min         1.483290e+09          3.780000           0.000000        1.460000   \n",
       "25%         1.491412e+09          9.040000         188.000000        5.720000   \n",
       "50%         1.497974e+09          9.750000         224.000000        8.790000   \n",
       "75%         1.504109e+09         10.000000         267.000000       11.620000   \n",
       "max         1.514732e+09         10.000000         359.000000       26.100000   \n",
       "\n",
       "       daily.windGustTime  daily.windSpeed  \n",
       "count        4.948800e+04     49488.000000  \n",
       "mean         1.498018e+09         1.533801  \n",
       "std          8.198075e+06         1.162261  \n",
       "min          1.483247e+09         0.020000  \n",
       "25%          1.491437e+09         0.710000  \n",
       "50%          1.497989e+09         1.310000  \n",
       "75%          1.504112e+09         2.110000  \n",
       "max          1.514696e+09         6.150000  \n",
       "\n",
       "[8 rows x 60 columns]"
      ]
     },
     "execution_count": 3,
     "metadata": {},
     "output_type": "execute_result"
    }
   ],
   "source": [
    "df.describe()"
   ]
  },
  {
   "cell_type": "code",
   "execution_count": 4,
   "metadata": {},
   "outputs": [
    {
     "data": {
      "text/html": [
       "<div>\n",
       "<style scoped>\n",
       "    .dataframe tbody tr th:only-of-type {\n",
       "        vertical-align: middle;\n",
       "    }\n",
       "\n",
       "    .dataframe tbody tr th {\n",
       "        vertical-align: top;\n",
       "    }\n",
       "\n",
       "    .dataframe thead th {\n",
       "        text-align: right;\n",
       "    }\n",
       "</style>\n",
       "<table border=\"1\" class=\"dataframe\">\n",
       "  <thead>\n",
       "    <tr style=\"text-align: right;\">\n",
       "      <th></th>\n",
       "      <th>REQUEST_ID</th>\n",
       "      <th>CREATED_ON</th>\n",
       "      <th>REQUEST_TYPE</th>\n",
       "      <th>REQUEST_ORIGIN</th>\n",
       "      <th>STATUS</th>\n",
       "      <th>DEPARTMENT</th>\n",
       "      <th>NEIGHBORHOOD</th>\n",
       "      <th>COUNCIL_DISTRICT</th>\n",
       "      <th>WARD</th>\n",
       "      <th>TRACT</th>\n",
       "      <th>...</th>\n",
       "      <th>daily.temperatureMin</th>\n",
       "      <th>daily.temperatureMinTime</th>\n",
       "      <th>daily.time</th>\n",
       "      <th>daily.uvIndex</th>\n",
       "      <th>daily.uvIndexTime</th>\n",
       "      <th>daily.visibility</th>\n",
       "      <th>daily.windBearing</th>\n",
       "      <th>daily.windGust</th>\n",
       "      <th>daily.windGustTime</th>\n",
       "      <th>daily.windSpeed</th>\n",
       "    </tr>\n",
       "  </thead>\n",
       "  <tbody>\n",
       "    <tr>\n",
       "      <th>0</th>\n",
       "      <td>205290</td>\n",
       "      <td>2017-12-31T23:17:00</td>\n",
       "      <td>Snow/Ice removal</td>\n",
       "      <td>Website</td>\n",
       "      <td>1</td>\n",
       "      <td>DPW - Street Maintenance</td>\n",
       "      <td>Marshall-Shadeland</td>\n",
       "      <td>1.0</td>\n",
       "      <td>27.0</td>\n",
       "      <td>4.200327e+10</td>\n",
       "      <td>...</td>\n",
       "      <td>1.99</td>\n",
       "      <td>1.514722e+09</td>\n",
       "      <td>1.514696e+09</td>\n",
       "      <td>1.0</td>\n",
       "      <td>1.514732e+09</td>\n",
       "      <td>9.09</td>\n",
       "      <td>264.0</td>\n",
       "      <td>5.32</td>\n",
       "      <td>1.514696e+09</td>\n",
       "      <td>0.57</td>\n",
       "    </tr>\n",
       "    <tr>\n",
       "      <th>1</th>\n",
       "      <td>205289</td>\n",
       "      <td>2017-12-31T22:01:00</td>\n",
       "      <td>Snow/Ice removal</td>\n",
       "      <td>Report2Gov iOS</td>\n",
       "      <td>1</td>\n",
       "      <td>DPW - Street Maintenance</td>\n",
       "      <td>Stanton Heights</td>\n",
       "      <td>9.0</td>\n",
       "      <td>10.0</td>\n",
       "      <td>4.200310e+10</td>\n",
       "      <td>...</td>\n",
       "      <td>1.57</td>\n",
       "      <td>1.514722e+09</td>\n",
       "      <td>1.514696e+09</td>\n",
       "      <td>1.0</td>\n",
       "      <td>1.514732e+09</td>\n",
       "      <td>9.06</td>\n",
       "      <td>265.0</td>\n",
       "      <td>5.27</td>\n",
       "      <td>1.514696e+09</td>\n",
       "      <td>0.51</td>\n",
       "    </tr>\n",
       "    <tr>\n",
       "      <th>2</th>\n",
       "      <td>205288</td>\n",
       "      <td>2017-12-31T21:55:00</td>\n",
       "      <td>Snow/Ice removal</td>\n",
       "      <td>Website</td>\n",
       "      <td>1</td>\n",
       "      <td>DPW - Street Maintenance</td>\n",
       "      <td>New Homestead</td>\n",
       "      <td>5.0</td>\n",
       "      <td>31.0</td>\n",
       "      <td>4.200331e+10</td>\n",
       "      <td>...</td>\n",
       "      <td>1.76</td>\n",
       "      <td>1.514722e+09</td>\n",
       "      <td>1.514696e+09</td>\n",
       "      <td>1.0</td>\n",
       "      <td>1.514732e+09</td>\n",
       "      <td>9.06</td>\n",
       "      <td>257.0</td>\n",
       "      <td>5.38</td>\n",
       "      <td>1.514696e+09</td>\n",
       "      <td>0.63</td>\n",
       "    </tr>\n",
       "    <tr>\n",
       "      <th>3</th>\n",
       "      <td>205287</td>\n",
       "      <td>2017-12-31T18:23:00</td>\n",
       "      <td>Missed Pick Up</td>\n",
       "      <td>Website</td>\n",
       "      <td>1</td>\n",
       "      <td>DPW - Refuse</td>\n",
       "      <td>Mount Washington</td>\n",
       "      <td>2.0</td>\n",
       "      <td>19.0</td>\n",
       "      <td>4.200319e+10</td>\n",
       "      <td>...</td>\n",
       "      <td>1.50</td>\n",
       "      <td>1.514722e+09</td>\n",
       "      <td>1.514696e+09</td>\n",
       "      <td>1.0</td>\n",
       "      <td>1.514732e+09</td>\n",
       "      <td>9.09</td>\n",
       "      <td>262.0</td>\n",
       "      <td>5.35</td>\n",
       "      <td>1.514696e+09</td>\n",
       "      <td>0.55</td>\n",
       "    </tr>\n",
       "    <tr>\n",
       "      <th>4</th>\n",
       "      <td>205286</td>\n",
       "      <td>2017-12-31T17:56:00</td>\n",
       "      <td>Snow/Ice removal</td>\n",
       "      <td>Report2Gov iOS</td>\n",
       "      <td>1</td>\n",
       "      <td>DPW - Street Maintenance</td>\n",
       "      <td>Stanton Heights</td>\n",
       "      <td>9.0</td>\n",
       "      <td>10.0</td>\n",
       "      <td>4.200310e+10</td>\n",
       "      <td>...</td>\n",
       "      <td>1.57</td>\n",
       "      <td>1.514722e+09</td>\n",
       "      <td>1.514696e+09</td>\n",
       "      <td>1.0</td>\n",
       "      <td>1.514732e+09</td>\n",
       "      <td>9.06</td>\n",
       "      <td>265.0</td>\n",
       "      <td>5.27</td>\n",
       "      <td>1.514696e+09</td>\n",
       "      <td>0.52</td>\n",
       "    </tr>\n",
       "  </tbody>\n",
       "</table>\n",
       "<p>5 rows × 73 columns</p>\n",
       "</div>"
      ],
      "text/plain": [
       "   REQUEST_ID           CREATED_ON      REQUEST_TYPE  REQUEST_ORIGIN  STATUS  \\\n",
       "0      205290  2017-12-31T23:17:00  Snow/Ice removal         Website       1   \n",
       "1      205289  2017-12-31T22:01:00  Snow/Ice removal  Report2Gov iOS       1   \n",
       "2      205288  2017-12-31T21:55:00  Snow/Ice removal         Website       1   \n",
       "3      205287  2017-12-31T18:23:00    Missed Pick Up         Website       1   \n",
       "4      205286  2017-12-31T17:56:00  Snow/Ice removal  Report2Gov iOS       1   \n",
       "\n",
       "                 DEPARTMENT        NEIGHBORHOOD  COUNCIL_DISTRICT  WARD  \\\n",
       "0  DPW - Street Maintenance  Marshall-Shadeland               1.0  27.0   \n",
       "1  DPW - Street Maintenance     Stanton Heights               9.0  10.0   \n",
       "2  DPW - Street Maintenance       New Homestead               5.0  31.0   \n",
       "3              DPW - Refuse    Mount Washington               2.0  19.0   \n",
       "4  DPW - Street Maintenance     Stanton Heights               9.0  10.0   \n",
       "\n",
       "          TRACT       ...         daily.temperatureMin  \\\n",
       "0  4.200327e+10       ...                         1.99   \n",
       "1  4.200310e+10       ...                         1.57   \n",
       "2  4.200331e+10       ...                         1.76   \n",
       "3  4.200319e+10       ...                         1.50   \n",
       "4  4.200310e+10       ...                         1.57   \n",
       "\n",
       "   daily.temperatureMinTime    daily.time daily.uvIndex  daily.uvIndexTime  \\\n",
       "0              1.514722e+09  1.514696e+09           1.0       1.514732e+09   \n",
       "1              1.514722e+09  1.514696e+09           1.0       1.514732e+09   \n",
       "2              1.514722e+09  1.514696e+09           1.0       1.514732e+09   \n",
       "3              1.514722e+09  1.514696e+09           1.0       1.514732e+09   \n",
       "4              1.514722e+09  1.514696e+09           1.0       1.514732e+09   \n",
       "\n",
       "   daily.visibility daily.windBearing  daily.windGust  daily.windGustTime  \\\n",
       "0              9.09             264.0            5.32        1.514696e+09   \n",
       "1              9.06             265.0            5.27        1.514696e+09   \n",
       "2              9.06             257.0            5.38        1.514696e+09   \n",
       "3              9.09             262.0            5.35        1.514696e+09   \n",
       "4              9.06             265.0            5.27        1.514696e+09   \n",
       "\n",
       "   daily.windSpeed  \n",
       "0             0.57  \n",
       "1             0.51  \n",
       "2             0.63  \n",
       "3             0.55  \n",
       "4             0.52  \n",
       "\n",
       "[5 rows x 73 columns]"
      ]
     },
     "execution_count": 4,
     "metadata": {},
     "output_type": "execute_result"
    }
   ],
   "source": [
    "df.head()"
   ]
  },
  {
   "cell_type": "code",
   "execution_count": 5,
   "metadata": {},
   "outputs": [
    {
     "data": {
      "text/plain": [
       "Index(['REQUEST_ID', 'CREATED_ON', 'REQUEST_TYPE', 'REQUEST_ORIGIN', 'STATUS',\n",
       "       'DEPARTMENT', 'NEIGHBORHOOD', 'COUNCIL_DISTRICT', 'WARD', 'TRACT',\n",
       "       'PUBLIC_WORKS_DIVISION', 'PLI_DIVISION', 'POLICE_ZONE', 'FIRE_ZONE',\n",
       "       'X', 'Y', 'GEO_ACCURACY', 'current.apparentTemperature',\n",
       "       'current.cloudCover', 'current.dewPoint', 'current.humidity',\n",
       "       'current.icon', 'current.precipIntensity', 'current.precipProbability',\n",
       "       'current.precipType', 'current.pressure', 'current.summary',\n",
       "       'current.temperature', 'current.time', 'current.uvIndex',\n",
       "       'current.visibility', 'current.windBearing', 'current.windGust',\n",
       "       'current.windSpeed', 'daily.apparentTemperatureHigh',\n",
       "       'daily.apparentTemperatureHighTime', 'daily.apparentTemperatureLow',\n",
       "       'daily.apparentTemperatureLowTime', 'daily.apparentTemperatureMax',\n",
       "       'daily.apparentTemperatureMaxTime', 'daily.apparentTemperatureMin',\n",
       "       'daily.apparentTemperatureMinTime', 'daily.cloudCover',\n",
       "       'daily.dewPoint', 'daily.humidity', 'daily.icon', 'daily.moonPhase',\n",
       "       'daily.precipAccumulation', 'daily.precipIntensity',\n",
       "       'daily.precipIntensityMax', 'daily.precipIntensityMaxTime',\n",
       "       'daily.precipProbability', 'daily.precipType', 'daily.pressure',\n",
       "       'daily.summary', 'daily.sunriseTime', 'daily.sunsetTime',\n",
       "       'daily.temperatureHigh', 'daily.temperatureHighTime',\n",
       "       'daily.temperatureLow', 'daily.temperatureLowTime',\n",
       "       'daily.temperatureMax', 'daily.temperatureMaxTime',\n",
       "       'daily.temperatureMin', 'daily.temperatureMinTime', 'daily.time',\n",
       "       'daily.uvIndex', 'daily.uvIndexTime', 'daily.visibility',\n",
       "       'daily.windBearing', 'daily.windGust', 'daily.windGustTime',\n",
       "       'daily.windSpeed'],\n",
       "      dtype='object')"
      ]
     },
     "execution_count": 5,
     "metadata": {},
     "output_type": "execute_result"
    }
   ],
   "source": [
    "df.columns"
   ]
  },
  {
   "cell_type": "code",
   "execution_count": 6,
   "metadata": {},
   "outputs": [
    {
     "data": {
      "text/plain": [
       "Potholes                                8787\n",
       "Weeds/Debris                            7933\n",
       "Building Maintenance                    4068\n",
       "Abandoned Vehicle (parked on street)    2633\n",
       "Litter                                  1916\n",
       "Refuse Violations                       1839\n",
       "Illegal Parking                         1784\n",
       "Missed Pick Up                          1735\n",
       "Referral                                1565\n",
       "Replace/Repair a Sign                   1554\n",
       "City Source (CDBG)                      1500\n",
       "Street Light - Repair                   1458\n",
       "Building Without a Permit               1442\n",
       "Vacant Building                         1264\n",
       "Paving Request                          1260\n",
       "Overgrowth                              1211\n",
       "Snow/Ice removal                        1050\n",
       "Pruning (city tree)                     1032\n",
       "Rodent control                           985\n",
       "Question                                 918\n",
       "Need Potable Water                       857\n",
       "Fire Safety System Not Working           821\n",
       "Dead Animal                              797\n",
       "Request New Sign                         785\n",
       "Illegal Dumping                          785\n",
       "Leak                                     744\n",
       "Traffic                                  739\n",
       "Catch Basin, Clogged                     732\n",
       "Name: REQUEST_TYPE, dtype: int64"
      ]
     },
     "execution_count": 6,
     "metadata": {},
     "output_type": "execute_result"
    }
   ],
   "source": [
    "df['REQUEST_TYPE'].value_counts(sort=True, ascending=False, dropna=False) "
   ]
  },
  {
   "cell_type": "code",
   "execution_count": 7,
   "metadata": {},
   "outputs": [
    {
     "data": {
      "text/plain": [
       "<matplotlib.axes._subplots.AxesSubplot at 0x22aaa4682b0>"
      ]
     },
     "execution_count": 7,
     "metadata": {},
     "output_type": "execute_result"
    },
    {
     "data": {
      "image/png": "[encoded data removed]",
      "text/plain": [
       "<Figure size 432x288 with 1 Axes>"
      ]
     },
     "metadata": {
      "needs_background": "light"
     },
     "output_type": "display_data"
    }
   ],
   "source": [
    "df['REQUEST_TYPE'].value_counts(sort=True, ascending=False, dropna=False).hist(bins=50)"
   ]
  },
  {
   "cell_type": "code",
   "execution_count": 8,
   "metadata": {},
   "outputs": [],
   "source": [
    "\n"
   ]
  },
  {
   "cell_type": "code",
   "execution_count": 33,
   "metadata": {
    "scrolled": true
   },
   "outputs": [
    {
     "data": {
      "text/plain": [
       "Potholes                                8787\n",
       "Weeds/Debris                            7933\n",
       "Building Maintenance                    4068\n",
       "Abandoned Vehicle (parked on street)    2633\n",
       "Litter                                  1916\n",
       "Refuse Violations                       1839\n",
       "Illegal Parking                         1784\n",
       "Missed Pick Up                          1735\n",
       "Referral                                1565\n",
       "Replace/Repair a Sign                   1554\n",
       "City Source (CDBG)                      1500\n",
       "Street Light - Repair                   1458\n",
       "Building Without a Permit               1442\n",
       "Vacant Building                         1264\n",
       "Paving Request                          1260\n",
       "Overgrowth                              1211\n",
       "Snow/Ice removal                        1050\n",
       "Pruning (city tree)                     1032\n",
       "Rodent control                           985\n",
       "Question                                 918\n",
       "Need Potable Water                       857\n",
       "Fire Safety System Not Working           821\n",
       "Dead Animal                              797\n",
       "Request New Sign                         785\n",
       "Illegal Dumping                          785\n",
       "Leak                                     744\n",
       "Traffic                                  739\n",
       "Catch Basin, Clogged                     732\n",
       "Name: REQUEST_TYPE, dtype: int64"
      ]
     },
     "execution_count": 33,
     "metadata": {},
     "output_type": "execute_result"
    }
   ],
   "source": [
    "df['REQUEST_TYPE'].value_counts(sort=True, ascending=False, dropna=False) "
   ]
  },
  {
   "cell_type": "code",
   "execution_count": 34,
   "metadata": {},
   "outputs": [
    {
     "data": {
      "text/html": [
       "<div>\n",
       "<style scoped>\n",
       "    .dataframe tbody tr th:only-of-type {\n",
       "        vertical-align: middle;\n",
       "    }\n",
       "\n",
       "    .dataframe tbody tr th {\n",
       "        vertical-align: top;\n",
       "    }\n",
       "\n",
       "    .dataframe thead th {\n",
       "        text-align: right;\n",
       "    }\n",
       "</style>\n",
       "<table border=\"1\" class=\"dataframe\">\n",
       "  <thead>\n",
       "    <tr style=\"text-align: right;\">\n",
       "      <th></th>\n",
       "      <th>REQUEST_ID</th>\n",
       "      <th>STATUS</th>\n",
       "      <th>COUNCIL_DISTRICT</th>\n",
       "      <th>WARD</th>\n",
       "      <th>TRACT</th>\n",
       "      <th>PUBLIC_WORKS_DIVISION</th>\n",
       "      <th>PLI_DIVISION</th>\n",
       "      <th>POLICE_ZONE</th>\n",
       "      <th>X</th>\n",
       "      <th>Y</th>\n",
       "      <th>...</th>\n",
       "      <th>daily.temperatureMin</th>\n",
       "      <th>daily.temperatureMinTime</th>\n",
       "      <th>daily.time</th>\n",
       "      <th>daily.uvIndex</th>\n",
       "      <th>daily.uvIndexTime</th>\n",
       "      <th>daily.visibility</th>\n",
       "      <th>daily.windBearing</th>\n",
       "      <th>daily.windGust</th>\n",
       "      <th>daily.windGustTime</th>\n",
       "      <th>daily.windSpeed</th>\n",
       "    </tr>\n",
       "  </thead>\n",
       "  <tbody>\n",
       "    <tr>\n",
       "      <th>count</th>\n",
       "      <td>52194.000000</td>\n",
       "      <td>52194.000000</td>\n",
       "      <td>49446.000000</td>\n",
       "      <td>49401.000000</td>\n",
       "      <td>4.948800e+04</td>\n",
       "      <td>49405.000000</td>\n",
       "      <td>49401.000000</td>\n",
       "      <td>49377.000000</td>\n",
       "      <td>49824.000000</td>\n",
       "      <td>49824.000000</td>\n",
       "      <td>...</td>\n",
       "      <td>49488.000000</td>\n",
       "      <td>4.948800e+04</td>\n",
       "      <td>4.948800e+04</td>\n",
       "      <td>49488.000000</td>\n",
       "      <td>4.948800e+04</td>\n",
       "      <td>49488.000000</td>\n",
       "      <td>49488.000000</td>\n",
       "      <td>49488.000000</td>\n",
       "      <td>4.948800e+04</td>\n",
       "      <td>49488.000000</td>\n",
       "    </tr>\n",
       "    <tr>\n",
       "      <th>mean</th>\n",
       "      <td>163496.286891</td>\n",
       "      <td>1.199487</td>\n",
       "      <td>4.900821</td>\n",
       "      <td>16.605878</td>\n",
       "      <td>4.200323e+10</td>\n",
       "      <td>3.023722</td>\n",
       "      <td>16.605878</td>\n",
       "      <td>3.592482</td>\n",
       "      <td>-79.433124</td>\n",
       "      <td>40.167845</td>\n",
       "      <td>...</td>\n",
       "      <td>48.252171</td>\n",
       "      <td>1.498006e+09</td>\n",
       "      <td>1.497969e+09</td>\n",
       "      <td>5.264205</td>\n",
       "      <td>1.498013e+09</td>\n",
       "      <td>9.371101</td>\n",
       "      <td>216.096832</td>\n",
       "      <td>9.270438</td>\n",
       "      <td>1.498018e+09</td>\n",
       "      <td>1.533801</td>\n",
       "    </tr>\n",
       "    <tr>\n",
       "      <th>std</th>\n",
       "      <td>23598.968639</td>\n",
       "      <td>0.695392</td>\n",
       "      <td>2.585818</td>\n",
       "      <td>7.946364</td>\n",
       "      <td>1.812058e+05</td>\n",
       "      <td>1.437327</td>\n",
       "      <td>7.946364</td>\n",
       "      <td>1.606123</td>\n",
       "      <td>6.545400</td>\n",
       "      <td>3.309922</td>\n",
       "      <td>...</td>\n",
       "      <td>15.393227</td>\n",
       "      <td>8.196202e+06</td>\n",
       "      <td>8.196692e+06</td>\n",
       "      <td>2.415348</td>\n",
       "      <td>8.196433e+06</td>\n",
       "      <td>0.871377</td>\n",
       "      <td>73.609941</td>\n",
       "      <td>4.521697</td>\n",
       "      <td>8.198075e+06</td>\n",
       "      <td>1.162261</td>\n",
       "    </tr>\n",
       "    <tr>\n",
       "      <th>min</th>\n",
       "      <td>123272.000000</td>\n",
       "      <td>0.000000</td>\n",
       "      <td>1.000000</td>\n",
       "      <td>0.000000</td>\n",
       "      <td>4.200301e+10</td>\n",
       "      <td>0.000000</td>\n",
       "      <td>0.000000</td>\n",
       "      <td>1.000000</td>\n",
       "      <td>-80.088105</td>\n",
       "      <td>0.000000</td>\n",
       "      <td>...</td>\n",
       "      <td>1.200000</td>\n",
       "      <td>1.483276e+09</td>\n",
       "      <td>1.483247e+09</td>\n",
       "      <td>1.000000</td>\n",
       "      <td>1.483290e+09</td>\n",
       "      <td>3.780000</td>\n",
       "      <td>0.000000</td>\n",
       "      <td>1.460000</td>\n",
       "      <td>1.483247e+09</td>\n",
       "      <td>0.020000</td>\n",
       "    </tr>\n",
       "    <tr>\n",
       "      <th>25%</th>\n",
       "      <td>143064.750000</td>\n",
       "      <td>1.000000</td>\n",
       "      <td>3.000000</td>\n",
       "      <td>11.000000</td>\n",
       "      <td>4.200311e+10</td>\n",
       "      <td>2.000000</td>\n",
       "      <td>11.000000</td>\n",
       "      <td>2.000000</td>\n",
       "      <td>-80.007463</td>\n",
       "      <td>40.420463</td>\n",
       "      <td>...</td>\n",
       "      <td>37.190000</td>\n",
       "      <td>1.491390e+09</td>\n",
       "      <td>1.491365e+09</td>\n",
       "      <td>3.000000</td>\n",
       "      <td>1.491412e+09</td>\n",
       "      <td>9.040000</td>\n",
       "      <td>188.000000</td>\n",
       "      <td>5.720000</td>\n",
       "      <td>1.491437e+09</td>\n",
       "      <td>0.710000</td>\n",
       "    </tr>\n",
       "    <tr>\n",
       "      <th>50%</th>\n",
       "      <td>163452.000000</td>\n",
       "      <td>1.000000</td>\n",
       "      <td>5.000000</td>\n",
       "      <td>16.000000</td>\n",
       "      <td>4.200318e+10</td>\n",
       "      <td>3.000000</td>\n",
       "      <td>16.000000</td>\n",
       "      <td>4.000000</td>\n",
       "      <td>-79.977171</td>\n",
       "      <td>40.445256</td>\n",
       "      <td>...</td>\n",
       "      <td>51.230000</td>\n",
       "      <td>1.497953e+09</td>\n",
       "      <td>1.497931e+09</td>\n",
       "      <td>5.000000</td>\n",
       "      <td>1.497974e+09</td>\n",
       "      <td>9.750000</td>\n",
       "      <td>224.000000</td>\n",
       "      <td>8.790000</td>\n",
       "      <td>1.497989e+09</td>\n",
       "      <td>1.310000</td>\n",
       "    </tr>\n",
       "    <tr>\n",
       "      <th>75%</th>\n",
       "      <td>183528.750000</td>\n",
       "      <td>1.000000</td>\n",
       "      <td>7.000000</td>\n",
       "      <td>22.000000</td>\n",
       "      <td>4.200329e+10</td>\n",
       "      <td>5.000000</td>\n",
       "      <td>22.000000</td>\n",
       "      <td>5.000000</td>\n",
       "      <td>-79.934268</td>\n",
       "      <td>40.462229</td>\n",
       "      <td>...</td>\n",
       "      <td>60.910000</td>\n",
       "      <td>1.504091e+09</td>\n",
       "      <td>1.504066e+09</td>\n",
       "      <td>7.000000</td>\n",
       "      <td>1.504109e+09</td>\n",
       "      <td>10.000000</td>\n",
       "      <td>267.000000</td>\n",
       "      <td>11.620000</td>\n",
       "      <td>1.504112e+09</td>\n",
       "      <td>2.110000</td>\n",
       "    </tr>\n",
       "    <tr>\n",
       "      <th>max</th>\n",
       "      <td>205290.000000</td>\n",
       "      <td>3.000000</td>\n",
       "      <td>9.000000</td>\n",
       "      <td>32.000000</td>\n",
       "      <td>4.200398e+10</td>\n",
       "      <td>6.000000</td>\n",
       "      <td>32.000000</td>\n",
       "      <td>6.000000</td>\n",
       "      <td>0.000000</td>\n",
       "      <td>40.520177</td>\n",
       "      <td>...</td>\n",
       "      <td>73.950000</td>\n",
       "      <td>1.514722e+09</td>\n",
       "      <td>1.514696e+09</td>\n",
       "      <td>10.000000</td>\n",
       "      <td>1.514732e+09</td>\n",
       "      <td>10.000000</td>\n",
       "      <td>359.000000</td>\n",
       "      <td>26.100000</td>\n",
       "      <td>1.514696e+09</td>\n",
       "      <td>6.150000</td>\n",
       "    </tr>\n",
       "  </tbody>\n",
       "</table>\n",
       "<p>8 rows × 60 columns</p>\n",
       "</div>"
      ],
      "text/plain": [
       "          REQUEST_ID        STATUS  COUNCIL_DISTRICT          WARD  \\\n",
       "count   52194.000000  52194.000000      49446.000000  49401.000000   \n",
       "mean   163496.286891      1.199487          4.900821     16.605878   \n",
       "std     23598.968639      0.695392          2.585818      7.946364   \n",
       "min    123272.000000      0.000000          1.000000      0.000000   \n",
       "25%    143064.750000      1.000000          3.000000     11.000000   \n",
       "50%    163452.000000      1.000000          5.000000     16.000000   \n",
       "75%    183528.750000      1.000000          7.000000     22.000000   \n",
       "max    205290.000000      3.000000          9.000000     32.000000   \n",
       "\n",
       "              TRACT  PUBLIC_WORKS_DIVISION  PLI_DIVISION   POLICE_ZONE  \\\n",
       "count  4.948800e+04           49405.000000  49401.000000  49377.000000   \n",
       "mean   4.200323e+10               3.023722     16.605878      3.592482   \n",
       "std    1.812058e+05               1.437327      7.946364      1.606123   \n",
       "min    4.200301e+10               0.000000      0.000000      1.000000   \n",
       "25%    4.200311e+10               2.000000     11.000000      2.000000   \n",
       "50%    4.200318e+10               3.000000     16.000000      4.000000   \n",
       "75%    4.200329e+10               5.000000     22.000000      5.000000   \n",
       "max    4.200398e+10               6.000000     32.000000      6.000000   \n",
       "\n",
       "                  X             Y       ...         daily.temperatureMin  \\\n",
       "count  49824.000000  49824.000000       ...                 49488.000000   \n",
       "mean     -79.433124     40.167845       ...                    48.252171   \n",
       "std        6.545400      3.309922       ...                    15.393227   \n",
       "min      -80.088105      0.000000       ...                     1.200000   \n",
       "25%      -80.007463     40.420463       ...                    37.190000   \n",
       "50%      -79.977171     40.445256       ...                    51.230000   \n",
       "75%      -79.934268     40.462229       ...                    60.910000   \n",
       "max        0.000000     40.520177       ...                    73.950000   \n",
       "\n",
       "       daily.temperatureMinTime    daily.time  daily.uvIndex  \\\n",
       "count              4.948800e+04  4.948800e+04   49488.000000   \n",
       "mean               1.498006e+09  1.497969e+09       5.264205   \n",
       "std                8.196202e+06  8.196692e+06       2.415348   \n",
       "min                1.483276e+09  1.483247e+09       1.000000   \n",
       "25%                1.491390e+09  1.491365e+09       3.000000   \n",
       "50%                1.497953e+09  1.497931e+09       5.000000   \n",
       "75%                1.504091e+09  1.504066e+09       7.000000   \n",
       "max                1.514722e+09  1.514696e+09      10.000000   \n",
       "\n",
       "       daily.uvIndexTime  daily.visibility  daily.windBearing  daily.windGust  \\\n",
       "count       4.948800e+04      49488.000000       49488.000000    49488.000000   \n",
       "mean        1.498013e+09          9.371101         216.096832        9.270438   \n",
       "std         8.196433e+06          0.871377          73.609941        4.521697   \n",
       "min         1.483290e+09          3.780000           0.000000        1.460000   \n",
       "25%         1.491412e+09          9.040000         188.000000        5.720000   \n",
       "50%         1.497974e+09          9.750000         224.000000        8.790000   \n",
       "75%         1.504109e+09         10.000000         267.000000       11.620000   \n",
       "max         1.514732e+09         10.000000         359.000000       26.100000   \n",
       "\n",
       "       daily.windGustTime  daily.windSpeed  \n",
       "count        4.948800e+04     49488.000000  \n",
       "mean         1.498018e+09         1.533801  \n",
       "std          8.198075e+06         1.162261  \n",
       "min          1.483247e+09         0.020000  \n",
       "25%          1.491437e+09         0.710000  \n",
       "50%          1.497989e+09         1.310000  \n",
       "75%          1.504112e+09         2.110000  \n",
       "max          1.514696e+09         6.150000  \n",
       "\n",
       "[8 rows x 60 columns]"
      ]
     },
     "execution_count": 34,
     "metadata": {},
     "output_type": "execute_result"
    }
   ],
   "source": [
    "df.describe()"
   ]
  },
  {
   "cell_type": "code",
   "execution_count": 35,
   "metadata": {},
   "outputs": [
    {
     "data": {
      "text/plain": [
       "<matplotlib.axes._subplots.AxesSubplot at 0x22aabfa6588>"
      ]
     },
     "execution_count": 35,
     "metadata": {},
     "output_type": "execute_result"
    },
    {
     "data": {
      "image/png": "[encoded data removed]",
      "text/plain": [
       "<Figure size 432x288 with 1 Axes>"
      ]
     },
     "metadata": {
      "needs_background": "light"
     },
     "output_type": "display_data"
    }
   ],
   "source": [
    "df['REQUEST_TYPE'].value_counts(sort=True, ascending=False, dropna=False).plot.bar()"
   ]
  },
  {
   "cell_type": "code",
   "execution_count": 36,
   "metadata": {},
   "outputs": [
    {
     "data": {
      "text/plain": [
       "Call Center           33807\n",
       "Website                8188\n",
       "Control Panel          6671\n",
       "Report2Gov iOS         1450\n",
       "Twitter                1073\n",
       "Text Message            548\n",
       "Report2Gov Android      444\n",
       "Report2Gov Website        6\n",
       "QAlert Mobile iOS         5\n",
       "Email                     2\n",
       "Name: REQUEST_ORIGIN, dtype: int64"
      ]
     },
     "execution_count": 36,
     "metadata": {},
     "output_type": "execute_result"
    }
   ],
   "source": [
    "df['REQUEST_ORIGIN'].value_counts(sort=True, ascending=False, dropna=False)"
   ]
  },
  {
   "cell_type": "code",
   "execution_count": 37,
   "metadata": {},
   "outputs": [
    {
     "data": {
      "text/plain": [
       "2017-05-01T14:02:00    8\n",
       "2017-03-07T11:25:00    6\n",
       "2017-08-27T19:12:00    6\n",
       "2017-02-01T12:44:00    6\n",
       "2017-03-29T15:01:00    5\n",
       "2017-03-07T12:15:00    5\n",
       "2017-04-17T11:18:00    5\n",
       "2017-03-08T08:28:00    5\n",
       "2017-04-05T10:09:00    5\n",
       "2017-03-08T11:30:00    5\n",
       "2017-02-01T12:39:00    5\n",
       "2017-03-09T11:10:00    5\n",
       "2017-08-21T11:03:00    5\n",
       "2017-02-01T12:59:00    5\n",
       "2017-07-07T08:19:00    5\n",
       "2017-05-31T12:33:00    5\n",
       "2017-08-03T11:02:00    5\n",
       "2017-07-03T09:53:00    5\n",
       "2017-02-01T13:29:00    5\n",
       "2017-03-08T08:31:00    5\n",
       "2017-04-20T12:54:00    5\n",
       "2017-03-07T14:38:00    5\n",
       "2017-08-27T19:10:00    5\n",
       "2017-02-01T14:26:00    5\n",
       "2017-08-03T11:09:00    5\n",
       "2017-02-01T12:50:00    5\n",
       "2017-08-02T09:20:00    5\n",
       "2017-05-30T10:06:00    4\n",
       "2017-05-22T15:35:00    4\n",
       "2017-06-26T09:15:00    4\n",
       "                      ..\n",
       "2017-08-23T15:12:00    1\n",
       "2017-02-06T08:12:00    1\n",
       "2017-05-22T09:03:00    1\n",
       "2017-07-02T10:46:00    1\n",
       "2017-10-30T12:15:00    1\n",
       "2017-02-03T09:55:00    1\n",
       "2017-04-11T10:10:00    1\n",
       "2017-01-30T13:12:00    1\n",
       "2017-05-16T09:33:00    1\n",
       "2017-07-28T18:52:00    1\n",
       "2017-02-24T13:28:00    1\n",
       "2017-01-18T15:38:00    1\n",
       "2017-08-07T15:32:00    1\n",
       "2017-01-25T15:12:00    1\n",
       "2017-06-08T17:02:00    1\n",
       "2017-04-18T09:07:00    1\n",
       "2017-08-13T16:46:00    1\n",
       "2017-09-21T12:37:00    1\n",
       "2017-07-19T14:43:00    1\n",
       "2017-06-29T14:38:00    1\n",
       "2017-11-06T11:05:00    1\n",
       "2017-06-30T12:02:00    1\n",
       "2017-01-20T15:42:00    1\n",
       "2017-03-07T11:04:00    1\n",
       "2017-10-18T09:59:00    1\n",
       "2017-10-04T10:22:00    1\n",
       "2017-01-06T10:51:00    1\n",
       "2017-02-01T10:06:00    1\n",
       "2017-01-24T05:43:00    1\n",
       "2017-04-28T06:14:00    1\n",
       "Name: CREATED_ON, Length: 44139, dtype: int64"
      ]
     },
     "execution_count": 37,
     "metadata": {},
     "output_type": "execute_result"
    }
   ],
   "source": [
    "df['CREATED_ON'].value_counts(sort=True, ascending=False, dropna=False)"
   ]
  },
  {
   "cell_type": "code",
   "execution_count": 38,
   "metadata": {},
   "outputs": [
    {
     "data": {
      "text/plain": [
       "<matplotlib.axes._subplots.AxesSubplot at 0x22aac071048>"
      ]
     },
     "execution_count": 38,
     "metadata": {},
     "output_type": "execute_result"
    },
    {
     "data": {
      "image/png": "[encoded data removed]",
      "text/plain": [
       "<Figure size 432x288 with 1 Axes>"
      ]
     },
     "metadata": {
      "needs_background": "light"
     },
     "output_type": "display_data"
    }
   ],
   "source": [
    "# visualizatins of various fields and weather events\n",
    "df['daily.time'].hist(bins=50)"
   ]
  },
  {
   "cell_type": "code",
   "execution_count": 39,
   "metadata": {},
   "outputs": [
    {
     "data": {
      "text/plain": [
       "<matplotlib.axes._subplots.AxesSubplot at 0x22aac1525f8>"
      ]
     },
     "execution_count": 39,
     "metadata": {},
     "output_type": "execute_result"
    },
    {
     "data": {
      "image/png": "[encoded data removed]",
      "text/plain": [
       "<Figure size 432x288 with 1 Axes>"
      ]
     },
     "metadata": {
      "needs_background": "light"
     },
     "output_type": "display_data"
    }
   ],
   "source": [
    "df['current.precipIntensity'].hist()"
   ]
  },
  {
   "cell_type": "code",
   "execution_count": 40,
   "metadata": {},
   "outputs": [
    {
     "data": {
      "text/plain": [
       "<matplotlib.axes._subplots.AxesSubplot at 0x22aaf8b8400>"
      ]
     },
     "execution_count": 40,
     "metadata": {},
     "output_type": "execute_result"
    },
    {
     "data": {
      "image/png": "[encoded data removed]",
      "text/plain": [
       "<Figure size 432x288 with 1 Axes>"
      ]
     },
     "metadata": {
      "needs_background": "light"
     },
     "output_type": "display_data"
    }
   ],
   "source": [
    "df['daily.precipType'].value_counts(sort=True, ascending=False, dropna=False).plot.bar()"
   ]
  },
  {
   "cell_type": "code",
   "execution_count": 41,
   "metadata": {},
   "outputs": [
    {
     "data": {
      "text/plain": [
       "<matplotlib.axes._subplots.AxesSubplot at 0x22aaf902668>"
      ]
     },
     "execution_count": 41,
     "metadata": {},
     "output_type": "execute_result"
    },
    {
     "data": {
      "image/png": "[encoded data removed]",
      "text/plain": [
       "<Figure size 432x288 with 1 Axes>"
      ]
     },
     "metadata": {
      "needs_background": "light"
     },
     "output_type": "display_data"
    }
   ],
   "source": [
    "df['current.visibility'].hist(bins=10)"
   ]
  },
  {
   "cell_type": "code",
   "execution_count": 42,
   "metadata": {},
   "outputs": [
    {
     "data": {
      "text/plain": [
       "<matplotlib.axes._subplots.AxesSubplot at 0x22aaf982ac8>"
      ]
     },
     "execution_count": 42,
     "metadata": {},
     "output_type": "execute_result"
    },
    {
     "data": {
      "image/png": "[encoded data removed]",
      "text/plain": [
       "<Figure size 432x288 with 1 Axes>"
      ]
     },
     "metadata": {
      "needs_background": "light"
     },
     "output_type": "display_data"
    }
   ],
   "source": [
    "df['current.pressure'].hist(bins=100)"
   ]
  },
  {
   "cell_type": "code",
   "execution_count": 43,
   "metadata": {},
   "outputs": [
    {
     "data": {
      "text/plain": [
       "<matplotlib.axes._subplots.AxesSubplot at 0x22aaf9020f0>"
      ]
     },
     "execution_count": 43,
     "metadata": {},
     "output_type": "execute_result"
    },
    {
     "data": {
      "image/png": "[encoded data removed]",
      "text/plain": [
       "<Figure size 432x288 with 1 Axes>"
      ]
     },
     "metadata": {
      "needs_background": "light"
     },
     "output_type": "display_data"
    }
   ],
   "source": [
    "df['daily.pressure'].hist(bins=100)"
   ]
  },
  {
   "cell_type": "code",
   "execution_count": 44,
   "metadata": {},
   "outputs": [
    {
     "data": {
      "text/plain": [
       "<matplotlib.axes._subplots.AxesSubplot at 0x22ab00ea9e8>"
      ]
     },
     "execution_count": 44,
     "metadata": {},
     "output_type": "execute_result"
    },
    {
     "data": {
      "image/png": "[encoded data removed]",
      "text/plain": [
       "<Figure size 432x288 with 1 Axes>"
      ]
     },
     "metadata": {
      "needs_background": "light"
     },
     "output_type": "display_data"
    }
   ],
   "source": [
    "df['daily.windSpeed'].hist(bins=1000)"
   ]
  },
  {
   "cell_type": "code",
   "execution_count": 45,
   "metadata": {},
   "outputs": [
    {
     "data": {
      "text/plain": [
       "<matplotlib.axes._subplots.AxesSubplot at 0x22ab0968438>"
      ]
     },
     "execution_count": 45,
     "metadata": {},
     "output_type": "execute_result"
    },
    {
     "data": {
      "image/png": "[encoded data removed]",
      "text/plain": [
       "<Figure size 432x288 with 1 Axes>"
      ]
     },
     "metadata": {
      "needs_background": "light"
     },
     "output_type": "display_data"
    }
   ],
   "source": [
    "df['daily.windGust'].hist(bins=1000)"
   ]
  },
  {
   "cell_type": "code",
   "execution_count": 46,
   "metadata": {},
   "outputs": [
    {
     "data": {
      "text/plain": [
       "<matplotlib.axes._subplots.AxesSubplot at 0x22ab14b9ac8>"
      ]
     },
     "execution_count": 46,
     "metadata": {},
     "output_type": "execute_result"
    },
    {
     "data": {
      "image/png": "[encoded data removed]",
      "text/plain": [
       "<Figure size 432x288 with 1 Axes>"
      ]
     },
     "metadata": {
      "needs_background": "light"
     },
     "output_type": "display_data"
    }
   ],
   "source": [
    "df['daily.precipProbability'].hist(bins=100)"
   ]
  },
  {
   "cell_type": "code",
   "execution_count": 47,
   "metadata": {},
   "outputs": [
    {
     "data": {
      "text/plain": [
       "Clear                      16241\n",
       "Overcast                   10524\n",
       "Mostly Cloudy               8929\n",
       "Partly Cloudy               7008\n",
       "NaN                         2706\n",
       "Light Rain                  2449\n",
       "Drizzle                     2275\n",
       "Rain                         639\n",
       "Flurries                     547\n",
       "Foggy                        493\n",
       "Light Snow                   129\n",
       "Humid and Mostly Cloudy       88\n",
       "Humid and Partly Cloudy       62\n",
       "Humid and Overcast            57\n",
       "Light Sleet                   30\n",
       "Humid                         11\n",
       "Snow                           5\n",
       "Heavy Rain                     1\n",
       "Name: current.summary, dtype: int64"
      ]
     },
     "execution_count": 47,
     "metadata": {},
     "output_type": "execute_result"
    }
   ],
   "source": [
    "df['current.summary'].value_counts(sort=True, ascending=False, dropna=False)"
   ]
  },
  {
   "cell_type": "code",
   "execution_count": 48,
   "metadata": {},
   "outputs": [
    {
     "data": {
      "text/plain": [
       "<matplotlib.axes._subplots.AxesSubplot at 0x22ab1746400>"
      ]
     },
     "execution_count": 48,
     "metadata": {},
     "output_type": "execute_result"
    },
    {
     "data": {
      "image/png": "[encoded data removed]",
      "text/plain": [
       "<Figure size 432x288 with 1 Axes>"
      ]
     },
     "metadata": {
      "needs_background": "light"
     },
     "output_type": "display_data"
    }
   ],
   "source": [
    "df['current.summary'].value_counts(sort=True, ascending=False, dropna=False).plot.bar()"
   ]
  },
  {
   "cell_type": "code",
   "execution_count": 49,
   "metadata": {},
   "outputs": [
    {
     "data": {
      "text/plain": [
       "<matplotlib.axes._subplots.AxesSubplot at 0x22ab176e6d8>"
      ]
     },
     "execution_count": 49,
     "metadata": {},
     "output_type": "execute_result"
    },
    {
     "data": {
      "image/png": "[encoded data removed]",
      "text/plain": [
       "<Figure size 432x288 with 1 Axes>"
      ]
     },
     "metadata": {
      "needs_background": "light"
     },
     "output_type": "display_data"
    }
   ],
   "source": [
    "df['daily.temperatureHigh'].hist(bins=100)"
   ]
  },
  {
   "cell_type": "code",
   "execution_count": 50,
   "metadata": {},
   "outputs": [
    {
     "data": {
      "text/plain": [
       "<matplotlib.axes._subplots.AxesSubplot at 0x22ab19ab588>"
      ]
     },
     "execution_count": 50,
     "metadata": {},
     "output_type": "execute_result"
    },
    {
     "data": {
      "image/png": "[encoded data removed]",
      "text/plain": [
       "<Figure size 432x288 with 1 Axes>"
      ]
     },
     "metadata": {
      "needs_background": "light"
     },
     "output_type": "display_data"
    }
   ],
   "source": [
    "df['daily.temperatureLow'].hist(bins=100)"
   ]
  },
  {
   "cell_type": "code",
   "execution_count": 51,
   "metadata": {},
   "outputs": [
    {
     "data": {
      "text/plain": [
       "<matplotlib.axes._subplots.AxesSubplot at 0x22ab1ad1198>"
      ]
     },
     "execution_count": 51,
     "metadata": {},
     "output_type": "execute_result"
    },
    {
     "data": {
      "image/png": "[encoded data removed]",
      "text/plain": [
       "<Figure size 432x288 with 1 Axes>"
      ]
     },
     "metadata": {
      "needs_background": "light"
     },
     "output_type": "display_data"
    }
   ],
   "source": [
    "df['daily.precipProbability'].hist(bins=100)"
   ]
  },
  {
   "cell_type": "code",
   "execution_count": 52,
   "metadata": {},
   "outputs": [
    {
     "data": {
      "text/plain": [
       "<matplotlib.axes._subplots.AxesSubplot at 0x22ab1b2a7b8>"
      ]
     },
     "execution_count": 52,
     "metadata": {},
     "output_type": "execute_result"
    },
    {
     "data": {
      "image/png": "[encoded data removed]",
      "text/plain": [
       "<Figure size 432x288 with 1 Axes>"
      ]
     },
     "metadata": {
      "needs_background": "light"
     },
     "output_type": "display_data"
    }
   ],
   "source": [
    "df['daily.precipAccumulation'].hist(bins=50)"
   ]
  },
  {
   "cell_type": "code",
   "execution_count": 53,
   "metadata": {
    "scrolled": true
   },
   "outputs": [
    {
     "data": {
      "text/plain": [
       "<matplotlib.axes._subplots.AxesSubplot at 0x22ab1ddbef0>"
      ]
     },
     "execution_count": 53,
     "metadata": {},
     "output_type": "execute_result"
    },
    {
     "data": {
      "image/png": "[encoded data removed]",
      "text/plain": [
       "<Figure size 432x288 with 1 Axes>"
      ]
     },
     "metadata": {
      "needs_background": "light"
     },
     "output_type": "display_data"
    }
   ],
   "source": [
    "df['daily.humidity'].hist(bins=100)"
   ]
  },
  {
   "cell_type": "code",
   "execution_count": 54,
   "metadata": {
    "scrolled": true
   },
   "outputs": [
    {
     "data": {
      "text/plain": [
       "<matplotlib.axes._subplots.AxesSubplot at 0x22ab1dea208>"
      ]
     },
     "execution_count": 54,
     "metadata": {},
     "output_type": "execute_result"
    },
    {
     "data": {
      "image/png": "[encoded data removed]",
      "text/plain": [
       "<Figure size 432x288 with 1 Axes>"
      ]
     },
     "metadata": {
      "needs_background": "light"
     },
     "output_type": "display_data"
    }
   ],
   "source": [
    "df['daily.pressure'].hist(bins=100)"
   ]
  },
  {
   "cell_type": "code",
   "execution_count": null,
   "metadata": {},
   "outputs": [],
   "source": []
  },
  {
   "cell_type": "code",
   "execution_count": null,
   "metadata": {},
   "outputs": [],
   "source": []
  },
  {
   "cell_type": "code",
   "execution_count": 32,
   "metadata": {},
   "outputs": [],
   "source": []
  },
  {
   "cell_type": "code",
   "execution_count": null,
   "metadata": {},
   "outputs": [],
   "source": []
  }
 ],
 "metadata": {
  "kernelspec": {
   "display_name": "Python 3",
   "language": "python",
   "name": "python3"
  },
  "language_info": {
   "codemirror_mode": {
    "name": "ipython",
    "version": 3
   },
   "file_extension": ".py",
   "mimetype": "text/x-python",
   "name": "python",
   "nbconvert_exporter": "python",
   "pygments_lexer": "ipython3",
   "version": "3.7.1"
  }
 },
 "nbformat": 4,
 "nbformat_minor": 2
}
