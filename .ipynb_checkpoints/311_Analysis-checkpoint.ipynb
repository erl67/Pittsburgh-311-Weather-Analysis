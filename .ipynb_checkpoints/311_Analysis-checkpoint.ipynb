{
 "cells": [
  {
   "cell_type": "markdown",
   "metadata": {},
   "source": [
    "This program will read a csv file of 311 data to a dataframe.\n",
    "The dataframe will be cleaned as such: Remove all data other than the year 2017\n",
    "\n",
    "The results will be stored to a new csv file."
   ]
  },
  {
   "cell_type": "code",
   "execution_count": 1,
   "metadata": {},
   "outputs": [],
   "source": [
    "import pandas as pd\n",
    "import numpy as np\n",
    "import datetime as datetime\n",
    "import time\n",
    "import math\n",
    "%matplotlib inline\n",
    "\n",
    "from sklearn import preprocessing as prep\n",
    "from sklearn.model_selection import train_test_split\n",
    "from sklearn.linear_model import LinearRegression\n",
    "from sklearn.naive_bayes import GaussianNB\n",
    "from sklearn.neighbors import KNeighborsRegressor\n",
    "from sklearn import svm\n",
    "from sklearn.metrics import accuracy_score, mean_squared_error, confusion_matrix"
   ]
  },
  {
   "cell_type": "code",
   "execution_count": 2,
   "metadata": {},
   "outputs": [],
   "source": [
    "# df311 = pd.read_csv('311cleaned.csv')\n",
    "# dfwx = pd.read_csv('311weather.csv')\n",
    "# df = pd.merge(df311, dfwx,  left_on='REQUEST_ID', right_on='REQUEST_ID', how='left')  \n",
    "# saved merged data to 311Master.csv to save time loading\n",
    "df = pd.read_csv('311Trimmed.csv')"
   ]
  },
  {
   "cell_type": "code",
   "execution_count": 3,
   "metadata": {},
   "outputs": [
    {
     "data": {
      "text/html": [
       "<div>\n",
       "<style scoped>\n",
       "    .dataframe tbody tr th:only-of-type {\n",
       "        vertical-align: middle;\n",
       "    }\n",
       "\n",
       "    .dataframe tbody tr th {\n",
       "        vertical-align: top;\n",
       "    }\n",
       "\n",
       "    .dataframe thead th {\n",
       "        text-align: right;\n",
       "    }\n",
       "</style>\n",
       "<table border=\"1\" class=\"dataframe\">\n",
       "  <thead>\n",
       "    <tr style=\"text-align: right;\">\n",
       "      <th></th>\n",
       "      <th>REQUEST_ID</th>\n",
       "      <th>STATUS</th>\n",
       "      <th>COUNCIL_DISTRICT</th>\n",
       "      <th>WARD</th>\n",
       "      <th>TRACT</th>\n",
       "      <th>PUBLIC_WORKS_DIVISION</th>\n",
       "      <th>PLI_DIVISION</th>\n",
       "      <th>POLICE_ZONE</th>\n",
       "      <th>X</th>\n",
       "      <th>Y</th>\n",
       "      <th>...</th>\n",
       "      <th>daily.temperatureMin</th>\n",
       "      <th>daily.temperatureMinTime</th>\n",
       "      <th>daily.time</th>\n",
       "      <th>daily.uvIndex</th>\n",
       "      <th>daily.uvIndexTime</th>\n",
       "      <th>daily.visibility</th>\n",
       "      <th>daily.windBearing</th>\n",
       "      <th>daily.windGust</th>\n",
       "      <th>daily.windGustTime</th>\n",
       "      <th>daily.windSpeed</th>\n",
       "    </tr>\n",
       "  </thead>\n",
       "  <tbody>\n",
       "    <tr>\n",
       "      <th>count</th>\n",
       "      <td>49391.000000</td>\n",
       "      <td>49391.000000</td>\n",
       "      <td>49013.000000</td>\n",
       "      <td>48970.000000</td>\n",
       "      <td>4.905500e+04</td>\n",
       "      <td>48974.000000</td>\n",
       "      <td>48970.000000</td>\n",
       "      <td>48946.000000</td>\n",
       "      <td>49391.000000</td>\n",
       "      <td>49391.000000</td>\n",
       "      <td>...</td>\n",
       "      <td>49055.000000</td>\n",
       "      <td>4.905500e+04</td>\n",
       "      <td>4.905500e+04</td>\n",
       "      <td>49055.000000</td>\n",
       "      <td>4.905500e+04</td>\n",
       "      <td>49055.000000</td>\n",
       "      <td>49055.000000</td>\n",
       "      <td>49055.000000</td>\n",
       "      <td>4.905500e+04</td>\n",
       "      <td>49055.000000</td>\n",
       "    </tr>\n",
       "    <tr>\n",
       "      <th>mean</th>\n",
       "      <td>163497.231439</td>\n",
       "      <td>1.211456</td>\n",
       "      <td>4.899476</td>\n",
       "      <td>16.630325</td>\n",
       "      <td>4.200323e+10</td>\n",
       "      <td>3.017581</td>\n",
       "      <td>16.630325</td>\n",
       "      <td>3.594594</td>\n",
       "      <td>-79.428335</td>\n",
       "      <td>40.165465</td>\n",
       "      <td>...</td>\n",
       "      <td>48.206375</td>\n",
       "      <td>1.497977e+09</td>\n",
       "      <td>1.497940e+09</td>\n",
       "      <td>5.261767</td>\n",
       "      <td>1.497984e+09</td>\n",
       "      <td>9.372241</td>\n",
       "      <td>216.032555</td>\n",
       "      <td>9.282200</td>\n",
       "      <td>1.497989e+09</td>\n",
       "      <td>1.536781</td>\n",
       "    </tr>\n",
       "    <tr>\n",
       "      <th>std</th>\n",
       "      <td>23536.455461</td>\n",
       "      <td>0.712449</td>\n",
       "      <td>2.588323</td>\n",
       "      <td>7.928818</td>\n",
       "      <td>1.811907e+05</td>\n",
       "      <td>1.432717</td>\n",
       "      <td>7.928818</td>\n",
       "      <td>1.605884</td>\n",
       "      <td>6.573827</td>\n",
       "      <td>3.324300</td>\n",
       "      <td>...</td>\n",
       "      <td>15.380325</td>\n",
       "      <td>8.201252e+06</td>\n",
       "      <td>8.201741e+06</td>\n",
       "      <td>2.416315</td>\n",
       "      <td>8.201483e+06</td>\n",
       "      <td>0.871285</td>\n",
       "      <td>73.600925</td>\n",
       "      <td>4.524205</td>\n",
       "      <td>8.203111e+06</td>\n",
       "      <td>1.162964</td>\n",
       "    </tr>\n",
       "    <tr>\n",
       "      <th>min</th>\n",
       "      <td>123272.000000</td>\n",
       "      <td>0.000000</td>\n",
       "      <td>1.000000</td>\n",
       "      <td>0.000000</td>\n",
       "      <td>4.200301e+10</td>\n",
       "      <td>0.000000</td>\n",
       "      <td>0.000000</td>\n",
       "      <td>1.000000</td>\n",
       "      <td>-80.088105</td>\n",
       "      <td>0.000000</td>\n",
       "      <td>...</td>\n",
       "      <td>1.200000</td>\n",
       "      <td>1.483276e+09</td>\n",
       "      <td>1.483247e+09</td>\n",
       "      <td>1.000000</td>\n",
       "      <td>1.483290e+09</td>\n",
       "      <td>3.780000</td>\n",
       "      <td>0.000000</td>\n",
       "      <td>1.460000</td>\n",
       "      <td>1.483247e+09</td>\n",
       "      <td>0.020000</td>\n",
       "    </tr>\n",
       "    <tr>\n",
       "      <th>25%</th>\n",
       "      <td>143202.500000</td>\n",
       "      <td>1.000000</td>\n",
       "      <td>3.000000</td>\n",
       "      <td>11.000000</td>\n",
       "      <td>4.200311e+10</td>\n",
       "      <td>2.000000</td>\n",
       "      <td>11.000000</td>\n",
       "      <td>2.000000</td>\n",
       "      <td>-80.007489</td>\n",
       "      <td>40.420436</td>\n",
       "      <td>...</td>\n",
       "      <td>37.170000</td>\n",
       "      <td>1.491361e+09</td>\n",
       "      <td>1.491278e+09</td>\n",
       "      <td>3.000000</td>\n",
       "      <td>1.491322e+09</td>\n",
       "      <td>9.050000</td>\n",
       "      <td>188.000000</td>\n",
       "      <td>5.730000</td>\n",
       "      <td>1.491332e+09</td>\n",
       "      <td>0.710000</td>\n",
       "    </tr>\n",
       "    <tr>\n",
       "      <th>50%</th>\n",
       "      <td>163258.000000</td>\n",
       "      <td>1.000000</td>\n",
       "      <td>5.000000</td>\n",
       "      <td>16.000000</td>\n",
       "      <td>4.200318e+10</td>\n",
       "      <td>3.000000</td>\n",
       "      <td>16.000000</td>\n",
       "      <td>4.000000</td>\n",
       "      <td>-79.976893</td>\n",
       "      <td>40.445355</td>\n",
       "      <td>...</td>\n",
       "      <td>51.120000</td>\n",
       "      <td>1.497928e+09</td>\n",
       "      <td>1.497845e+09</td>\n",
       "      <td>5.000000</td>\n",
       "      <td>1.497895e+09</td>\n",
       "      <td>9.750000</td>\n",
       "      <td>224.000000</td>\n",
       "      <td>8.810000</td>\n",
       "      <td>1.497902e+09</td>\n",
       "      <td>1.310000</td>\n",
       "    </tr>\n",
       "    <tr>\n",
       "      <th>75%</th>\n",
       "      <td>183529.500000</td>\n",
       "      <td>1.000000</td>\n",
       "      <td>7.000000</td>\n",
       "      <td>22.000000</td>\n",
       "      <td>4.200329e+10</td>\n",
       "      <td>5.000000</td>\n",
       "      <td>22.000000</td>\n",
       "      <td>5.000000</td>\n",
       "      <td>-79.934224</td>\n",
       "      <td>40.462244</td>\n",
       "      <td>...</td>\n",
       "      <td>60.880000</td>\n",
       "      <td>1.504091e+09</td>\n",
       "      <td>1.504066e+09</td>\n",
       "      <td>7.000000</td>\n",
       "      <td>1.504109e+09</td>\n",
       "      <td>10.000000</td>\n",
       "      <td>267.000000</td>\n",
       "      <td>11.620000</td>\n",
       "      <td>1.504112e+09</td>\n",
       "      <td>2.110000</td>\n",
       "    </tr>\n",
       "    <tr>\n",
       "      <th>max</th>\n",
       "      <td>205290.000000</td>\n",
       "      <td>3.000000</td>\n",
       "      <td>9.000000</td>\n",
       "      <td>32.000000</td>\n",
       "      <td>4.200398e+10</td>\n",
       "      <td>6.000000</td>\n",
       "      <td>32.000000</td>\n",
       "      <td>6.000000</td>\n",
       "      <td>0.000000</td>\n",
       "      <td>40.520177</td>\n",
       "      <td>...</td>\n",
       "      <td>73.950000</td>\n",
       "      <td>1.514722e+09</td>\n",
       "      <td>1.514696e+09</td>\n",
       "      <td>10.000000</td>\n",
       "      <td>1.514732e+09</td>\n",
       "      <td>10.000000</td>\n",
       "      <td>359.000000</td>\n",
       "      <td>26.100000</td>\n",
       "      <td>1.514696e+09</td>\n",
       "      <td>6.150000</td>\n",
       "    </tr>\n",
       "  </tbody>\n",
       "</table>\n",
       "<p>8 rows × 60 columns</p>\n",
       "</div>"
      ],
      "text/plain": [
       "          REQUEST_ID        STATUS  COUNCIL_DISTRICT          WARD  \\\n",
       "count   49391.000000  49391.000000      49013.000000  48970.000000   \n",
       "mean   163497.231439      1.211456          4.899476     16.630325   \n",
       "std     23536.455461      0.712449          2.588323      7.928818   \n",
       "min    123272.000000      0.000000          1.000000      0.000000   \n",
       "25%    143202.500000      1.000000          3.000000     11.000000   \n",
       "50%    163258.000000      1.000000          5.000000     16.000000   \n",
       "75%    183529.500000      1.000000          7.000000     22.000000   \n",
       "max    205290.000000      3.000000          9.000000     32.000000   \n",
       "\n",
       "              TRACT  PUBLIC_WORKS_DIVISION  PLI_DIVISION   POLICE_ZONE  \\\n",
       "count  4.905500e+04           48974.000000  48970.000000  48946.000000   \n",
       "mean   4.200323e+10               3.017581     16.630325      3.594594   \n",
       "std    1.811907e+05               1.432717      7.928818      1.605884   \n",
       "min    4.200301e+10               0.000000      0.000000      1.000000   \n",
       "25%    4.200311e+10               2.000000     11.000000      2.000000   \n",
       "50%    4.200318e+10               3.000000     16.000000      4.000000   \n",
       "75%    4.200329e+10               5.000000     22.000000      5.000000   \n",
       "max    4.200398e+10               6.000000     32.000000      6.000000   \n",
       "\n",
       "                  X             Y       ...         daily.temperatureMin  \\\n",
       "count  49391.000000  49391.000000       ...                 49055.000000   \n",
       "mean     -79.428335     40.165465       ...                    48.206375   \n",
       "std        6.573827      3.324300       ...                    15.380325   \n",
       "min      -80.088105      0.000000       ...                     1.200000   \n",
       "25%      -80.007489     40.420436       ...                    37.170000   \n",
       "50%      -79.976893     40.445355       ...                    51.120000   \n",
       "75%      -79.934224     40.462244       ...                    60.880000   \n",
       "max        0.000000     40.520177       ...                    73.950000   \n",
       "\n",
       "       daily.temperatureMinTime    daily.time  daily.uvIndex  \\\n",
       "count              4.905500e+04  4.905500e+04   49055.000000   \n",
       "mean               1.497977e+09  1.497940e+09       5.261767   \n",
       "std                8.201252e+06  8.201741e+06       2.416315   \n",
       "min                1.483276e+09  1.483247e+09       1.000000   \n",
       "25%                1.491361e+09  1.491278e+09       3.000000   \n",
       "50%                1.497928e+09  1.497845e+09       5.000000   \n",
       "75%                1.504091e+09  1.504066e+09       7.000000   \n",
       "max                1.514722e+09  1.514696e+09      10.000000   \n",
       "\n",
       "       daily.uvIndexTime  daily.visibility  daily.windBearing  daily.windGust  \\\n",
       "count       4.905500e+04      49055.000000       49055.000000    49055.000000   \n",
       "mean        1.497984e+09          9.372241         216.032555        9.282200   \n",
       "std         8.201483e+06          0.871285          73.600925        4.524205   \n",
       "min         1.483290e+09          3.780000           0.000000        1.460000   \n",
       "25%         1.491322e+09          9.050000         188.000000        5.730000   \n",
       "50%         1.497895e+09          9.750000         224.000000        8.810000   \n",
       "75%         1.504109e+09         10.000000         267.000000       11.620000   \n",
       "max         1.514732e+09         10.000000         359.000000       26.100000   \n",
       "\n",
       "       daily.windGustTime  daily.windSpeed  \n",
       "count        4.905500e+04     49055.000000  \n",
       "mean         1.497989e+09         1.536781  \n",
       "std          8.203111e+06         1.162964  \n",
       "min          1.483247e+09         0.020000  \n",
       "25%          1.491332e+09         0.710000  \n",
       "50%          1.497902e+09         1.310000  \n",
       "75%          1.504112e+09         2.110000  \n",
       "max          1.514696e+09         6.150000  \n",
       "\n",
       "[8 rows x 60 columns]"
      ]
     },
     "execution_count": 3,
     "metadata": {},
     "output_type": "execute_result"
    }
   ],
   "source": [
    "df.describe()"
   ]
  },
  {
   "cell_type": "code",
   "execution_count": 4,
   "metadata": {},
   "outputs": [],
   "source": [
    "df.fillna(0, inplace=True) #fill zero instances of weather\n",
    "df = df.reset_index()"
   ]
  },
  {
   "cell_type": "code",
   "execution_count": 5,
   "metadata": {},
   "outputs": [
    {
     "data": {
      "text/html": [
       "<div>\n",
       "<style scoped>\n",
       "    .dataframe tbody tr th:only-of-type {\n",
       "        vertical-align: middle;\n",
       "    }\n",
       "\n",
       "    .dataframe tbody tr th {\n",
       "        vertical-align: top;\n",
       "    }\n",
       "\n",
       "    .dataframe thead th {\n",
       "        text-align: right;\n",
       "    }\n",
       "</style>\n",
       "<table border=\"1\" class=\"dataframe\">\n",
       "  <thead>\n",
       "    <tr style=\"text-align: right;\">\n",
       "      <th></th>\n",
       "      <th>index</th>\n",
       "      <th>REQUEST_ID</th>\n",
       "      <th>CREATED_ON</th>\n",
       "      <th>REQUEST_TYPE</th>\n",
       "      <th>REQUEST_ORIGIN</th>\n",
       "      <th>STATUS</th>\n",
       "      <th>DEPARTMENT</th>\n",
       "      <th>NEIGHBORHOOD</th>\n",
       "      <th>COUNCIL_DISTRICT</th>\n",
       "      <th>WARD</th>\n",
       "      <th>...</th>\n",
       "      <th>daily.temperatureMin</th>\n",
       "      <th>daily.temperatureMinTime</th>\n",
       "      <th>daily.time</th>\n",
       "      <th>daily.uvIndex</th>\n",
       "      <th>daily.uvIndexTime</th>\n",
       "      <th>daily.visibility</th>\n",
       "      <th>daily.windBearing</th>\n",
       "      <th>daily.windGust</th>\n",
       "      <th>daily.windGustTime</th>\n",
       "      <th>daily.windSpeed</th>\n",
       "    </tr>\n",
       "  </thead>\n",
       "  <tbody>\n",
       "    <tr>\n",
       "      <th>0</th>\n",
       "      <td>0</td>\n",
       "      <td>205290</td>\n",
       "      <td>2017-12-31T23:17:00</td>\n",
       "      <td>Snow/Ice removal</td>\n",
       "      <td>Website</td>\n",
       "      <td>1</td>\n",
       "      <td>DPW - Street Maintenance</td>\n",
       "      <td>Marshall-Shadeland</td>\n",
       "      <td>1.0</td>\n",
       "      <td>27.0</td>\n",
       "      <td>...</td>\n",
       "      <td>1.99</td>\n",
       "      <td>1.514722e+09</td>\n",
       "      <td>1.514696e+09</td>\n",
       "      <td>1.0</td>\n",
       "      <td>1.514732e+09</td>\n",
       "      <td>9.09</td>\n",
       "      <td>264.0</td>\n",
       "      <td>5.32</td>\n",
       "      <td>1.514696e+09</td>\n",
       "      <td>0.57</td>\n",
       "    </tr>\n",
       "    <tr>\n",
       "      <th>1</th>\n",
       "      <td>1</td>\n",
       "      <td>205289</td>\n",
       "      <td>2017-12-31T22:01:00</td>\n",
       "      <td>Snow/Ice removal</td>\n",
       "      <td>Report2Gov iOS</td>\n",
       "      <td>1</td>\n",
       "      <td>DPW - Street Maintenance</td>\n",
       "      <td>Stanton Heights</td>\n",
       "      <td>9.0</td>\n",
       "      <td>10.0</td>\n",
       "      <td>...</td>\n",
       "      <td>1.57</td>\n",
       "      <td>1.514722e+09</td>\n",
       "      <td>1.514696e+09</td>\n",
       "      <td>1.0</td>\n",
       "      <td>1.514732e+09</td>\n",
       "      <td>9.06</td>\n",
       "      <td>265.0</td>\n",
       "      <td>5.27</td>\n",
       "      <td>1.514696e+09</td>\n",
       "      <td>0.51</td>\n",
       "    </tr>\n",
       "    <tr>\n",
       "      <th>2</th>\n",
       "      <td>2</td>\n",
       "      <td>205288</td>\n",
       "      <td>2017-12-31T21:55:00</td>\n",
       "      <td>Snow/Ice removal</td>\n",
       "      <td>Website</td>\n",
       "      <td>1</td>\n",
       "      <td>DPW - Street Maintenance</td>\n",
       "      <td>New Homestead</td>\n",
       "      <td>5.0</td>\n",
       "      <td>31.0</td>\n",
       "      <td>...</td>\n",
       "      <td>1.76</td>\n",
       "      <td>1.514722e+09</td>\n",
       "      <td>1.514696e+09</td>\n",
       "      <td>1.0</td>\n",
       "      <td>1.514732e+09</td>\n",
       "      <td>9.06</td>\n",
       "      <td>257.0</td>\n",
       "      <td>5.38</td>\n",
       "      <td>1.514696e+09</td>\n",
       "      <td>0.63</td>\n",
       "    </tr>\n",
       "    <tr>\n",
       "      <th>3</th>\n",
       "      <td>3</td>\n",
       "      <td>205287</td>\n",
       "      <td>2017-12-31T18:23:00</td>\n",
       "      <td>Missed Pick Up</td>\n",
       "      <td>Website</td>\n",
       "      <td>1</td>\n",
       "      <td>DPW - Refuse</td>\n",
       "      <td>Mount Washington</td>\n",
       "      <td>2.0</td>\n",
       "      <td>19.0</td>\n",
       "      <td>...</td>\n",
       "      <td>1.50</td>\n",
       "      <td>1.514722e+09</td>\n",
       "      <td>1.514696e+09</td>\n",
       "      <td>1.0</td>\n",
       "      <td>1.514732e+09</td>\n",
       "      <td>9.09</td>\n",
       "      <td>262.0</td>\n",
       "      <td>5.35</td>\n",
       "      <td>1.514696e+09</td>\n",
       "      <td>0.55</td>\n",
       "    </tr>\n",
       "    <tr>\n",
       "      <th>4</th>\n",
       "      <td>4</td>\n",
       "      <td>205286</td>\n",
       "      <td>2017-12-31T17:56:00</td>\n",
       "      <td>Snow/Ice removal</td>\n",
       "      <td>Report2Gov iOS</td>\n",
       "      <td>1</td>\n",
       "      <td>DPW - Street Maintenance</td>\n",
       "      <td>Stanton Heights</td>\n",
       "      <td>9.0</td>\n",
       "      <td>10.0</td>\n",
       "      <td>...</td>\n",
       "      <td>1.57</td>\n",
       "      <td>1.514722e+09</td>\n",
       "      <td>1.514696e+09</td>\n",
       "      <td>1.0</td>\n",
       "      <td>1.514732e+09</td>\n",
       "      <td>9.06</td>\n",
       "      <td>265.0</td>\n",
       "      <td>5.27</td>\n",
       "      <td>1.514696e+09</td>\n",
       "      <td>0.52</td>\n",
       "    </tr>\n",
       "  </tbody>\n",
       "</table>\n",
       "<p>5 rows × 74 columns</p>\n",
       "</div>"
      ],
      "text/plain": [
       "   index  REQUEST_ID           CREATED_ON      REQUEST_TYPE  REQUEST_ORIGIN  \\\n",
       "0      0      205290  2017-12-31T23:17:00  Snow/Ice removal         Website   \n",
       "1      1      205289  2017-12-31T22:01:00  Snow/Ice removal  Report2Gov iOS   \n",
       "2      2      205288  2017-12-31T21:55:00  Snow/Ice removal         Website   \n",
       "3      3      205287  2017-12-31T18:23:00    Missed Pick Up         Website   \n",
       "4      4      205286  2017-12-31T17:56:00  Snow/Ice removal  Report2Gov iOS   \n",
       "\n",
       "   STATUS                DEPARTMENT        NEIGHBORHOOD  COUNCIL_DISTRICT  \\\n",
       "0       1  DPW - Street Maintenance  Marshall-Shadeland               1.0   \n",
       "1       1  DPW - Street Maintenance     Stanton Heights               9.0   \n",
       "2       1  DPW - Street Maintenance       New Homestead               5.0   \n",
       "3       1              DPW - Refuse    Mount Washington               2.0   \n",
       "4       1  DPW - Street Maintenance     Stanton Heights               9.0   \n",
       "\n",
       "   WARD       ...         daily.temperatureMin  daily.temperatureMinTime  \\\n",
       "0  27.0       ...                         1.99              1.514722e+09   \n",
       "1  10.0       ...                         1.57              1.514722e+09   \n",
       "2  31.0       ...                         1.76              1.514722e+09   \n",
       "3  19.0       ...                         1.50              1.514722e+09   \n",
       "4  10.0       ...                         1.57              1.514722e+09   \n",
       "\n",
       "     daily.time  daily.uvIndex daily.uvIndexTime  daily.visibility  \\\n",
       "0  1.514696e+09            1.0      1.514732e+09              9.09   \n",
       "1  1.514696e+09            1.0      1.514732e+09              9.06   \n",
       "2  1.514696e+09            1.0      1.514732e+09              9.06   \n",
       "3  1.514696e+09            1.0      1.514732e+09              9.09   \n",
       "4  1.514696e+09            1.0      1.514732e+09              9.06   \n",
       "\n",
       "   daily.windBearing daily.windGust  daily.windGustTime  daily.windSpeed  \n",
       "0              264.0           5.32        1.514696e+09             0.57  \n",
       "1              265.0           5.27        1.514696e+09             0.51  \n",
       "2              257.0           5.38        1.514696e+09             0.63  \n",
       "3              262.0           5.35        1.514696e+09             0.55  \n",
       "4              265.0           5.27        1.514696e+09             0.52  \n",
       "\n",
       "[5 rows x 74 columns]"
      ]
     },
     "execution_count": 5,
     "metadata": {},
     "output_type": "execute_result"
    }
   ],
   "source": [
    "df.head()"
   ]
  },
  {
   "cell_type": "code",
   "execution_count": 6,
   "metadata": {},
   "outputs": [
    {
     "data": {
      "text/plain": [
       "Index(['index', 'REQUEST_ID', 'CREATED_ON', 'REQUEST_TYPE', 'REQUEST_ORIGIN',\n",
       "       'STATUS', 'DEPARTMENT', 'NEIGHBORHOOD', 'COUNCIL_DISTRICT', 'WARD',\n",
       "       'TRACT', 'PUBLIC_WORKS_DIVISION', 'PLI_DIVISION', 'POLICE_ZONE',\n",
       "       'FIRE_ZONE', 'X', 'Y', 'GEO_ACCURACY', 'current.apparentTemperature',\n",
       "       'current.cloudCover', 'current.dewPoint', 'current.humidity',\n",
       "       'current.icon', 'current.precipIntensity', 'current.precipProbability',\n",
       "       'current.precipType', 'current.pressure', 'current.summary',\n",
       "       'current.temperature', 'current.time', 'current.uvIndex',\n",
       "       'current.visibility', 'current.windBearing', 'current.windGust',\n",
       "       'current.windSpeed', 'daily.apparentTemperatureHigh',\n",
       "       'daily.apparentTemperatureHighTime', 'daily.apparentTemperatureLow',\n",
       "       'daily.apparentTemperatureLowTime', 'daily.apparentTemperatureMax',\n",
       "       'daily.apparentTemperatureMaxTime', 'daily.apparentTemperatureMin',\n",
       "       'daily.apparentTemperatureMinTime', 'daily.cloudCover',\n",
       "       'daily.dewPoint', 'daily.humidity', 'daily.icon', 'daily.moonPhase',\n",
       "       'daily.precipAccumulation', 'daily.precipIntensity',\n",
       "       'daily.precipIntensityMax', 'daily.precipIntensityMaxTime',\n",
       "       'daily.precipProbability', 'daily.precipType', 'daily.pressure',\n",
       "       'daily.summary', 'daily.sunriseTime', 'daily.sunsetTime',\n",
       "       'daily.temperatureHigh', 'daily.temperatureHighTime',\n",
       "       'daily.temperatureLow', 'daily.temperatureLowTime',\n",
       "       'daily.temperatureMax', 'daily.temperatureMaxTime',\n",
       "       'daily.temperatureMin', 'daily.temperatureMinTime', 'daily.time',\n",
       "       'daily.uvIndex', 'daily.uvIndexTime', 'daily.visibility',\n",
       "       'daily.windBearing', 'daily.windGust', 'daily.windGustTime',\n",
       "       'daily.windSpeed'],\n",
       "      dtype='object')"
      ]
     },
     "execution_count": 6,
     "metadata": {},
     "output_type": "execute_result"
    }
   ],
   "source": [
    "df.columns"
   ]
  },
  {
   "cell_type": "code",
   "execution_count": null,
   "metadata": {},
   "outputs": [],
   "source": [
    "df['REQUEST_TYPE'].value_counts(sort=True, ascending=False, dropna=False) "
   ]
  },
  {
   "cell_type": "code",
   "execution_count": null,
   "metadata": {},
   "outputs": [],
   "source": [
    "df['REQUEST_TYPE'].value_counts(sort=True, ascending=False, dropna=False).hist(bins=50)"
   ]
  },
  {
   "cell_type": "code",
   "execution_count": null,
   "metadata": {
    "scrolled": true
   },
   "outputs": [],
   "source": [
    "df['REQUEST_TYPE'].value_counts(sort=True, ascending=False, dropna=False) "
   ]
  },
  {
   "cell_type": "code",
   "execution_count": null,
   "metadata": {},
   "outputs": [],
   "source": [
    "df['REQUEST_TYPE'].value_counts(sort=True, ascending=False, dropna=False).plot.barh()"
   ]
  },
  {
   "cell_type": "code",
   "execution_count": null,
   "metadata": {},
   "outputs": [],
   "source": [
    "df['REQUEST_ORIGIN'].value_counts(sort=True, ascending=False, dropna=False)"
   ]
  },
  {
   "cell_type": "code",
   "execution_count": null,
   "metadata": {},
   "outputs": [],
   "source": [
    "# visualizatins of various fields and weather events\n",
    "# time is based off the unix timestamp, this graph covers the entire year\n",
    "df['daily.time'].hist(bins=50)"
   ]
  },
  {
   "cell_type": "code",
   "execution_count": null,
   "metadata": {},
   "outputs": [],
   "source": [
    "df['current.precipIntensity'].hist()"
   ]
  },
  {
   "cell_type": "code",
   "execution_count": null,
   "metadata": {},
   "outputs": [],
   "source": [
    "df['daily.precipType'].value_counts(sort=True, ascending=False, dropna=False).plot.bar()"
   ]
  },
  {
   "cell_type": "code",
   "execution_count": null,
   "metadata": {},
   "outputs": [],
   "source": [
    "df['current.visibility'].hist(bins=10)"
   ]
  },
  {
   "cell_type": "code",
   "execution_count": null,
   "metadata": {},
   "outputs": [],
   "source": [
    "df['current.pressure'].hist(bins=100)"
   ]
  },
  {
   "cell_type": "code",
   "execution_count": null,
   "metadata": {},
   "outputs": [],
   "source": [
    "df['daily.pressure'].hist(bins=100)"
   ]
  },
  {
   "cell_type": "code",
   "execution_count": null,
   "metadata": {},
   "outputs": [],
   "source": [
    "df['daily.windSpeed'].hist(bins=1000)"
   ]
  },
  {
   "cell_type": "code",
   "execution_count": null,
   "metadata": {},
   "outputs": [],
   "source": [
    "df['daily.windGust'].hist(bins=1000)"
   ]
  },
  {
   "cell_type": "code",
   "execution_count": null,
   "metadata": {},
   "outputs": [],
   "source": [
    "df['daily.precipProbability'].hist(bins=100)"
   ]
  },
  {
   "cell_type": "code",
   "execution_count": null,
   "metadata": {},
   "outputs": [],
   "source": [
    "df['current.summary'].value_counts(sort=True, ascending=False, dropna=False)"
   ]
  },
  {
   "cell_type": "code",
   "execution_count": null,
   "metadata": {},
   "outputs": [],
   "source": [
    "df['current.summary'].value_counts(sort=True, ascending=False, dropna=False).plot.bar()"
   ]
  },
  {
   "cell_type": "code",
   "execution_count": null,
   "metadata": {},
   "outputs": [],
   "source": [
    "df['daily.temperatureHigh'].hist(bins=100)"
   ]
  },
  {
   "cell_type": "code",
   "execution_count": null,
   "metadata": {},
   "outputs": [],
   "source": [
    "df['daily.temperatureLow'].hist(bins=100)"
   ]
  },
  {
   "cell_type": "code",
   "execution_count": null,
   "metadata": {},
   "outputs": [],
   "source": [
    "df['daily.precipProbability'].hist(bins=100)"
   ]
  },
  {
   "cell_type": "code",
   "execution_count": null,
   "metadata": {},
   "outputs": [],
   "source": [
    "df['daily.precipAccumulation'].hist(bins=50)"
   ]
  },
  {
   "cell_type": "code",
   "execution_count": null,
   "metadata": {
    "scrolled": true
   },
   "outputs": [],
   "source": [
    "df['daily.humidity'].hist(bins=100)"
   ]
  },
  {
   "cell_type": "code",
   "execution_count": null,
   "metadata": {
    "scrolled": true
   },
   "outputs": [],
   "source": [
    "df['daily.pressure'].hist(bins=100)"
   ]
  },
  {
   "cell_type": "code",
   "execution_count": 5,
   "metadata": {},
   "outputs": [
    {
     "data": {
      "text/plain": [
       "Potholes                                8787\n",
       "Weeds/Debris                            7933\n",
       "Building Maintenance                    4037\n",
       "Abandoned Vehicle (parked on street)    2572\n",
       "Litter                                  1916\n",
       "Refuse Violations                       1802\n",
       "Illegal Parking                         1770\n",
       "Missed Pick Up                          1717\n",
       "Replace/Repair a Sign                   1554\n",
       "City Source (CDBG)                      1499\n",
       "Street Light - Repair                   1458\n",
       "Building Without a Permit               1348\n",
       "Vacant Building                         1264\n",
       "Paving Request                          1260\n",
       "Overgrowth                              1211\n",
       "Snow/Ice removal                        1050\n",
       "Pruning (city tree)                     1032\n",
       "Rodent control                           965\n",
       "Need Potable Water                       845\n",
       "Fire Safety System Not Working           818\n",
       "Dead Animal                              797\n",
       "Request New Sign                         785\n",
       "Illegal Dumping                          756\n",
       "Leak                                     744\n",
       "Traffic                                  739\n",
       "Catch Basin, Clogged                     732\n",
       "Name: REQUEST_TYPE, dtype: int64"
      ]
     },
     "execution_count": 5,
     "metadata": {},
     "output_type": "execute_result"
    }
   ],
   "source": [
    "df['REQUEST_TYPE'].value_counts(sort=True, ascending=False, dropna=False) "
   ]
  },
  {
   "cell_type": "code",
   "execution_count": 6,
   "metadata": {},
   "outputs": [],
   "source": [
    "request_list = ['Potholes', 'Weeds/Debris', 'Litter', 'Paving Request']"
   ]
  },
  {
   "cell_type": "code",
   "execution_count": 7,
   "metadata": {},
   "outputs": [],
   "source": [
    "df_holes = df[df['REQUEST_TYPE'] == 'Potholes']\n",
    "df_weeds = df[df['REQUEST_TYPE'] == 'Weeds/Debris']\n",
    "df_abandoned = df[df['REQUEST_TYPE'] == 'Abandoned Vehicle (parked on street)']\n",
    "df_litter = df[df['REQUEST_TYPE'] == 'Litter']\n",
    "df_paving = df[df['REQUEST_TYPE'] == 'Paving Request']\n",
    "\n",
    "\n",
    "\n"
   ]
  },
  {
   "cell_type": "code",
   "execution_count": null,
   "metadata": {},
   "outputs": [],
   "source": [
    "df_holes.describe()"
   ]
  },
  {
   "cell_type": "code",
   "execution_count": null,
   "metadata": {},
   "outputs": [],
   "source": [
    "df_weeds.describe()"
   ]
  },
  {
   "cell_type": "markdown",
   "metadata": {},
   "source": [
    "# Feature Selection"
   ]
  },
  {
   "cell_type": "code",
   "execution_count": 8,
   "metadata": {},
   "outputs": [],
   "source": [
    "def label_encode(df, columns):\n",
    "    for col in columns:\n",
    "        le = prep.LabelEncoder()\n",
    "        col_values_unique = list(df[col].unique())\n",
    "        le_fitted = le.fit(col_values_unique)\n",
    " \n",
    "        col_values = list(df[col].values)\n",
    "        #le.classes_\n",
    "        col_values_transformed = le.transform(col_values)\n",
    "        df[col] = col_values_transformed"
   ]
  },
  {
   "cell_type": "code",
   "execution_count": null,
   "metadata": {},
   "outputs": [],
   "source": [
    "X = df[['daily.apparentTemperatureHigh', 'daily.apparentTemperatureLow',\n",
    "       'daily.apparentTemperatureMax',\n",
    "       'daily.apparentTemperatureMin',\n",
    "       'daily.cloudCover',\n",
    "       'daily.dewPoint', 'daily.humidity',\n",
    "       'daily.precipAccumulation', 'daily.precipIntensity',\n",
    "       'daily.precipIntensityMax', \n",
    "       'daily.precipProbability', 'daily.pressure',\n",
    "       'daily.temperatureHigh', \n",
    "       'daily.temperatureLow', \n",
    "       'daily.temperatureMax', \n",
    "       'daily.temperatureMin', \n",
    "       'daily.uvIndex', 'daily.visibility',\n",
    "       'daily.windBearing', 'daily.windGust', \n",
    "       'daily.windSpeed']]\n",
    "y = df[['REQUEST_TYPE']]"
   ]
  },
  {
   "cell_type": "code",
   "execution_count": 21,
   "metadata": {},
   "outputs": [
    {
     "name": "stderr",
     "output_type": "stream",
     "text": [
      "C:\\dev\\Anaconda3\\lib\\site-packages\\ipykernel_launcher.py:10: SettingWithCopyWarning: \n",
      "A value is trying to be set on a copy of a slice from a DataFrame.\n",
      "Try using .loc[row_indexer,col_indexer] = value instead\n",
      "\n",
      "See the caveats in the documentation: http://pandas.pydata.org/pandas-docs/stable/indexing.html#indexing-view-versus-copy\n",
      "  # Remove the CWD from sys.path while we load stuff.\n"
     ]
    }
   ],
   "source": [
    "# as features/target\n",
    "#all features excluding times\n",
    "features_all = df[['current.apparentTemperature', 'current.cloudCover', 'current.dewPoint', 'current.humidity',\n",
    "       'current.icon', 'current.precipIntensity', 'current.precipProbability',\n",
    "       'current.precipType', 'current.pressure', 'current.summary',\n",
    "       'current.temperature', 'current.uvIndex',\n",
    "       'current.visibility', 'current.windBearing', 'current.windGust',\n",
    "       'current.windSpeed', 'daily.apparentTemperatureHigh',\n",
    "       'daily.apparentTemperatureLow', 'daily.apparentTemperatureMax',\n",
    "       'daily.apparentTemperatureMin', 'daily.cloudCover',\n",
    "       'daily.dewPoint', 'daily.humidity', 'daily.icon', 'daily.moonPhase',\n",
    "       'daily.precipAccumulation', 'daily.precipIntensity', 'daily.precipIntensityMax', \n",
    "       'daily.precipProbability', 'daily.precipType', 'daily.pressure',\n",
    "       'daily.summary', 'daily.temperatureHigh', 'daily.temperatureLow', \n",
    "       'daily.temperatureMax', 'daily.temperatureMin', 'daily.uvIndex', 'daily.visibility',\n",
    "       'daily.windBearing', 'daily.windGust', 'daily.windSpeed']]\n",
    "\n",
    "#most highly correlated features\n",
    "features = df[['current.cloudCover', 'current.humidity',\n",
    "       'current.icon', 'current.precipProbability',\n",
    "       'current.precipType', 'current.summary',\n",
    "       'current.temperature', 'current.uvIndex',\n",
    "       'daily.apparentTemperatureMin',\n",
    "       'daily.cloudCover', 'daily.dewPoint', 'daily.humidity',\n",
    "       'daily.precipAccumulation', 'daily.precipIntensity',\n",
    "       'daily.precipProbability', 'daily.precipType',  \n",
    "       'daily.temperatureMin', 'daily.uvIndex', 'daily.windSpeed']]\n",
    "       \n",
    "label_encode(features_all, features_all.columns.values)\n",
    "label_encode(features, features.columns.values)\n",
    "\n",
    "target = df[['REQUEST_TYPE']]\n",
    "label_encode(target, target.columns.values)"
   ]
  },
  {
   "cell_type": "markdown",
   "metadata": {},
   "source": [
    "### Correlations"
   ]
  },
  {
   "cell_type": "code",
   "execution_count": 22,
   "metadata": {},
   "outputs": [
    {
     "name": "stdout",
     "output_type": "stream",
     "text": [
      "The coefficient for current.apparentTemperature is 0.0008093613863588357\n",
      "The coefficient for current.cloudCover is -0.0037119627895202474\n",
      "The coefficient for current.dewPoint is 1.3409912479605674e-05\n",
      "The coefficient for current.humidity is -0.0021480800344471454\n",
      "The coefficient for current.icon is 0.02403535125486922\n",
      "The coefficient for current.precipIntensity is 0.0012802547149778313\n",
      "The coefficient for current.precipProbability is -0.011554449934477594\n",
      "The coefficient for current.precipType is 0.025345539228364418\n",
      "The coefficient for current.pressure is -0.00018096995981898594\n",
      "The coefficient for current.summary is -0.010728954833986162\n",
      "The coefficient for current.temperature is -0.0010486497248902876\n",
      "The coefficient for current.uvIndex is 0.009329663145923494\n",
      "The coefficient for current.visibility is 0.0001577448749850137\n",
      "The coefficient for current.windBearing is -4.233677063335327e-05\n",
      "The coefficient for current.windGust is 7.105487522226451e-05\n",
      "The coefficient for current.windSpeed is 0.0009395750610564881\n",
      "The coefficient for daily.apparentTemperatureHigh is 0.0013892944134645262\n",
      "The coefficient for daily.apparentTemperatureLow is 0.0019074720729788167\n",
      "The coefficient for daily.apparentTemperatureMax is -0.0007442264816080501\n",
      "The coefficient for daily.apparentTemperatureMin is -0.00400191062739003\n",
      "The coefficient for daily.cloudCover is -0.0034682516175310813\n",
      "The coefficient for daily.dewPoint is 0.003176535276032792\n",
      "The coefficient for daily.humidity is -0.0661964776021008\n",
      "The coefficient for daily.icon is -0.05422648899691992\n",
      "The coefficient for daily.moonPhase is 0.001085054998913109\n",
      "The coefficient for daily.precipAccumulation is -0.004671375214388841\n",
      "The coefficient for daily.precipIntensity is -0.0019739022211464653\n",
      "The coefficient for daily.precipIntensityMax is -0.00016119837886394576\n",
      "The coefficient for daily.precipProbability is 0.0030214432443727147\n",
      "The coefficient for daily.precipType is 0.022543721307223163\n",
      "The coefficient for daily.pressure is 0.00035589292527594274\n",
      "The coefficient for daily.summary is 0.001138047466322788\n",
      "The coefficient for daily.temperatureHigh is -0.0016582181906134386\n",
      "The coefficient for daily.temperatureLow is -0.0018596296358480183\n",
      "The coefficient for daily.temperatureMax is -0.0003341407433441283\n",
      "The coefficient for daily.temperatureMin is 0.0035458398762308733\n",
      "The coefficient for daily.uvIndex is 0.08762892423941242\n",
      "The coefficient for daily.visibility is -0.00029402104311600534\n",
      "The coefficient for daily.windBearing is 0.000885599979100392\n",
      "The coefficient for daily.windGust is 0.00039860872177787976\n",
      "The coefficient for daily.windSpeed is -0.004015100436733297\n"
     ]
    }
   ],
   "source": [
    "X_train, X_test, y_train, y_test = train_test_split(features_all, target, test_size = 0.2, random_state = 1)\n",
    "regression_model = LinearRegression()\n",
    "regression_model.fit(X_train, y_train)\n",
    "\n",
    "for idx, col_name in enumerate(X_train.columns):\n",
    "    print(\"The coefficient for {} is {}\".format(col_name, regression_model.coef_[0][idx]))"
   ]
  },
  {
   "cell_type": "code",
   "execution_count": 24,
   "metadata": {},
   "outputs": [
    {
     "name": "stdout",
     "output_type": "stream",
     "text": [
      "The coefficient for current.cloudCover is -0.0037119627895202474\n",
      "The coefficient for current.humidity is -0.0021480800344471454\n",
      "The coefficient for current.icon is 0.02403535125486922\n",
      "The coefficient for current.precipProbability is -0.011554449934477594\n",
      "The coefficient for current.precipType is 0.025345539228364418\n",
      "The coefficient for current.summary is -0.010728954833986162\n",
      "The coefficient for current.uvIndex is 0.009329663145923494\n",
      "The coefficient for daily.apparentTemperatureMin is -0.00400191062739003\n",
      "The coefficient for daily.cloudCover is -0.0034682516175310813\n",
      "The coefficient for daily.dewPoint is 0.003176535276032792\n",
      "The coefficient for daily.humidity is -0.0661964776021008\n",
      "The coefficient for daily.icon is -0.05422648899691992\n",
      "The coefficient for daily.precipAccumulation is -0.004671375214388841\n",
      "The coefficient for daily.precipProbability is 0.0030214432443727147\n",
      "The coefficient for daily.precipType is 0.022543721307223163\n",
      "The coefficient for daily.temperatureMin is 0.0035458398762308733\n",
      "The coefficient for daily.uvIndex is 0.08762892423941242\n",
      "The coefficient for daily.windSpeed is -0.004015100436733297\n"
     ]
    }
   ],
   "source": [
    "#top features\n",
    "for idx, col_name in enumerate(X_train.columns):\n",
    "    if abs(regression_model.coef_[0][idx]) > 0.002:\n",
    "        print(\"The coefficient for {} is {}\".format(col_name, regression_model.coef_[0][idx]))"
   ]
  },
  {
   "cell_type": "markdown",
   "metadata": {},
   "source": [
    "# Linear Regression"
   ]
  },
  {
   "cell_type": "code",
   "execution_count": 25,
   "metadata": {},
   "outputs": [
    {
     "data": {
      "text/plain": [
       "LinearRegression(copy_X=True, fit_intercept=True, n_jobs=None,\n",
       "         normalize=False)"
      ]
     },
     "execution_count": 25,
     "metadata": {},
     "output_type": "execute_result"
    }
   ],
   "source": [
    "X_train, X_test, y_train, y_test = train_test_split(features, target, test_size = 0.2, random_state = 1)\n",
    "regression_model = LinearRegression()\n",
    "regression_model.fit(X_train, y_train)"
   ]
  },
  {
   "cell_type": "code",
   "execution_count": 27,
   "metadata": {},
   "outputs": [
    {
     "data": {
      "text/plain": [
       "(0.006733526609910446, 65.86204639886435, 8.115543506066883)"
      ]
     },
     "execution_count": 27,
     "metadata": {},
     "output_type": "execute_result"
    }
   ],
   "source": [
    "y_pred = regression_model.predict(X_test)\n",
    "rmse = mean_squared_error(y_pred, y_test)\n",
    "regression_model.score(X_test, y_test),  rmse, math.sqrt(rmse)"
   ]
  },
  {
   "cell_type": "code",
   "execution_count": 28,
   "metadata": {},
   "outputs": [
    {
     "name": "stdout",
     "output_type": "stream",
     "text": [
      "sensitivity: nan\n",
      "specificity: nan\n",
      "false positive rate: nan\n",
      "precision: nan\n"
     ]
    },
    {
     "name": "stderr",
     "output_type": "stream",
     "text": [
      "C:\\dev\\Anaconda3\\lib\\site-packages\\ipykernel_launcher.py:7: RuntimeWarning: invalid value encountered in true_divide\n",
      "  import sys\n",
      "C:\\dev\\Anaconda3\\lib\\site-packages\\ipykernel_launcher.py:8: RuntimeWarning: invalid value encountered in longlong_scalars\n",
      "  \n",
      "C:\\dev\\Anaconda3\\lib\\site-packages\\ipykernel_launcher.py:9: RuntimeWarning: invalid value encountered in true_divide\n",
      "  if __name__ == '__main__':\n",
      "C:\\dev\\Anaconda3\\lib\\site-packages\\ipykernel_launcher.py:10: RuntimeWarning: invalid value encountered in true_divide\n",
      "  # Remove the CWD from sys.path while we load stuff.\n"
     ]
    }
   ],
   "source": [
    "confusion = confusion_matrix(y_test, y_pred.round())\n",
    "TP = confusion[1, 1]\n",
    "TN = confusion[0, 0]\n",
    "FP = confusion[0, 1]\n",
    "FN = confusion[1, 0]\n",
    "\n",
    "sensitivity = TP / float(FN + TP)\n",
    "specificity = TN / (TN + FP)\n",
    "false_positive_rate = FP / float(TN + FP)\n",
    "precision = TP / float(TP + FP)\n",
    "\n",
    "print (\"sensitivity: \" + str(sensitivity) + \n",
    "       \"\\nspecificity: \" + str(specificity) + \n",
    "       \"\\nfalse positive rate: \" + str(false_positive_rate) + \n",
    "       \"\\nprecision: \" + str(precision))"
   ]
  },
  {
   "cell_type": "markdown",
   "metadata": {},
   "source": [
    "# NB"
   ]
  },
  {
   "cell_type": "code",
   "execution_count": 29,
   "metadata": {},
   "outputs": [
    {
     "name": "stderr",
     "output_type": "stream",
     "text": [
      "C:\\dev\\Anaconda3\\lib\\site-packages\\sklearn\\utils\\validation.py:752: DataConversionWarning: A column-vector y was passed when a 1d array was expected. Please change the shape of y to (n_samples, ), for example using ravel().\n",
      "  y = column_or_1d(y, warn=True)\n"
     ]
    },
    {
     "data": {
      "text/plain": [
       "GaussianNB(priors=None, var_smoothing=1e-09)"
      ]
     },
     "execution_count": 29,
     "metadata": {},
     "output_type": "execute_result"
    }
   ],
   "source": [
    "X_train, X_test, y_train, y_test = train_test_split(features, target, test_size = 0.2, random_state = 1)\n",
    "nb = GaussianNB()\n",
    "nb.fit(X_train, y_train)"
   ]
  },
  {
   "cell_type": "code",
   "execution_count": 30,
   "metadata": {},
   "outputs": [
    {
     "data": {
      "text/plain": [
       "array([13, 12, 13, ..., 13,  4, 25], dtype=int64)"
      ]
     },
     "execution_count": 30,
     "metadata": {},
     "output_type": "execute_result"
    }
   ],
   "source": [
    "y_pred = nb.predict(X_test)\n",
    "y_pred"
   ]
  },
  {
   "cell_type": "code",
   "execution_count": 31,
   "metadata": {},
   "outputs": [
    {
     "data": {
      "text/plain": [
       "0.12197590849276242"
      ]
     },
     "execution_count": 31,
     "metadata": {},
     "output_type": "execute_result"
    }
   ],
   "source": [
    "accuracy_score(y_test, y_pred, normalize=True)"
   ]
  },
  {
   "cell_type": "code",
   "execution_count": 32,
   "metadata": {},
   "outputs": [
    {
     "name": "stdout",
     "output_type": "stream",
     "text": [
      "sensitivity: nan\n",
      "specificity: nan\n",
      "false positive rate: nan\n",
      "precision: nan\n"
     ]
    },
    {
     "name": "stderr",
     "output_type": "stream",
     "text": [
      "C:\\dev\\Anaconda3\\lib\\site-packages\\ipykernel_launcher.py:7: RuntimeWarning: invalid value encountered in true_divide\n",
      "  import sys\n",
      "C:\\dev\\Anaconda3\\lib\\site-packages\\ipykernel_launcher.py:8: RuntimeWarning: invalid value encountered in longlong_scalars\n",
      "  \n",
      "C:\\dev\\Anaconda3\\lib\\site-packages\\ipykernel_launcher.py:9: RuntimeWarning: invalid value encountered in true_divide\n",
      "  if __name__ == '__main__':\n",
      "C:\\dev\\Anaconda3\\lib\\site-packages\\ipykernel_launcher.py:10: RuntimeWarning: invalid value encountered in true_divide\n",
      "  # Remove the CWD from sys.path while we load stuff.\n"
     ]
    }
   ],
   "source": [
    "confusion = confusion_matrix(y_test, y_pred)\n",
    "TP = confusion[1, 1]\n",
    "TN = confusion[0, 0]\n",
    "FP = confusion[0, 1]\n",
    "FN = confusion[1, 0]\n",
    "\n",
    "sensitivity = TP / float(FN + TP)\n",
    "specificity = TN / (TN + FP)\n",
    "false_positive_rate = FP / float(TN + FP)\n",
    "precision = TP / float(TP + FP)\n",
    "\n",
    "print (\"sensitivity: \" + str(sensitivity) + \n",
    "       \"\\nspecificity: \" + str(specificity) + \n",
    "       \"\\nfalse positive rate: \" + str(false_positive_rate) + \n",
    "       \"\\nprecision: \" + str(precision))"
   ]
  },
  {
   "cell_type": "markdown",
   "metadata": {},
   "source": [
    "# KNN"
   ]
  },
  {
   "cell_type": "code",
   "execution_count": 33,
   "metadata": {},
   "outputs": [
    {
     "data": {
      "text/plain": [
       "KNeighborsRegressor(algorithm='auto', leaf_size=30, metric='minkowski',\n",
       "          metric_params=None, n_jobs=None, n_neighbors=4, p=2,\n",
       "          weights='uniform')"
      ]
     },
     "execution_count": 33,
     "metadata": {},
     "output_type": "execute_result"
    }
   ],
   "source": [
    "X_train, X_test, y_train, y_test = train_test_split(features, target, test_size = 0.2, random_state = 1)\n",
    "model = KNeighborsRegressor(n_neighbors=4)\n",
    "model.fit(X_train, y_train)"
   ]
  },
  {
   "cell_type": "code",
   "execution_count": 34,
   "metadata": {},
   "outputs": [
    {
     "data": {
      "text/plain": [
       "0.0792590343152141"
      ]
     },
     "execution_count": 34,
     "metadata": {},
     "output_type": "execute_result"
    }
   ],
   "source": [
    "y_pred = model.predict(X_test)\n",
    "accuracy_score(y_test, y_pred.round(), normalize=False) / len(y_test.index)"
   ]
  },
  {
   "cell_type": "code",
   "execution_count": 35,
   "metadata": {},
   "outputs": [
    {
     "name": "stdout",
     "output_type": "stream",
     "text": [
      "sensitivity: 0.9655172413793104\n",
      "specificity: 0.75\n",
      "false positive rate: 0.25\n",
      "precision: 0.9655172413793104\n"
     ]
    }
   ],
   "source": [
    "confusion = confusion_matrix(y_test, y_pred.round())\n",
    "TP = confusion[1, 1]\n",
    "TN = confusion[0, 0]\n",
    "FP = confusion[0, 1]\n",
    "FN = confusion[1, 0]\n",
    "\n",
    "sensitivity = TP / float(FN + TP)\n",
    "specificity = TN / (TN + FP)\n",
    "false_positive_rate = FP / float(TN + FP)\n",
    "precision = TP / float(TP + FP)\n",
    "\n",
    "print (\"sensitivity: \" + str(sensitivity) + \n",
    "       \"\\nspecificity: \" + str(specificity) + \n",
    "       \"\\nfalse positive rate: \" + str(false_positive_rate) + \n",
    "       \"\\nprecision: \" + str(precision))"
   ]
  },
  {
   "cell_type": "code",
   "execution_count": null,
   "metadata": {},
   "outputs": [],
   "source": []
  },
  {
   "cell_type": "markdown",
   "metadata": {},
   "source": [
    "# SVM (Runs forever)"
   ]
  },
  {
   "cell_type": "code",
   "execution_count": null,
   "metadata": {},
   "outputs": [
    {
     "name": "stderr",
     "output_type": "stream",
     "text": [
      "C:\\dev\\Anaconda3\\lib\\site-packages\\sklearn\\utils\\validation.py:752: DataConversionWarning: A column-vector y was passed when a 1d array was expected. Please change the shape of y to (n_samples, ), for example using ravel().\n",
      "  y = column_or_1d(y, warn=True)\n",
      "C:\\dev\\Anaconda3\\lib\\site-packages\\sklearn\\svm\\base.py:196: FutureWarning: The default value of gamma will change from 'auto' to 'scale' in version 0.22 to account better for unscaled features. Set gamma explicitly to 'auto' or 'scale' to avoid this warning.\n",
      "  \"avoid this warning.\", FutureWarning)\n"
     ]
    }
   ],
   "source": [
    "X_train, X_test, y_train, y_test = train_test_split(features, target, test_size = 0.2, random_state = 1)\n",
    "model = svm.SVC() \n",
    "model.fit(X_train, y_train)"
   ]
  },
  {
   "cell_type": "code",
   "execution_count": null,
   "metadata": {},
   "outputs": [],
   "source": [
    "y_pred = model.predict(X_test)\n",
    "accuracy_score(y_test, y_pred)"
   ]
  },
  {
   "cell_type": "code",
   "execution_count": null,
   "metadata": {},
   "outputs": [],
   "source": [
    "confusion = metrics.confusion_matrix(y_test, y_pred)\n",
    "TP = confusion[1, 1]\n",
    "TN = confusion[0, 0]\n",
    "FP = confusion[0, 1]\n",
    "FN = confusion[1, 0]\n",
    "\n",
    "sensitivity = TP / float(FN + TP)\n",
    "specificity = TN / (TN + FP)\n",
    "false_positive_rate = FP / float(TN + FP)\n",
    "precision = TP / float(TP + FP)\n",
    "\n",
    "print (\"sensitivity: \" + str(sensitivity) + \n",
    "       \"\\nspecificity: \" + str(specificity) + \n",
    "       \"\\nfalse positive rate: \" + str(false_positive_rate) + \n",
    "       \"\\nprecision: \" + str(precision))"
   ]
  },
  {
   "cell_type": "markdown",
   "metadata": {},
   "source": [
    "# Random Forest"
   ]
  },
  {
   "cell_type": "code",
   "execution_count": null,
   "metadata": {},
   "outputs": [],
   "source": []
  }
 ],
 "metadata": {
  "kernelspec": {
   "display_name": "Python 3",
   "language": "python",
   "name": "python3"
  },
  "language_info": {
   "codemirror_mode": {
    "name": "ipython",
    "version": 3
   },
   "file_extension": ".py",
   "mimetype": "text/x-python",
   "name": "python",
   "nbconvert_exporter": "python",
   "pygments_lexer": "ipython3",
   "version": "3.7.1"
  }
 },
 "nbformat": 4,
 "nbformat_minor": 2
}
