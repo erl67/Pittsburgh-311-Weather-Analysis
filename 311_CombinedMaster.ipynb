{
 "cells": [
  {
   "cell_type": "markdown",
   "metadata": {},
   "source": [
    "This program will read a csv file of 311 data to a dataframe.\n",
    "The dataframe will be cleaned as such: Remove all data other than the year 2017\n",
    "\n",
    "The results will be stored to a new csv file."
   ]
  },
  {
   "cell_type": "code",
   "execution_count": 1,
   "metadata": {},
   "outputs": [],
   "source": [
    "import pandas as pd\n",
    "import numpy as np\n",
    "import datetime as datetime\n",
    "import time\n",
    "%matplotlib inline"
   ]
  },
  {
   "cell_type": "code",
   "execution_count": 6,
   "metadata": {},
   "outputs": [],
   "source": [
    "# df311 = pd.read_csv('311cleaned.csv')\n",
    "# df = pd.merge(df311, dfwx,  left_on='REQUEST_ID', right_on='REQUEST_ID', how='left')        \n",
    "df = pd.read_csv('311Master.csv')"
   ]
  },
  {
   "cell_type": "code",
   "execution_count": 3,
   "metadata": {},
   "outputs": [],
   "source": []
  },
  {
   "cell_type": "code",
   "execution_count": 5,
   "metadata": {},
   "outputs": [
    {
     "data": {
      "text/html": [
       "<div>\n",
       "<style scoped>\n",
       "    .dataframe tbody tr th:only-of-type {\n",
       "        vertical-align: middle;\n",
       "    }\n",
       "\n",
       "    .dataframe tbody tr th {\n",
       "        vertical-align: top;\n",
       "    }\n",
       "\n",
       "    .dataframe thead th {\n",
       "        text-align: right;\n",
       "    }\n",
       "</style>\n",
       "<table border=\"1\" class=\"dataframe\">\n",
       "  <thead>\n",
       "    <tr style=\"text-align: right;\">\n",
       "      <th></th>\n",
       "      <th>REQUEST_ID</th>\n",
       "      <th>STATUS</th>\n",
       "      <th>COUNCIL_DISTRICT</th>\n",
       "      <th>WARD</th>\n",
       "      <th>TRACT</th>\n",
       "      <th>PUBLIC_WORKS_DIVISION</th>\n",
       "      <th>PLI_DIVISION</th>\n",
       "      <th>POLICE_ZONE</th>\n",
       "      <th>X</th>\n",
       "      <th>Y</th>\n",
       "      <th>...</th>\n",
       "      <th>daily.temperatureMin</th>\n",
       "      <th>daily.temperatureMinTime</th>\n",
       "      <th>daily.time</th>\n",
       "      <th>daily.uvIndex</th>\n",
       "      <th>daily.uvIndexTime</th>\n",
       "      <th>daily.visibility</th>\n",
       "      <th>daily.windBearing</th>\n",
       "      <th>daily.windGust</th>\n",
       "      <th>daily.windGustTime</th>\n",
       "      <th>daily.windSpeed</th>\n",
       "    </tr>\n",
       "  </thead>\n",
       "  <tbody>\n",
       "    <tr>\n",
       "      <th>count</th>\n",
       "      <td>79852.000000</td>\n",
       "      <td>79852.000000</td>\n",
       "      <td>76069.000000</td>\n",
       "      <td>75965.000000</td>\n",
       "      <td>7.612800e+04</td>\n",
       "      <td>75966.000000</td>\n",
       "      <td>75965.000000</td>\n",
       "      <td>75922.000000</td>\n",
       "      <td>76784.000000</td>\n",
       "      <td>76784.000000</td>\n",
       "      <td>...</td>\n",
       "      <td>76128.000000</td>\n",
       "      <td>7.612800e+04</td>\n",
       "      <td>7.612800e+04</td>\n",
       "      <td>76128.000000</td>\n",
       "      <td>7.612800e+04</td>\n",
       "      <td>76128.000000</td>\n",
       "      <td>76128.000000</td>\n",
       "      <td>76128.000000</td>\n",
       "      <td>7.612800e+04</td>\n",
       "      <td>76128.000000</td>\n",
       "    </tr>\n",
       "    <tr>\n",
       "      <th>mean</th>\n",
       "      <td>164666.873704</td>\n",
       "      <td>1.176514</td>\n",
       "      <td>4.882370</td>\n",
       "      <td>16.369157</td>\n",
       "      <td>4.200323e+10</td>\n",
       "      <td>3.029619</td>\n",
       "      <td>16.369157</td>\n",
       "      <td>3.550815</td>\n",
       "      <td>-79.289558</td>\n",
       "      <td>40.095406</td>\n",
       "      <td>...</td>\n",
       "      <td>48.345240</td>\n",
       "      <td>1.498402e+09</td>\n",
       "      <td>1.498365e+09</td>\n",
       "      <td>5.256568</td>\n",
       "      <td>1.498409e+09</td>\n",
       "      <td>9.378755</td>\n",
       "      <td>215.086381</td>\n",
       "      <td>9.185279</td>\n",
       "      <td>1.498414e+09</td>\n",
       "      <td>1.507024</td>\n",
       "    </tr>\n",
       "    <tr>\n",
       "      <th>std</th>\n",
       "      <td>23625.934393</td>\n",
       "      <td>0.703213</td>\n",
       "      <td>2.571621</td>\n",
       "      <td>8.025851</td>\n",
       "      <td>1.887250e+05</td>\n",
       "      <td>1.461813</td>\n",
       "      <td>8.025851</td>\n",
       "      <td>1.607305</td>\n",
       "      <td>7.360487</td>\n",
       "      <td>3.722107</td>\n",
       "      <td>...</td>\n",
       "      <td>15.309816</td>\n",
       "      <td>8.216627e+06</td>\n",
       "      <td>8.216940e+06</td>\n",
       "      <td>2.402328</td>\n",
       "      <td>8.216563e+06</td>\n",
       "      <td>0.871242</td>\n",
       "      <td>74.410305</td>\n",
       "      <td>4.469073</td>\n",
       "      <td>8.218056e+06</td>\n",
       "      <td>1.140489</td>\n",
       "    </tr>\n",
       "    <tr>\n",
       "      <th>min</th>\n",
       "      <td>123268.000000</td>\n",
       "      <td>0.000000</td>\n",
       "      <td>1.000000</td>\n",
       "      <td>0.000000</td>\n",
       "      <td>4.200301e+10</td>\n",
       "      <td>0.000000</td>\n",
       "      <td>0.000000</td>\n",
       "      <td>1.000000</td>\n",
       "      <td>-80.088105</td>\n",
       "      <td>0.000000</td>\n",
       "      <td>...</td>\n",
       "      <td>0.980000</td>\n",
       "      <td>1.483276e+09</td>\n",
       "      <td>1.483247e+09</td>\n",
       "      <td>1.000000</td>\n",
       "      <td>1.483290e+09</td>\n",
       "      <td>3.780000</td>\n",
       "      <td>0.000000</td>\n",
       "      <td>1.460000</td>\n",
       "      <td>1.483247e+09</td>\n",
       "      <td>0.020000</td>\n",
       "    </tr>\n",
       "    <tr>\n",
       "      <th>25%</th>\n",
       "      <td>144463.750000</td>\n",
       "      <td>1.000000</td>\n",
       "      <td>3.000000</td>\n",
       "      <td>10.000000</td>\n",
       "      <td>4.200311e+10</td>\n",
       "      <td>2.000000</td>\n",
       "      <td>10.000000</td>\n",
       "      <td>2.000000</td>\n",
       "      <td>-80.007287</td>\n",
       "      <td>40.421424</td>\n",
       "      <td>...</td>\n",
       "      <td>37.270000</td>\n",
       "      <td>1.491966e+09</td>\n",
       "      <td>1.491883e+09</td>\n",
       "      <td>3.000000</td>\n",
       "      <td>1.491937e+09</td>\n",
       "      <td>9.080000</td>\n",
       "      <td>186.000000</td>\n",
       "      <td>5.690000</td>\n",
       "      <td>1.491926e+09</td>\n",
       "      <td>0.700000</td>\n",
       "    </tr>\n",
       "    <tr>\n",
       "      <th>50%</th>\n",
       "      <td>164863.500000</td>\n",
       "      <td>1.000000</td>\n",
       "      <td>5.000000</td>\n",
       "      <td>16.000000</td>\n",
       "      <td>4.200318e+10</td>\n",
       "      <td>3.000000</td>\n",
       "      <td>16.000000</td>\n",
       "      <td>4.000000</td>\n",
       "      <td>-79.977465</td>\n",
       "      <td>40.444844</td>\n",
       "      <td>...</td>\n",
       "      <td>51.310000</td>\n",
       "      <td>1.498471e+09</td>\n",
       "      <td>1.498450e+09</td>\n",
       "      <td>5.000000</td>\n",
       "      <td>1.498489e+09</td>\n",
       "      <td>9.760000</td>\n",
       "      <td>224.000000</td>\n",
       "      <td>8.720000</td>\n",
       "      <td>1.498511e+09</td>\n",
       "      <td>1.290000</td>\n",
       "    </tr>\n",
       "    <tr>\n",
       "      <th>75%</th>\n",
       "      <td>185093.250000</td>\n",
       "      <td>1.000000</td>\n",
       "      <td>7.000000</td>\n",
       "      <td>22.000000</td>\n",
       "      <td>4.200328e+10</td>\n",
       "      <td>5.000000</td>\n",
       "      <td>22.000000</td>\n",
       "      <td>5.000000</td>\n",
       "      <td>-79.934367</td>\n",
       "      <td>40.461995</td>\n",
       "      <td>...</td>\n",
       "      <td>60.900000</td>\n",
       "      <td>1.504753e+09</td>\n",
       "      <td>1.504670e+09</td>\n",
       "      <td>7.000000</td>\n",
       "      <td>1.504714e+09</td>\n",
       "      <td>10.000000</td>\n",
       "      <td>266.000000</td>\n",
       "      <td>11.560000</td>\n",
       "      <td>1.504750e+09</td>\n",
       "      <td>2.080000</td>\n",
       "    </tr>\n",
       "    <tr>\n",
       "      <th>max</th>\n",
       "      <td>205290.000000</td>\n",
       "      <td>3.000000</td>\n",
       "      <td>9.000000</td>\n",
       "      <td>32.000000</td>\n",
       "      <td>4.200398e+10</td>\n",
       "      <td>6.000000</td>\n",
       "      <td>32.000000</td>\n",
       "      <td>6.000000</td>\n",
       "      <td>0.000000</td>\n",
       "      <td>40.526962</td>\n",
       "      <td>...</td>\n",
       "      <td>73.950000</td>\n",
       "      <td>1.514722e+09</td>\n",
       "      <td>1.514696e+09</td>\n",
       "      <td>10.000000</td>\n",
       "      <td>1.514732e+09</td>\n",
       "      <td>10.000000</td>\n",
       "      <td>359.000000</td>\n",
       "      <td>26.410000</td>\n",
       "      <td>1.514696e+09</td>\n",
       "      <td>6.150000</td>\n",
       "    </tr>\n",
       "  </tbody>\n",
       "</table>\n",
       "<p>8 rows × 60 columns</p>\n",
       "</div>"
      ],
      "text/plain": [
       "          REQUEST_ID        STATUS  COUNCIL_DISTRICT          WARD  \\\n",
       "count   79852.000000  79852.000000      76069.000000  75965.000000   \n",
       "mean   164666.873704      1.176514          4.882370     16.369157   \n",
       "std     23625.934393      0.703213          2.571621      8.025851   \n",
       "min    123268.000000      0.000000          1.000000      0.000000   \n",
       "25%    144463.750000      1.000000          3.000000     10.000000   \n",
       "50%    164863.500000      1.000000          5.000000     16.000000   \n",
       "75%    185093.250000      1.000000          7.000000     22.000000   \n",
       "max    205290.000000      3.000000          9.000000     32.000000   \n",
       "\n",
       "              TRACT  PUBLIC_WORKS_DIVISION  PLI_DIVISION   POLICE_ZONE  \\\n",
       "count  7.612800e+04           75966.000000  75965.000000  75922.000000   \n",
       "mean   4.200323e+10               3.029619     16.369157      3.550815   \n",
       "std    1.887250e+05               1.461813      8.025851      1.607305   \n",
       "min    4.200301e+10               0.000000      0.000000      1.000000   \n",
       "25%    4.200311e+10               2.000000     10.000000      2.000000   \n",
       "50%    4.200318e+10               3.000000     16.000000      4.000000   \n",
       "75%    4.200328e+10               5.000000     22.000000      5.000000   \n",
       "max    4.200398e+10               6.000000     32.000000      6.000000   \n",
       "\n",
       "                  X             Y       ...         daily.temperatureMin  \\\n",
       "count  76784.000000  76784.000000       ...                 76128.000000   \n",
       "mean     -79.289558     40.095406       ...                    48.345240   \n",
       "std        7.360487      3.722107       ...                    15.309816   \n",
       "min      -80.088105      0.000000       ...                     0.980000   \n",
       "25%      -80.007287     40.421424       ...                    37.270000   \n",
       "50%      -79.977465     40.444844       ...                    51.310000   \n",
       "75%      -79.934367     40.461995       ...                    60.900000   \n",
       "max        0.000000     40.526962       ...                    73.950000   \n",
       "\n",
       "       daily.temperatureMinTime    daily.time  daily.uvIndex  \\\n",
       "count              7.612800e+04  7.612800e+04   76128.000000   \n",
       "mean               1.498402e+09  1.498365e+09       5.256568   \n",
       "std                8.216627e+06  8.216940e+06       2.402328   \n",
       "min                1.483276e+09  1.483247e+09       1.000000   \n",
       "25%                1.491966e+09  1.491883e+09       3.000000   \n",
       "50%                1.498471e+09  1.498450e+09       5.000000   \n",
       "75%                1.504753e+09  1.504670e+09       7.000000   \n",
       "max                1.514722e+09  1.514696e+09      10.000000   \n",
       "\n",
       "       daily.uvIndexTime  daily.visibility  daily.windBearing  daily.windGust  \\\n",
       "count       7.612800e+04      76128.000000       76128.000000    76128.000000   \n",
       "mean        1.498409e+09          9.378755         215.086381        9.185279   \n",
       "std         8.216563e+06          0.871242          74.410305        4.469073   \n",
       "min         1.483290e+09          3.780000           0.000000        1.460000   \n",
       "25%         1.491937e+09          9.080000         186.000000        5.690000   \n",
       "50%         1.498489e+09          9.760000         224.000000        8.720000   \n",
       "75%         1.504714e+09         10.000000         266.000000       11.560000   \n",
       "max         1.514732e+09         10.000000         359.000000       26.410000   \n",
       "\n",
       "       daily.windGustTime  daily.windSpeed  \n",
       "count        7.612800e+04     76128.000000  \n",
       "mean         1.498414e+09         1.507024  \n",
       "std          8.218056e+06         1.140489  \n",
       "min          1.483247e+09         0.020000  \n",
       "25%          1.491926e+09         0.700000  \n",
       "50%          1.498511e+09         1.290000  \n",
       "75%          1.504750e+09         2.080000  \n",
       "max          1.514696e+09         6.150000  \n",
       "\n",
       "[8 rows x 60 columns]"
      ]
     },
     "execution_count": 5,
     "metadata": {},
     "output_type": "execute_result"
    }
   ],
   "source": [
    "df.describe()"
   ]
  },
  {
   "cell_type": "code",
   "execution_count": null,
   "metadata": {},
   "outputs": [],
   "source": [
    "df.head()"
   ]
  },
  {
   "cell_type": "code",
   "execution_count": 9,
   "metadata": {},
   "outputs": [
    {
     "data": {
      "text/plain": [
       "Index(['REQUEST_ID', 'CREATED_ON', 'REQUEST_TYPE', 'REQUEST_ORIGIN', 'STATUS',\n",
       "       'DEPARTMENT', 'NEIGHBORHOOD', 'COUNCIL_DISTRICT', 'WARD', 'TRACT',\n",
       "       'PUBLIC_WORKS_DIVISION', 'PLI_DIVISION', 'POLICE_ZONE', 'FIRE_ZONE',\n",
       "       'X', 'Y', 'GEO_ACCURACY', 'current.apparentTemperature',\n",
       "       'current.cloudCover', 'current.dewPoint', 'current.humidity',\n",
       "       'current.icon', 'current.precipIntensity', 'current.precipProbability',\n",
       "       'current.precipType', 'current.pressure', 'current.summary',\n",
       "       'current.temperature', 'current.time', 'current.uvIndex',\n",
       "       'current.visibility', 'current.windBearing', 'current.windGust',\n",
       "       'current.windSpeed', 'daily.apparentTemperatureHigh',\n",
       "       'daily.apparentTemperatureHighTime', 'daily.apparentTemperatureLow',\n",
       "       'daily.apparentTemperatureLowTime', 'daily.apparentTemperatureMax',\n",
       "       'daily.apparentTemperatureMaxTime', 'daily.apparentTemperatureMin',\n",
       "       'daily.apparentTemperatureMinTime', 'daily.cloudCover',\n",
       "       'daily.dewPoint', 'daily.humidity', 'daily.icon', 'daily.moonPhase',\n",
       "       'daily.precipAccumulation', 'daily.precipIntensity',\n",
       "       'daily.precipIntensityMax', 'daily.precipIntensityMaxTime',\n",
       "       'daily.precipProbability', 'daily.precipType', 'daily.pressure',\n",
       "       'daily.summary', 'daily.sunriseTime', 'daily.sunsetTime',\n",
       "       'daily.temperatureHigh', 'daily.temperatureHighTime',\n",
       "       'daily.temperatureLow', 'daily.temperatureLowTime',\n",
       "       'daily.temperatureMax', 'daily.temperatureMaxTime',\n",
       "       'daily.temperatureMin', 'daily.temperatureMinTime', 'daily.time',\n",
       "       'daily.uvIndex', 'daily.uvIndexTime', 'daily.visibility',\n",
       "       'daily.windBearing', 'daily.windGust', 'daily.windGustTime',\n",
       "       'daily.windSpeed'],\n",
       "      dtype='object')"
      ]
     },
     "execution_count": 9,
     "metadata": {},
     "output_type": "execute_result"
    }
   ],
   "source": [
    "df.columns"
   ]
  },
  {
   "cell_type": "code",
   "execution_count": null,
   "metadata": {},
   "outputs": [],
   "source": [
    "df['REQUEST_TYPE'].value_counts(sort=True, ascending=False, dropna=False) "
   ]
  },
  {
   "cell_type": "code",
   "execution_count": null,
   "metadata": {},
   "outputs": [],
   "source": [
    "df['REQUEST_TYPE'].value_counts(sort=True, ascending=False, dropna=False).hist(bins=50)"
   ]
  },
  {
   "cell_type": "code",
   "execution_count": 7,
   "metadata": {},
   "outputs": [],
   "source": [
    "s = df['REQUEST_TYPE'].value_counts()\n",
    "df = df[df.isin(s.index[s >= 500]).values]"
   ]
  },
  {
   "cell_type": "code",
   "execution_count": 8,
   "metadata": {
    "scrolled": true
   },
   "outputs": [
    {
     "data": {
      "text/plain": [
       "Potholes                                8787\n",
       "Weeds/Debris                            7933\n",
       "Building Maintenance                    4068\n",
       "Abandoned Vehicle (parked on street)    2633\n",
       "Litter                                  1916\n",
       "Refuse Violations                       1839\n",
       "Illegal Parking                         1784\n",
       "Missed Pick Up                          1735\n",
       "Referral                                1565\n",
       "Replace/Repair a Sign                   1554\n",
       "City Source (CDBG)                      1500\n",
       "Street Light - Repair                   1458\n",
       "Building Without a Permit               1442\n",
       "Vacant Building                         1264\n",
       "Paving Request                          1260\n",
       "Overgrowth                              1211\n",
       "Snow/Ice removal                        1050\n",
       "Pruning (city tree)                     1032\n",
       "Rodent control                           985\n",
       "Question                                 918\n",
       "Need Potable Water                       857\n",
       "Fire Safety System Not Working           821\n",
       "Dead Animal                              797\n",
       "Illegal Dumping                          785\n",
       "Request New Sign                         785\n",
       "Leak                                     744\n",
       "Traffic                                  739\n",
       "Catch Basin, Clogged                     732\n",
       "Patrol                                   722\n",
       "Street Cleaning/Sweeping                 690\n",
       "Drug Enforcement                         606\n",
       "Excessive Noise/Disturbances             602\n",
       "Traffic or Pedestrian Signal, Repair     585\n",
       "Mayor's Office                           571\n",
       "Sinkhole                                 555\n",
       "Tree Removal                             532\n",
       "Early Set Out                            529\n",
       "Name: REQUEST_TYPE, dtype: int64"
      ]
     },
     "execution_count": 8,
     "metadata": {},
     "output_type": "execute_result"
    }
   ],
   "source": [
    "df['REQUEST_TYPE'].value_counts(sort=True, ascending=False, dropna=False) "
   ]
  },
  {
   "cell_type": "code",
   "execution_count": 8,
   "metadata": {},
   "outputs": [
    {
     "data": {
      "text/html": [
       "<div>\n",
       "<style scoped>\n",
       "    .dataframe tbody tr th:only-of-type {\n",
       "        vertical-align: middle;\n",
       "    }\n",
       "\n",
       "    .dataframe tbody tr th {\n",
       "        vertical-align: top;\n",
       "    }\n",
       "\n",
       "    .dataframe thead th {\n",
       "        text-align: right;\n",
       "    }\n",
       "</style>\n",
       "<table border=\"1\" class=\"dataframe\">\n",
       "  <thead>\n",
       "    <tr style=\"text-align: right;\">\n",
       "      <th></th>\n",
       "      <th>REQUEST_ID</th>\n",
       "      <th>STATUS</th>\n",
       "      <th>COUNCIL_DISTRICT</th>\n",
       "      <th>WARD</th>\n",
       "      <th>TRACT</th>\n",
       "      <th>PUBLIC_WORKS_DIVISION</th>\n",
       "      <th>PLI_DIVISION</th>\n",
       "      <th>POLICE_ZONE</th>\n",
       "      <th>X</th>\n",
       "      <th>Y</th>\n",
       "      <th>...</th>\n",
       "      <th>daily.temperatureMin</th>\n",
       "      <th>daily.temperatureMinTime</th>\n",
       "      <th>daily.time</th>\n",
       "      <th>daily.uvIndex</th>\n",
       "      <th>daily.uvIndexTime</th>\n",
       "      <th>daily.visibility</th>\n",
       "      <th>daily.windBearing</th>\n",
       "      <th>daily.windGust</th>\n",
       "      <th>daily.windGustTime</th>\n",
       "      <th>daily.windSpeed</th>\n",
       "    </tr>\n",
       "  </thead>\n",
       "  <tbody>\n",
       "    <tr>\n",
       "      <th>count</th>\n",
       "      <td>57586.000000</td>\n",
       "      <td>57586.000000</td>\n",
       "      <td>54487.000000</td>\n",
       "      <td>54430.000000</td>\n",
       "      <td>5.453400e+04</td>\n",
       "      <td>54433.000000</td>\n",
       "      <td>54430.000000</td>\n",
       "      <td>54404.000000</td>\n",
       "      <td>54924.000000</td>\n",
       "      <td>54924.000000</td>\n",
       "      <td>...</td>\n",
       "      <td>54534.000000</td>\n",
       "      <td>5.453400e+04</td>\n",
       "      <td>5.453400e+04</td>\n",
       "      <td>54534.000000</td>\n",
       "      <td>5.453400e+04</td>\n",
       "      <td>54534.000000</td>\n",
       "      <td>54534.000000</td>\n",
       "      <td>54534.000000</td>\n",
       "      <td>5.453400e+04</td>\n",
       "      <td>54534.000000</td>\n",
       "    </tr>\n",
       "    <tr>\n",
       "      <th>mean</th>\n",
       "      <td>163689.935279</td>\n",
       "      <td>1.183100</td>\n",
       "      <td>4.896012</td>\n",
       "      <td>16.521202</td>\n",
       "      <td>4.200323e+10</td>\n",
       "      <td>3.024985</td>\n",
       "      <td>16.521202</td>\n",
       "      <td>3.567385</td>\n",
       "      <td>-79.404789</td>\n",
       "      <td>40.153593</td>\n",
       "      <td>...</td>\n",
       "      <td>48.328882</td>\n",
       "      <td>1.498055e+09</td>\n",
       "      <td>1.498019e+09</td>\n",
       "      <td>5.273261</td>\n",
       "      <td>1.498063e+09</td>\n",
       "      <td>9.373595</td>\n",
       "      <td>215.866854</td>\n",
       "      <td>9.247144</td>\n",
       "      <td>1.498068e+09</td>\n",
       "      <td>1.524998</td>\n",
       "    </tr>\n",
       "    <tr>\n",
       "      <th>std</th>\n",
       "      <td>23563.576057</td>\n",
       "      <td>0.701273</td>\n",
       "      <td>2.585238</td>\n",
       "      <td>8.005302</td>\n",
       "      <td>1.826824e+05</td>\n",
       "      <td>1.452966</td>\n",
       "      <td>8.005302</td>\n",
       "      <td>1.610822</td>\n",
       "      <td>6.715203</td>\n",
       "      <td>3.395793</td>\n",
       "      <td>...</td>\n",
       "      <td>15.317599</td>\n",
       "      <td>8.181299e+06</td>\n",
       "      <td>8.181773e+06</td>\n",
       "      <td>2.411958</td>\n",
       "      <td>8.181510e+06</td>\n",
       "      <td>0.869473</td>\n",
       "      <td>73.924376</td>\n",
       "      <td>4.509321</td>\n",
       "      <td>8.183161e+06</td>\n",
       "      <td>1.157011</td>\n",
       "    </tr>\n",
       "    <tr>\n",
       "      <th>min</th>\n",
       "      <td>123269.000000</td>\n",
       "      <td>0.000000</td>\n",
       "      <td>1.000000</td>\n",
       "      <td>0.000000</td>\n",
       "      <td>4.200301e+10</td>\n",
       "      <td>0.000000</td>\n",
       "      <td>0.000000</td>\n",
       "      <td>1.000000</td>\n",
       "      <td>-80.088105</td>\n",
       "      <td>0.000000</td>\n",
       "      <td>...</td>\n",
       "      <td>1.160000</td>\n",
       "      <td>1.483276e+09</td>\n",
       "      <td>1.483247e+09</td>\n",
       "      <td>1.000000</td>\n",
       "      <td>1.483290e+09</td>\n",
       "      <td>3.780000</td>\n",
       "      <td>0.000000</td>\n",
       "      <td>1.460000</td>\n",
       "      <td>1.483247e+09</td>\n",
       "      <td>0.020000</td>\n",
       "    </tr>\n",
       "    <tr>\n",
       "      <th>25%</th>\n",
       "      <td>143353.500000</td>\n",
       "      <td>1.000000</td>\n",
       "      <td>3.000000</td>\n",
       "      <td>11.000000</td>\n",
       "      <td>4.200311e+10</td>\n",
       "      <td>2.000000</td>\n",
       "      <td>11.000000</td>\n",
       "      <td>2.000000</td>\n",
       "      <td>-80.007275</td>\n",
       "      <td>40.420736</td>\n",
       "      <td>...</td>\n",
       "      <td>37.250000</td>\n",
       "      <td>1.491390e+09</td>\n",
       "      <td>1.491365e+09</td>\n",
       "      <td>3.000000</td>\n",
       "      <td>1.491412e+09</td>\n",
       "      <td>9.050000</td>\n",
       "      <td>187.000000</td>\n",
       "      <td>5.710000</td>\n",
       "      <td>1.491437e+09</td>\n",
       "      <td>0.710000</td>\n",
       "    </tr>\n",
       "    <tr>\n",
       "      <th>50%</th>\n",
       "      <td>163688.500000</td>\n",
       "      <td>1.000000</td>\n",
       "      <td>5.000000</td>\n",
       "      <td>16.000000</td>\n",
       "      <td>4.200318e+10</td>\n",
       "      <td>3.000000</td>\n",
       "      <td>16.000000</td>\n",
       "      <td>4.000000</td>\n",
       "      <td>-79.977669</td>\n",
       "      <td>40.445323</td>\n",
       "      <td>...</td>\n",
       "      <td>51.290000</td>\n",
       "      <td>1.498036e+09</td>\n",
       "      <td>1.498018e+09</td>\n",
       "      <td>5.000000</td>\n",
       "      <td>1.498061e+09</td>\n",
       "      <td>9.750000</td>\n",
       "      <td>224.000000</td>\n",
       "      <td>8.770000</td>\n",
       "      <td>1.498068e+09</td>\n",
       "      <td>1.300000</td>\n",
       "    </tr>\n",
       "    <tr>\n",
       "      <th>75%</th>\n",
       "      <td>183764.750000</td>\n",
       "      <td>1.000000</td>\n",
       "      <td>7.000000</td>\n",
       "      <td>22.000000</td>\n",
       "      <td>4.200329e+10</td>\n",
       "      <td>5.000000</td>\n",
       "      <td>22.000000</td>\n",
       "      <td>5.000000</td>\n",
       "      <td>-79.934506</td>\n",
       "      <td>40.462167</td>\n",
       "      <td>...</td>\n",
       "      <td>60.910000</td>\n",
       "      <td>1.504091e+09</td>\n",
       "      <td>1.504066e+09</td>\n",
       "      <td>7.000000</td>\n",
       "      <td>1.504112e+09</td>\n",
       "      <td>10.000000</td>\n",
       "      <td>267.000000</td>\n",
       "      <td>11.590000</td>\n",
       "      <td>1.504112e+09</td>\n",
       "      <td>2.100000</td>\n",
       "    </tr>\n",
       "    <tr>\n",
       "      <th>max</th>\n",
       "      <td>205290.000000</td>\n",
       "      <td>3.000000</td>\n",
       "      <td>9.000000</td>\n",
       "      <td>32.000000</td>\n",
       "      <td>4.200398e+10</td>\n",
       "      <td>6.000000</td>\n",
       "      <td>32.000000</td>\n",
       "      <td>6.000000</td>\n",
       "      <td>0.000000</td>\n",
       "      <td>40.526485</td>\n",
       "      <td>...</td>\n",
       "      <td>73.950000</td>\n",
       "      <td>1.514722e+09</td>\n",
       "      <td>1.514696e+09</td>\n",
       "      <td>10.000000</td>\n",
       "      <td>1.514732e+09</td>\n",
       "      <td>10.000000</td>\n",
       "      <td>359.000000</td>\n",
       "      <td>26.410000</td>\n",
       "      <td>1.514696e+09</td>\n",
       "      <td>6.150000</td>\n",
       "    </tr>\n",
       "  </tbody>\n",
       "</table>\n",
       "<p>8 rows × 60 columns</p>\n",
       "</div>"
      ],
      "text/plain": [
       "          REQUEST_ID        STATUS  COUNCIL_DISTRICT          WARD  \\\n",
       "count   57586.000000  57586.000000      54487.000000  54430.000000   \n",
       "mean   163689.935279      1.183100          4.896012     16.521202   \n",
       "std     23563.576057      0.701273          2.585238      8.005302   \n",
       "min    123269.000000      0.000000          1.000000      0.000000   \n",
       "25%    143353.500000      1.000000          3.000000     11.000000   \n",
       "50%    163688.500000      1.000000          5.000000     16.000000   \n",
       "75%    183764.750000      1.000000          7.000000     22.000000   \n",
       "max    205290.000000      3.000000          9.000000     32.000000   \n",
       "\n",
       "              TRACT  PUBLIC_WORKS_DIVISION  PLI_DIVISION   POLICE_ZONE  \\\n",
       "count  5.453400e+04           54433.000000  54430.000000  54404.000000   \n",
       "mean   4.200323e+10               3.024985     16.521202      3.567385   \n",
       "std    1.826824e+05               1.452966      8.005302      1.610822   \n",
       "min    4.200301e+10               0.000000      0.000000      1.000000   \n",
       "25%    4.200311e+10               2.000000     11.000000      2.000000   \n",
       "50%    4.200318e+10               3.000000     16.000000      4.000000   \n",
       "75%    4.200329e+10               5.000000     22.000000      5.000000   \n",
       "max    4.200398e+10               6.000000     32.000000      6.000000   \n",
       "\n",
       "                  X             Y       ...         daily.temperatureMin  \\\n",
       "count  54924.000000  54924.000000       ...                 54534.000000   \n",
       "mean     -79.404789     40.153593       ...                    48.328882   \n",
       "std        6.715203      3.395793       ...                    15.317599   \n",
       "min      -80.088105      0.000000       ...                     1.160000   \n",
       "25%      -80.007275     40.420736       ...                    37.250000   \n",
       "50%      -79.977669     40.445323       ...                    51.290000   \n",
       "75%      -79.934506     40.462167       ...                    60.910000   \n",
       "max        0.000000     40.526485       ...                    73.950000   \n",
       "\n",
       "       daily.temperatureMinTime    daily.time  daily.uvIndex  \\\n",
       "count              5.453400e+04  5.453400e+04   54534.000000   \n",
       "mean               1.498055e+09  1.498019e+09       5.273261   \n",
       "std                8.181299e+06  8.181773e+06       2.411958   \n",
       "min                1.483276e+09  1.483247e+09       1.000000   \n",
       "25%                1.491390e+09  1.491365e+09       3.000000   \n",
       "50%                1.498036e+09  1.498018e+09       5.000000   \n",
       "75%                1.504091e+09  1.504066e+09       7.000000   \n",
       "max                1.514722e+09  1.514696e+09      10.000000   \n",
       "\n",
       "       daily.uvIndexTime  daily.visibility  daily.windBearing  daily.windGust  \\\n",
       "count       5.453400e+04      54534.000000       54534.000000    54534.000000   \n",
       "mean        1.498063e+09          9.373595         215.866854        9.247144   \n",
       "std         8.181510e+06          0.869473          73.924376        4.509321   \n",
       "min         1.483290e+09          3.780000           0.000000        1.460000   \n",
       "25%         1.491412e+09          9.050000         187.000000        5.710000   \n",
       "50%         1.498061e+09          9.750000         224.000000        8.770000   \n",
       "75%         1.504112e+09         10.000000         267.000000       11.590000   \n",
       "max         1.514732e+09         10.000000         359.000000       26.410000   \n",
       "\n",
       "       daily.windGustTime  daily.windSpeed  \n",
       "count        5.453400e+04     54534.000000  \n",
       "mean         1.498068e+09         1.524998  \n",
       "std          8.183161e+06         1.157011  \n",
       "min          1.483247e+09         0.020000  \n",
       "25%          1.491437e+09         0.710000  \n",
       "50%          1.498068e+09         1.300000  \n",
       "75%          1.504112e+09         2.100000  \n",
       "max          1.514696e+09         6.150000  \n",
       "\n",
       "[8 rows x 60 columns]"
      ]
     },
     "execution_count": 8,
     "metadata": {},
     "output_type": "execute_result"
    }
   ],
   "source": [
    "df.describe()"
   ]
  },
  {
   "cell_type": "code",
   "execution_count": null,
   "metadata": {},
   "outputs": [],
   "source": [
    "df['REQUEST_ORIGIN'].value_counts(sort=True, ascending=False, dropna=False)"
   ]
  },
  {
   "cell_type": "code",
   "execution_count": 12,
   "metadata": {},
   "outputs": [
    {
     "data": {
      "text/plain": [
       "2017-05-01T14:02:00    8\n",
       "2017-02-01T12:44:00    6\n",
       "2017-03-07T11:25:00    6\n",
       "2017-08-27T19:12:00    6\n",
       "2017-02-01T12:59:00    5\n",
       "2017-08-27T19:10:00    5\n",
       "2017-08-03T11:09:00    5\n",
       "2017-10-20T11:06:00    5\n",
       "2017-02-01T14:26:00    5\n",
       "2017-06-06T10:43:00    5\n",
       "2017-03-09T11:10:00    5\n",
       "2017-04-20T12:54:00    5\n",
       "2017-08-02T11:52:00    5\n",
       "2017-03-07T14:38:00    5\n",
       "2017-08-21T11:03:00    5\n",
       "2017-03-08T11:30:00    5\n",
       "2017-03-29T15:01:00    5\n",
       "2017-03-08T08:31:00    5\n",
       "2017-08-02T09:20:00    5\n",
       "2017-08-03T11:02:00    5\n",
       "2017-04-17T11:18:00    5\n",
       "2017-07-07T08:19:00    5\n",
       "2017-03-07T11:35:00    5\n",
       "2017-03-07T10:47:00    5\n",
       "2017-02-01T13:29:00    5\n",
       "2017-03-07T14:53:00    5\n",
       "2017-03-07T12:15:00    5\n",
       "2017-02-01T12:50:00    5\n",
       "2017-09-19T10:17:00    5\n",
       "2017-05-31T12:33:00    5\n",
       "                      ..\n",
       "2017-05-01T12:57:00    1\n",
       "2017-09-27T11:42:00    1\n",
       "2017-08-17T13:19:00    1\n",
       "2017-08-31T07:59:00    1\n",
       "2017-04-21T13:52:00    1\n",
       "2017-11-15T12:03:00    1\n",
       "2017-01-24T17:44:00    1\n",
       "2017-01-04T10:00:00    1\n",
       "2017-04-17T11:04:00    1\n",
       "2017-12-31T16:18:00    1\n",
       "2017-10-02T14:43:00    1\n",
       "2017-03-10T08:49:00    1\n",
       "2017-04-04T09:01:00    1\n",
       "2017-01-04T07:36:00    1\n",
       "2017-05-30T15:18:00    1\n",
       "2017-02-13T17:30:00    1\n",
       "2017-04-29T17:48:00    1\n",
       "2017-06-28T14:38:00    1\n",
       "2017-04-11T11:40:00    1\n",
       "2017-06-14T07:22:00    1\n",
       "2017-05-15T19:07:00    1\n",
       "2017-01-10T10:52:00    1\n",
       "2017-04-19T15:28:00    1\n",
       "2017-06-08T12:30:00    1\n",
       "2017-06-01T12:40:00    1\n",
       "2017-01-25T14:44:00    1\n",
       "2017-01-11T12:35:00    1\n",
       "2017-02-27T11:04:00    1\n",
       "2017-04-28T14:06:00    1\n",
       "2017-03-26T15:50:00    1\n",
       "Name: CREATED_ON, Length: 48190, dtype: int64"
      ]
     },
     "execution_count": 12,
     "metadata": {},
     "output_type": "execute_result"
    }
   ],
   "source": [
    "df['CREATED_ON'].value_counts(sort=True, ascending=False, dropna=False)"
   ]
  },
  {
   "cell_type": "code",
   "execution_count": 14,
   "metadata": {},
   "outputs": [
    {
     "data": {
      "text/html": [
       "<div>\n",
       "<style scoped>\n",
       "    .dataframe tbody tr th:only-of-type {\n",
       "        vertical-align: middle;\n",
       "    }\n",
       "\n",
       "    .dataframe tbody tr th {\n",
       "        vertical-align: top;\n",
       "    }\n",
       "\n",
       "    .dataframe thead th {\n",
       "        text-align: right;\n",
       "    }\n",
       "</style>\n",
       "<table border=\"1\" class=\"dataframe\">\n",
       "  <thead>\n",
       "    <tr style=\"text-align: right;\">\n",
       "      <th></th>\n",
       "      <th>REQUEST_ID</th>\n",
       "      <th>STATUS</th>\n",
       "      <th>COUNCIL_DISTRICT</th>\n",
       "      <th>WARD</th>\n",
       "      <th>TRACT</th>\n",
       "      <th>PUBLIC_WORKS_DIVISION</th>\n",
       "      <th>PLI_DIVISION</th>\n",
       "      <th>POLICE_ZONE</th>\n",
       "      <th>X</th>\n",
       "      <th>Y</th>\n",
       "      <th>...</th>\n",
       "      <th>daily.temperatureMin</th>\n",
       "      <th>daily.temperatureMinTime</th>\n",
       "      <th>daily.time</th>\n",
       "      <th>daily.uvIndex</th>\n",
       "      <th>daily.uvIndexTime</th>\n",
       "      <th>daily.visibility</th>\n",
       "      <th>daily.windBearing</th>\n",
       "      <th>daily.windGust</th>\n",
       "      <th>daily.windGustTime</th>\n",
       "      <th>daily.windSpeed</th>\n",
       "    </tr>\n",
       "  </thead>\n",
       "  <tbody>\n",
       "    <tr>\n",
       "      <th>count</th>\n",
       "      <td>57586.000000</td>\n",
       "      <td>57586.000000</td>\n",
       "      <td>54487.000000</td>\n",
       "      <td>54430.000000</td>\n",
       "      <td>5.453400e+04</td>\n",
       "      <td>54433.000000</td>\n",
       "      <td>54430.000000</td>\n",
       "      <td>54404.000000</td>\n",
       "      <td>54924.000000</td>\n",
       "      <td>54924.000000</td>\n",
       "      <td>...</td>\n",
       "      <td>54534.000000</td>\n",
       "      <td>5.453400e+04</td>\n",
       "      <td>5.453400e+04</td>\n",
       "      <td>54534.000000</td>\n",
       "      <td>5.453400e+04</td>\n",
       "      <td>54534.000000</td>\n",
       "      <td>54534.000000</td>\n",
       "      <td>54534.000000</td>\n",
       "      <td>5.453400e+04</td>\n",
       "      <td>54534.000000</td>\n",
       "    </tr>\n",
       "    <tr>\n",
       "      <th>mean</th>\n",
       "      <td>163689.935279</td>\n",
       "      <td>1.183100</td>\n",
       "      <td>4.896012</td>\n",
       "      <td>16.521202</td>\n",
       "      <td>4.200323e+10</td>\n",
       "      <td>3.024985</td>\n",
       "      <td>16.521202</td>\n",
       "      <td>3.567385</td>\n",
       "      <td>-79.404789</td>\n",
       "      <td>40.153593</td>\n",
       "      <td>...</td>\n",
       "      <td>48.328882</td>\n",
       "      <td>1.498055e+09</td>\n",
       "      <td>1.498019e+09</td>\n",
       "      <td>5.273261</td>\n",
       "      <td>1.498063e+09</td>\n",
       "      <td>9.373595</td>\n",
       "      <td>215.866854</td>\n",
       "      <td>9.247144</td>\n",
       "      <td>1.498068e+09</td>\n",
       "      <td>1.524998</td>\n",
       "    </tr>\n",
       "    <tr>\n",
       "      <th>std</th>\n",
       "      <td>23563.576057</td>\n",
       "      <td>0.701273</td>\n",
       "      <td>2.585238</td>\n",
       "      <td>8.005302</td>\n",
       "      <td>1.826824e+05</td>\n",
       "      <td>1.452966</td>\n",
       "      <td>8.005302</td>\n",
       "      <td>1.610822</td>\n",
       "      <td>6.715203</td>\n",
       "      <td>3.395793</td>\n",
       "      <td>...</td>\n",
       "      <td>15.317599</td>\n",
       "      <td>8.181299e+06</td>\n",
       "      <td>8.181773e+06</td>\n",
       "      <td>2.411958</td>\n",
       "      <td>8.181510e+06</td>\n",
       "      <td>0.869473</td>\n",
       "      <td>73.924376</td>\n",
       "      <td>4.509321</td>\n",
       "      <td>8.183161e+06</td>\n",
       "      <td>1.157011</td>\n",
       "    </tr>\n",
       "    <tr>\n",
       "      <th>min</th>\n",
       "      <td>123269.000000</td>\n",
       "      <td>0.000000</td>\n",
       "      <td>1.000000</td>\n",
       "      <td>0.000000</td>\n",
       "      <td>4.200301e+10</td>\n",
       "      <td>0.000000</td>\n",
       "      <td>0.000000</td>\n",
       "      <td>1.000000</td>\n",
       "      <td>-80.088105</td>\n",
       "      <td>0.000000</td>\n",
       "      <td>...</td>\n",
       "      <td>1.160000</td>\n",
       "      <td>1.483276e+09</td>\n",
       "      <td>1.483247e+09</td>\n",
       "      <td>1.000000</td>\n",
       "      <td>1.483290e+09</td>\n",
       "      <td>3.780000</td>\n",
       "      <td>0.000000</td>\n",
       "      <td>1.460000</td>\n",
       "      <td>1.483247e+09</td>\n",
       "      <td>0.020000</td>\n",
       "    </tr>\n",
       "    <tr>\n",
       "      <th>25%</th>\n",
       "      <td>143353.500000</td>\n",
       "      <td>1.000000</td>\n",
       "      <td>3.000000</td>\n",
       "      <td>11.000000</td>\n",
       "      <td>4.200311e+10</td>\n",
       "      <td>2.000000</td>\n",
       "      <td>11.000000</td>\n",
       "      <td>2.000000</td>\n",
       "      <td>-80.007275</td>\n",
       "      <td>40.420736</td>\n",
       "      <td>...</td>\n",
       "      <td>37.250000</td>\n",
       "      <td>1.491390e+09</td>\n",
       "      <td>1.491365e+09</td>\n",
       "      <td>3.000000</td>\n",
       "      <td>1.491412e+09</td>\n",
       "      <td>9.050000</td>\n",
       "      <td>187.000000</td>\n",
       "      <td>5.710000</td>\n",
       "      <td>1.491437e+09</td>\n",
       "      <td>0.710000</td>\n",
       "    </tr>\n",
       "    <tr>\n",
       "      <th>50%</th>\n",
       "      <td>163688.500000</td>\n",
       "      <td>1.000000</td>\n",
       "      <td>5.000000</td>\n",
       "      <td>16.000000</td>\n",
       "      <td>4.200318e+10</td>\n",
       "      <td>3.000000</td>\n",
       "      <td>16.000000</td>\n",
       "      <td>4.000000</td>\n",
       "      <td>-79.977669</td>\n",
       "      <td>40.445323</td>\n",
       "      <td>...</td>\n",
       "      <td>51.290000</td>\n",
       "      <td>1.498036e+09</td>\n",
       "      <td>1.498018e+09</td>\n",
       "      <td>5.000000</td>\n",
       "      <td>1.498061e+09</td>\n",
       "      <td>9.750000</td>\n",
       "      <td>224.000000</td>\n",
       "      <td>8.770000</td>\n",
       "      <td>1.498068e+09</td>\n",
       "      <td>1.300000</td>\n",
       "    </tr>\n",
       "    <tr>\n",
       "      <th>75%</th>\n",
       "      <td>183764.750000</td>\n",
       "      <td>1.000000</td>\n",
       "      <td>7.000000</td>\n",
       "      <td>22.000000</td>\n",
       "      <td>4.200329e+10</td>\n",
       "      <td>5.000000</td>\n",
       "      <td>22.000000</td>\n",
       "      <td>5.000000</td>\n",
       "      <td>-79.934506</td>\n",
       "      <td>40.462167</td>\n",
       "      <td>...</td>\n",
       "      <td>60.910000</td>\n",
       "      <td>1.504091e+09</td>\n",
       "      <td>1.504066e+09</td>\n",
       "      <td>7.000000</td>\n",
       "      <td>1.504112e+09</td>\n",
       "      <td>10.000000</td>\n",
       "      <td>267.000000</td>\n",
       "      <td>11.590000</td>\n",
       "      <td>1.504112e+09</td>\n",
       "      <td>2.100000</td>\n",
       "    </tr>\n",
       "    <tr>\n",
       "      <th>max</th>\n",
       "      <td>205290.000000</td>\n",
       "      <td>3.000000</td>\n",
       "      <td>9.000000</td>\n",
       "      <td>32.000000</td>\n",
       "      <td>4.200398e+10</td>\n",
       "      <td>6.000000</td>\n",
       "      <td>32.000000</td>\n",
       "      <td>6.000000</td>\n",
       "      <td>0.000000</td>\n",
       "      <td>40.526485</td>\n",
       "      <td>...</td>\n",
       "      <td>73.950000</td>\n",
       "      <td>1.514722e+09</td>\n",
       "      <td>1.514696e+09</td>\n",
       "      <td>10.000000</td>\n",
       "      <td>1.514732e+09</td>\n",
       "      <td>10.000000</td>\n",
       "      <td>359.000000</td>\n",
       "      <td>26.410000</td>\n",
       "      <td>1.514696e+09</td>\n",
       "      <td>6.150000</td>\n",
       "    </tr>\n",
       "  </tbody>\n",
       "</table>\n",
       "<p>8 rows × 60 columns</p>\n",
       "</div>"
      ],
      "text/plain": [
       "          REQUEST_ID        STATUS  COUNCIL_DISTRICT          WARD  \\\n",
       "count   57586.000000  57586.000000      54487.000000  54430.000000   \n",
       "mean   163689.935279      1.183100          4.896012     16.521202   \n",
       "std     23563.576057      0.701273          2.585238      8.005302   \n",
       "min    123269.000000      0.000000          1.000000      0.000000   \n",
       "25%    143353.500000      1.000000          3.000000     11.000000   \n",
       "50%    163688.500000      1.000000          5.000000     16.000000   \n",
       "75%    183764.750000      1.000000          7.000000     22.000000   \n",
       "max    205290.000000      3.000000          9.000000     32.000000   \n",
       "\n",
       "              TRACT  PUBLIC_WORKS_DIVISION  PLI_DIVISION   POLICE_ZONE  \\\n",
       "count  5.453400e+04           54433.000000  54430.000000  54404.000000   \n",
       "mean   4.200323e+10               3.024985     16.521202      3.567385   \n",
       "std    1.826824e+05               1.452966      8.005302      1.610822   \n",
       "min    4.200301e+10               0.000000      0.000000      1.000000   \n",
       "25%    4.200311e+10               2.000000     11.000000      2.000000   \n",
       "50%    4.200318e+10               3.000000     16.000000      4.000000   \n",
       "75%    4.200329e+10               5.000000     22.000000      5.000000   \n",
       "max    4.200398e+10               6.000000     32.000000      6.000000   \n",
       "\n",
       "                  X             Y       ...         daily.temperatureMin  \\\n",
       "count  54924.000000  54924.000000       ...                 54534.000000   \n",
       "mean     -79.404789     40.153593       ...                    48.328882   \n",
       "std        6.715203      3.395793       ...                    15.317599   \n",
       "min      -80.088105      0.000000       ...                     1.160000   \n",
       "25%      -80.007275     40.420736       ...                    37.250000   \n",
       "50%      -79.977669     40.445323       ...                    51.290000   \n",
       "75%      -79.934506     40.462167       ...                    60.910000   \n",
       "max        0.000000     40.526485       ...                    73.950000   \n",
       "\n",
       "       daily.temperatureMinTime    daily.time  daily.uvIndex  \\\n",
       "count              5.453400e+04  5.453400e+04   54534.000000   \n",
       "mean               1.498055e+09  1.498019e+09       5.273261   \n",
       "std                8.181299e+06  8.181773e+06       2.411958   \n",
       "min                1.483276e+09  1.483247e+09       1.000000   \n",
       "25%                1.491390e+09  1.491365e+09       3.000000   \n",
       "50%                1.498036e+09  1.498018e+09       5.000000   \n",
       "75%                1.504091e+09  1.504066e+09       7.000000   \n",
       "max                1.514722e+09  1.514696e+09      10.000000   \n",
       "\n",
       "       daily.uvIndexTime  daily.visibility  daily.windBearing  daily.windGust  \\\n",
       "count       5.453400e+04      54534.000000       54534.000000    54534.000000   \n",
       "mean        1.498063e+09          9.373595         215.866854        9.247144   \n",
       "std         8.181510e+06          0.869473          73.924376        4.509321   \n",
       "min         1.483290e+09          3.780000           0.000000        1.460000   \n",
       "25%         1.491412e+09          9.050000         187.000000        5.710000   \n",
       "50%         1.498061e+09          9.750000         224.000000        8.770000   \n",
       "75%         1.504112e+09         10.000000         267.000000       11.590000   \n",
       "max         1.514732e+09         10.000000         359.000000       26.410000   \n",
       "\n",
       "       daily.windGustTime  daily.windSpeed  \n",
       "count        5.453400e+04     54534.000000  \n",
       "mean         1.498068e+09         1.524998  \n",
       "std          8.183161e+06         1.157011  \n",
       "min          1.483247e+09         0.020000  \n",
       "25%          1.491437e+09         0.710000  \n",
       "50%          1.498068e+09         1.300000  \n",
       "75%          1.504112e+09         2.100000  \n",
       "max          1.514696e+09         6.150000  \n",
       "\n",
       "[8 rows x 60 columns]"
      ]
     },
     "execution_count": 14,
     "metadata": {},
     "output_type": "execute_result"
    }
   ],
   "source": [
    "df.describe()"
   ]
  },
  {
   "cell_type": "code",
   "execution_count": 19,
   "metadata": {},
   "outputs": [
    {
     "data": {
      "text/plain": [
       "<matplotlib.axes._subplots.AxesSubplot at 0x1f0ec7b6e80>"
      ]
     },
     "execution_count": 19,
     "metadata": {},
     "output_type": "execute_result"
    },
    {
     "data": {
      "image/png": "[encoded data removed]",
      "text/plain": [
       "<Figure size 432x288 with 1 Axes>"
      ]
     },
     "metadata": {
      "needs_background": "light"
     },
     "output_type": "display_data"
    }
   ],
   "source": [
    "df['daily.time'].hist(bins=50)"
   ]
  },
  {
   "cell_type": "code",
   "execution_count": 11,
   "metadata": {},
   "outputs": [
    {
     "data": {
      "text/plain": [
       "<matplotlib.axes._subplots.AxesSubplot at 0x1a921b32ac8>"
      ]
     },
     "execution_count": 11,
     "metadata": {},
     "output_type": "execute_result"
    },
    {
     "data": {
      "image/png": "[encoded data removed]",
      "text/plain": [
       "<Figure size 432x288 with 1 Axes>"
      ]
     },
     "metadata": {
      "needs_background": "light"
     },
     "output_type": "display_data"
    }
   ],
   "source": [
    "df['current.precipIntensity'].hist()"
   ]
  },
  {
   "cell_type": "code",
   "execution_count": 15,
   "metadata": {},
   "outputs": [
    {
     "data": {
      "text/plain": [
       "<matplotlib.axes._subplots.AxesSubplot at 0x1a91eacb588>"
      ]
     },
     "execution_count": 15,
     "metadata": {},
     "output_type": "execute_result"
    },
    {
     "data": {
      "image/png": "[encoded data removed]",
      "text/plain": [
       "<Figure size 432x288 with 1 Axes>"
      ]
     },
     "metadata": {
      "needs_background": "light"
     },
     "output_type": "display_data"
    }
   ],
   "source": [
    "df['REQUEST_TYPE'].value_counts(sort=True, ascending=False, dropna=False).plot.bar()"
   ]
  },
  {
   "cell_type": "code",
   "execution_count": 16,
   "metadata": {},
   "outputs": [
    {
     "data": {
      "text/plain": [
       "<matplotlib.axes._subplots.AxesSubplot at 0x1a91ea91908>"
      ]
     },
     "execution_count": 16,
     "metadata": {},
     "output_type": "execute_result"
    },
    {
     "data": {
      "image/png": "[encoded data removed]",
      "text/plain": [
       "<Figure size 432x288 with 1 Axes>"
      ]
     },
     "metadata": {
      "needs_background": "light"
     },
     "output_type": "display_data"
    }
   ],
   "source": [
    "df['daily.precipType'].value_counts(sort=True, ascending=False, dropna=False).plot.bar()"
   ]
  },
  {
   "cell_type": "code",
   "execution_count": 18,
   "metadata": {},
   "outputs": [
    {
     "data": {
      "text/plain": [
       "<matplotlib.axes._subplots.AxesSubplot at 0x1a933643f28>"
      ]
     },
     "execution_count": 18,
     "metadata": {},
     "output_type": "execute_result"
    },
    {
     "data": {
      "image/png": "[encoded data removed]",
      "text/plain": [
       "<Figure size 432x288 with 1 Axes>"
      ]
     },
     "metadata": {
      "needs_background": "light"
     },
     "output_type": "display_data"
    }
   ],
   "source": [
    "df['current.visibility'].hist(bins=10)"
   ]
  },
  {
   "cell_type": "code",
   "execution_count": 23,
   "metadata": {},
   "outputs": [
    {
     "data": {
      "text/plain": [
       "<matplotlib.axes._subplots.AxesSubplot at 0x1a91f91ed68>"
      ]
     },
     "execution_count": 23,
     "metadata": {},
     "output_type": "execute_result"
    },
    {
     "data": {
      "image/png": "[encoded data removed]",
      "text/plain": [
       "<Figure size 432x288 with 1 Axes>"
      ]
     },
     "metadata": {
      "needs_background": "light"
     },
     "output_type": "display_data"
    }
   ],
   "source": [
    "df['current.pressure'].hist(bins=100)"
   ]
  },
  {
   "cell_type": "code",
   "execution_count": null,
   "metadata": {},
   "outputs": [],
   "source": []
  },
  {
   "cell_type": "code",
   "execution_count": 22,
   "metadata": {},
   "outputs": [
    {
     "data": {
      "text/plain": [
       "<matplotlib.axes._subplots.AxesSubplot at 0x1a91f826550>"
      ]
     },
     "execution_count": 22,
     "metadata": {},
     "output_type": "execute_result"
    },
    {
     "data": {
      "image/png": "[encoded data removed]",
      "text/plain": [
       "<Figure size 432x288 with 1 Axes>"
      ]
     },
     "metadata": {
      "needs_background": "light"
     },
     "output_type": "display_data"
    }
   ],
   "source": [
    "df['daily.pressure'].hist(bins=100)"
   ]
  },
  {
   "cell_type": "code",
   "execution_count": 29,
   "metadata": {},
   "outputs": [
    {
     "data": {
      "text/plain": [
       "<matplotlib.axes._subplots.AxesSubplot at 0x1a921641ac8>"
      ]
     },
     "execution_count": 29,
     "metadata": {},
     "output_type": "execute_result"
    },
    {
     "data": {
      "image/png": "[encoded data removed]",
      "text/plain": [
       "<Figure size 432x288 with 1 Axes>"
      ]
     },
     "metadata": {
      "needs_background": "light"
     },
     "output_type": "display_data"
    }
   ],
   "source": [
    "df['daily.windSpeed'].hist(bins=1000)"
   ]
  },
  {
   "cell_type": "code",
   "execution_count": 30,
   "metadata": {},
   "outputs": [
    {
     "data": {
      "text/plain": [
       "<matplotlib.axes._subplots.AxesSubplot at 0x1a9220e4c88>"
      ]
     },
     "execution_count": 30,
     "metadata": {},
     "output_type": "execute_result"
    },
    {
     "data": {
      "image/png": "[encoded data removed]",
      "text/plain": [
       "<Figure size 432x288 with 1 Axes>"
      ]
     },
     "metadata": {
      "needs_background": "light"
     },
     "output_type": "display_data"
    }
   ],
   "source": [
    "df['daily.windGust'].hist(bins=1000)"
   ]
  },
  {
   "cell_type": "code",
   "execution_count": 24,
   "metadata": {},
   "outputs": [
    {
     "data": {
      "text/plain": [
       "<matplotlib.axes._subplots.AxesSubplot at 0x1a91f699f60>"
      ]
     },
     "execution_count": 24,
     "metadata": {},
     "output_type": "execute_result"
    },
    {
     "data": {
      "image/png": "[encoded data removed]",
      "text/plain": [
       "<Figure size 432x288 with 1 Axes>"
      ]
     },
     "metadata": {
      "needs_background": "light"
     },
     "output_type": "display_data"
    }
   ],
   "source": [
    "df['daily.precipProbability'].hist(bins=100)"
   ]
  },
  {
   "cell_type": "code",
   "execution_count": 4,
   "metadata": {},
   "outputs": [
    {
     "data": {
      "text/plain": [
       "Clear                      25160\n",
       "Overcast                   16127\n",
       "Mostly Cloudy              13707\n",
       "Partly Cloudy              10920\n",
       "NaN                         3724\n",
       "Light Rain                  3684\n",
       "Drizzle                     3494\n",
       "Rain                        1012\n",
       "Foggy                        770\n",
       "Flurries                     665\n",
       "Light Snow                   161\n",
       "Humid and Mostly Cloudy      139\n",
       "Humid and Partly Cloudy      110\n",
       "Humid and Overcast            95\n",
       "Light Sleet                   53\n",
       "Humid                         20\n",
       "Snow                           9\n",
       "Sleet                          1\n",
       "Heavy Rain                     1\n",
       "Name: current.summary, dtype: int64"
      ]
     },
     "execution_count": 4,
     "metadata": {},
     "output_type": "execute_result"
    }
   ],
   "source": [
    "df['current.summary'].value_counts(sort=True, ascending=False, dropna=False)"
   ]
  },
  {
   "cell_type": "code",
   "execution_count": 25,
   "metadata": {},
   "outputs": [
    {
     "data": {
      "text/plain": [
       "<matplotlib.axes._subplots.AxesSubplot at 0x1a91fc96400>"
      ]
     },
     "execution_count": 25,
     "metadata": {},
     "output_type": "execute_result"
    },
    {
     "data": {
      "image/png": "[encoded data removed]",
      "text/plain": [
       "<Figure size 432x288 with 1 Axes>"
      ]
     },
     "metadata": {
      "needs_background": "light"
     },
     "output_type": "display_data"
    }
   ],
   "source": [
    "df['current.summary'].value_counts(sort=True, ascending=False, dropna=False).plot.bar()"
   ]
  },
  {
   "cell_type": "code",
   "execution_count": null,
   "metadata": {},
   "outputs": [],
   "source": [
    "for index, row in df.iterrows():    \n",
    "    date = datetime.datetime.strptime(row['CREATED_ON'], '%Y-%m-%d') \n",
    "    date -= datetime.timedelta(seconds=14400) #convert back from utc\n",
    "    timestamp = int(date.timestamp())"
   ]
  }
 ],
 "metadata": {
  "kernelspec": {
   "display_name": "Python 3",
   "language": "python",
   "name": "python3"
  },
  "language_info": {
   "codemirror_mode": {
    "name": "ipython",
    "version": 3
   },
   "file_extension": ".py",
   "mimetype": "text/x-python",
   "name": "python",
   "nbconvert_exporter": "python",
   "pygments_lexer": "ipython3",
   "version": "3.7.1"
  }
 },
 "nbformat": 4,
 "nbformat_minor": 2
}
