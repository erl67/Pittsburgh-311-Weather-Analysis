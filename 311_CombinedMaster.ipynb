{
 "cells": [
  {
   "cell_type": "markdown",
   "metadata": {},
   "source": [
    "This program will read a csv file of 311 data to a dataframe.\n",
    "The dataframe will be cleaned as such: Remove all data other than the year 2017\n",
    "\n",
    "The results will be stored to a new csv file."
   ]
  },
  {
   "cell_type": "code",
   "execution_count": 41,
   "metadata": {},
   "outputs": [],
   "source": [
    "import pandas as pd\n",
    "import numpy as np\n",
    "import datetime as datetime\n",
    "import time\n",
    "%matplotlib inline"
   ]
  },
  {
   "cell_type": "code",
   "execution_count": 42,
   "metadata": {},
   "outputs": [],
   "source": [
    "# df311 = pd.read_csv('311cleaned.csv')\n",
    "# dfwx = pd.read_csv('311weather.csv')\n",
    "# df = pd.merge(df311, dfwx,  left_on='REQUEST_ID', right_on='REQUEST_ID', how='left')  \n",
    "# saved merged data to 311Master.csv to save time loading\n",
    "df = pd.read_csv('311Master.csv')"
   ]
  },
  {
   "cell_type": "code",
   "execution_count": 43,
   "metadata": {},
   "outputs": [
    {
     "data": {
      "text/html": [
       "<div>\n",
       "<style scoped>\n",
       "    .dataframe tbody tr th:only-of-type {\n",
       "        vertical-align: middle;\n",
       "    }\n",
       "\n",
       "    .dataframe tbody tr th {\n",
       "        vertical-align: top;\n",
       "    }\n",
       "\n",
       "    .dataframe thead th {\n",
       "        text-align: right;\n",
       "    }\n",
       "</style>\n",
       "<table border=\"1\" class=\"dataframe\">\n",
       "  <thead>\n",
       "    <tr style=\"text-align: right;\">\n",
       "      <th></th>\n",
       "      <th>REQUEST_ID</th>\n",
       "      <th>STATUS</th>\n",
       "      <th>COUNCIL_DISTRICT</th>\n",
       "      <th>WARD</th>\n",
       "      <th>TRACT</th>\n",
       "      <th>PUBLIC_WORKS_DIVISION</th>\n",
       "      <th>PLI_DIVISION</th>\n",
       "      <th>POLICE_ZONE</th>\n",
       "      <th>X</th>\n",
       "      <th>Y</th>\n",
       "      <th>...</th>\n",
       "      <th>daily.temperatureMin</th>\n",
       "      <th>daily.temperatureMinTime</th>\n",
       "      <th>daily.time</th>\n",
       "      <th>daily.uvIndex</th>\n",
       "      <th>daily.uvIndexTime</th>\n",
       "      <th>daily.visibility</th>\n",
       "      <th>daily.windBearing</th>\n",
       "      <th>daily.windGust</th>\n",
       "      <th>daily.windGustTime</th>\n",
       "      <th>daily.windSpeed</th>\n",
       "    </tr>\n",
       "  </thead>\n",
       "  <tbody>\n",
       "    <tr>\n",
       "      <th>count</th>\n",
       "      <td>79852.000000</td>\n",
       "      <td>79852.000000</td>\n",
       "      <td>76069.000000</td>\n",
       "      <td>75965.000000</td>\n",
       "      <td>7.612800e+04</td>\n",
       "      <td>75966.000000</td>\n",
       "      <td>75965.000000</td>\n",
       "      <td>75922.000000</td>\n",
       "      <td>76784.000000</td>\n",
       "      <td>76784.000000</td>\n",
       "      <td>...</td>\n",
       "      <td>76128.000000</td>\n",
       "      <td>7.612800e+04</td>\n",
       "      <td>7.612800e+04</td>\n",
       "      <td>76128.000000</td>\n",
       "      <td>7.612800e+04</td>\n",
       "      <td>76128.000000</td>\n",
       "      <td>76128.000000</td>\n",
       "      <td>76128.000000</td>\n",
       "      <td>7.612800e+04</td>\n",
       "      <td>76128.000000</td>\n",
       "    </tr>\n",
       "    <tr>\n",
       "      <th>mean</th>\n",
       "      <td>164666.873704</td>\n",
       "      <td>1.176514</td>\n",
       "      <td>4.882370</td>\n",
       "      <td>16.369157</td>\n",
       "      <td>4.200323e+10</td>\n",
       "      <td>3.029619</td>\n",
       "      <td>16.369157</td>\n",
       "      <td>3.550815</td>\n",
       "      <td>-79.289558</td>\n",
       "      <td>40.095406</td>\n",
       "      <td>...</td>\n",
       "      <td>48.345240</td>\n",
       "      <td>1.498402e+09</td>\n",
       "      <td>1.498365e+09</td>\n",
       "      <td>5.256568</td>\n",
       "      <td>1.498409e+09</td>\n",
       "      <td>9.378755</td>\n",
       "      <td>215.086381</td>\n",
       "      <td>9.185279</td>\n",
       "      <td>1.498414e+09</td>\n",
       "      <td>1.507024</td>\n",
       "    </tr>\n",
       "    <tr>\n",
       "      <th>std</th>\n",
       "      <td>23625.934393</td>\n",
       "      <td>0.703213</td>\n",
       "      <td>2.571621</td>\n",
       "      <td>8.025851</td>\n",
       "      <td>1.887250e+05</td>\n",
       "      <td>1.461813</td>\n",
       "      <td>8.025851</td>\n",
       "      <td>1.607305</td>\n",
       "      <td>7.360487</td>\n",
       "      <td>3.722107</td>\n",
       "      <td>...</td>\n",
       "      <td>15.309816</td>\n",
       "      <td>8.216627e+06</td>\n",
       "      <td>8.216940e+06</td>\n",
       "      <td>2.402328</td>\n",
       "      <td>8.216563e+06</td>\n",
       "      <td>0.871242</td>\n",
       "      <td>74.410305</td>\n",
       "      <td>4.469073</td>\n",
       "      <td>8.218056e+06</td>\n",
       "      <td>1.140489</td>\n",
       "    </tr>\n",
       "    <tr>\n",
       "      <th>min</th>\n",
       "      <td>123268.000000</td>\n",
       "      <td>0.000000</td>\n",
       "      <td>1.000000</td>\n",
       "      <td>0.000000</td>\n",
       "      <td>4.200301e+10</td>\n",
       "      <td>0.000000</td>\n",
       "      <td>0.000000</td>\n",
       "      <td>1.000000</td>\n",
       "      <td>-80.088105</td>\n",
       "      <td>0.000000</td>\n",
       "      <td>...</td>\n",
       "      <td>0.980000</td>\n",
       "      <td>1.483276e+09</td>\n",
       "      <td>1.483247e+09</td>\n",
       "      <td>1.000000</td>\n",
       "      <td>1.483290e+09</td>\n",
       "      <td>3.780000</td>\n",
       "      <td>0.000000</td>\n",
       "      <td>1.460000</td>\n",
       "      <td>1.483247e+09</td>\n",
       "      <td>0.020000</td>\n",
       "    </tr>\n",
       "    <tr>\n",
       "      <th>25%</th>\n",
       "      <td>144463.750000</td>\n",
       "      <td>1.000000</td>\n",
       "      <td>3.000000</td>\n",
       "      <td>10.000000</td>\n",
       "      <td>4.200311e+10</td>\n",
       "      <td>2.000000</td>\n",
       "      <td>10.000000</td>\n",
       "      <td>2.000000</td>\n",
       "      <td>-80.007287</td>\n",
       "      <td>40.421424</td>\n",
       "      <td>...</td>\n",
       "      <td>37.270000</td>\n",
       "      <td>1.491966e+09</td>\n",
       "      <td>1.491883e+09</td>\n",
       "      <td>3.000000</td>\n",
       "      <td>1.491937e+09</td>\n",
       "      <td>9.080000</td>\n",
       "      <td>186.000000</td>\n",
       "      <td>5.690000</td>\n",
       "      <td>1.491926e+09</td>\n",
       "      <td>0.700000</td>\n",
       "    </tr>\n",
       "    <tr>\n",
       "      <th>50%</th>\n",
       "      <td>164863.500000</td>\n",
       "      <td>1.000000</td>\n",
       "      <td>5.000000</td>\n",
       "      <td>16.000000</td>\n",
       "      <td>4.200318e+10</td>\n",
       "      <td>3.000000</td>\n",
       "      <td>16.000000</td>\n",
       "      <td>4.000000</td>\n",
       "      <td>-79.977465</td>\n",
       "      <td>40.444844</td>\n",
       "      <td>...</td>\n",
       "      <td>51.310000</td>\n",
       "      <td>1.498471e+09</td>\n",
       "      <td>1.498450e+09</td>\n",
       "      <td>5.000000</td>\n",
       "      <td>1.498489e+09</td>\n",
       "      <td>9.760000</td>\n",
       "      <td>224.000000</td>\n",
       "      <td>8.720000</td>\n",
       "      <td>1.498511e+09</td>\n",
       "      <td>1.290000</td>\n",
       "    </tr>\n",
       "    <tr>\n",
       "      <th>75%</th>\n",
       "      <td>185093.250000</td>\n",
       "      <td>1.000000</td>\n",
       "      <td>7.000000</td>\n",
       "      <td>22.000000</td>\n",
       "      <td>4.200328e+10</td>\n",
       "      <td>5.000000</td>\n",
       "      <td>22.000000</td>\n",
       "      <td>5.000000</td>\n",
       "      <td>-79.934367</td>\n",
       "      <td>40.461995</td>\n",
       "      <td>...</td>\n",
       "      <td>60.900000</td>\n",
       "      <td>1.504753e+09</td>\n",
       "      <td>1.504670e+09</td>\n",
       "      <td>7.000000</td>\n",
       "      <td>1.504714e+09</td>\n",
       "      <td>10.000000</td>\n",
       "      <td>266.000000</td>\n",
       "      <td>11.560000</td>\n",
       "      <td>1.504750e+09</td>\n",
       "      <td>2.080000</td>\n",
       "    </tr>\n",
       "    <tr>\n",
       "      <th>max</th>\n",
       "      <td>205290.000000</td>\n",
       "      <td>3.000000</td>\n",
       "      <td>9.000000</td>\n",
       "      <td>32.000000</td>\n",
       "      <td>4.200398e+10</td>\n",
       "      <td>6.000000</td>\n",
       "      <td>32.000000</td>\n",
       "      <td>6.000000</td>\n",
       "      <td>0.000000</td>\n",
       "      <td>40.526962</td>\n",
       "      <td>...</td>\n",
       "      <td>73.950000</td>\n",
       "      <td>1.514722e+09</td>\n",
       "      <td>1.514696e+09</td>\n",
       "      <td>10.000000</td>\n",
       "      <td>1.514732e+09</td>\n",
       "      <td>10.000000</td>\n",
       "      <td>359.000000</td>\n",
       "      <td>26.410000</td>\n",
       "      <td>1.514696e+09</td>\n",
       "      <td>6.150000</td>\n",
       "    </tr>\n",
       "  </tbody>\n",
       "</table>\n",
       "<p>8 rows × 60 columns</p>\n",
       "</div>"
      ],
      "text/plain": [
       "          REQUEST_ID        STATUS  COUNCIL_DISTRICT          WARD  \\\n",
       "count   79852.000000  79852.000000      76069.000000  75965.000000   \n",
       "mean   164666.873704      1.176514          4.882370     16.369157   \n",
       "std     23625.934393      0.703213          2.571621      8.025851   \n",
       "min    123268.000000      0.000000          1.000000      0.000000   \n",
       "25%    144463.750000      1.000000          3.000000     10.000000   \n",
       "50%    164863.500000      1.000000          5.000000     16.000000   \n",
       "75%    185093.250000      1.000000          7.000000     22.000000   \n",
       "max    205290.000000      3.000000          9.000000     32.000000   \n",
       "\n",
       "              TRACT  PUBLIC_WORKS_DIVISION  PLI_DIVISION   POLICE_ZONE  \\\n",
       "count  7.612800e+04           75966.000000  75965.000000  75922.000000   \n",
       "mean   4.200323e+10               3.029619     16.369157      3.550815   \n",
       "std    1.887250e+05               1.461813      8.025851      1.607305   \n",
       "min    4.200301e+10               0.000000      0.000000      1.000000   \n",
       "25%    4.200311e+10               2.000000     10.000000      2.000000   \n",
       "50%    4.200318e+10               3.000000     16.000000      4.000000   \n",
       "75%    4.200328e+10               5.000000     22.000000      5.000000   \n",
       "max    4.200398e+10               6.000000     32.000000      6.000000   \n",
       "\n",
       "                  X             Y       ...         daily.temperatureMin  \\\n",
       "count  76784.000000  76784.000000       ...                 76128.000000   \n",
       "mean     -79.289558     40.095406       ...                    48.345240   \n",
       "std        7.360487      3.722107       ...                    15.309816   \n",
       "min      -80.088105      0.000000       ...                     0.980000   \n",
       "25%      -80.007287     40.421424       ...                    37.270000   \n",
       "50%      -79.977465     40.444844       ...                    51.310000   \n",
       "75%      -79.934367     40.461995       ...                    60.900000   \n",
       "max        0.000000     40.526962       ...                    73.950000   \n",
       "\n",
       "       daily.temperatureMinTime    daily.time  daily.uvIndex  \\\n",
       "count              7.612800e+04  7.612800e+04   76128.000000   \n",
       "mean               1.498402e+09  1.498365e+09       5.256568   \n",
       "std                8.216627e+06  8.216940e+06       2.402328   \n",
       "min                1.483276e+09  1.483247e+09       1.000000   \n",
       "25%                1.491966e+09  1.491883e+09       3.000000   \n",
       "50%                1.498471e+09  1.498450e+09       5.000000   \n",
       "75%                1.504753e+09  1.504670e+09       7.000000   \n",
       "max                1.514722e+09  1.514696e+09      10.000000   \n",
       "\n",
       "       daily.uvIndexTime  daily.visibility  daily.windBearing  daily.windGust  \\\n",
       "count       7.612800e+04      76128.000000       76128.000000    76128.000000   \n",
       "mean        1.498409e+09          9.378755         215.086381        9.185279   \n",
       "std         8.216563e+06          0.871242          74.410305        4.469073   \n",
       "min         1.483290e+09          3.780000           0.000000        1.460000   \n",
       "25%         1.491937e+09          9.080000         186.000000        5.690000   \n",
       "50%         1.498489e+09          9.760000         224.000000        8.720000   \n",
       "75%         1.504714e+09         10.000000         266.000000       11.560000   \n",
       "max         1.514732e+09         10.000000         359.000000       26.410000   \n",
       "\n",
       "       daily.windGustTime  daily.windSpeed  \n",
       "count        7.612800e+04     76128.000000  \n",
       "mean         1.498414e+09         1.507024  \n",
       "std          8.218056e+06         1.140489  \n",
       "min          1.483247e+09         0.020000  \n",
       "25%          1.491926e+09         0.700000  \n",
       "50%          1.498511e+09         1.290000  \n",
       "75%          1.504750e+09         2.080000  \n",
       "max          1.514696e+09         6.150000  \n",
       "\n",
       "[8 rows x 60 columns]"
      ]
     },
     "execution_count": 43,
     "metadata": {},
     "output_type": "execute_result"
    }
   ],
   "source": [
    "df.describe()"
   ]
  },
  {
   "cell_type": "code",
   "execution_count": 44,
   "metadata": {},
   "outputs": [
    {
     "data": {
      "text/html": [
       "<div>\n",
       "<style scoped>\n",
       "    .dataframe tbody tr th:only-of-type {\n",
       "        vertical-align: middle;\n",
       "    }\n",
       "\n",
       "    .dataframe tbody tr th {\n",
       "        vertical-align: top;\n",
       "    }\n",
       "\n",
       "    .dataframe thead th {\n",
       "        text-align: right;\n",
       "    }\n",
       "</style>\n",
       "<table border=\"1\" class=\"dataframe\">\n",
       "  <thead>\n",
       "    <tr style=\"text-align: right;\">\n",
       "      <th></th>\n",
       "      <th>REQUEST_ID</th>\n",
       "      <th>CREATED_ON</th>\n",
       "      <th>REQUEST_TYPE</th>\n",
       "      <th>REQUEST_ORIGIN</th>\n",
       "      <th>STATUS</th>\n",
       "      <th>DEPARTMENT</th>\n",
       "      <th>NEIGHBORHOOD</th>\n",
       "      <th>COUNCIL_DISTRICT</th>\n",
       "      <th>WARD</th>\n",
       "      <th>TRACT</th>\n",
       "      <th>...</th>\n",
       "      <th>daily.temperatureMin</th>\n",
       "      <th>daily.temperatureMinTime</th>\n",
       "      <th>daily.time</th>\n",
       "      <th>daily.uvIndex</th>\n",
       "      <th>daily.uvIndexTime</th>\n",
       "      <th>daily.visibility</th>\n",
       "      <th>daily.windBearing</th>\n",
       "      <th>daily.windGust</th>\n",
       "      <th>daily.windGustTime</th>\n",
       "      <th>daily.windSpeed</th>\n",
       "    </tr>\n",
       "  </thead>\n",
       "  <tbody>\n",
       "    <tr>\n",
       "      <th>0</th>\n",
       "      <td>205290</td>\n",
       "      <td>2017-12-31T23:17:00</td>\n",
       "      <td>Snow/Ice removal</td>\n",
       "      <td>Website</td>\n",
       "      <td>1</td>\n",
       "      <td>DPW - Street Maintenance</td>\n",
       "      <td>Marshall-Shadeland</td>\n",
       "      <td>1.0</td>\n",
       "      <td>27.0</td>\n",
       "      <td>4.200327e+10</td>\n",
       "      <td>...</td>\n",
       "      <td>1.99</td>\n",
       "      <td>1.514722e+09</td>\n",
       "      <td>1.514696e+09</td>\n",
       "      <td>1.0</td>\n",
       "      <td>1.514732e+09</td>\n",
       "      <td>9.09</td>\n",
       "      <td>264.0</td>\n",
       "      <td>5.32</td>\n",
       "      <td>1.514696e+09</td>\n",
       "      <td>0.57</td>\n",
       "    </tr>\n",
       "    <tr>\n",
       "      <th>1</th>\n",
       "      <td>205289</td>\n",
       "      <td>2017-12-31T22:01:00</td>\n",
       "      <td>Snow/Ice removal</td>\n",
       "      <td>Report2Gov iOS</td>\n",
       "      <td>1</td>\n",
       "      <td>DPW - Street Maintenance</td>\n",
       "      <td>Stanton Heights</td>\n",
       "      <td>9.0</td>\n",
       "      <td>10.0</td>\n",
       "      <td>4.200310e+10</td>\n",
       "      <td>...</td>\n",
       "      <td>1.57</td>\n",
       "      <td>1.514722e+09</td>\n",
       "      <td>1.514696e+09</td>\n",
       "      <td>1.0</td>\n",
       "      <td>1.514732e+09</td>\n",
       "      <td>9.06</td>\n",
       "      <td>265.0</td>\n",
       "      <td>5.27</td>\n",
       "      <td>1.514696e+09</td>\n",
       "      <td>0.51</td>\n",
       "    </tr>\n",
       "    <tr>\n",
       "      <th>2</th>\n",
       "      <td>205288</td>\n",
       "      <td>2017-12-31T21:55:00</td>\n",
       "      <td>Snow/Ice removal</td>\n",
       "      <td>Website</td>\n",
       "      <td>1</td>\n",
       "      <td>DPW - Street Maintenance</td>\n",
       "      <td>New Homestead</td>\n",
       "      <td>5.0</td>\n",
       "      <td>31.0</td>\n",
       "      <td>4.200331e+10</td>\n",
       "      <td>...</td>\n",
       "      <td>1.76</td>\n",
       "      <td>1.514722e+09</td>\n",
       "      <td>1.514696e+09</td>\n",
       "      <td>1.0</td>\n",
       "      <td>1.514732e+09</td>\n",
       "      <td>9.06</td>\n",
       "      <td>257.0</td>\n",
       "      <td>5.38</td>\n",
       "      <td>1.514696e+09</td>\n",
       "      <td>0.63</td>\n",
       "    </tr>\n",
       "    <tr>\n",
       "      <th>3</th>\n",
       "      <td>205287</td>\n",
       "      <td>2017-12-31T18:23:00</td>\n",
       "      <td>Missed Pick Up</td>\n",
       "      <td>Website</td>\n",
       "      <td>1</td>\n",
       "      <td>DPW - Refuse</td>\n",
       "      <td>Mount Washington</td>\n",
       "      <td>2.0</td>\n",
       "      <td>19.0</td>\n",
       "      <td>4.200319e+10</td>\n",
       "      <td>...</td>\n",
       "      <td>1.50</td>\n",
       "      <td>1.514722e+09</td>\n",
       "      <td>1.514696e+09</td>\n",
       "      <td>1.0</td>\n",
       "      <td>1.514732e+09</td>\n",
       "      <td>9.09</td>\n",
       "      <td>262.0</td>\n",
       "      <td>5.35</td>\n",
       "      <td>1.514696e+09</td>\n",
       "      <td>0.55</td>\n",
       "    </tr>\n",
       "    <tr>\n",
       "      <th>4</th>\n",
       "      <td>205286</td>\n",
       "      <td>2017-12-31T17:56:00</td>\n",
       "      <td>Snow/Ice removal</td>\n",
       "      <td>Report2Gov iOS</td>\n",
       "      <td>1</td>\n",
       "      <td>DPW - Street Maintenance</td>\n",
       "      <td>Stanton Heights</td>\n",
       "      <td>9.0</td>\n",
       "      <td>10.0</td>\n",
       "      <td>4.200310e+10</td>\n",
       "      <td>...</td>\n",
       "      <td>1.57</td>\n",
       "      <td>1.514722e+09</td>\n",
       "      <td>1.514696e+09</td>\n",
       "      <td>1.0</td>\n",
       "      <td>1.514732e+09</td>\n",
       "      <td>9.06</td>\n",
       "      <td>265.0</td>\n",
       "      <td>5.27</td>\n",
       "      <td>1.514696e+09</td>\n",
       "      <td>0.52</td>\n",
       "    </tr>\n",
       "  </tbody>\n",
       "</table>\n",
       "<p>5 rows × 73 columns</p>\n",
       "</div>"
      ],
      "text/plain": [
       "   REQUEST_ID           CREATED_ON      REQUEST_TYPE  REQUEST_ORIGIN  STATUS  \\\n",
       "0      205290  2017-12-31T23:17:00  Snow/Ice removal         Website       1   \n",
       "1      205289  2017-12-31T22:01:00  Snow/Ice removal  Report2Gov iOS       1   \n",
       "2      205288  2017-12-31T21:55:00  Snow/Ice removal         Website       1   \n",
       "3      205287  2017-12-31T18:23:00    Missed Pick Up         Website       1   \n",
       "4      205286  2017-12-31T17:56:00  Snow/Ice removal  Report2Gov iOS       1   \n",
       "\n",
       "                 DEPARTMENT        NEIGHBORHOOD  COUNCIL_DISTRICT  WARD  \\\n",
       "0  DPW - Street Maintenance  Marshall-Shadeland               1.0  27.0   \n",
       "1  DPW - Street Maintenance     Stanton Heights               9.0  10.0   \n",
       "2  DPW - Street Maintenance       New Homestead               5.0  31.0   \n",
       "3              DPW - Refuse    Mount Washington               2.0  19.0   \n",
       "4  DPW - Street Maintenance     Stanton Heights               9.0  10.0   \n",
       "\n",
       "          TRACT       ...         daily.temperatureMin  \\\n",
       "0  4.200327e+10       ...                         1.99   \n",
       "1  4.200310e+10       ...                         1.57   \n",
       "2  4.200331e+10       ...                         1.76   \n",
       "3  4.200319e+10       ...                         1.50   \n",
       "4  4.200310e+10       ...                         1.57   \n",
       "\n",
       "   daily.temperatureMinTime    daily.time daily.uvIndex  daily.uvIndexTime  \\\n",
       "0              1.514722e+09  1.514696e+09           1.0       1.514732e+09   \n",
       "1              1.514722e+09  1.514696e+09           1.0       1.514732e+09   \n",
       "2              1.514722e+09  1.514696e+09           1.0       1.514732e+09   \n",
       "3              1.514722e+09  1.514696e+09           1.0       1.514732e+09   \n",
       "4              1.514722e+09  1.514696e+09           1.0       1.514732e+09   \n",
       "\n",
       "   daily.visibility daily.windBearing  daily.windGust  daily.windGustTime  \\\n",
       "0              9.09             264.0            5.32        1.514696e+09   \n",
       "1              9.06             265.0            5.27        1.514696e+09   \n",
       "2              9.06             257.0            5.38        1.514696e+09   \n",
       "3              9.09             262.0            5.35        1.514696e+09   \n",
       "4              9.06             265.0            5.27        1.514696e+09   \n",
       "\n",
       "   daily.windSpeed  \n",
       "0             0.57  \n",
       "1             0.51  \n",
       "2             0.63  \n",
       "3             0.55  \n",
       "4             0.52  \n",
       "\n",
       "[5 rows x 73 columns]"
      ]
     },
     "execution_count": 44,
     "metadata": {},
     "output_type": "execute_result"
    }
   ],
   "source": [
    "df.head()"
   ]
  },
  {
   "cell_type": "code",
   "execution_count": 45,
   "metadata": {},
   "outputs": [
    {
     "data": {
      "text/plain": [
       "Index(['REQUEST_ID', 'CREATED_ON', 'REQUEST_TYPE', 'REQUEST_ORIGIN', 'STATUS',\n",
       "       'DEPARTMENT', 'NEIGHBORHOOD', 'COUNCIL_DISTRICT', 'WARD', 'TRACT',\n",
       "       'PUBLIC_WORKS_DIVISION', 'PLI_DIVISION', 'POLICE_ZONE', 'FIRE_ZONE',\n",
       "       'X', 'Y', 'GEO_ACCURACY', 'current.apparentTemperature',\n",
       "       'current.cloudCover', 'current.dewPoint', 'current.humidity',\n",
       "       'current.icon', 'current.precipIntensity', 'current.precipProbability',\n",
       "       'current.precipType', 'current.pressure', 'current.summary',\n",
       "       'current.temperature', 'current.time', 'current.uvIndex',\n",
       "       'current.visibility', 'current.windBearing', 'current.windGust',\n",
       "       'current.windSpeed', 'daily.apparentTemperatureHigh',\n",
       "       'daily.apparentTemperatureHighTime', 'daily.apparentTemperatureLow',\n",
       "       'daily.apparentTemperatureLowTime', 'daily.apparentTemperatureMax',\n",
       "       'daily.apparentTemperatureMaxTime', 'daily.apparentTemperatureMin',\n",
       "       'daily.apparentTemperatureMinTime', 'daily.cloudCover',\n",
       "       'daily.dewPoint', 'daily.humidity', 'daily.icon', 'daily.moonPhase',\n",
       "       'daily.precipAccumulation', 'daily.precipIntensity',\n",
       "       'daily.precipIntensityMax', 'daily.precipIntensityMaxTime',\n",
       "       'daily.precipProbability', 'daily.precipType', 'daily.pressure',\n",
       "       'daily.summary', 'daily.sunriseTime', 'daily.sunsetTime',\n",
       "       'daily.temperatureHigh', 'daily.temperatureHighTime',\n",
       "       'daily.temperatureLow', 'daily.temperatureLowTime',\n",
       "       'daily.temperatureMax', 'daily.temperatureMaxTime',\n",
       "       'daily.temperatureMin', 'daily.temperatureMinTime', 'daily.time',\n",
       "       'daily.uvIndex', 'daily.uvIndexTime', 'daily.visibility',\n",
       "       'daily.windBearing', 'daily.windGust', 'daily.windGustTime',\n",
       "       'daily.windSpeed'],\n",
       "      dtype='object')"
      ]
     },
     "execution_count": 45,
     "metadata": {},
     "output_type": "execute_result"
    }
   ],
   "source": [
    "df.columns"
   ]
  },
  {
   "cell_type": "code",
   "execution_count": 46,
   "metadata": {},
   "outputs": [
    {
     "data": {
      "text/plain": [
       "Potholes                                8787\n",
       "Weeds/Debris                            7933\n",
       "Building Maintenance                    4068\n",
       "Abandoned Vehicle (parked on street)    2633\n",
       "Litter                                  1916\n",
       "Refuse Violations                       1839\n",
       "Illegal Parking                         1784\n",
       "Missed Pick Up                          1735\n",
       "Referral                                1565\n",
       "Replace/Repair a Sign                   1554\n",
       "City Source (CDBG)                      1500\n",
       "Street Light - Repair                   1458\n",
       "Building Without a Permit               1442\n",
       "Vacant Building                         1264\n",
       "Paving Request                          1260\n",
       "Overgrowth                              1211\n",
       "Snow/Ice removal                        1050\n",
       "Pruning (city tree)                     1032\n",
       "Rodent control                           985\n",
       "Question                                 918\n",
       "Need Potable Water                       857\n",
       "Fire Safety System Not Working           821\n",
       "Dead Animal                              797\n",
       "Illegal Dumping                          785\n",
       "Request New Sign                         785\n",
       "Leak                                     744\n",
       "Traffic                                  739\n",
       "Catch Basin, Clogged                     732\n",
       "Patrol                                   722\n",
       "Street Cleaning/Sweeping                 690\n",
       "                                        ... \n",
       "City Clerk                                 5\n",
       "Loading zone application                   5\n",
       "Procedure                                  4\n",
       "Paper street                               4\n",
       "Thank You - EMS                            4\n",
       "Bike Rack Request                          4\n",
       "Business Accessibility                     4\n",
       "Cable Bureau/Programming                   3\n",
       "Mobile Phone App                           3\n",
       "911 Perfomance                             3\n",
       "Park Shelter                               3\n",
       "Employment/Hiring                          3\n",
       "Earned Income Tax                          3\n",
       "Ticket, Police-issued                      2\n",
       "EMS Billing                                2\n",
       "Food Safety Complaints                     2\n",
       "Side Yard Program                          2\n",
       "Thank you - Finance                        2\n",
       "Sidewalk (city property)                   1\n",
       "Thank You - CitiParks                      1\n",
       "Thank You - DOMI                           1\n",
       "Graffiti, Owner Refused DPW Removal        1\n",
       "Handicapped Parking Sign Request           1\n",
       "Thank You - PLI Personnel                  1\n",
       "EMT                                        1\n",
       "Amusement Tax                              1\n",
       "Retaining Wall                             1\n",
       "Snow Angel Volunteer                       1\n",
       "Concern                                    1\n",
       "Payroll Expense Tax                        1\n",
       "Name: REQUEST_TYPE, Length: 269, dtype: int64"
      ]
     },
     "execution_count": 46,
     "metadata": {},
     "output_type": "execute_result"
    }
   ],
   "source": [
    "df['REQUEST_TYPE'].value_counts(sort=True, ascending=False, dropna=False) "
   ]
  },
  {
   "cell_type": "code",
   "execution_count": 47,
   "metadata": {},
   "outputs": [
    {
     "data": {
      "text/plain": [
       "<matplotlib.axes._subplots.AxesSubplot at 0x1ee0609de10>"
      ]
     },
     "execution_count": 47,
     "metadata": {},
     "output_type": "execute_result"
    },
    {
     "data": {
      "image/png": "[encoded data removed]",
      "text/plain": [
       "<Figure size 432x288 with 1 Axes>"
      ]
     },
     "metadata": {
      "needs_background": "light"
     },
     "output_type": "display_data"
    }
   ],
   "source": [
    "df['REQUEST_TYPE'].value_counts(sort=True, ascending=False, dropna=False).hist(bins=50)"
   ]
  },
  {
   "cell_type": "code",
   "execution_count": 73,
   "metadata": {},
   "outputs": [],
   "source": [
    "# remove all call types with less than 500 incidences\n",
    "s = df['REQUEST_TYPE'].value_counts()\n",
    "#s = df['REQUEST_TYPE']. != Referral || Question\n",
    "\n",
    "df = df[df.isin(s.index[s >= 730]).values]\n",
    "\n"
   ]
  },
  {
   "cell_type": "code",
   "execution_count": 74,
   "metadata": {
    "scrolled": true
   },
   "outputs": [
    {
     "data": {
      "text/plain": [
       "Potholes                                8787\n",
       "Weeds/Debris                            7933\n",
       "Building Maintenance                    4068\n",
       "Abandoned Vehicle (parked on street)    2633\n",
       "Litter                                  1916\n",
       "Refuse Violations                       1839\n",
       "Illegal Parking                         1784\n",
       "Missed Pick Up                          1735\n",
       "Referral                                1565\n",
       "Replace/Repair a Sign                   1554\n",
       "City Source (CDBG)                      1500\n",
       "Street Light - Repair                   1458\n",
       "Building Without a Permit               1442\n",
       "Vacant Building                         1264\n",
       "Paving Request                          1260\n",
       "Overgrowth                              1211\n",
       "Snow/Ice removal                        1050\n",
       "Pruning (city tree)                     1032\n",
       "Rodent control                           985\n",
       "Question                                 918\n",
       "Need Potable Water                       857\n",
       "Fire Safety System Not Working           821\n",
       "Dead Animal                              797\n",
       "Illegal Dumping                          785\n",
       "Request New Sign                         785\n",
       "Leak                                     744\n",
       "Traffic                                  739\n",
       "Catch Basin, Clogged                     732\n",
       "Name: REQUEST_TYPE, dtype: int64"
      ]
     },
     "execution_count": 74,
     "metadata": {},
     "output_type": "execute_result"
    }
   ],
   "source": [
    "df['REQUEST_TYPE'].value_counts(sort=True, ascending=False, dropna=False) "
   ]
  },
  {
   "cell_type": "code",
   "execution_count": 75,
   "metadata": {},
   "outputs": [
    {
     "data": {
      "text/html": [
       "<div>\n",
       "<style scoped>\n",
       "    .dataframe tbody tr th:only-of-type {\n",
       "        vertical-align: middle;\n",
       "    }\n",
       "\n",
       "    .dataframe tbody tr th {\n",
       "        vertical-align: top;\n",
       "    }\n",
       "\n",
       "    .dataframe thead th {\n",
       "        text-align: right;\n",
       "    }\n",
       "</style>\n",
       "<table border=\"1\" class=\"dataframe\">\n",
       "  <thead>\n",
       "    <tr style=\"text-align: right;\">\n",
       "      <th></th>\n",
       "      <th>REQUEST_ID</th>\n",
       "      <th>STATUS</th>\n",
       "      <th>COUNCIL_DISTRICT</th>\n",
       "      <th>WARD</th>\n",
       "      <th>TRACT</th>\n",
       "      <th>PUBLIC_WORKS_DIVISION</th>\n",
       "      <th>PLI_DIVISION</th>\n",
       "      <th>POLICE_ZONE</th>\n",
       "      <th>X</th>\n",
       "      <th>Y</th>\n",
       "      <th>...</th>\n",
       "      <th>daily.temperatureMin</th>\n",
       "      <th>daily.temperatureMinTime</th>\n",
       "      <th>daily.time</th>\n",
       "      <th>daily.uvIndex</th>\n",
       "      <th>daily.uvIndexTime</th>\n",
       "      <th>daily.visibility</th>\n",
       "      <th>daily.windBearing</th>\n",
       "      <th>daily.windGust</th>\n",
       "      <th>daily.windGustTime</th>\n",
       "      <th>daily.windSpeed</th>\n",
       "    </tr>\n",
       "  </thead>\n",
       "  <tbody>\n",
       "    <tr>\n",
       "      <th>count</th>\n",
       "      <td>52194.000000</td>\n",
       "      <td>52194.000000</td>\n",
       "      <td>49446.000000</td>\n",
       "      <td>49401.000000</td>\n",
       "      <td>4.948800e+04</td>\n",
       "      <td>49405.000000</td>\n",
       "      <td>49401.000000</td>\n",
       "      <td>49377.000000</td>\n",
       "      <td>49824.000000</td>\n",
       "      <td>49824.000000</td>\n",
       "      <td>...</td>\n",
       "      <td>49488.000000</td>\n",
       "      <td>4.948800e+04</td>\n",
       "      <td>4.948800e+04</td>\n",
       "      <td>49488.000000</td>\n",
       "      <td>4.948800e+04</td>\n",
       "      <td>49488.000000</td>\n",
       "      <td>49488.000000</td>\n",
       "      <td>49488.000000</td>\n",
       "      <td>4.948800e+04</td>\n",
       "      <td>49488.000000</td>\n",
       "    </tr>\n",
       "    <tr>\n",
       "      <th>mean</th>\n",
       "      <td>163496.286891</td>\n",
       "      <td>1.199487</td>\n",
       "      <td>4.900821</td>\n",
       "      <td>16.605878</td>\n",
       "      <td>4.200323e+10</td>\n",
       "      <td>3.023722</td>\n",
       "      <td>16.605878</td>\n",
       "      <td>3.592482</td>\n",
       "      <td>-79.433124</td>\n",
       "      <td>40.167845</td>\n",
       "      <td>...</td>\n",
       "      <td>48.252171</td>\n",
       "      <td>1.498006e+09</td>\n",
       "      <td>1.497969e+09</td>\n",
       "      <td>5.264205</td>\n",
       "      <td>1.498013e+09</td>\n",
       "      <td>9.371101</td>\n",
       "      <td>216.096832</td>\n",
       "      <td>9.270438</td>\n",
       "      <td>1.498018e+09</td>\n",
       "      <td>1.533801</td>\n",
       "    </tr>\n",
       "    <tr>\n",
       "      <th>std</th>\n",
       "      <td>23598.968639</td>\n",
       "      <td>0.695392</td>\n",
       "      <td>2.585818</td>\n",
       "      <td>7.946364</td>\n",
       "      <td>1.812058e+05</td>\n",
       "      <td>1.437327</td>\n",
       "      <td>7.946364</td>\n",
       "      <td>1.606123</td>\n",
       "      <td>6.545400</td>\n",
       "      <td>3.309922</td>\n",
       "      <td>...</td>\n",
       "      <td>15.393227</td>\n",
       "      <td>8.196202e+06</td>\n",
       "      <td>8.196692e+06</td>\n",
       "      <td>2.415348</td>\n",
       "      <td>8.196433e+06</td>\n",
       "      <td>0.871377</td>\n",
       "      <td>73.609941</td>\n",
       "      <td>4.521697</td>\n",
       "      <td>8.198075e+06</td>\n",
       "      <td>1.162261</td>\n",
       "    </tr>\n",
       "    <tr>\n",
       "      <th>min</th>\n",
       "      <td>123272.000000</td>\n",
       "      <td>0.000000</td>\n",
       "      <td>1.000000</td>\n",
       "      <td>0.000000</td>\n",
       "      <td>4.200301e+10</td>\n",
       "      <td>0.000000</td>\n",
       "      <td>0.000000</td>\n",
       "      <td>1.000000</td>\n",
       "      <td>-80.088105</td>\n",
       "      <td>0.000000</td>\n",
       "      <td>...</td>\n",
       "      <td>1.200000</td>\n",
       "      <td>1.483276e+09</td>\n",
       "      <td>1.483247e+09</td>\n",
       "      <td>1.000000</td>\n",
       "      <td>1.483290e+09</td>\n",
       "      <td>3.780000</td>\n",
       "      <td>0.000000</td>\n",
       "      <td>1.460000</td>\n",
       "      <td>1.483247e+09</td>\n",
       "      <td>0.020000</td>\n",
       "    </tr>\n",
       "    <tr>\n",
       "      <th>25%</th>\n",
       "      <td>143064.750000</td>\n",
       "      <td>1.000000</td>\n",
       "      <td>3.000000</td>\n",
       "      <td>11.000000</td>\n",
       "      <td>4.200311e+10</td>\n",
       "      <td>2.000000</td>\n",
       "      <td>11.000000</td>\n",
       "      <td>2.000000</td>\n",
       "      <td>-80.007463</td>\n",
       "      <td>40.420463</td>\n",
       "      <td>...</td>\n",
       "      <td>37.190000</td>\n",
       "      <td>1.491390e+09</td>\n",
       "      <td>1.491365e+09</td>\n",
       "      <td>3.000000</td>\n",
       "      <td>1.491412e+09</td>\n",
       "      <td>9.040000</td>\n",
       "      <td>188.000000</td>\n",
       "      <td>5.720000</td>\n",
       "      <td>1.491437e+09</td>\n",
       "      <td>0.710000</td>\n",
       "    </tr>\n",
       "    <tr>\n",
       "      <th>50%</th>\n",
       "      <td>163452.000000</td>\n",
       "      <td>1.000000</td>\n",
       "      <td>5.000000</td>\n",
       "      <td>16.000000</td>\n",
       "      <td>4.200318e+10</td>\n",
       "      <td>3.000000</td>\n",
       "      <td>16.000000</td>\n",
       "      <td>4.000000</td>\n",
       "      <td>-79.977171</td>\n",
       "      <td>40.445256</td>\n",
       "      <td>...</td>\n",
       "      <td>51.230000</td>\n",
       "      <td>1.497953e+09</td>\n",
       "      <td>1.497931e+09</td>\n",
       "      <td>5.000000</td>\n",
       "      <td>1.497974e+09</td>\n",
       "      <td>9.750000</td>\n",
       "      <td>224.000000</td>\n",
       "      <td>8.790000</td>\n",
       "      <td>1.497989e+09</td>\n",
       "      <td>1.310000</td>\n",
       "    </tr>\n",
       "    <tr>\n",
       "      <th>75%</th>\n",
       "      <td>183528.750000</td>\n",
       "      <td>1.000000</td>\n",
       "      <td>7.000000</td>\n",
       "      <td>22.000000</td>\n",
       "      <td>4.200329e+10</td>\n",
       "      <td>5.000000</td>\n",
       "      <td>22.000000</td>\n",
       "      <td>5.000000</td>\n",
       "      <td>-79.934268</td>\n",
       "      <td>40.462229</td>\n",
       "      <td>...</td>\n",
       "      <td>60.910000</td>\n",
       "      <td>1.504091e+09</td>\n",
       "      <td>1.504066e+09</td>\n",
       "      <td>7.000000</td>\n",
       "      <td>1.504109e+09</td>\n",
       "      <td>10.000000</td>\n",
       "      <td>267.000000</td>\n",
       "      <td>11.620000</td>\n",
       "      <td>1.504112e+09</td>\n",
       "      <td>2.110000</td>\n",
       "    </tr>\n",
       "    <tr>\n",
       "      <th>max</th>\n",
       "      <td>205290.000000</td>\n",
       "      <td>3.000000</td>\n",
       "      <td>9.000000</td>\n",
       "      <td>32.000000</td>\n",
       "      <td>4.200398e+10</td>\n",
       "      <td>6.000000</td>\n",
       "      <td>32.000000</td>\n",
       "      <td>6.000000</td>\n",
       "      <td>0.000000</td>\n",
       "      <td>40.520177</td>\n",
       "      <td>...</td>\n",
       "      <td>73.950000</td>\n",
       "      <td>1.514722e+09</td>\n",
       "      <td>1.514696e+09</td>\n",
       "      <td>10.000000</td>\n",
       "      <td>1.514732e+09</td>\n",
       "      <td>10.000000</td>\n",
       "      <td>359.000000</td>\n",
       "      <td>26.100000</td>\n",
       "      <td>1.514696e+09</td>\n",
       "      <td>6.150000</td>\n",
       "    </tr>\n",
       "  </tbody>\n",
       "</table>\n",
       "<p>8 rows × 60 columns</p>\n",
       "</div>"
      ],
      "text/plain": [
       "          REQUEST_ID        STATUS  COUNCIL_DISTRICT          WARD  \\\n",
       "count   52194.000000  52194.000000      49446.000000  49401.000000   \n",
       "mean   163496.286891      1.199487          4.900821     16.605878   \n",
       "std     23598.968639      0.695392          2.585818      7.946364   \n",
       "min    123272.000000      0.000000          1.000000      0.000000   \n",
       "25%    143064.750000      1.000000          3.000000     11.000000   \n",
       "50%    163452.000000      1.000000          5.000000     16.000000   \n",
       "75%    183528.750000      1.000000          7.000000     22.000000   \n",
       "max    205290.000000      3.000000          9.000000     32.000000   \n",
       "\n",
       "              TRACT  PUBLIC_WORKS_DIVISION  PLI_DIVISION   POLICE_ZONE  \\\n",
       "count  4.948800e+04           49405.000000  49401.000000  49377.000000   \n",
       "mean   4.200323e+10               3.023722     16.605878      3.592482   \n",
       "std    1.812058e+05               1.437327      7.946364      1.606123   \n",
       "min    4.200301e+10               0.000000      0.000000      1.000000   \n",
       "25%    4.200311e+10               2.000000     11.000000      2.000000   \n",
       "50%    4.200318e+10               3.000000     16.000000      4.000000   \n",
       "75%    4.200329e+10               5.000000     22.000000      5.000000   \n",
       "max    4.200398e+10               6.000000     32.000000      6.000000   \n",
       "\n",
       "                  X             Y       ...         daily.temperatureMin  \\\n",
       "count  49824.000000  49824.000000       ...                 49488.000000   \n",
       "mean     -79.433124     40.167845       ...                    48.252171   \n",
       "std        6.545400      3.309922       ...                    15.393227   \n",
       "min      -80.088105      0.000000       ...                     1.200000   \n",
       "25%      -80.007463     40.420463       ...                    37.190000   \n",
       "50%      -79.977171     40.445256       ...                    51.230000   \n",
       "75%      -79.934268     40.462229       ...                    60.910000   \n",
       "max        0.000000     40.520177       ...                    73.950000   \n",
       "\n",
       "       daily.temperatureMinTime    daily.time  daily.uvIndex  \\\n",
       "count              4.948800e+04  4.948800e+04   49488.000000   \n",
       "mean               1.498006e+09  1.497969e+09       5.264205   \n",
       "std                8.196202e+06  8.196692e+06       2.415348   \n",
       "min                1.483276e+09  1.483247e+09       1.000000   \n",
       "25%                1.491390e+09  1.491365e+09       3.000000   \n",
       "50%                1.497953e+09  1.497931e+09       5.000000   \n",
       "75%                1.504091e+09  1.504066e+09       7.000000   \n",
       "max                1.514722e+09  1.514696e+09      10.000000   \n",
       "\n",
       "       daily.uvIndexTime  daily.visibility  daily.windBearing  daily.windGust  \\\n",
       "count       4.948800e+04      49488.000000       49488.000000    49488.000000   \n",
       "mean        1.498013e+09          9.371101         216.096832        9.270438   \n",
       "std         8.196433e+06          0.871377          73.609941        4.521697   \n",
       "min         1.483290e+09          3.780000           0.000000        1.460000   \n",
       "25%         1.491412e+09          9.040000         188.000000        5.720000   \n",
       "50%         1.497974e+09          9.750000         224.000000        8.790000   \n",
       "75%         1.504109e+09         10.000000         267.000000       11.620000   \n",
       "max         1.514732e+09         10.000000         359.000000       26.100000   \n",
       "\n",
       "       daily.windGustTime  daily.windSpeed  \n",
       "count        4.948800e+04     49488.000000  \n",
       "mean         1.498018e+09         1.533801  \n",
       "std          8.198075e+06         1.162261  \n",
       "min          1.483247e+09         0.020000  \n",
       "25%          1.491437e+09         0.710000  \n",
       "50%          1.497989e+09         1.310000  \n",
       "75%          1.504112e+09         2.110000  \n",
       "max          1.514696e+09         6.150000  \n",
       "\n",
       "[8 rows x 60 columns]"
      ]
     },
     "execution_count": 75,
     "metadata": {},
     "output_type": "execute_result"
    }
   ],
   "source": [
    "df.describe()"
   ]
  },
  {
   "cell_type": "code",
   "execution_count": 76,
   "metadata": {},
   "outputs": [
    {
     "data": {
      "text/plain": [
       "<matplotlib.axes._subplots.AxesSubplot at 0x1ee07d28dd8>"
      ]
     },
     "execution_count": 76,
     "metadata": {},
     "output_type": "execute_result"
    },
    {
     "data": {
      "image/png": "[encoded data removed]",
      "text/plain": [
       "<Figure size 432x288 with 1 Axes>"
      ]
     },
     "metadata": {
      "needs_background": "light"
     },
     "output_type": "display_data"
    }
   ],
   "source": [
    "df['REQUEST_TYPE'].value_counts(sort=True, ascending=False, dropna=False).plot.bar()"
   ]
  },
  {
   "cell_type": "code",
   "execution_count": 77,
   "metadata": {},
   "outputs": [
    {
     "data": {
      "text/plain": [
       "Call Center           33807\n",
       "Website                8188\n",
       "Control Panel          6671\n",
       "Report2Gov iOS         1450\n",
       "Twitter                1073\n",
       "Text Message            548\n",
       "Report2Gov Android      444\n",
       "Report2Gov Website        6\n",
       "QAlert Mobile iOS         5\n",
       "Email                     2\n",
       "Name: REQUEST_ORIGIN, dtype: int64"
      ]
     },
     "execution_count": 77,
     "metadata": {},
     "output_type": "execute_result"
    }
   ],
   "source": [
    "df['REQUEST_ORIGIN'].value_counts(sort=True, ascending=False, dropna=False)"
   ]
  },
  {
   "cell_type": "code",
   "execution_count": 78,
   "metadata": {},
   "outputs": [
    {
     "data": {
      "text/plain": [
       "2017-05-01T14:02:00    8\n",
       "2017-08-27T19:12:00    6\n",
       "2017-02-01T12:44:00    6\n",
       "2017-03-07T11:25:00    6\n",
       "2017-02-01T12:59:00    5\n",
       "2017-02-01T13:29:00    5\n",
       "2017-04-05T10:09:00    5\n",
       "2017-08-27T19:10:00    5\n",
       "2017-07-07T08:19:00    5\n",
       "2017-08-02T09:20:00    5\n",
       "2017-08-03T11:02:00    5\n",
       "2017-02-01T14:26:00    5\n",
       "2017-04-17T11:18:00    5\n",
       "2017-03-29T15:01:00    5\n",
       "2017-03-07T14:38:00    5\n",
       "2017-05-31T12:33:00    5\n",
       "2017-04-20T12:54:00    5\n",
       "2017-08-21T11:03:00    5\n",
       "2017-02-01T12:39:00    5\n",
       "2017-03-08T08:28:00    5\n",
       "2017-03-07T12:15:00    5\n",
       "2017-03-09T11:10:00    5\n",
       "2017-02-01T12:50:00    5\n",
       "2017-03-08T08:31:00    5\n",
       "2017-07-03T09:53:00    5\n",
       "2017-08-03T11:09:00    5\n",
       "2017-03-08T11:30:00    5\n",
       "2017-08-02T10:13:00    4\n",
       "2017-05-03T11:00:00    4\n",
       "2017-02-01T12:34:00    4\n",
       "                      ..\n",
       "2017-08-14T13:22:00    1\n",
       "2017-05-04T16:06:00    1\n",
       "2017-01-09T08:41:00    1\n",
       "2017-11-29T12:26:00    1\n",
       "2017-09-15T12:38:00    1\n",
       "2017-05-19T10:35:00    1\n",
       "2017-07-07T11:13:00    1\n",
       "2017-09-18T12:19:00    1\n",
       "2017-05-23T14:36:00    1\n",
       "2017-01-24T12:36:00    1\n",
       "2017-04-19T10:44:00    1\n",
       "2017-07-03T11:31:00    1\n",
       "2017-06-28T12:17:00    1\n",
       "2017-02-09T16:00:00    1\n",
       "2017-04-27T08:30:00    1\n",
       "2017-03-02T11:16:00    1\n",
       "2017-02-27T11:09:00    1\n",
       "2017-08-24T08:06:00    1\n",
       "2017-02-24T12:42:00    1\n",
       "2017-10-16T13:41:00    1\n",
       "2017-07-03T07:27:00    1\n",
       "2017-10-06T14:12:00    1\n",
       "2017-03-13T16:10:00    1\n",
       "2017-12-13T00:10:00    1\n",
       "2017-06-16T08:47:00    1\n",
       "2017-02-20T16:18:00    1\n",
       "2017-01-09T11:48:00    1\n",
       "2017-02-10T09:31:00    1\n",
       "2017-07-20T08:17:00    1\n",
       "2017-05-02T15:58:00    1\n",
       "Name: CREATED_ON, Length: 44139, dtype: int64"
      ]
     },
     "execution_count": 78,
     "metadata": {},
     "output_type": "execute_result"
    }
   ],
   "source": [
    "df['CREATED_ON'].value_counts(sort=True, ascending=False, dropna=False)"
   ]
  },
  {
   "cell_type": "code",
   "execution_count": 79,
   "metadata": {},
   "outputs": [
    {
     "data": {
      "text/plain": [
       "<matplotlib.axes._subplots.AxesSubplot at 0x1ee13100c18>"
      ]
     },
     "execution_count": 79,
     "metadata": {},
     "output_type": "execute_result"
    },
    {
     "data": {
      "image/png": "[encoded data removed]",
      "text/plain": [
       "<Figure size 432x288 with 1 Axes>"
      ]
     },
     "metadata": {
      "needs_background": "light"
     },
     "output_type": "display_data"
    }
   ],
   "source": [
    "# visualizatins of various fields and weather events\n",
    "df['daily.time'].hist(bins=50)"
   ]
  },
  {
   "cell_type": "code",
   "execution_count": 80,
   "metadata": {},
   "outputs": [
    {
     "data": {
      "text/plain": [
       "<matplotlib.axes._subplots.AxesSubplot at 0x1ee072fa860>"
      ]
     },
     "execution_count": 80,
     "metadata": {},
     "output_type": "execute_result"
    },
    {
     "data": {
      "image/png": "[encoded data removed]",
      "text/plain": [
       "<Figure size 432x288 with 1 Axes>"
      ]
     },
     "metadata": {
      "needs_background": "light"
     },
     "output_type": "display_data"
    }
   ],
   "source": [
    "df['current.precipIntensity'].hist()"
   ]
  },
  {
   "cell_type": "code",
   "execution_count": 81,
   "metadata": {},
   "outputs": [
    {
     "data": {
      "text/plain": [
       "<matplotlib.axes._subplots.AxesSubplot at 0x1ee0a12eb00>"
      ]
     },
     "execution_count": 81,
     "metadata": {},
     "output_type": "execute_result"
    },
    {
     "data": {
      "image/png": "[encoded data removed]",
      "text/plain": [
       "<Figure size 432x288 with 1 Axes>"
      ]
     },
     "metadata": {
      "needs_background": "light"
     },
     "output_type": "display_data"
    }
   ],
   "source": [
    "df['daily.precipType'].value_counts(sort=True, ascending=False, dropna=False).plot.bar()"
   ]
  },
  {
   "cell_type": "code",
   "execution_count": 82,
   "metadata": {},
   "outputs": [
    {
     "data": {
      "text/plain": [
       "<matplotlib.axes._subplots.AxesSubplot at 0x1ee091490f0>"
      ]
     },
     "execution_count": 82,
     "metadata": {},
     "output_type": "execute_result"
    },
    {
     "data": {
      "image/png": "[encoded data removed]",
      "text/plain": [
       "<Figure size 432x288 with 1 Axes>"
      ]
     },
     "metadata": {
      "needs_background": "light"
     },
     "output_type": "display_data"
    }
   ],
   "source": [
    "df['current.visibility'].hist(bins=10)"
   ]
  },
  {
   "cell_type": "code",
   "execution_count": 83,
   "metadata": {},
   "outputs": [
    {
     "data": {
      "text/plain": [
       "<matplotlib.axes._subplots.AxesSubplot at 0x1ee0a10c048>"
      ]
     },
     "execution_count": 83,
     "metadata": {},
     "output_type": "execute_result"
    },
    {
     "data": {
      "image/png": "[encoded data removed]",
      "text/plain": [
       "<Figure size 432x288 with 1 Axes>"
      ]
     },
     "metadata": {
      "needs_background": "light"
     },
     "output_type": "display_data"
    }
   ],
   "source": [
    "df['current.pressure'].hist(bins=100)"
   ]
  },
  {
   "cell_type": "code",
   "execution_count": 84,
   "metadata": {},
   "outputs": [
    {
     "data": {
      "text/plain": [
       "<matplotlib.axes._subplots.AxesSubplot at 0x1ee09820160>"
      ]
     },
     "execution_count": 84,
     "metadata": {},
     "output_type": "execute_result"
    },
    {
     "data": {
      "image/png": "[encoded data removed]",
      "text/plain": [
       "<Figure size 432x288 with 1 Axes>"
      ]
     },
     "metadata": {
      "needs_background": "light"
     },
     "output_type": "display_data"
    }
   ],
   "source": [
    "df['daily.pressure'].hist(bins=100)"
   ]
  },
  {
   "cell_type": "code",
   "execution_count": 60,
   "metadata": {},
   "outputs": [
    {
     "data": {
      "text/plain": [
       "<matplotlib.axes._subplots.AxesSubplot at 0x1ee05afbda0>"
      ]
     },
     "execution_count": 60,
     "metadata": {},
     "output_type": "execute_result"
    },
    {
     "data": {
      "image/png": "[encoded data removed]",
      "text/plain": [
       "<Figure size 432x288 with 1 Axes>"
      ]
     },
     "metadata": {
      "needs_background": "light"
     },
     "output_type": "display_data"
    }
   ],
   "source": [
    "df['daily.windSpeed'].hist(bins=1000)"
   ]
  },
  {
   "cell_type": "code",
   "execution_count": 61,
   "metadata": {},
   "outputs": [
    {
     "data": {
      "text/plain": [
       "<matplotlib.axes._subplots.AxesSubplot at 0x1ee1468b400>"
      ]
     },
     "execution_count": 61,
     "metadata": {},
     "output_type": "execute_result"
    },
    {
     "data": {
      "image/png": "[encoded data removed]",
      "text/plain": [
       "<Figure size 432x288 with 1 Axes>"
      ]
     },
     "metadata": {
      "needs_background": "light"
     },
     "output_type": "display_data"
    }
   ],
   "source": [
    "df['daily.windGust'].hist(bins=1000)"
   ]
  },
  {
   "cell_type": "code",
   "execution_count": 62,
   "metadata": {},
   "outputs": [
    {
     "data": {
      "text/plain": [
       "<matplotlib.axes._subplots.AxesSubplot at 0x1ee06d429b0>"
      ]
     },
     "execution_count": 62,
     "metadata": {},
     "output_type": "execute_result"
    },
    {
     "data": {
      "image/png": "[encoded data removed]",
      "text/plain": [
       "<Figure size 432x288 with 1 Axes>"
      ]
     },
     "metadata": {
      "needs_background": "light"
     },
     "output_type": "display_data"
    }
   ],
   "source": [
    "df['daily.precipProbability'].hist(bins=100)"
   ]
  },
  {
   "cell_type": "code",
   "execution_count": 63,
   "metadata": {},
   "outputs": [
    {
     "data": {
      "text/plain": [
       "Clear                      18010\n",
       "Overcast                   11551\n",
       "Mostly Cloudy               9773\n",
       "Partly Cloudy               7751\n",
       "NaN                         3052\n",
       "Light Rain                  2686\n",
       "Drizzle                     2500\n",
       "Rain                         732\n",
       "Flurries                     564\n",
       "Foggy                        537\n",
       "Light Snow                   137\n",
       "Humid and Mostly Cloudy       97\n",
       "Humid and Partly Cloudy       71\n",
       "Humid and Overcast            67\n",
       "Light Sleet                   38\n",
       "Humid                         12\n",
       "Snow                           7\n",
       "Heavy Rain                     1\n",
       "Name: current.summary, dtype: int64"
      ]
     },
     "execution_count": 63,
     "metadata": {},
     "output_type": "execute_result"
    }
   ],
   "source": [
    "df['current.summary'].value_counts(sort=True, ascending=False, dropna=False)"
   ]
  },
  {
   "cell_type": "code",
   "execution_count": 64,
   "metadata": {},
   "outputs": [
    {
     "data": {
      "text/plain": [
       "<matplotlib.axes._subplots.AxesSubplot at 0x1ee071e34a8>"
      ]
     },
     "execution_count": 64,
     "metadata": {},
     "output_type": "execute_result"
    },
    {
     "data": {
      "image/png": "[encoded data removed]",
      "text/plain": [
       "<Figure size 432x288 with 1 Axes>"
      ]
     },
     "metadata": {
      "needs_background": "light"
     },
     "output_type": "display_data"
    }
   ],
   "source": [
    "df['current.summary'].value_counts(sort=True, ascending=False, dropna=False).plot.bar()"
   ]
  },
  {
   "cell_type": "code",
   "execution_count": 65,
   "metadata": {},
   "outputs": [
    {
     "data": {
      "text/plain": [
       "<matplotlib.axes._subplots.AxesSubplot at 0x1ee07324b70>"
      ]
     },
     "execution_count": 65,
     "metadata": {},
     "output_type": "execute_result"
    },
    {
     "data": {
      "image/png": "[encoded data removed]",
      "text/plain": [
       "<Figure size 432x288 with 1 Axes>"
      ]
     },
     "metadata": {
      "needs_background": "light"
     },
     "output_type": "display_data"
    }
   ],
   "source": [
    "df['daily.temperatureHigh'].hist(bins=100)"
   ]
  },
  {
   "cell_type": "code",
   "execution_count": 66,
   "metadata": {},
   "outputs": [
    {
     "data": {
      "text/plain": [
       "<matplotlib.axes._subplots.AxesSubplot at 0x1ee074f2978>"
      ]
     },
     "execution_count": 66,
     "metadata": {},
     "output_type": "execute_result"
    },
    {
     "data": {
      "image/png": "[encoded data removed]",
      "text/plain": [
       "<Figure size 432x288 with 1 Axes>"
      ]
     },
     "metadata": {
      "needs_background": "light"
     },
     "output_type": "display_data"
    }
   ],
   "source": [
    "df['daily.temperatureLow'].hist(bins=100)"
   ]
  },
  {
   "cell_type": "code",
   "execution_count": 67,
   "metadata": {},
   "outputs": [
    {
     "data": {
      "text/plain": [
       "<matplotlib.axes._subplots.AxesSubplot at 0x1ee076c8898>"
      ]
     },
     "execution_count": 67,
     "metadata": {},
     "output_type": "execute_result"
    },
    {
     "data": {
      "image/png": "[encoded data removed]",
      "text/plain": [
       "<Figure size 432x288 with 1 Axes>"
      ]
     },
     "metadata": {
      "needs_background": "light"
     },
     "output_type": "display_data"
    }
   ],
   "source": [
    "df['daily.precipProbability'].hist(bins=100)"
   ]
  },
  {
   "cell_type": "code",
   "execution_count": 68,
   "metadata": {},
   "outputs": [
    {
     "data": {
      "text/plain": [
       "<matplotlib.axes._subplots.AxesSubplot at 0x1ee078492b0>"
      ]
     },
     "execution_count": 68,
     "metadata": {},
     "output_type": "execute_result"
    },
    {
     "data": {
      "image/png": "[encoded data removed]",
      "text/plain": [
       "<Figure size 432x288 with 1 Axes>"
      ]
     },
     "metadata": {
      "needs_background": "light"
     },
     "output_type": "display_data"
    }
   ],
   "source": [
    "df['daily.precipAccumulation'].hist(bins=50)"
   ]
  },
  {
   "cell_type": "code",
   "execution_count": 69,
   "metadata": {
    "scrolled": true
   },
   "outputs": [
    {
     "data": {
      "text/plain": [
       "<matplotlib.axes._subplots.AxesSubplot at 0x1ee079b8f60>"
      ]
     },
     "execution_count": 69,
     "metadata": {},
     "output_type": "execute_result"
    },
    {
     "data": {
      "image/png": "[encoded data removed]",
      "text/plain": [
       "<Figure size 432x288 with 1 Axes>"
      ]
     },
     "metadata": {
      "needs_background": "light"
     },
     "output_type": "display_data"
    }
   ],
   "source": [
    "df['daily.humidity'].hist(bins=100)"
   ]
  },
  {
   "cell_type": "code",
   "execution_count": 70,
   "metadata": {
    "scrolled": true
   },
   "outputs": [
    {
     "data": {
      "text/plain": [
       "<matplotlib.axes._subplots.AxesSubplot at 0x1ee07b8a128>"
      ]
     },
     "execution_count": 70,
     "metadata": {},
     "output_type": "execute_result"
    },
    {
     "data": {
      "image/png": "[encoded data removed]",
      "text/plain": [
       "<Figure size 432x288 with 1 Axes>"
      ]
     },
     "metadata": {
      "needs_background": "light"
     },
     "output_type": "display_data"
    }
   ],
   "source": [
    "df['daily.pressure'].hist(bins=100)"
   ]
  },
  {
   "cell_type": "code",
   "execution_count": null,
   "metadata": {},
   "outputs": [],
   "source": []
  },
  {
   "cell_type": "code",
   "execution_count": 85,
   "metadata": {},
   "outputs": [
    {
     "data": {
      "text/html": [
       "<div>\n",
       "<style scoped>\n",
       "    .dataframe tbody tr th:only-of-type {\n",
       "        vertical-align: middle;\n",
       "    }\n",
       "\n",
       "    .dataframe tbody tr th {\n",
       "        vertical-align: top;\n",
       "    }\n",
       "\n",
       "    .dataframe thead th {\n",
       "        text-align: right;\n",
       "    }\n",
       "</style>\n",
       "<table border=\"1\" class=\"dataframe\">\n",
       "  <thead>\n",
       "    <tr style=\"text-align: right;\">\n",
       "      <th></th>\n",
       "      <th>REQUEST_ID</th>\n",
       "      <th>STATUS</th>\n",
       "      <th>COUNCIL_DISTRICT</th>\n",
       "      <th>WARD</th>\n",
       "      <th>TRACT</th>\n",
       "      <th>PUBLIC_WORKS_DIVISION</th>\n",
       "      <th>PLI_DIVISION</th>\n",
       "      <th>POLICE_ZONE</th>\n",
       "      <th>X</th>\n",
       "      <th>Y</th>\n",
       "      <th>...</th>\n",
       "      <th>daily.temperatureMin</th>\n",
       "      <th>daily.temperatureMinTime</th>\n",
       "      <th>daily.time</th>\n",
       "      <th>daily.uvIndex</th>\n",
       "      <th>daily.uvIndexTime</th>\n",
       "      <th>daily.visibility</th>\n",
       "      <th>daily.windBearing</th>\n",
       "      <th>daily.windGust</th>\n",
       "      <th>daily.windGustTime</th>\n",
       "      <th>daily.windSpeed</th>\n",
       "    </tr>\n",
       "  </thead>\n",
       "  <tbody>\n",
       "    <tr>\n",
       "      <th>count</th>\n",
       "      <td>52194.000000</td>\n",
       "      <td>52194.000000</td>\n",
       "      <td>49446.000000</td>\n",
       "      <td>49401.000000</td>\n",
       "      <td>4.948800e+04</td>\n",
       "      <td>49405.000000</td>\n",
       "      <td>49401.000000</td>\n",
       "      <td>49377.000000</td>\n",
       "      <td>49824.000000</td>\n",
       "      <td>49824.000000</td>\n",
       "      <td>...</td>\n",
       "      <td>49488.000000</td>\n",
       "      <td>4.948800e+04</td>\n",
       "      <td>4.948800e+04</td>\n",
       "      <td>49488.000000</td>\n",
       "      <td>4.948800e+04</td>\n",
       "      <td>49488.000000</td>\n",
       "      <td>49488.000000</td>\n",
       "      <td>49488.000000</td>\n",
       "      <td>4.948800e+04</td>\n",
       "      <td>49488.000000</td>\n",
       "    </tr>\n",
       "    <tr>\n",
       "      <th>mean</th>\n",
       "      <td>163496.286891</td>\n",
       "      <td>1.199487</td>\n",
       "      <td>4.900821</td>\n",
       "      <td>16.605878</td>\n",
       "      <td>4.200323e+10</td>\n",
       "      <td>3.023722</td>\n",
       "      <td>16.605878</td>\n",
       "      <td>3.592482</td>\n",
       "      <td>-79.433124</td>\n",
       "      <td>40.167845</td>\n",
       "      <td>...</td>\n",
       "      <td>48.252171</td>\n",
       "      <td>1.498006e+09</td>\n",
       "      <td>1.497969e+09</td>\n",
       "      <td>5.264205</td>\n",
       "      <td>1.498013e+09</td>\n",
       "      <td>9.371101</td>\n",
       "      <td>216.096832</td>\n",
       "      <td>9.270438</td>\n",
       "      <td>1.498018e+09</td>\n",
       "      <td>1.533801</td>\n",
       "    </tr>\n",
       "    <tr>\n",
       "      <th>std</th>\n",
       "      <td>23598.968639</td>\n",
       "      <td>0.695392</td>\n",
       "      <td>2.585818</td>\n",
       "      <td>7.946364</td>\n",
       "      <td>1.812058e+05</td>\n",
       "      <td>1.437327</td>\n",
       "      <td>7.946364</td>\n",
       "      <td>1.606123</td>\n",
       "      <td>6.545400</td>\n",
       "      <td>3.309922</td>\n",
       "      <td>...</td>\n",
       "      <td>15.393227</td>\n",
       "      <td>8.196202e+06</td>\n",
       "      <td>8.196692e+06</td>\n",
       "      <td>2.415348</td>\n",
       "      <td>8.196433e+06</td>\n",
       "      <td>0.871377</td>\n",
       "      <td>73.609941</td>\n",
       "      <td>4.521697</td>\n",
       "      <td>8.198075e+06</td>\n",
       "      <td>1.162261</td>\n",
       "    </tr>\n",
       "    <tr>\n",
       "      <th>min</th>\n",
       "      <td>123272.000000</td>\n",
       "      <td>0.000000</td>\n",
       "      <td>1.000000</td>\n",
       "      <td>0.000000</td>\n",
       "      <td>4.200301e+10</td>\n",
       "      <td>0.000000</td>\n",
       "      <td>0.000000</td>\n",
       "      <td>1.000000</td>\n",
       "      <td>-80.088105</td>\n",
       "      <td>0.000000</td>\n",
       "      <td>...</td>\n",
       "      <td>1.200000</td>\n",
       "      <td>1.483276e+09</td>\n",
       "      <td>1.483247e+09</td>\n",
       "      <td>1.000000</td>\n",
       "      <td>1.483290e+09</td>\n",
       "      <td>3.780000</td>\n",
       "      <td>0.000000</td>\n",
       "      <td>1.460000</td>\n",
       "      <td>1.483247e+09</td>\n",
       "      <td>0.020000</td>\n",
       "    </tr>\n",
       "    <tr>\n",
       "      <th>25%</th>\n",
       "      <td>143064.750000</td>\n",
       "      <td>1.000000</td>\n",
       "      <td>3.000000</td>\n",
       "      <td>11.000000</td>\n",
       "      <td>4.200311e+10</td>\n",
       "      <td>2.000000</td>\n",
       "      <td>11.000000</td>\n",
       "      <td>2.000000</td>\n",
       "      <td>-80.007463</td>\n",
       "      <td>40.420463</td>\n",
       "      <td>...</td>\n",
       "      <td>37.190000</td>\n",
       "      <td>1.491390e+09</td>\n",
       "      <td>1.491365e+09</td>\n",
       "      <td>3.000000</td>\n",
       "      <td>1.491412e+09</td>\n",
       "      <td>9.040000</td>\n",
       "      <td>188.000000</td>\n",
       "      <td>5.720000</td>\n",
       "      <td>1.491437e+09</td>\n",
       "      <td>0.710000</td>\n",
       "    </tr>\n",
       "    <tr>\n",
       "      <th>50%</th>\n",
       "      <td>163452.000000</td>\n",
       "      <td>1.000000</td>\n",
       "      <td>5.000000</td>\n",
       "      <td>16.000000</td>\n",
       "      <td>4.200318e+10</td>\n",
       "      <td>3.000000</td>\n",
       "      <td>16.000000</td>\n",
       "      <td>4.000000</td>\n",
       "      <td>-79.977171</td>\n",
       "      <td>40.445256</td>\n",
       "      <td>...</td>\n",
       "      <td>51.230000</td>\n",
       "      <td>1.497953e+09</td>\n",
       "      <td>1.497931e+09</td>\n",
       "      <td>5.000000</td>\n",
       "      <td>1.497974e+09</td>\n",
       "      <td>9.750000</td>\n",
       "      <td>224.000000</td>\n",
       "      <td>8.790000</td>\n",
       "      <td>1.497989e+09</td>\n",
       "      <td>1.310000</td>\n",
       "    </tr>\n",
       "    <tr>\n",
       "      <th>75%</th>\n",
       "      <td>183528.750000</td>\n",
       "      <td>1.000000</td>\n",
       "      <td>7.000000</td>\n",
       "      <td>22.000000</td>\n",
       "      <td>4.200329e+10</td>\n",
       "      <td>5.000000</td>\n",
       "      <td>22.000000</td>\n",
       "      <td>5.000000</td>\n",
       "      <td>-79.934268</td>\n",
       "      <td>40.462229</td>\n",
       "      <td>...</td>\n",
       "      <td>60.910000</td>\n",
       "      <td>1.504091e+09</td>\n",
       "      <td>1.504066e+09</td>\n",
       "      <td>7.000000</td>\n",
       "      <td>1.504109e+09</td>\n",
       "      <td>10.000000</td>\n",
       "      <td>267.000000</td>\n",
       "      <td>11.620000</td>\n",
       "      <td>1.504112e+09</td>\n",
       "      <td>2.110000</td>\n",
       "    </tr>\n",
       "    <tr>\n",
       "      <th>max</th>\n",
       "      <td>205290.000000</td>\n",
       "      <td>3.000000</td>\n",
       "      <td>9.000000</td>\n",
       "      <td>32.000000</td>\n",
       "      <td>4.200398e+10</td>\n",
       "      <td>6.000000</td>\n",
       "      <td>32.000000</td>\n",
       "      <td>6.000000</td>\n",
       "      <td>0.000000</td>\n",
       "      <td>40.520177</td>\n",
       "      <td>...</td>\n",
       "      <td>73.950000</td>\n",
       "      <td>1.514722e+09</td>\n",
       "      <td>1.514696e+09</td>\n",
       "      <td>10.000000</td>\n",
       "      <td>1.514732e+09</td>\n",
       "      <td>10.000000</td>\n",
       "      <td>359.000000</td>\n",
       "      <td>26.100000</td>\n",
       "      <td>1.514696e+09</td>\n",
       "      <td>6.150000</td>\n",
       "    </tr>\n",
       "  </tbody>\n",
       "</table>\n",
       "<p>8 rows × 60 columns</p>\n",
       "</div>"
      ],
      "text/plain": [
       "          REQUEST_ID        STATUS  COUNCIL_DISTRICT          WARD  \\\n",
       "count   52194.000000  52194.000000      49446.000000  49401.000000   \n",
       "mean   163496.286891      1.199487          4.900821     16.605878   \n",
       "std     23598.968639      0.695392          2.585818      7.946364   \n",
       "min    123272.000000      0.000000          1.000000      0.000000   \n",
       "25%    143064.750000      1.000000          3.000000     11.000000   \n",
       "50%    163452.000000      1.000000          5.000000     16.000000   \n",
       "75%    183528.750000      1.000000          7.000000     22.000000   \n",
       "max    205290.000000      3.000000          9.000000     32.000000   \n",
       "\n",
       "              TRACT  PUBLIC_WORKS_DIVISION  PLI_DIVISION   POLICE_ZONE  \\\n",
       "count  4.948800e+04           49405.000000  49401.000000  49377.000000   \n",
       "mean   4.200323e+10               3.023722     16.605878      3.592482   \n",
       "std    1.812058e+05               1.437327      7.946364      1.606123   \n",
       "min    4.200301e+10               0.000000      0.000000      1.000000   \n",
       "25%    4.200311e+10               2.000000     11.000000      2.000000   \n",
       "50%    4.200318e+10               3.000000     16.000000      4.000000   \n",
       "75%    4.200329e+10               5.000000     22.000000      5.000000   \n",
       "max    4.200398e+10               6.000000     32.000000      6.000000   \n",
       "\n",
       "                  X             Y       ...         daily.temperatureMin  \\\n",
       "count  49824.000000  49824.000000       ...                 49488.000000   \n",
       "mean     -79.433124     40.167845       ...                    48.252171   \n",
       "std        6.545400      3.309922       ...                    15.393227   \n",
       "min      -80.088105      0.000000       ...                     1.200000   \n",
       "25%      -80.007463     40.420463       ...                    37.190000   \n",
       "50%      -79.977171     40.445256       ...                    51.230000   \n",
       "75%      -79.934268     40.462229       ...                    60.910000   \n",
       "max        0.000000     40.520177       ...                    73.950000   \n",
       "\n",
       "       daily.temperatureMinTime    daily.time  daily.uvIndex  \\\n",
       "count              4.948800e+04  4.948800e+04   49488.000000   \n",
       "mean               1.498006e+09  1.497969e+09       5.264205   \n",
       "std                8.196202e+06  8.196692e+06       2.415348   \n",
       "min                1.483276e+09  1.483247e+09       1.000000   \n",
       "25%                1.491390e+09  1.491365e+09       3.000000   \n",
       "50%                1.497953e+09  1.497931e+09       5.000000   \n",
       "75%                1.504091e+09  1.504066e+09       7.000000   \n",
       "max                1.514722e+09  1.514696e+09      10.000000   \n",
       "\n",
       "       daily.uvIndexTime  daily.visibility  daily.windBearing  daily.windGust  \\\n",
       "count       4.948800e+04      49488.000000       49488.000000    49488.000000   \n",
       "mean        1.498013e+09          9.371101         216.096832        9.270438   \n",
       "std         8.196433e+06          0.871377          73.609941        4.521697   \n",
       "min         1.483290e+09          3.780000           0.000000        1.460000   \n",
       "25%         1.491412e+09          9.040000         188.000000        5.720000   \n",
       "50%         1.497974e+09          9.750000         224.000000        8.790000   \n",
       "75%         1.504109e+09         10.000000         267.000000       11.620000   \n",
       "max         1.514732e+09         10.000000         359.000000       26.100000   \n",
       "\n",
       "       daily.windGustTime  daily.windSpeed  \n",
       "count        4.948800e+04     49488.000000  \n",
       "mean         1.498018e+09         1.533801  \n",
       "std          8.198075e+06         1.162261  \n",
       "min          1.483247e+09         0.020000  \n",
       "25%          1.491437e+09         0.710000  \n",
       "50%          1.497989e+09         1.310000  \n",
       "75%          1.504112e+09         2.110000  \n",
       "max          1.514696e+09         6.150000  \n",
       "\n",
       "[8 rows x 60 columns]"
      ]
     },
     "execution_count": 85,
     "metadata": {},
     "output_type": "execute_result"
    }
   ],
   "source": [
    "df.describe()"
   ]
  },
  {
   "cell_type": "code",
   "execution_count": 88,
   "metadata": {},
   "outputs": [],
   "source": [
    "with open('311Master.csv', 'w+') as fh:\n",
    "    df.to_csv(fh, index=False)"
   ]
  },
  {
   "cell_type": "code",
   "execution_count": null,
   "metadata": {},
   "outputs": [],
   "source": []
  }
 ],
 "metadata": {
  "kernelspec": {
   "display_name": "Python 3",
   "language": "python",
   "name": "python3"
  },
  "language_info": {
   "codemirror_mode": {
    "name": "ipython",
    "version": 3
   },
   "file_extension": ".py",
   "mimetype": "text/x-python",
   "name": "python",
   "nbconvert_exporter": "python",
   "pygments_lexer": "ipython3",
   "version": "3.7.1"
  }
 },
 "nbformat": 4,
 "nbformat_minor": 2
}
