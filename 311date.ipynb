{
 "cells": [
  {
   "cell_type": "code",
   "execution_count": 2,
   "metadata": {},
   "outputs": [],
   "source": [
    "import pandas as pd\n",
    "import datetime as datetime\n",
    "import time\n"
   ]
  },
  {
   "cell_type": "code",
   "execution_count": 3,
   "metadata": {},
   "outputs": [],
   "source": [
    "df = pd.read_csv('76fda9d0-69be-4dd5-8108-0de7907fc5a4.csv')"
   ]
  },
  {
   "cell_type": "code",
   "execution_count": 4,
   "metadata": {},
   "outputs": [
    {
     "data": {
      "text/html": [
       "<div>\n",
       "<style scoped>\n",
       "    .dataframe tbody tr th:only-of-type {\n",
       "        vertical-align: middle;\n",
       "    }\n",
       "\n",
       "    .dataframe tbody tr th {\n",
       "        vertical-align: top;\n",
       "    }\n",
       "\n",
       "    .dataframe thead th {\n",
       "        text-align: right;\n",
       "    }\n",
       "</style>\n",
       "<table border=\"1\" class=\"dataframe\">\n",
       "  <thead>\n",
       "    <tr style=\"text-align: right;\">\n",
       "      <th></th>\n",
       "      <th>REQUEST_ID</th>\n",
       "      <th>CREATED_ON</th>\n",
       "      <th>REQUEST_TYPE</th>\n",
       "      <th>REQUEST_ORIGIN</th>\n",
       "      <th>STATUS</th>\n",
       "      <th>DEPARTMENT</th>\n",
       "      <th>NEIGHBORHOOD</th>\n",
       "      <th>COUNCIL_DISTRICT</th>\n",
       "      <th>WARD</th>\n",
       "      <th>TRACT</th>\n",
       "      <th>PUBLIC_WORKS_DIVISION</th>\n",
       "      <th>PLI_DIVISION</th>\n",
       "      <th>POLICE_ZONE</th>\n",
       "      <th>FIRE_ZONE</th>\n",
       "      <th>X</th>\n",
       "      <th>Y</th>\n",
       "      <th>GEO_ACCURACY</th>\n",
       "    </tr>\n",
       "  </thead>\n",
       "  <tbody>\n",
       "    <tr>\n",
       "      <th>4</th>\n",
       "      <td>298012</td>\n",
       "      <td>2018-10-29T15:09:00</td>\n",
       "      <td>Building Without a Permit</td>\n",
       "      <td>Website</td>\n",
       "      <td>0</td>\n",
       "      <td>Permits, Licenses and Inspections</td>\n",
       "      <td>Perry North</td>\n",
       "      <td>1.0</td>\n",
       "      <td>26.0</td>\n",
       "      <td>4.200326e+10</td>\n",
       "      <td>1.0</td>\n",
       "      <td>26.0</td>\n",
       "      <td>1.0</td>\n",
       "      <td>15-Jan</td>\n",
       "      <td>-80.024611</td>\n",
       "      <td>40.491444</td>\n",
       "      <td>APPROXIMATE</td>\n",
       "    </tr>\n",
       "    <tr>\n",
       "      <th>18</th>\n",
       "      <td>297998</td>\n",
       "      <td>2018-10-29T14:19:00</td>\n",
       "      <td>Collapsed Catch Basin</td>\n",
       "      <td>Call Center</td>\n",
       "      <td>0</td>\n",
       "      <td>Pittsburgh Water and Sewer Authority</td>\n",
       "      <td>Mount Washington</td>\n",
       "      <td>2.0</td>\n",
       "      <td>19.0</td>\n",
       "      <td>4.200319e+10</td>\n",
       "      <td>5.0</td>\n",
       "      <td>19.0</td>\n",
       "      <td>3.0</td>\n",
       "      <td>1-Apr</td>\n",
       "      <td>-80.014537</td>\n",
       "      <td>40.431848</td>\n",
       "      <td>EXACT</td>\n",
       "    </tr>\n",
       "    <tr>\n",
       "      <th>37</th>\n",
       "      <td>297979</td>\n",
       "      <td>2018-10-29T13:28:00</td>\n",
       "      <td>Unpermitted HVAC Work</td>\n",
       "      <td>Control Panel</td>\n",
       "      <td>3</td>\n",
       "      <td>Permits, Licenses and Inspections</td>\n",
       "      <td>Knoxville</td>\n",
       "      <td>3.0</td>\n",
       "      <td>30.0</td>\n",
       "      <td>4.200330e+10</td>\n",
       "      <td>5.0</td>\n",
       "      <td>30.0</td>\n",
       "      <td>3.0</td>\n",
       "      <td>7-Apr</td>\n",
       "      <td>-79.992628</td>\n",
       "      <td>40.410783</td>\n",
       "      <td>APPROXIMATE</td>\n",
       "    </tr>\n",
       "    <tr>\n",
       "      <th>51</th>\n",
       "      <td>297965</td>\n",
       "      <td>2018-10-29T12:50:00</td>\n",
       "      <td>Building Maintenance</td>\n",
       "      <td>Call Center</td>\n",
       "      <td>3</td>\n",
       "      <td>Permits, Licenses and Inspections</td>\n",
       "      <td>Central Lawrenceville</td>\n",
       "      <td>7.0</td>\n",
       "      <td>9.0</td>\n",
       "      <td>4.200309e+10</td>\n",
       "      <td>2.0</td>\n",
       "      <td>9.0</td>\n",
       "      <td>2.0</td>\n",
       "      <td>5-Mar</td>\n",
       "      <td>-79.959013</td>\n",
       "      <td>40.476684</td>\n",
       "      <td>APPROXIMATE</td>\n",
       "    </tr>\n",
       "    <tr>\n",
       "      <th>61</th>\n",
       "      <td>297955</td>\n",
       "      <td>2018-10-29T12:37:00</td>\n",
       "      <td>Potholes</td>\n",
       "      <td>Call Center</td>\n",
       "      <td>0</td>\n",
       "      <td>DPW - Street Maintenance</td>\n",
       "      <td>Larimer</td>\n",
       "      <td>9.0</td>\n",
       "      <td>12.0</td>\n",
       "      <td>4.200312e+10</td>\n",
       "      <td>2.0</td>\n",
       "      <td>12.0</td>\n",
       "      <td>5.0</td>\n",
       "      <td>12-Mar</td>\n",
       "      <td>-79.907931</td>\n",
       "      <td>40.461603</td>\n",
       "      <td>EXACT</td>\n",
       "    </tr>\n",
       "  </tbody>\n",
       "</table>\n",
       "</div>"
      ],
      "text/plain": [
       "    REQUEST_ID           CREATED_ON               REQUEST_TYPE REQUEST_ORIGIN  \\\n",
       "4       298012  2018-10-29T15:09:00  Building Without a Permit        Website   \n",
       "18      297998  2018-10-29T14:19:00      Collapsed Catch Basin    Call Center   \n",
       "37      297979  2018-10-29T13:28:00      Unpermitted HVAC Work  Control Panel   \n",
       "51      297965  2018-10-29T12:50:00       Building Maintenance    Call Center   \n",
       "61      297955  2018-10-29T12:37:00                   Potholes    Call Center   \n",
       "\n",
       "    STATUS                            DEPARTMENT           NEIGHBORHOOD  \\\n",
       "4        0     Permits, Licenses and Inspections            Perry North   \n",
       "18       0  Pittsburgh Water and Sewer Authority       Mount Washington   \n",
       "37       3     Permits, Licenses and Inspections              Knoxville   \n",
       "51       3     Permits, Licenses and Inspections  Central Lawrenceville   \n",
       "61       0              DPW - Street Maintenance                Larimer   \n",
       "\n",
       "    COUNCIL_DISTRICT  WARD         TRACT  PUBLIC_WORKS_DIVISION  PLI_DIVISION  \\\n",
       "4                1.0  26.0  4.200326e+10                    1.0          26.0   \n",
       "18               2.0  19.0  4.200319e+10                    5.0          19.0   \n",
       "37               3.0  30.0  4.200330e+10                    5.0          30.0   \n",
       "51               7.0   9.0  4.200309e+10                    2.0           9.0   \n",
       "61               9.0  12.0  4.200312e+10                    2.0          12.0   \n",
       "\n",
       "    POLICE_ZONE FIRE_ZONE          X          Y GEO_ACCURACY  \n",
       "4           1.0    15-Jan -80.024611  40.491444  APPROXIMATE  \n",
       "18          3.0     1-Apr -80.014537  40.431848        EXACT  \n",
       "37          3.0     7-Apr -79.992628  40.410783  APPROXIMATE  \n",
       "51          2.0     5-Mar -79.959013  40.476684  APPROXIMATE  \n",
       "61          5.0    12-Mar -79.907931  40.461603        EXACT  "
      ]
     },
     "execution_count": 4,
     "metadata": {},
     "output_type": "execute_result"
    }
   ],
   "source": [
    "df = df.sort_values(ascending=False, axis=0, by=['REQUEST_ID'])\n",
    "df = df.head(1000)\n",
    "df = df.sample(100)\n",
    "df = df.sort_values(ascending=False, axis=0, by=['REQUEST_ID'])\n",
    "df.head()"
   ]
  },
  {
   "cell_type": "code",
   "execution_count": 5,
   "metadata": {},
   "outputs": [
    {
     "data": {
      "text/html": [
       "<div>\n",
       "<style scoped>\n",
       "    .dataframe tbody tr th:only-of-type {\n",
       "        vertical-align: middle;\n",
       "    }\n",
       "\n",
       "    .dataframe tbody tr th {\n",
       "        vertical-align: top;\n",
       "    }\n",
       "\n",
       "    .dataframe thead th {\n",
       "        text-align: right;\n",
       "    }\n",
       "</style>\n",
       "<table border=\"1\" class=\"dataframe\">\n",
       "  <thead>\n",
       "    <tr style=\"text-align: right;\">\n",
       "      <th></th>\n",
       "      <th>REQUEST_ID</th>\n",
       "      <th>STATUS</th>\n",
       "      <th>COUNCIL_DISTRICT</th>\n",
       "      <th>WARD</th>\n",
       "      <th>TRACT</th>\n",
       "      <th>PUBLIC_WORKS_DIVISION</th>\n",
       "      <th>PLI_DIVISION</th>\n",
       "      <th>POLICE_ZONE</th>\n",
       "      <th>X</th>\n",
       "      <th>Y</th>\n",
       "    </tr>\n",
       "  </thead>\n",
       "  <tbody>\n",
       "    <tr>\n",
       "      <th>count</th>\n",
       "      <td>100.000000</td>\n",
       "      <td>100.000000</td>\n",
       "      <td>99.000000</td>\n",
       "      <td>99.000000</td>\n",
       "      <td>9.900000e+01</td>\n",
       "      <td>99.000000</td>\n",
       "      <td>99.000000</td>\n",
       "      <td>99.000000</td>\n",
       "      <td>99.000000</td>\n",
       "      <td>99.000000</td>\n",
       "    </tr>\n",
       "    <tr>\n",
       "      <th>mean</th>\n",
       "      <td>297524.380000</td>\n",
       "      <td>1.200000</td>\n",
       "      <td>4.949495</td>\n",
       "      <td>15.414141</td>\n",
       "      <td>4.200320e+10</td>\n",
       "      <td>2.858586</td>\n",
       "      <td>15.414141</td>\n",
       "      <td>3.555556</td>\n",
       "      <td>-79.971121</td>\n",
       "      <td>40.447044</td>\n",
       "    </tr>\n",
       "    <tr>\n",
       "      <th>std</th>\n",
       "      <td>280.639809</td>\n",
       "      <td>1.255292</td>\n",
       "      <td>2.789828</td>\n",
       "      <td>7.977021</td>\n",
       "      <td>1.817819e+05</td>\n",
       "      <td>1.456933</td>\n",
       "      <td>7.977021</td>\n",
       "      <td>1.685607</td>\n",
       "      <td>0.045866</td>\n",
       "      <td>0.025565</td>\n",
       "    </tr>\n",
       "    <tr>\n",
       "      <th>min</th>\n",
       "      <td>297008.000000</td>\n",
       "      <td>0.000000</td>\n",
       "      <td>1.000000</td>\n",
       "      <td>1.000000</td>\n",
       "      <td>4.200301e+10</td>\n",
       "      <td>1.000000</td>\n",
       "      <td>1.000000</td>\n",
       "      <td>1.000000</td>\n",
       "      <td>-80.058045</td>\n",
       "      <td>40.384826</td>\n",
       "    </tr>\n",
       "    <tr>\n",
       "      <th>25%</th>\n",
       "      <td>297302.750000</td>\n",
       "      <td>0.000000</td>\n",
       "      <td>3.000000</td>\n",
       "      <td>10.000000</td>\n",
       "      <td>4.200310e+10</td>\n",
       "      <td>2.000000</td>\n",
       "      <td>10.000000</td>\n",
       "      <td>2.000000</td>\n",
       "      <td>-80.007677</td>\n",
       "      <td>40.429033</td>\n",
       "    </tr>\n",
       "    <tr>\n",
       "      <th>50%</th>\n",
       "      <td>297532.500000</td>\n",
       "      <td>1.000000</td>\n",
       "      <td>5.000000</td>\n",
       "      <td>15.000000</td>\n",
       "      <td>4.200315e+10</td>\n",
       "      <td>3.000000</td>\n",
       "      <td>15.000000</td>\n",
       "      <td>4.000000</td>\n",
       "      <td>-79.977450</td>\n",
       "      <td>40.448990</td>\n",
       "    </tr>\n",
       "    <tr>\n",
       "      <th>75%</th>\n",
       "      <td>297752.250000</td>\n",
       "      <td>3.000000</td>\n",
       "      <td>7.000000</td>\n",
       "      <td>20.500000</td>\n",
       "      <td>4.200326e+10</td>\n",
       "      <td>3.000000</td>\n",
       "      <td>20.500000</td>\n",
       "      <td>5.000000</td>\n",
       "      <td>-79.930770</td>\n",
       "      <td>40.464996</td>\n",
       "    </tr>\n",
       "    <tr>\n",
       "      <th>max</th>\n",
       "      <td>298012.000000</td>\n",
       "      <td>3.000000</td>\n",
       "      <td>9.000000</td>\n",
       "      <td>32.000000</td>\n",
       "      <td>4.200398e+10</td>\n",
       "      <td>6.000000</td>\n",
       "      <td>32.000000</td>\n",
       "      <td>6.000000</td>\n",
       "      <td>-79.873380</td>\n",
       "      <td>40.497041</td>\n",
       "    </tr>\n",
       "  </tbody>\n",
       "</table>\n",
       "</div>"
      ],
      "text/plain": [
       "          REQUEST_ID      STATUS  COUNCIL_DISTRICT       WARD         TRACT  \\\n",
       "count     100.000000  100.000000         99.000000  99.000000  9.900000e+01   \n",
       "mean   297524.380000    1.200000          4.949495  15.414141  4.200320e+10   \n",
       "std       280.639809    1.255292          2.789828   7.977021  1.817819e+05   \n",
       "min    297008.000000    0.000000          1.000000   1.000000  4.200301e+10   \n",
       "25%    297302.750000    0.000000          3.000000  10.000000  4.200310e+10   \n",
       "50%    297532.500000    1.000000          5.000000  15.000000  4.200315e+10   \n",
       "75%    297752.250000    3.000000          7.000000  20.500000  4.200326e+10   \n",
       "max    298012.000000    3.000000          9.000000  32.000000  4.200398e+10   \n",
       "\n",
       "       PUBLIC_WORKS_DIVISION  PLI_DIVISION  POLICE_ZONE          X          Y  \n",
       "count              99.000000     99.000000    99.000000  99.000000  99.000000  \n",
       "mean                2.858586     15.414141     3.555556 -79.971121  40.447044  \n",
       "std                 1.456933      7.977021     1.685607   0.045866   0.025565  \n",
       "min                 1.000000      1.000000     1.000000 -80.058045  40.384826  \n",
       "25%                 2.000000     10.000000     2.000000 -80.007677  40.429033  \n",
       "50%                 3.000000     15.000000     4.000000 -79.977450  40.448990  \n",
       "75%                 3.000000     20.500000     5.000000 -79.930770  40.464996  \n",
       "max                 6.000000     32.000000     6.000000 -79.873380  40.497041  "
      ]
     },
     "execution_count": 5,
     "metadata": {},
     "output_type": "execute_result"
    }
   ],
   "source": [
    "df.describe()"
   ]
  },
  {
   "cell_type": "code",
   "execution_count": 6,
   "metadata": {},
   "outputs": [],
   "source": [
    "# df1 = df[int(df['CREATED_ON'][0:4])] > 2017"
   ]
  },
  {
   "cell_type": "code",
   "execution_count": 7,
   "metadata": {},
   "outputs": [
    {
     "data": {
      "text/plain": [
       "4      2018-10-29T15:09:00\n",
       "18     2018-10-29T14:19:00\n",
       "37     2018-10-29T13:28:00\n",
       "51     2018-10-29T12:50:00\n",
       "61     2018-10-29T12:37:00\n",
       "72     2018-10-29T11:57:00\n",
       "75     2018-10-29T11:52:00\n",
       "85     2018-10-29T11:23:00\n",
       "97     2018-10-29T10:55:00\n",
       "123    2018-10-29T10:14:00\n",
       "Name: CREATED_ON, dtype: object"
      ]
     },
     "execution_count": 7,
     "metadata": {},
     "output_type": "execute_result"
    }
   ],
   "source": [
    "df['CREATED_ON'][0:10]"
   ]
  },
  {
   "cell_type": "code",
   "execution_count": 9,
   "metadata": {},
   "outputs": [
    {
     "name": "stdout",
     "output_type": "stream",
     "text": [
      "2018-10-29T15:09:00\n"
     ]
    },
    {
     "data": {
      "text/plain": [
       "datetime.datetime(2018, 10, 29, 15, 9)"
      ]
     },
     "execution_count": 9,
     "metadata": {},
     "output_type": "execute_result"
    }
   ],
   "source": [
    "x = df['CREATED_ON'][4]\n",
    "print(x)\n",
    "date = datetime.datetime.strptime(x, '%Y-%m-%dT%H:%M:%S')\n",
    "date"
   ]
  },
  {
   "cell_type": "code",
   "execution_count": 10,
   "metadata": {},
   "outputs": [
    {
     "data": {
      "text/plain": [
       "datetime.datetime(2018, 10, 29, 11, 9)"
      ]
     },
     "execution_count": 10,
     "metadata": {},
     "output_type": "execute_result"
    }
   ],
   "source": [
    "# convert to local time, still ignores daylight savings\n",
    "date = date - datetime.timedelta(seconds=14400)\n",
    "date"
   ]
  },
  {
   "cell_type": "code",
   "execution_count": 11,
   "metadata": {},
   "outputs": [],
   "source": [
    "cols = ['REQUEST_ID', 'WEATHER']\n",
    "dfwx = pd.DataFrame(columns=cols)  #new dataframe to store results"
   ]
  },
  {
   "cell_type": "code",
   "execution_count": 12,
   "metadata": {},
   "outputs": [],
   "source": [
    "import pycurl, certifi, json\n",
    "from io import BytesIO\n",
    "\n",
    "# https://darksky.net/dev/docs#time-machine-request\n",
    "dsKey = \"4702af8fe8916c618732be6bc6d731f6/\";\n",
    "dsUrl = \"https://api.darksky.net/forecast/\";\n",
    "exclude = \"?exclude=minutely,hourly,flags\";\n",
    "# dsAPI =  dsUrl + dsKey + dsLat + ',' + dsLon + ',' + Time + exclude\n",
    "i = 0\n"
   ]
  },
  {
   "cell_type": "code",
   "execution_count": 13,
   "metadata": {},
   "outputs": [
    {
     "name": "stdout",
     "output_type": "stream",
     "text": [
      "https://api.darksky.net/forecast/4702af8fe8916c618732be6bc6d731f6/40.49144409,-80.02461106,1540825740?exclude=minutely,hourly,flags {'latitude': 40.49144409, 'longitude': -80.02461106, 'timezone': 'America/New_York', 'currently': {'time': 1540825740, 'summary': 'Overcast', 'icon': 'cloudy', 'precipIntensity': 0, 'precipProbability': 0, 'temperature': 43.66, 'apparentTemperature': 37.85, 'dewPoint': 37.91, 'humidity': 0.8, 'pressure': 1015.61, 'windSpeed': 10.89, 'windGust': 11.01, 'windBearing': 268, 'cloudCover': 1, 'uvIndex': 2, 'visibility': 10, 'ozone': 327.81}, 'daily': {'data': [{'time': 1540785600, 'summary': 'Mostly cloudy throughout the day.', 'icon': 'partly-cloudy-day', 'sunriseTime': 1540813679, 'sunsetTime': 1540851718, 'moonPhase': 0.67, 'precipIntensity': 0.0038, 'precipIntensityMax': 0.0229, 'precipIntensityMaxTime': 1540789200, 'precipProbability': 0.98, 'precipType': 'rain', 'temperatureHigh': 46.22, 'temperatureHighTime': 1540846800, 'temperatureLow': 38.3, 'temperatureLowTime': 1540900800, 'apparentTemperatureHigh': 41.56, 'apparentTemperatureHighTime': 1540850400, 'apparentTemperatureLow': 34.85, 'apparentTemperatureLowTime': 1540897200, 'dewPoint': 39.96, 'humidity': 0.85, 'pressure': 1014, 'windSpeed': 8.39, 'windGust': 19.41, 'windGustTime': 1540850400, 'windBearing': 269, 'cloudCover': 0.83, 'uvIndex': 2, 'uvIndexTime': 1540825200, 'visibility': 10, 'ozone': 323.87, 'temperatureMin': 41.45, 'temperatureMinTime': 1540821600, 'temperatureMax': 46.22, 'temperatureMaxTime': 1540846800, 'apparentTemperatureMin': 35.1, 'apparentTemperatureMinTime': 1540821600, 'apparentTemperatureMax': 41.56, 'apparentTemperatureMaxTime': 1540850400}]}, 'offset': -4}\n",
      "https://api.darksky.net/forecast/4702af8fe8916c618732be6bc6d731f6/40.4318479,-80.01453690000001,1540822740?exclude=minutely,hourly,flags {'latitude': 40.4318479, 'longitude': -80.01453690000001, 'timezone': 'America/New_York', 'currently': {'time': 1540822740, 'summary': 'Overcast', 'icon': 'cloudy', 'precipIntensity': 0, 'precipProbability': 0, 'temperature': 43.19, 'apparentTemperature': 37.21, 'dewPoint': 38.33, 'humidity': 0.83, 'pressure': 1015.4, 'windSpeed': 11.02, 'windGust': 11.13, 'windBearing': 263, 'cloudCover': 1, 'uvIndex': 1, 'visibility': 10, 'ozone': 327.59}, 'daily': {'data': [{'time': 1540785600, 'summary': 'Mostly cloudy throughout the day.', 'icon': 'partly-cloudy-day', 'sunriseTime': 1540813671, 'sunsetTime': 1540851722, 'moonPhase': 0.67, 'precipIntensity': 0.0034, 'precipIntensityMax': 0.0214, 'precipIntensityMaxTime': 1540789200, 'precipProbability': 0.97, 'precipType': 'rain', 'temperatureHigh': 47.18, 'temperatureHighTime': 1540846800, 'temperatureLow': 38.59, 'temperatureLowTime': 1540900800, 'apparentTemperatureHigh': 42.75, 'apparentTemperatureHighTime': 1540850400, 'apparentTemperatureLow': 35.19, 'apparentTemperatureLowTime': 1540897200, 'dewPoint': 39.93, 'humidity': 0.82, 'pressure': 1014.02, 'windSpeed': 8.75, 'windGust': 19.17, 'windGustTime': 1540850400, 'windBearing': 269, 'cloudCover': 0.83, 'uvIndex': 2, 'uvIndexTime': 1540825200, 'visibility': 10, 'ozone': 324.14, 'temperatureMin': 42.54, 'temperatureMinTime': 1540821600, 'temperatureMax': 47.18, 'temperatureMaxTime': 1540846800, 'apparentTemperatureMin': 36.41, 'apparentTemperatureMinTime': 1540821600, 'apparentTemperatureMax': 42.75, 'apparentTemperatureMaxTime': 1540850400}]}, 'offset': -4}\n",
      "https://api.darksky.net/forecast/4702af8fe8916c618732be6bc6d731f6/40.41078292,-79.99262813,1540819680?exclude=minutely,hourly,flags {'latitude': 40.41078292, 'longitude': -79.99262813, 'timezone': 'America/New_York', 'currently': {'time': 1540819680, 'summary': 'Overcast', 'icon': 'cloudy', 'precipIntensity': 0, 'precipProbability': 0, 'temperature': 42.18, 'apparentTemperature': 36.05, 'dewPoint': 38.88, 'humidity': 0.88, 'pressure': 1015.01, 'windSpeed': 10.75, 'windGust': 11.58, 'windBearing': 268, 'cloudCover': 1, 'uvIndex': 1, 'visibility': 10, 'ozone': 326.91}, 'daily': {'data': [{'time': 1540785600, 'summary': 'Mostly cloudy throughout the day.', 'icon': 'partly-cloudy-day', 'sunriseTime': 1540813664, 'sunsetTime': 1540851718, 'moonPhase': 0.67, 'precipIntensity': 0.0034, 'precipIntensityMax': 0.0216, 'precipIntensityMaxTime': 1540789200, 'precipProbability': 0.98, 'precipType': 'rain', 'temperatureHigh': 46.19, 'temperatureHighTime': 1540846800, 'temperatureLow': 38.14, 'temperatureLowTime': 1540900800, 'apparentTemperatureHigh': 41.52, 'apparentTemperatureHighTime': 1540850400, 'apparentTemperatureLow': 34.69, 'apparentTemperatureLowTime': 1540897200, 'dewPoint': 39.93, 'humidity': 0.85, 'pressure': 1014.03, 'windSpeed': 9.23, 'windGust': 19.18, 'windGustTime': 1540850400, 'windBearing': 268, 'cloudCover': 0.83, 'uvIndex': 2, 'uvIndexTime': 1540825200, 'visibility': 10, 'ozone': 324.23, 'temperatureMin': 42.18, 'temperatureMinTime': 1540818000, 'temperatureMax': 46.19, 'temperatureMaxTime': 1540846800, 'apparentTemperatureMin': 35.59, 'apparentTemperatureMinTime': 1540821600, 'apparentTemperatureMax': 41.52, 'apparentTemperatureMaxTime': 1540850400}]}, 'offset': -4}\n",
      "https://api.darksky.net/forecast/4702af8fe8916c618732be6bc6d731f6/40.47668436,-79.95901293,1540817400?exclude=minutely,hourly,flags {'latitude': 40.47668436, 'longitude': -79.95901293, 'timezone': 'America/New_York', 'currently': {'time': 1540817400, 'summary': 'Overcast', 'icon': 'cloudy', 'precipIntensity': 0.0009, 'precipProbability': 0.18, 'precipType': 'rain', 'temperature': 43.32, 'apparentTemperature': 37.75, 'dewPoint': 39.38, 'humidity': 0.86, 'pressure': 1014.38, 'windSpeed': 10.02, 'windGust': 10.87, 'windBearing': 279, 'cloudCover': 1, 'uvIndex': 0, 'visibility': 9.8, 'ozone': 325.51}, 'daily': {'data': [{'time': 1540785600, 'summary': 'Mostly cloudy throughout the day.', 'icon': 'partly-cloudy-day', 'sunriseTime': 1540813662, 'sunsetTime': 1540851704, 'moonPhase': 0.67, 'precipIntensity': 0.004, 'precipIntensityMax': 0.0256, 'precipIntensityMaxTime': 1540789200, 'precipProbability': 1, 'precipType': 'rain', 'temperatureHigh': 48.49, 'temperatureHighTime': 1540846800, 'temperatureLow': 39.04, 'temperatureLowTime': 1540900800, 'apparentTemperatureHigh': 44.15, 'apparentTemperatureHighTime': 1540846800, 'apparentTemperatureLow': 35.7, 'apparentTemperatureLowTime': 1540897200, 'dewPoint': 39.84, 'humidity': 0.8, 'pressure': 1013.98, 'windSpeed': 9.17, 'windGust': 19.63, 'windGustTime': 1540850400, 'windBearing': 269, 'cloudCover': 0.83, 'uvIndex': 2, 'uvIndexTime': 1540825200, 'visibility': 10, 'ozone': 323.89, 'temperatureMin': 43.03, 'temperatureMinTime': 1540821600, 'temperatureMax': 48.49, 'temperatureMaxTime': 1540846800, 'apparentTemperatureMin': 36.58, 'apparentTemperatureMinTime': 1540821600, 'apparentTemperatureMax': 44.15, 'apparentTemperatureMaxTime': 1540846800}]}, 'offset': -4}\n",
      "https://api.darksky.net/forecast/4702af8fe8916c618732be6bc6d731f6/40.4616034,-79.9079305,1540816620?exclude=minutely,hourly,flags {'latitude': 40.4616034, 'longitude': -79.9079305, 'timezone': 'America/New_York', 'currently': {'time': 1540816620, 'summary': 'Overcast', 'icon': 'cloudy', 'precipIntensity': 0.0008, 'precipProbability': 0.12, 'precipType': 'rain', 'temperature': 43.76, 'apparentTemperature': 38.13, 'dewPoint': 39.71, 'humidity': 0.86, 'pressure': 1014.02, 'windSpeed': 10.42, 'windGust': 10.99, 'windBearing': 280, 'cloudCover': 1, 'uvIndex': 0, 'visibility': 9.62, 'ozone': 324.71}, 'daily': {'data': [{'time': 1540785600, 'summary': 'Mostly cloudy throughout the day.', 'icon': 'partly-cloudy-day', 'sunriseTime': 1540813648, 'sunsetTime': 1540851693, 'moonPhase': 0.67, 'precipIntensity': 0.004, 'precipIntensityMax': 0.0256, 'precipIntensityMaxTime': 1540789200, 'precipProbability': 1, 'precipType': 'rain', 'temperatureHigh': 47.51, 'temperatureHighTime': 1540846800, 'temperatureLow': 38.14, 'temperatureLowTime': 1540900800, 'apparentTemperatureHigh': 42.96, 'apparentTemperatureHighTime': 1540850400, 'apparentTemperatureLow': 34.66, 'apparentTemperatureLowTime': 1540897200, 'dewPoint': 39.94, 'humidity': 0.82, 'pressure': 1013.97, 'windSpeed': 9.19, 'windGust': 19.75, 'windGustTime': 1540850400, 'windBearing': 267, 'cloudCover': 0.84, 'uvIndex': 2, 'uvIndexTime': 1540825200, 'visibility': 10, 'ozone': 323.91, 'temperatureMin': 43.22, 'temperatureMinTime': 1540868400, 'temperatureMax': 47.51, 'temperatureMaxTime': 1540846800, 'apparentTemperatureMin': 37.3, 'apparentTemperatureMinTime': 1540821600, 'apparentTemperatureMax': 42.96, 'apparentTemperatureMaxTime': 1540850400}]}, 'offset': -4}\n"
     ]
    },
    {
     "name": "stdout",
     "output_type": "stream",
     "text": [
      "https://api.darksky.net/forecast/4702af8fe8916c618732be6bc6d731f6/nan,nan,1540814220?exclude=minutely,hourly,flags {'code': 400, 'error': 'The given location (or time) is invalid.'}\n",
      "https://api.darksky.net/forecast/4702af8fe8916c618732be6bc6d731f6/40.43961151,-79.99597161,1540813920?exclude=minutely,hourly,flags {'latitude': 40.43961151, 'longitude': -79.99597161, 'timezone': 'America/New_York', 'currently': {'time': 1540813920, 'summary': 'Overcast', 'icon': 'cloudy', 'precipIntensity': 0.0005, 'precipProbability': 0.05, 'precipType': 'rain', 'temperature': 44.46, 'apparentTemperature': 38.59, 'dewPoint': 40.21, 'humidity': 0.85, 'pressure': 1012.94, 'windSpeed': 11.59, 'windGust': 11.7, 'windBearing': 283, 'cloudCover': 1, 'uvIndex': 0, 'visibility': 9.01, 'ozone': 322.5}, 'daily': {'data': [{'time': 1540785600, 'summary': 'Mostly cloudy throughout the day.', 'icon': 'partly-cloudy-day', 'sunriseTime': 1540813667, 'sunsetTime': 1540851716, 'moonPhase': 0.67, 'precipIntensity': 0.0034, 'precipIntensityMax': 0.0221, 'precipIntensityMaxTime': 1540789200, 'precipProbability': 0.98, 'precipType': 'rain', 'temperatureHigh': 48.35, 'temperatureHighTime': 1540846800, 'temperatureLow': 39.15, 'temperatureLowTime': 1540900800, 'apparentTemperatureHigh': 44.02, 'apparentTemperatureHighTime': 1540846800, 'apparentTemperatureLow': 35.9, 'apparentTemperatureLowTime': 1540897200, 'dewPoint': 39.89, 'humidity': 0.8, 'pressure': 1014.01, 'windSpeed': 9.16, 'windGust': 19.3, 'windGustTime': 1540850400, 'windBearing': 268, 'cloudCover': 0.83, 'uvIndex': 2, 'uvIndexTime': 1540825200, 'visibility': 10, 'ozone': 324.1, 'temperatureMin': 43.21, 'temperatureMinTime': 1540821600, 'temperatureMax': 48.35, 'temperatureMaxTime': 1540846800, 'apparentTemperatureMin': 36.87, 'apparentTemperatureMinTime': 1540821600, 'apparentTemperatureMax': 44.02, 'apparentTemperatureMaxTime': 1540846800}]}, 'offset': -4}\n"
     ]
    }
   ],
   "source": [
    "for index, row in df.iterrows():\n",
    "    date = datetime.datetime.strptime(row['CREATED_ON'], '%Y-%m-%dT%H:%M:%S') \n",
    "    date -= datetime.timedelta(seconds=14400)\n",
    "    timestamp = int(date.timestamp())\n",
    "    dsAPI =  dsUrl + dsKey + str(row['Y']) + ',' + str(row['X']) + ',' + str(timestamp) + exclude\n",
    "    \n",
    "    buffer = BytesIO()\n",
    "    c = pycurl.Curl()\n",
    "    c.setopt(c.URL, dsAPI)\n",
    "    c.setopt(c.VERBOSE, True)\n",
    "    c.setopt(c.CAINFO, certifi.where())\n",
    "    c.setopt(c.WRITEDATA, buffer)\n",
    "    c.perform()\n",
    "    c.close()\n",
    "\n",
    "    wx = json.loads(buffer.getvalue().decode('iso-8859-1'))\n",
    "    buffer.close()\n",
    "    print (dsAPI, wx)\n",
    "    if i > 5: \n",
    "        break\n",
    "    else: \n",
    "        i = i + 1"
   ]
  },
  {
   "cell_type": "code",
   "execution_count": null,
   "metadata": {},
   "outputs": [],
   "source": [
    "# with open('cleaned.csv', 'w') as fh:\n",
    "#     df.to_csv(fh)"
   ]
  }
 ],
 "metadata": {
  "kernelspec": {
   "display_name": "Python 3",
   "language": "python",
   "name": "python3"
  },
  "language_info": {
   "codemirror_mode": {
    "name": "ipython",
    "version": 3
   },
   "file_extension": ".py",
   "mimetype": "text/x-python",
   "name": "python",
   "nbconvert_exporter": "python",
   "pygments_lexer": "ipython3",
   "version": "3.7.0"
  }
 },
 "nbformat": 4,
 "nbformat_minor": 2
}
