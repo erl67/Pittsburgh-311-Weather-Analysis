{
 "cells": [
  {
   "cell_type": "markdown",
   "metadata": {},
   "source": [
    "http://pycurl.io/docs/latest/quickstart.html#retrieving-a-network-resource"
   ]
  },
  {
   "cell_type": "code",
   "execution_count": 1,
   "metadata": {},
   "outputs": [],
   "source": [
    "import pycurl, certifi, json\n",
    "from datetime import datetime\n",
    "from io import BytesIO"
   ]
  },
  {
   "cell_type": "code",
   "execution_count": 2,
   "metadata": {},
   "outputs": [],
   "source": [
    "dsKey = \"4702af8fe8916c618732be6bc6d731f6/\";\n",
    "dsUrl = \"https://api.darksky.net/forecast/\";\n",
    "exclude = \"?exclude=minutely,hourly,daily,flags\";\n",
    "dsLat = \"40.4473\";\n",
    "dsLon = \"-79.9527\";\n",
    "dsLoc = dsLat + \",\" + dsLon + \",\";"
   ]
  },
  {
   "cell_type": "code",
   "execution_count": 3,
   "metadata": {},
   "outputs": [
    {
     "name": "stdout",
     "output_type": "stream",
     "text": [
      "1540256919548\n"
     ]
    }
   ],
   "source": [
    "dsTime = datetime.timestamp(datetime.utcnow()) *1000\n",
    "dsTime = str(int(dsTime))\n",
    "print(dsTime)\n",
    "dsTime = None"
   ]
  },
  {
   "cell_type": "code",
   "execution_count": 4,
   "metadata": {},
   "outputs": [
    {
     "name": "stdout",
     "output_type": "stream",
     "text": [
      "https://api.darksky.net/forecast/4702af8fe8916c618732be6bc6d731f6/40.4473,-79.9527?exclude=minutely,hourly,daily,flags\n"
     ]
    }
   ],
   "source": [
    "dsAPI = ''\n",
    "dsAPI =  dsUrl + dsKey + dsLat + ',' + dsLon + exclude\n",
    "print (dsAPI)"
   ]
  },
  {
   "cell_type": "code",
   "execution_count": 5,
   "metadata": {
    "scrolled": true
   },
   "outputs": [
    {
     "data": {
      "text/plain": [
       "{'latitude': 40.4473,\n",
       " 'longitude': -79.9527,\n",
       " 'timezone': 'America/New_York',\n",
       " 'currently': {'time': 1540242538,\n",
       "  'summary': 'Partly Cloudy',\n",
       "  'icon': 'partly-cloudy-day',\n",
       "  'nearestStormDistance': 180,\n",
       "  'nearestStormBearing': 59,\n",
       "  'precipIntensity': 0,\n",
       "  'precipProbability': 0,\n",
       "  'temperature': 55.06,\n",
       "  'apparentTemperature': 55.06,\n",
       "  'dewPoint': 32.03,\n",
       "  'humidity': 0.41,\n",
       "  'pressure': 1019.4,\n",
       "  'windSpeed': 11.05,\n",
       "  'windGust': 11.05,\n",
       "  'windBearing': 350,\n",
       "  'cloudCover': 0.26,\n",
       "  'uvIndex': 0,\n",
       "  'visibility': 10,\n",
       "  'ozone': 297.05},\n",
       " 'offset': -4}"
      ]
     },
     "execution_count": 5,
     "metadata": {},
     "output_type": "execute_result"
    }
   ],
   "source": [
    "buffer = BytesIO()\n",
    "c = pycurl.Curl()\n",
    "c.setopt(c.URL, dsAPI)\n",
    "\n",
    "c.setopt(c.VERBOSE, True)\n",
    "c.setopt(c.CAINFO, certifi.where())\n",
    "c.setopt(c.WRITEDATA, buffer)\n",
    "c.perform()\n",
    "c.close()\n",
    "\n",
    "body = buffer.getvalue() #print(body.decode('iso-8859-1'))\n",
    "wx = json.loads(body.decode('iso-8859-1'))\n",
    "wx"
   ]
  },
  {
   "cell_type": "code",
   "execution_count": null,
   "metadata": {},
   "outputs": [],
   "source": []
  }
 ],
 "metadata": {
  "kernelspec": {
   "display_name": "Python 3",
   "language": "python",
   "name": "python3"
  },
  "language_info": {
   "codemirror_mode": {
    "name": "ipython",
    "version": 3
   },
   "file_extension": ".py",
   "mimetype": "text/x-python",
   "name": "python",
   "nbconvert_exporter": "python",
   "pygments_lexer": "ipython3",
   "version": "3.7.0"
  }
 },
 "nbformat": 4,
 "nbformat_minor": 2
}
